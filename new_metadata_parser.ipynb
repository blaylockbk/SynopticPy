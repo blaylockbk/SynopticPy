{
 "cells": [
  {
   "cell_type": "markdown",
   "metadata": {},
   "source": [
    "# New Metadata parser\n",
    "Instead of looping though each individually, build the metadata dict all at once."
   ]
  },
  {
   "cell_type": "code",
   "execution_count": 1,
   "metadata": {},
   "outputs": [],
   "source": [
    "import synoptic"
   ]
  },
  {
   "cell_type": "code",
   "execution_count": 2,
   "metadata": {},
   "outputs": [
    {
     "name": "stdout",
     "output_type": "stream",
     "text": [
      "🚚💨 Speedy delivery from Synoptic's \u001b[32mlatest\u001b[0m service.\n",
      "📦 Received data from 1,447 stations.\n"
     ]
    },
    {
     "data": {
      "text/plain": [
       "╭─ Synoptic latest service ─────\n",
       "│ Stations : 1,447\n",
       "│ QC Checks: 1\n",
       "╰──────────────────────────────────────╯"
      ]
     },
     "execution_count": 2,
     "metadata": {},
     "output_type": "execute_result"
    }
   ],
   "source": [
    "S = synoptic.SynopticAPI(\n",
    "    \"latest\",\n",
    "    # vars=\"air_temp,wind_speed,ozone_concentration\",\n",
    "    state=\"ut\",\n",
    "    # network=1,\n",
    "    complete=True,\n",
    ")\n",
    "S"
   ]
  },
  {
   "cell_type": "code",
   "execution_count": 3,
   "metadata": {},
   "outputs": [],
   "source": [
    "import polars as pl\n",
    "\n",
    "\n",
    "def unnest_period_of_record(\n",
    "    df: pl.DataFrame | pl.LazyFrame,\n",
    ") -> pl.DataFrame | pl.LazyFrame:\n",
    "    \"\"\"Un-nest the PERIOD_OF_RECORD column struct.\"\"\"\n",
    "    return df.with_columns(\n",
    "        pl.struct(\n",
    "            pl.col(\"PERIOD_OF_RECORD\")\n",
    "            .struct.field(\"start\")\n",
    "            .cast(pl.String)\n",
    "            .str.to_datetime(time_zone=\"UTC\")\n",
    "            .alias(\"PERIOD_OF_RECORD_START\"),\n",
    "            pl.col(\"PERIOD_OF_RECORD\")\n",
    "            .struct.field(\"end\")\n",
    "            .cast(pl.String)\n",
    "            .str.to_datetime(time_zone=\"UTC\")\n",
    "            .alias(\"PERIOD_OF_RECORD_END\"),\n",
    "        ).alias(\"PERIOD_OF_RECORD\"),\n",
    "    ).unnest(\"PERIOD_OF_RECORD\")\n",
    "\n",
    "\n",
    "def station_metadata_to_dataframe(STATION: list[dict]):\n",
    "    \"\"\"From STATION, produce the metadata DataFrame.\"\"\"\n",
    "    a = []\n",
    "    for metadata in STATION:\n",
    "        metadata = metadata.copy()\n",
    "        metadata.pop(\"OBSERVATIONS\", None)\n",
    "        metadata.pop(\"SENSOR_VARIABLES\", None)\n",
    "        metadata.pop(\"LATENCY\", None)\n",
    "        metadata.pop(\"QC\", None)\n",
    "        a.append(metadata)\n",
    "    df = pl.DataFrame(a, infer_schema_length=None).lazy()\n",
    "    df = df.with_columns(\n",
    "        pl.col(\"STID\").cast(pl.String),\n",
    "        pl.col(\"ID\", \"MNET_ID\").cast(pl.UInt32),\n",
    "        pl.col(\"ELEVATION\", \"LATITUDE\", \"LONGITUDE\").cast(pl.Float64),\n",
    "        is_active=pl.when(pl.col(\"STATUS\") == \"ACTIVE\")\n",
    "        .then(True)\n",
    "        .otherwise(pl.when(pl.col(\"STATUS\") == \"INACTIVE\").then(False)),\n",
    "    ).drop(\"UNITS\", \"STATUS\")\n",
    "\n",
    "    if \"RESTRICTED\" in df.collect_schema().names():\n",
    "        df = df.rename({\"RESTRICTED\": \"is_restricted\"})\n",
    "\n",
    "    if \"ELEV_DEM\" in df.collect_schema().names():\n",
    "        # This isn't in the Latency request\n",
    "        df = df.with_columns(pl.col(\"ELEV_DEM\").cast(pl.Float64))\n",
    "\n",
    "    df = df.pipe(unnest_period_of_record)\n",
    "    df = df.rename({i: i.lower() for i in df.collect_schema().names()})\n",
    "\n",
    "    return df.collect()\n",
    "\n",
    "\n",
    "def NEW_parse_stations_latest_nearesttime(STATION):\n",
    "    pass\n"
   ]
  },
  {
   "cell_type": "code",
   "execution_count": 4,
   "metadata": {},
   "outputs": [],
   "source": [
    "# Unpack Latest/Nearest time JSON into parts\n",
    "\n",
    "observations = []\n",
    "qc = []\n",
    "latency = []\n",
    "sensor_variables = []\n",
    "\n",
    "for s in S.STATION:\n",
    "    observations.append({\"stid\": s[\"STID\"]} | s.pop(\"OBSERVATIONS\", {}))\n",
    "    qc.append({\"stid\": s[\"STID\"]} | s.pop(\"qc\", {}))\n",
    "    latency.append({\"stid\": s[\"STID\"]} | s.pop(\"latency\", {}))\n",
    "    sensor_variables.append({\"stid\": s[\"STID\"]} | s.pop(\"sensor_variables\", {}))\n",
    "\n",
    "\n",
    "# Get Metadata DataFrame\n",
    "metadata = station_metadata_to_dataframe(S.STATION)\n",
    "\n",
    "# Get Observations DataFrame (needs more processing)\n",
    "df = pl.DataFrame(observations, infer_schema_length=None)"
   ]
  },
  {
   "cell_type": "code",
   "execution_count": 5,
   "metadata": {},
   "outputs": [],
   "source": [
    "# BUG: Synoptic API ozone_concentration_value_1, the value is returned as string and not float\n",
    "df = df.with_columns(\n",
    "    pl.struct(\n",
    "        [\n",
    "            pl.col(\"ozone_concentration_value_1\")\n",
    "            .struct.field(\"value\")\n",
    "            .replace(\"\", None)\n",
    "            .cast(pl.Float64),\n",
    "            pl.col(\"ozone_concentration_value_1\").struct.field(\"date_time\"),\n",
    "        ]\n",
    "    ).alias(\"ozone_concentration_value_1\")\n",
    ")\n"
   ]
  },
  {
   "cell_type": "code",
   "execution_count": 6,
   "metadata": {},
   "outputs": [
    {
     "name": "stdout",
     "output_type": "stream",
     "text": [
      "col='stid', schema=String\n",
      "WARNING: Unknown struct for col='cloud_layer_1_value_1d' schema=Struct({'date_time': String, 'value': Struct({'sky_condition': String, 'height_agl': Float64})})\n",
      "WARNING: Unknown struct for col='cloud_layer_2_value_1d' schema=Struct({'date_time': String, 'value': Struct({'sky_condition': String, 'height_agl': Float64})})\n",
      "WARNING: Unknown struct for col='cloud_layer_3_value_1d' schema=Struct({'date_time': String, 'value': Struct({'sky_condition': String, 'height_agl': Float64})})\n"
     ]
    }
   ],
   "source": [
    "# Separate columns by value type\n",
    "# TODO: Still need to handle sky_condition types\n",
    "\n",
    "cols_with_float = []\n",
    "cols_with_string = []\n",
    "cols_with_other = []\n",
    "for col, schema in df.schema.items():\n",
    "    if hasattr(schema, \"fields\"):\n",
    "        if pl.Field(\"value\", pl.Float64) in schema.fields:\n",
    "            cols_with_float.append(col)\n",
    "        elif pl.Field(\"value\", pl.String) in schema.fields:\n",
    "            cols_with_string.append(col)\n",
    "        elif pl.Field(\"value\", pl.Struct) in schema.fields:\n",
    "            cols_with_other.append(col)\n",
    "            print(f\"WARNING: Unknown struct for {col=} {schema=}\")\n",
    "    else:\n",
    "        print(f\"{col=}, {schema=}\")"
   ]
  },
  {
   "cell_type": "code",
   "execution_count": 7,
   "metadata": {},
   "outputs": [
    {
     "data": {
      "text/html": [
       "<div><style>\n",
       ".dataframe > thead > tr,\n",
       ".dataframe > tbody > tr {\n",
       "  text-align: right;\n",
       "  white-space: pre-wrap;\n",
       "}\n",
       "</style>\n",
       "<small>shape: (15_195, 7)</small><table border=\"1\" class=\"dataframe\"><thead><tr><th>stid</th><th>variable</th><th>sensor_index</th><th>is_derived</th><th>value</th><th>date_time</th><th>units</th></tr><tr><td>str</td><td>str</td><td>u32</td><td>bool</td><td>f64</td><td>datetime[μs, UTC]</td><td>str</td></tr></thead><tbody><tr><td>&quot;WBB&quot;</td><td>&quot;pressure&quot;</td><td>1</td><td>false</td><td>85321.0</td><td>2024-11-17 05:45:00 UTC</td><td>&quot;Pascals&quot;</td></tr><tr><td>&quot;GNI&quot;</td><td>&quot;pressure&quot;</td><td>1</td><td>false</td><td>87058.0</td><td>2024-10-31 07:40:00 UTC</td><td>&quot;Pascals&quot;</td></tr><tr><td>&quot;HATUT&quot;</td><td>&quot;pressure&quot;</td><td>1</td><td>false</td><td>87010.0</td><td>2024-11-17 05:45:00 UTC</td><td>&quot;Pascals&quot;</td></tr><tr><td>&quot;LMS&quot;</td><td>&quot;pressure&quot;</td><td>1</td><td>false</td><td>87237.0</td><td>2024-11-17 05:30:00 UTC</td><td>&quot;Pascals&quot;</td></tr><tr><td>&quot;LMR&quot;</td><td>&quot;pressure&quot;</td><td>1</td><td>false</td><td>84175.0</td><td>2024-11-17 05:30:00 UTC</td><td>&quot;Pascals&quot;</td></tr><tr><td>&hellip;</td><td>&hellip;</td><td>&hellip;</td><td>&hellip;</td><td>&hellip;</td><td>&hellip;</td><td>&hellip;</td></tr><tr><td>&quot;UGSPG&quot;</td><td>&quot;wet_bulb_temp&quot;</td><td>2</td><td>true</td><td>-0.81</td><td>2024-11-16 23:00:00 UTC</td><td>&quot;Celsius&quot;</td></tr><tr><td>&quot;UUCMF&quot;</td><td>&quot;wet_bulb_temp&quot;</td><td>2</td><td>true</td><td>-1.59</td><td>2024-11-17 05:30:00 UTC</td><td>&quot;Celsius&quot;</td></tr><tr><td>&quot;UUPYF&quot;</td><td>&quot;wet_bulb_temp&quot;</td><td>2</td><td>true</td><td>-4.74</td><td>2024-11-17 05:30:00 UTC</td><td>&quot;Celsius&quot;</td></tr><tr><td>&quot;NGLO161462&quot;</td><td>&quot;precip_interval&quot;</td><td>1</td><td>false</td><td>0.0</td><td>2024-11-15 19:16:00 UTC</td><td>&quot;Millimeters&quot;</td></tr><tr><td>&quot;NGLO162428&quot;</td><td>&quot;precip_interval&quot;</td><td>1</td><td>false</td><td>1.2</td><td>2024-11-16 19:12:00 UTC</td><td>&quot;Millimeters&quot;</td></tr></tbody></table></div>"
      ],
      "text/plain": [
       "shape: (15_195, 7)\n",
       "┌────────────┬────────────────┬──────────────┬────────────┬─────────┬────────────────┬─────────────┐\n",
       "│ stid       ┆ variable       ┆ sensor_index ┆ is_derived ┆ value   ┆ date_time      ┆ units       │\n",
       "│ ---        ┆ ---            ┆ ---          ┆ ---        ┆ ---     ┆ ---            ┆ ---         │\n",
       "│ str        ┆ str            ┆ u32          ┆ bool       ┆ f64     ┆ datetime[μs,   ┆ str         │\n",
       "│            ┆                ┆              ┆            ┆         ┆ UTC]           ┆             │\n",
       "╞════════════╪════════════════╪══════════════╪════════════╪═════════╪════════════════╪═════════════╡\n",
       "│ WBB        ┆ pressure       ┆ 1            ┆ false      ┆ 85321.0 ┆ 2024-11-17     ┆ Pascals     │\n",
       "│            ┆                ┆              ┆            ┆         ┆ 05:45:00 UTC   ┆             │\n",
       "│ GNI        ┆ pressure       ┆ 1            ┆ false      ┆ 87058.0 ┆ 2024-10-31     ┆ Pascals     │\n",
       "│            ┆                ┆              ┆            ┆         ┆ 07:40:00 UTC   ┆             │\n",
       "│ HATUT      ┆ pressure       ┆ 1            ┆ false      ┆ 87010.0 ┆ 2024-11-17     ┆ Pascals     │\n",
       "│            ┆                ┆              ┆            ┆         ┆ 05:45:00 UTC   ┆             │\n",
       "│ LMS        ┆ pressure       ┆ 1            ┆ false      ┆ 87237.0 ┆ 2024-11-17     ┆ Pascals     │\n",
       "│            ┆                ┆              ┆            ┆         ┆ 05:30:00 UTC   ┆             │\n",
       "│ LMR        ┆ pressure       ┆ 1            ┆ false      ┆ 84175.0 ┆ 2024-11-17     ┆ Pascals     │\n",
       "│            ┆                ┆              ┆            ┆         ┆ 05:30:00 UTC   ┆             │\n",
       "│ …          ┆ …              ┆ …            ┆ …          ┆ …       ┆ …              ┆ …           │\n",
       "│ UGSPG      ┆ wet_bulb_temp  ┆ 2            ┆ true       ┆ -0.81   ┆ 2024-11-16     ┆ Celsius     │\n",
       "│            ┆                ┆              ┆            ┆         ┆ 23:00:00 UTC   ┆             │\n",
       "│ UUCMF      ┆ wet_bulb_temp  ┆ 2            ┆ true       ┆ -1.59   ┆ 2024-11-17     ┆ Celsius     │\n",
       "│            ┆                ┆              ┆            ┆         ┆ 05:30:00 UTC   ┆             │\n",
       "│ UUPYF      ┆ wet_bulb_temp  ┆ 2            ┆ true       ┆ -4.74   ┆ 2024-11-17     ┆ Celsius     │\n",
       "│            ┆                ┆              ┆            ┆         ┆ 05:30:00 UTC   ┆             │\n",
       "│ NGLO161462 ┆ precip_interva ┆ 1            ┆ false      ┆ 0.0     ┆ 2024-11-15     ┆ Millimeters │\n",
       "│            ┆ l              ┆              ┆            ┆         ┆ 19:16:00 UTC   ┆             │\n",
       "│ NGLO162428 ┆ precip_interva ┆ 1            ┆ false      ┆ 1.2     ┆ 2024-11-16     ┆ Millimeters │\n",
       "│            ┆ l              ┆              ┆            ┆         ┆ 19:12:00 UTC   ┆             │\n",
       "└────────────┴────────────────┴──────────────┴────────────┴─────────┴────────────────┴─────────────┘"
      ]
     },
     "execution_count": 7,
     "metadata": {},
     "output_type": "execute_result"
    }
   ],
   "source": [
    "# Unpack the Float observations\n",
    "\n",
    "observed_float = (\n",
    "    df.select([\"stid\"] + cols_with_float)\n",
    "    .select(\"stid\", \"^.*value.*$\")\n",
    "    .unpivot(index=\"stid\")\n",
    "    .with_columns(\n",
    "        pl.col(\"variable\").str.extract_groups(\n",
    "            r\"(?<variable>.+)_value_(?<sensor_index>\\d)(?<is_derived>d?)\"\n",
    "        )\n",
    "    )\n",
    "    .unnest(\"variable\")\n",
    "    .with_columns(\n",
    "        pl.col(\"is_derived\") == \"d\",\n",
    "        pl.col(\"sensor_index\").cast(pl.UInt32),\n",
    "        pl.col(\"variable\").replace(S.UNITS).alias(\"units\"),\n",
    "    )\n",
    "    .unnest(\"value\")\n",
    "    .with_columns(pl.col(\"date_time\").str.to_datetime())\n",
    "    .drop_nulls()\n",
    ")\n",
    "observed_float"
   ]
  },
  {
   "cell_type": "code",
   "execution_count": 8,
   "metadata": {},
   "outputs": [
    {
     "data": {
      "text/html": [
       "<div><style>\n",
       ".dataframe > thead > tr,\n",
       ".dataframe > tbody > tr {\n",
       "  text-align: right;\n",
       "  white-space: pre-wrap;\n",
       "}\n",
       "</style>\n",
       "<small>shape: (1_540, 7)</small><table border=\"1\" class=\"dataframe\"><thead><tr><th>stid</th><th>variable</th><th>sensor_index</th><th>is_derived</th><th>date_time</th><th>value_string</th><th>units</th></tr><tr><td>str</td><td>str</td><td>u32</td><td>bool</td><td>datetime[μs, UTC]</td><td>str</td><td>str</td></tr></thead><tbody><tr><td>&quot;WBB&quot;</td><td>&quot;wind_cardinal_direction&quot;</td><td>1</td><td>true</td><td>2024-11-17 05:45:00 UTC</td><td>&quot;E&quot;</td><td>&quot;code&quot;</td></tr><tr><td>&quot;HOL&quot;</td><td>&quot;wind_cardinal_direction&quot;</td><td>1</td><td>true</td><td>2024-11-17 05:45:00 UTC</td><td>&quot;NNE&quot;</td><td>&quot;code&quot;</td></tr><tr><td>&quot;SBE&quot;</td><td>&quot;wind_cardinal_direction&quot;</td><td>1</td><td>true</td><td>2024-11-17 05:00:00 UTC</td><td>&quot;SSE&quot;</td><td>&quot;code&quot;</td></tr><tr><td>&quot;SB2&quot;</td><td>&quot;wind_cardinal_direction&quot;</td><td>1</td><td>true</td><td>2024-11-17 05:45:00 UTC</td><td>&quot;NW&quot;</td><td>&quot;code&quot;</td></tr><tr><td>&quot;PCB&quot;</td><td>&quot;wind_cardinal_direction&quot;</td><td>1</td><td>true</td><td>2024-11-17 05:00:00 UTC</td><td>&quot;E&quot;</td><td>&quot;code&quot;</td></tr><tr><td>&hellip;</td><td>&hellip;</td><td>&hellip;</td><td>&hellip;</td><td>&hellip;</td><td>&hellip;</td><td>&hellip;</td></tr><tr><td>&quot;UGSPG&quot;</td><td>&quot;wind_cardinal_direction&quot;</td><td>2</td><td>true</td><td>2024-11-16 23:00:00 UTC</td><td>&quot;E&quot;</td><td>&quot;code&quot;</td></tr><tr><td>&quot;UGSCM&quot;</td><td>&quot;wind_cardinal_direction&quot;</td><td>2</td><td>true</td><td>2024-11-17 05:30:00 UTC</td><td>&quot;NNW&quot;</td><td>&quot;code&quot;</td></tr><tr><td>&quot;UGSDV&quot;</td><td>&quot;wind_cardinal_direction&quot;</td><td>2</td><td>true</td><td>2024-11-04 17:30:00 UTC</td><td>&quot;W&quot;</td><td>&quot;code&quot;</td></tr><tr><td>&quot;UGSES&quot;</td><td>&quot;wind_cardinal_direction&quot;</td><td>2</td><td>true</td><td>2024-11-17 05:30:00 UTC</td><td>&quot;N&quot;</td><td>&quot;code&quot;</td></tr><tr><td>&quot;UGSBL&quot;</td><td>&quot;wind_cardinal_direction&quot;</td><td>2</td><td>true</td><td>2024-11-17 05:30:00 UTC</td><td>&quot;N&quot;</td><td>&quot;code&quot;</td></tr></tbody></table></div>"
      ],
      "text/plain": [
       "shape: (1_540, 7)\n",
       "┌───────┬───────────────────┬──────────────┬────────────┬───────────────────┬──────────────┬───────┐\n",
       "│ stid  ┆ variable          ┆ sensor_index ┆ is_derived ┆ date_time         ┆ value_string ┆ units │\n",
       "│ ---   ┆ ---               ┆ ---          ┆ ---        ┆ ---               ┆ ---          ┆ ---   │\n",
       "│ str   ┆ str               ┆ u32          ┆ bool       ┆ datetime[μs, UTC] ┆ str          ┆ str   │\n",
       "╞═══════╪═══════════════════╪══════════════╪════════════╪═══════════════════╪══════════════╪═══════╡\n",
       "│ WBB   ┆ wind_cardinal_dir ┆ 1            ┆ true       ┆ 2024-11-17        ┆ E            ┆ code  │\n",
       "│       ┆ ection            ┆              ┆            ┆ 05:45:00 UTC      ┆              ┆       │\n",
       "│ HOL   ┆ wind_cardinal_dir ┆ 1            ┆ true       ┆ 2024-11-17        ┆ NNE          ┆ code  │\n",
       "│       ┆ ection            ┆              ┆            ┆ 05:45:00 UTC      ┆              ┆       │\n",
       "│ SBE   ┆ wind_cardinal_dir ┆ 1            ┆ true       ┆ 2024-11-17        ┆ SSE          ┆ code  │\n",
       "│       ┆ ection            ┆              ┆            ┆ 05:00:00 UTC      ┆              ┆       │\n",
       "│ SB2   ┆ wind_cardinal_dir ┆ 1            ┆ true       ┆ 2024-11-17        ┆ NW           ┆ code  │\n",
       "│       ┆ ection            ┆              ┆            ┆ 05:45:00 UTC      ┆              ┆       │\n",
       "│ PCB   ┆ wind_cardinal_dir ┆ 1            ┆ true       ┆ 2024-11-17        ┆ E            ┆ code  │\n",
       "│       ┆ ection            ┆              ┆            ┆ 05:00:00 UTC      ┆              ┆       │\n",
       "│ …     ┆ …                 ┆ …            ┆ …          ┆ …                 ┆ …            ┆ …     │\n",
       "│ UGSPG ┆ wind_cardinal_dir ┆ 2            ┆ true       ┆ 2024-11-16        ┆ E            ┆ code  │\n",
       "│       ┆ ection            ┆              ┆            ┆ 23:00:00 UTC      ┆              ┆       │\n",
       "│ UGSCM ┆ wind_cardinal_dir ┆ 2            ┆ true       ┆ 2024-11-17        ┆ NNW          ┆ code  │\n",
       "│       ┆ ection            ┆              ┆            ┆ 05:30:00 UTC      ┆              ┆       │\n",
       "│ UGSDV ┆ wind_cardinal_dir ┆ 2            ┆ true       ┆ 2024-11-04        ┆ W            ┆ code  │\n",
       "│       ┆ ection            ┆              ┆            ┆ 17:30:00 UTC      ┆              ┆       │\n",
       "│ UGSES ┆ wind_cardinal_dir ┆ 2            ┆ true       ┆ 2024-11-17        ┆ N            ┆ code  │\n",
       "│       ┆ ection            ┆              ┆            ┆ 05:30:00 UTC      ┆              ┆       │\n",
       "│ UGSBL ┆ wind_cardinal_dir ┆ 2            ┆ true       ┆ 2024-11-17        ┆ N            ┆ code  │\n",
       "│       ┆ ection            ┆              ┆            ┆ 05:30:00 UTC      ┆              ┆       │\n",
       "└───────┴───────────────────┴──────────────┴────────────┴───────────────────┴──────────────┴───────┘"
      ]
     },
     "execution_count": 8,
     "metadata": {},
     "output_type": "execute_result"
    }
   ],
   "source": [
    "# Unpack the string observations\n",
    "\n",
    "\n",
    "observed_string = (\n",
    "    df.select([\"stid\"] + cols_with_string)\n",
    "    .select(\"stid\", \"^.*value.*$\")\n",
    "    .unpivot(index=\"stid\")\n",
    "    .with_columns(\n",
    "        pl.col(\"variable\").str.extract_groups(\n",
    "            r\"(?<variable>.+)_value_(?<sensor_index>\\d)(?<is_derived>d?)\"\n",
    "        )\n",
    "    )\n",
    "    .unnest(\"variable\")\n",
    "    .with_columns(\n",
    "        pl.col(\"is_derived\") == \"d\",\n",
    "        pl.col(\"sensor_index\").cast(pl.UInt32),\n",
    "        pl.col(\"variable\").replace(S.UNITS).alias(\"units\"),\n",
    "    )\n",
    "    .unnest(\"value\")\n",
    "    .rename({\"value\": \"value_string\"})\n",
    "    .with_columns(pl.col(\"date_time\").str.to_datetime())\n",
    "    .drop_nulls()\n",
    ")\n",
    "observed_string\n"
   ]
  },
  {
   "cell_type": "code",
   "execution_count": 9,
   "metadata": {},
   "outputs": [],
   "source": [
    "# Join all observation values\n",
    "\n",
    "observed = pl.concat([observed_float, observed_string], how=\"diagonal_relaxed\")"
   ]
  },
  {
   "cell_type": "code",
   "execution_count": 10,
   "metadata": {},
   "outputs": [
    {
     "data": {
      "text/html": [
       "<div><style>\n",
       ".dataframe > thead > tr,\n",
       ".dataframe > tbody > tr {\n",
       "  text-align: right;\n",
       "  white-space: pre-wrap;\n",
       "}\n",
       "</style>\n",
       "<small>shape: (16_735, 32)</small><table border=\"1\" class=\"dataframe\"><thead><tr><th>stid</th><th>variable</th><th>sensor_index</th><th>is_derived</th><th>value</th><th>date_time</th><th>units</th><th>value_string</th><th>id</th><th>name</th><th>elevation</th><th>latitude</th><th>longitude</th><th>mnet_id</th><th>state</th><th>timezone</th><th>elev_dem</th><th>nwszone</th><th>nwsfirezone</th><th>gacc</th><th>shortname</th><th>sgid</th><th>county</th><th>country</th><th>wims_id</th><th>cwa</th><th>period_of_record_start</th><th>period_of_record_end</th><th>providers</th><th>qc_flagged</th><th>is_restricted</th><th>is_active</th></tr><tr><td>str</td><td>str</td><td>u32</td><td>bool</td><td>f64</td><td>datetime[μs, UTC]</td><td>str</td><td>str</td><td>u32</td><td>str</td><td>f64</td><td>f64</td><td>f64</td><td>u32</td><td>str</td><td>str</td><td>f64</td><td>str</td><td>str</td><td>str</td><td>str</td><td>str</td><td>str</td><td>str</td><td>str</td><td>str</td><td>datetime[μs, UTC]</td><td>datetime[μs, UTC]</td><td>list[struct[2]]</td><td>bool</td><td>bool</td><td>bool</td></tr></thead><tbody><tr><td>&quot;WBB&quot;</td><td>&quot;pressure&quot;</td><td>1</td><td>false</td><td>85321.0</td><td>2024-11-17 05:45:00 UTC</td><td>&quot;Pascals&quot;</td><td>null</td><td>1</td><td>&quot;U of U William Browning Buildi…</td><td>4806.0</td><td>40.76623</td><td>-111.84755</td><td>153</td><td>&quot;UT&quot;</td><td>&quot;America/Denver&quot;</td><td>4727.7</td><td>&quot;UT105&quot;</td><td>&quot;SLC478&quot;</td><td>&quot;GBCC&quot;</td><td>&quot;UUNET&quot;</td><td>&quot;GB25&quot;</td><td>&quot;Salt Lake&quot;</td><td>&quot;US&quot;</td><td>null</td><td>&quot;SLC&quot;</td><td>1997-01-01 00:00:00 UTC</td><td>2024-11-17 04:50:00 UTC</td><td>[{&quot;U of U MesoWest Group&quot;,&quot;http://meso1.chpc.utah.edu/mesowest_overview/&quot;}, {&quot;U-ATAQ&quot;,&quot;http://air.utah.edu/&quot;}]</td><td>false</td><td>false</td><td>true</td></tr><tr><td>&quot;GNI&quot;</td><td>&quot;pressure&quot;</td><td>1</td><td>false</td><td>87058.0</td><td>2024-10-31 07:40:00 UTC</td><td>&quot;Pascals&quot;</td><td>null</td><td>34</td><td>&quot;Gunnison Island&quot;</td><td>4242.0</td><td>41.33216</td><td>-112.85432</td><td>153</td><td>&quot;UT&quot;</td><td>&quot;America/Denver&quot;</td><td>4202.8</td><td>&quot;UT101&quot;</td><td>&quot;SLC478&quot;</td><td>&quot;GBCC&quot;</td><td>&quot;UUNET&quot;</td><td>&quot;GB25&quot;</td><td>&quot;Box Elder&quot;</td><td>&quot;US&quot;</td><td>null</td><td>&quot;SLC&quot;</td><td>1998-05-22 00:00:00 UTC</td><td>2024-11-17 04:45:00 UTC</td><td>[{&quot;U of U MesoWest Group&quot;,&quot;http://meso1.chpc.utah.edu/mesowest_overview/&quot;}, {&quot;Utah Department of Natural Resources&quot;,&quot;http://www.dnr.utah.gov&quot;}, {&quot;SLC WFO/NWS Western Region&quot;,&quot;http://www.wrh.noaa.gov/slc&quot;}]</td><td>false</td><td>false</td><td>true</td></tr><tr><td>&quot;HATUT&quot;</td><td>&quot;pressure&quot;</td><td>1</td><td>false</td><td>87010.0</td><td>2024-11-17 05:45:00 UTC</td><td>&quot;Pascals&quot;</td><td>null</td><td>35</td><td>&quot;Hat Island&quot;</td><td>4242.0</td><td>41.07073</td><td>-112.58621</td><td>153</td><td>&quot;UT&quot;</td><td>&quot;America/Denver&quot;</td><td>4245.4</td><td>&quot;UT101&quot;</td><td>&quot;SLC478&quot;</td><td>&quot;GBCC&quot;</td><td>&quot;UUNET&quot;</td><td>&quot;GB25&quot;</td><td>&quot;Box Elder&quot;</td><td>&quot;US&quot;</td><td>null</td><td>&quot;SLC&quot;</td><td>1998-09-02 00:00:00 UTC</td><td>2024-11-17 04:45:00 UTC</td><td>[{&quot;U of U MesoWest Group&quot;,&quot;http://meso1.chpc.utah.edu/mesowest_overview/&quot;}, {&quot;Utah Department of Natural Resources&quot;,&quot;http://www.dnr.utah.gov&quot;}, {&quot;SLC WFO/NWS Western Region&quot;,&quot;http://www.wrh.noaa.gov/slc&quot;}]</td><td>false</td><td>false</td><td>true</td></tr><tr><td>&quot;LMS&quot;</td><td>&quot;pressure&quot;</td><td>1</td><td>false</td><td>87237.0</td><td>2024-11-17 05:30:00 UTC</td><td>&quot;Pascals&quot;</td><td>null</td><td>36</td><td>&quot;Locomotive Springs&quot;</td><td>4242.0</td><td>41.701</td><td>-112.86181</td><td>153</td><td>&quot;UT&quot;</td><td>&quot;America/Denver&quot;</td><td>4215.9</td><td>&quot;UT101&quot;</td><td>&quot;SLC478&quot;</td><td>&quot;GBCC&quot;</td><td>&quot;UUNET&quot;</td><td>&quot;GB25&quot;</td><td>&quot;Box Elder&quot;</td><td>&quot;US&quot;</td><td>null</td><td>&quot;SLC&quot;</td><td>1999-07-02 00:00:00 UTC</td><td>2024-11-17 04:45:00 UTC</td><td>[{&quot;U of U MesoWest Group&quot;,&quot;http://meso1.chpc.utah.edu/mesowest_overview/&quot;}, {&quot;SLC WFO/NWS Western Region&quot;,&quot;http://www.wrh.noaa.gov/slc&quot;}]</td><td>false</td><td>false</td><td>true</td></tr><tr><td>&quot;LMR&quot;</td><td>&quot;pressure&quot;</td><td>1</td><td>false</td><td>84175.0</td><td>2024-11-17 05:30:00 UTC</td><td>&quot;Pascals&quot;</td><td>null</td><td>39</td><td>&quot;Lakeside Mountain&quot;</td><td>5039.0</td><td>41.06084</td><td>-112.89173</td><td>153</td><td>&quot;UT&quot;</td><td>&quot;America/Denver&quot;</td><td>5150.9</td><td>&quot;UT101&quot;</td><td>&quot;SLC478&quot;</td><td>&quot;GBCC&quot;</td><td>&quot;UUNET&quot;</td><td>&quot;GB25&quot;</td><td>&quot;Box Elder&quot;</td><td>&quot;US&quot;</td><td>null</td><td>&quot;SLC&quot;</td><td>1999-12-16 00:00:00 UTC</td><td>2024-11-17 04:45:00 UTC</td><td>[{&quot;U of U MesoWest Group&quot;,&quot;http://meso1.chpc.utah.edu/mesowest_overview/&quot;}, {&quot;SLC WFO/NWS Western Region&quot;,&quot;http://www.wrh.noaa.gov/slc&quot;}]</td><td>false</td><td>false</td><td>true</td></tr><tr><td>&hellip;</td><td>&hellip;</td><td>&hellip;</td><td>&hellip;</td><td>&hellip;</td><td>&hellip;</td><td>&hellip;</td><td>&hellip;</td><td>&hellip;</td><td>&hellip;</td><td>&hellip;</td><td>&hellip;</td><td>&hellip;</td><td>&hellip;</td><td>&hellip;</td><td>&hellip;</td><td>&hellip;</td><td>&hellip;</td><td>&hellip;</td><td>&hellip;</td><td>&hellip;</td><td>&hellip;</td><td>&hellip;</td><td>&hellip;</td><td>&hellip;</td><td>&hellip;</td><td>&hellip;</td><td>&hellip;</td><td>&hellip;</td><td>&hellip;</td><td>&hellip;</td><td>&hellip;</td></tr><tr><td>&quot;UGSPG&quot;</td><td>&quot;wind_cardinal_direction&quot;</td><td>2</td><td>true</td><td>null</td><td>2024-11-16 23:00:00 UTC</td><td>&quot;code&quot;</td><td>&quot;E&quot;</td><td>239721</td><td>&quot;Phrag EC&quot;</td><td>4203.0</td><td>41.0604</td><td>-112.1013</td><td>153</td><td>&quot;UT&quot;</td><td>&quot;America/Denver&quot;</td><td>null</td><td>&quot;UT104&quot;</td><td>&quot;SLC478&quot;</td><td>&quot;GBCC&quot;</td><td>&quot;UUNET&quot;</td><td>&quot;GB25&quot;</td><td>&quot;Davis&quot;</td><td>&quot;US&quot;</td><td>null</td><td>&quot;SLC&quot;</td><td>2024-07-09 15:30:00 UTC</td><td>2024-11-16 23:00:00 UTC</td><td>[]</td><td>false</td><td>false</td><td>true</td></tr><tr><td>&quot;UGSCM&quot;</td><td>&quot;wind_cardinal_direction&quot;</td><td>2</td><td>true</td><td>null</td><td>2024-11-17 05:30:00 UTC</td><td>&quot;code&quot;</td><td>&quot;NNW&quot;</td><td>239855</td><td>&quot;Cedar Mesa EC&quot;</td><td>6135.0</td><td>37.52475</td><td>-109.7458</td><td>153</td><td>&quot;UT&quot;</td><td>&quot;America/Denver&quot;</td><td>null</td><td>&quot;UT029&quot;</td><td>&quot;GJT491&quot;</td><td>&quot;GBCC&quot;</td><td>&quot;UUNET&quot;</td><td>&quot;GB32&quot;</td><td>&quot;San Juan&quot;</td><td>&quot;US&quot;</td><td>null</td><td>&quot;GJT&quot;</td><td>2024-07-12 20:00:00 UTC</td><td>2024-11-17 04:30:00 UTC</td><td>[]</td><td>false</td><td>false</td><td>true</td></tr><tr><td>&quot;UGSDV&quot;</td><td>&quot;wind_cardinal_direction&quot;</td><td>2</td><td>true</td><td>null</td><td>2024-11-04 17:30:00 UTC</td><td>&quot;code&quot;</td><td>&quot;W&quot;</td><td>239856</td><td>&quot;Desert View (Myton) EC&quot;</td><td>5032.0</td><td>40.12644</td><td>-109.9547</td><td>153</td><td>&quot;UT&quot;</td><td>&quot;America/Denver&quot;</td><td>null</td><td>&quot;UT024&quot;</td><td>&quot;GJT486&quot;</td><td>&quot;GBCC&quot;</td><td>&quot;UUNET&quot;</td><td>&quot;GB29&quot;</td><td>&quot;Uintah&quot;</td><td>&quot;US&quot;</td><td>null</td><td>&quot;GJT&quot;</td><td>2024-07-12 19:30:00 UTC</td><td>2024-11-04 17:30:00 UTC</td><td>[]</td><td>false</td><td>false</td><td>true</td></tr><tr><td>&quot;UGSES&quot;</td><td>&quot;wind_cardinal_direction&quot;</td><td>2</td><td>true</td><td>null</td><td>2024-11-17 05:30:00 UTC</td><td>&quot;code&quot;</td><td>&quot;N&quot;</td><td>239857</td><td>&quot;Escalante EC&quot;</td><td>5674.0</td><td>37.73532</td><td>-111.5708</td><td>153</td><td>&quot;UT&quot;</td><td>&quot;America/Denver&quot;</td><td>null</td><td>&quot;UT128&quot;</td><td>&quot;SLC496&quot;</td><td>&quot;GBCC&quot;</td><td>&quot;UUNET&quot;</td><td>&quot;GB35&quot;</td><td>&quot;Garfield&quot;</td><td>&quot;US&quot;</td><td>null</td><td>&quot;SLC&quot;</td><td>2024-07-12 19:30:00 UTC</td><td>2024-11-17 04:30:00 UTC</td><td>[]</td><td>false</td><td>false</td><td>true</td></tr><tr><td>&quot;UGSBL&quot;</td><td>&quot;wind_cardinal_direction&quot;</td><td>2</td><td>true</td><td>null</td><td>2024-11-17 05:30:00 UTC</td><td>&quot;code&quot;</td><td>&quot;N&quot;</td><td>239887</td><td>&quot;Bluff EC&quot;</td><td>4320.0</td><td>37.28176</td><td>-109.53487</td><td>153</td><td>&quot;UT&quot;</td><td>&quot;America/Denver&quot;</td><td>null</td><td>&quot;UT022&quot;</td><td>&quot;GJT491&quot;</td><td>&quot;GBCC&quot;</td><td>&quot;UUNET&quot;</td><td>&quot;GB32&quot;</td><td>&quot;San Juan&quot;</td><td>&quot;US&quot;</td><td>null</td><td>&quot;GJT&quot;</td><td>2024-07-15 21:30:00 UTC</td><td>2024-11-17 04:30:00 UTC</td><td>[]</td><td>false</td><td>false</td><td>true</td></tr></tbody></table></div>"
      ],
      "text/plain": [
       "shape: (16_735, 32)\n",
       "┌───────┬────────────┬────────────┬────────────┬───┬───────────┬───────────┬───────────┬───────────┐\n",
       "│ stid  ┆ variable   ┆ sensor_ind ┆ is_derived ┆ … ┆ providers ┆ qc_flagge ┆ is_restri ┆ is_active │\n",
       "│ ---   ┆ ---        ┆ ex         ┆ ---        ┆   ┆ ---       ┆ d         ┆ cted      ┆ ---       │\n",
       "│ str   ┆ str        ┆ ---        ┆ bool       ┆   ┆ list[stru ┆ ---       ┆ ---       ┆ bool      │\n",
       "│       ┆            ┆ u32        ┆            ┆   ┆ ct[2]]    ┆ bool      ┆ bool      ┆           │\n",
       "╞═══════╪════════════╪════════════╪════════════╪═══╪═══════════╪═══════════╪═══════════╪═══════════╡\n",
       "│ WBB   ┆ pressure   ┆ 1          ┆ false      ┆ … ┆ [{\"U of U ┆ false     ┆ false     ┆ true      │\n",
       "│       ┆            ┆            ┆            ┆   ┆ MesoWest  ┆           ┆           ┆           │\n",
       "│       ┆            ┆            ┆            ┆   ┆ Group\",\"h ┆           ┆           ┆           │\n",
       "│       ┆            ┆            ┆            ┆   ┆ tt…       ┆           ┆           ┆           │\n",
       "│ GNI   ┆ pressure   ┆ 1          ┆ false      ┆ … ┆ [{\"U of U ┆ false     ┆ false     ┆ true      │\n",
       "│       ┆            ┆            ┆            ┆   ┆ MesoWest  ┆           ┆           ┆           │\n",
       "│       ┆            ┆            ┆            ┆   ┆ Group\",\"h ┆           ┆           ┆           │\n",
       "│       ┆            ┆            ┆            ┆   ┆ tt…       ┆           ┆           ┆           │\n",
       "│ HATUT ┆ pressure   ┆ 1          ┆ false      ┆ … ┆ [{\"U of U ┆ false     ┆ false     ┆ true      │\n",
       "│       ┆            ┆            ┆            ┆   ┆ MesoWest  ┆           ┆           ┆           │\n",
       "│       ┆            ┆            ┆            ┆   ┆ Group\",\"h ┆           ┆           ┆           │\n",
       "│       ┆            ┆            ┆            ┆   ┆ tt…       ┆           ┆           ┆           │\n",
       "│ LMS   ┆ pressure   ┆ 1          ┆ false      ┆ … ┆ [{\"U of U ┆ false     ┆ false     ┆ true      │\n",
       "│       ┆            ┆            ┆            ┆   ┆ MesoWest  ┆           ┆           ┆           │\n",
       "│       ┆            ┆            ┆            ┆   ┆ Group\",\"h ┆           ┆           ┆           │\n",
       "│       ┆            ┆            ┆            ┆   ┆ tt…       ┆           ┆           ┆           │\n",
       "│ LMR   ┆ pressure   ┆ 1          ┆ false      ┆ … ┆ [{\"U of U ┆ false     ┆ false     ┆ true      │\n",
       "│       ┆            ┆            ┆            ┆   ┆ MesoWest  ┆           ┆           ┆           │\n",
       "│       ┆            ┆            ┆            ┆   ┆ Group\",\"h ┆           ┆           ┆           │\n",
       "│       ┆            ┆            ┆            ┆   ┆ tt…       ┆           ┆           ┆           │\n",
       "│ …     ┆ …          ┆ …          ┆ …          ┆ … ┆ …         ┆ …         ┆ …         ┆ …         │\n",
       "│ UGSPG ┆ wind_cardi ┆ 2          ┆ true       ┆ … ┆ []        ┆ false     ┆ false     ┆ true      │\n",
       "│       ┆ nal_direct ┆            ┆            ┆   ┆           ┆           ┆           ┆           │\n",
       "│       ┆ ion        ┆            ┆            ┆   ┆           ┆           ┆           ┆           │\n",
       "│ UGSCM ┆ wind_cardi ┆ 2          ┆ true       ┆ … ┆ []        ┆ false     ┆ false     ┆ true      │\n",
       "│       ┆ nal_direct ┆            ┆            ┆   ┆           ┆           ┆           ┆           │\n",
       "│       ┆ ion        ┆            ┆            ┆   ┆           ┆           ┆           ┆           │\n",
       "│ UGSDV ┆ wind_cardi ┆ 2          ┆ true       ┆ … ┆ []        ┆ false     ┆ false     ┆ true      │\n",
       "│       ┆ nal_direct ┆            ┆            ┆   ┆           ┆           ┆           ┆           │\n",
       "│       ┆ ion        ┆            ┆            ┆   ┆           ┆           ┆           ┆           │\n",
       "│ UGSES ┆ wind_cardi ┆ 2          ┆ true       ┆ … ┆ []        ┆ false     ┆ false     ┆ true      │\n",
       "│       ┆ nal_direct ┆            ┆            ┆   ┆           ┆           ┆           ┆           │\n",
       "│       ┆ ion        ┆            ┆            ┆   ┆           ┆           ┆           ┆           │\n",
       "│ UGSBL ┆ wind_cardi ┆ 2          ┆ true       ┆ … ┆ []        ┆ false     ┆ false     ┆ true      │\n",
       "│       ┆ nal_direct ┆            ┆            ┆   ┆           ┆           ┆           ┆           │\n",
       "│       ┆ ion        ┆            ┆            ┆   ┆           ┆           ┆           ┆           │\n",
       "└───────┴────────────┴────────────┴────────────┴───┴───────────┴───────────┴───────────┴───────────┘"
      ]
     },
     "execution_count": 10,
     "metadata": {},
     "output_type": "execute_result"
    }
   ],
   "source": [
    "# Join the metadata to the observed values\n",
    "\n",
    "observed.join(metadata, on=\"stid\")  # , how=\"full\", coalesce=True)"
   ]
  }
 ],
 "metadata": {
  "kernelspec": {
   "display_name": "synoptic2",
   "language": "python",
   "name": "python3"
  },
  "language_info": {
   "codemirror_mode": {
    "name": "ipython",
    "version": 3
   },
   "file_extension": ".py",
   "mimetype": "text/x-python",
   "name": "python",
   "nbconvert_exporter": "python",
   "pygments_lexer": "ipython3",
   "version": "3.12.5"
  }
 },
 "nbformat": 4,
 "nbformat_minor": 2
}
