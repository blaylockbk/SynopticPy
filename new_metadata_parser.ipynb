{
 "cells": [
  {
   "cell_type": "markdown",
   "metadata": {},
   "source": [
    "# New Metadata parser\n",
    "Instead of looping though each individually, build the metadata dict all at once."
   ]
  },
  {
   "cell_type": "code",
   "execution_count": 1,
   "metadata": {},
   "outputs": [],
   "source": [
    "import synoptic\n",
    "from synoptic.json_parsers import (\n",
    "    parse_raw_variable_column,\n",
    "    station_metadata_to_dataframe,\n",
    ")\n",
    "\n",
    "import polars as pl"
   ]
  },
  {
   "cell_type": "code",
   "execution_count": 2,
   "metadata": {},
   "outputs": [
    {
     "name": "stdout",
     "output_type": "stream",
     "text": [
      "🚚💨 Speedy delivery from Synoptic's \u001b[32mlatest\u001b[0m service.\n",
      "📦 Received data from 1,449 stations.\n",
      "col='stid', schema=String\n"
     ]
    },
    {
     "data": {
      "text/html": [
       "<div><style>\n",
       ".dataframe > thead > tr,\n",
       ".dataframe > tbody > tr {\n",
       "  text-align: right;\n",
       "  white-space: pre-wrap;\n",
       "}\n",
       "</style>\n",
       "<small>shape: (12_913, 34)</small><table border=\"1\" class=\"dataframe\"><thead><tr><th>stid</th><th>variable</th><th>sensor_index</th><th>is_derived</th><th>value</th><th>date_time</th><th>qc_passed</th><th>qc_flags</th><th>value_string</th><th>units</th><th>id</th><th>name</th><th>elevation</th><th>latitude</th><th>longitude</th><th>mnet_id</th><th>state</th><th>timezone</th><th>elev_dem</th><th>nwszone</th><th>nwsfirezone</th><th>gacc</th><th>shortname</th><th>sgid</th><th>county</th><th>country</th><th>wims_id</th><th>cwa</th><th>period_of_record_start</th><th>period_of_record_end</th><th>providers</th><th>qc_flagged</th><th>is_restricted</th><th>is_active</th></tr><tr><td>str</td><td>str</td><td>u32</td><td>bool</td><td>f64</td><td>datetime[μs, UTC]</td><td>bool</td><td>list[i64]</td><td>str</td><td>str</td><td>u32</td><td>str</td><td>f64</td><td>f64</td><td>f64</td><td>u32</td><td>str</td><td>str</td><td>f64</td><td>str</td><td>str</td><td>str</td><td>str</td><td>str</td><td>str</td><td>str</td><td>str</td><td>str</td><td>datetime[μs, UTC]</td><td>datetime[μs, UTC]</td><td>list[struct[2]]</td><td>bool</td><td>bool</td><td>bool</td></tr></thead><tbody><tr><td>&quot;WBB&quot;</td><td>&quot;pressure&quot;</td><td>1</td><td>false</td><td>85892.0</td><td>2024-11-20 05:29:00 UTC</td><td>true</td><td>null</td><td>null</td><td>&quot;Pascals&quot;</td><td>1</td><td>&quot;U of U William Browning Buildi…</td><td>4806.0</td><td>40.76623</td><td>-111.84755</td><td>153</td><td>&quot;UT&quot;</td><td>&quot;America/Denver&quot;</td><td>4727.7</td><td>&quot;UT105&quot;</td><td>&quot;SLC478&quot;</td><td>&quot;GBCC&quot;</td><td>&quot;UUNET&quot;</td><td>&quot;GB25&quot;</td><td>&quot;Salt Lake&quot;</td><td>&quot;US&quot;</td><td>null</td><td>&quot;SLC&quot;</td><td>1997-01-01 00:00:00 UTC</td><td>2024-11-20 04:50:00 UTC</td><td>[{&quot;U of U MesoWest Group&quot;,&quot;http://meso1.chpc.utah.edu/mesowest_overview/&quot;}, {&quot;U-ATAQ&quot;,&quot;http://air.utah.edu/&quot;}]</td><td>false</td><td>false</td><td>true</td></tr><tr><td>&quot;GNI&quot;</td><td>&quot;pressure&quot;</td><td>1</td><td>false</td><td>87058.0</td><td>2024-10-31 07:40:00 UTC</td><td>true</td><td>null</td><td>null</td><td>&quot;Pascals&quot;</td><td>34</td><td>&quot;Gunnison Island&quot;</td><td>4242.0</td><td>41.33216</td><td>-112.85432</td><td>153</td><td>&quot;UT&quot;</td><td>&quot;America/Denver&quot;</td><td>4202.8</td><td>&quot;UT101&quot;</td><td>&quot;SLC478&quot;</td><td>&quot;GBCC&quot;</td><td>&quot;UUNET&quot;</td><td>&quot;GB25&quot;</td><td>&quot;Box Elder&quot;</td><td>&quot;US&quot;</td><td>null</td><td>&quot;SLC&quot;</td><td>1998-05-22 00:00:00 UTC</td><td>2024-11-20 04:45:00 UTC</td><td>[{&quot;U of U MesoWest Group&quot;,&quot;http://meso1.chpc.utah.edu/mesowest_overview/&quot;}, {&quot;Utah Department of Natural Resources&quot;,&quot;http://www.dnr.utah.gov&quot;}, {&quot;SLC WFO/NWS Western Region&quot;,&quot;http://www.wrh.noaa.gov/slc&quot;}]</td><td>false</td><td>false</td><td>true</td></tr><tr><td>&quot;HATUT&quot;</td><td>&quot;pressure&quot;</td><td>1</td><td>false</td><td>87580.0</td><td>2024-11-20 05:30:00 UTC</td><td>true</td><td>null</td><td>null</td><td>&quot;Pascals&quot;</td><td>35</td><td>&quot;Hat Island&quot;</td><td>4242.0</td><td>41.07073</td><td>-112.58621</td><td>153</td><td>&quot;UT&quot;</td><td>&quot;America/Denver&quot;</td><td>4245.4</td><td>&quot;UT101&quot;</td><td>&quot;SLC478&quot;</td><td>&quot;GBCC&quot;</td><td>&quot;UUNET&quot;</td><td>&quot;GB25&quot;</td><td>&quot;Box Elder&quot;</td><td>&quot;US&quot;</td><td>null</td><td>&quot;SLC&quot;</td><td>1998-09-02 00:00:00 UTC</td><td>2024-11-20 04:45:00 UTC</td><td>[{&quot;U of U MesoWest Group&quot;,&quot;http://meso1.chpc.utah.edu/mesowest_overview/&quot;}, {&quot;Utah Department of Natural Resources&quot;,&quot;http://www.dnr.utah.gov&quot;}, {&quot;SLC WFO/NWS Western Region&quot;,&quot;http://www.wrh.noaa.gov/slc&quot;}]</td><td>false</td><td>false</td><td>true</td></tr><tr><td>&quot;LMS&quot;</td><td>&quot;pressure&quot;</td><td>1</td><td>false</td><td>87841.0</td><td>2024-11-20 05:15:00 UTC</td><td>true</td><td>null</td><td>null</td><td>&quot;Pascals&quot;</td><td>36</td><td>&quot;Locomotive Springs&quot;</td><td>4242.0</td><td>41.701</td><td>-112.86181</td><td>153</td><td>&quot;UT&quot;</td><td>&quot;America/Denver&quot;</td><td>4215.9</td><td>&quot;UT101&quot;</td><td>&quot;SLC478&quot;</td><td>&quot;GBCC&quot;</td><td>&quot;UUNET&quot;</td><td>&quot;GB25&quot;</td><td>&quot;Box Elder&quot;</td><td>&quot;US&quot;</td><td>null</td><td>&quot;SLC&quot;</td><td>1999-07-02 00:00:00 UTC</td><td>2024-11-20 04:45:00 UTC</td><td>[{&quot;U of U MesoWest Group&quot;,&quot;http://meso1.chpc.utah.edu/mesowest_overview/&quot;}, {&quot;SLC WFO/NWS Western Region&quot;,&quot;http://www.wrh.noaa.gov/slc&quot;}]</td><td>false</td><td>false</td><td>true</td></tr><tr><td>&quot;LMR&quot;</td><td>&quot;pressure&quot;</td><td>1</td><td>false</td><td>84737.0</td><td>2024-11-20 05:15:00 UTC</td><td>true</td><td>null</td><td>null</td><td>&quot;Pascals&quot;</td><td>39</td><td>&quot;Lakeside Mountain&quot;</td><td>5039.0</td><td>41.06084</td><td>-112.89173</td><td>153</td><td>&quot;UT&quot;</td><td>&quot;America/Denver&quot;</td><td>5150.9</td><td>&quot;UT101&quot;</td><td>&quot;SLC478&quot;</td><td>&quot;GBCC&quot;</td><td>&quot;UUNET&quot;</td><td>&quot;GB25&quot;</td><td>&quot;Box Elder&quot;</td><td>&quot;US&quot;</td><td>null</td><td>&quot;SLC&quot;</td><td>1999-12-16 00:00:00 UTC</td><td>2024-11-20 04:45:00 UTC</td><td>[{&quot;U of U MesoWest Group&quot;,&quot;http://meso1.chpc.utah.edu/mesowest_overview/&quot;}, {&quot;SLC WFO/NWS Western Region&quot;,&quot;http://www.wrh.noaa.gov/slc&quot;}]</td><td>false</td><td>false</td><td>true</td></tr><tr><td>&hellip;</td><td>&hellip;</td><td>&hellip;</td><td>&hellip;</td><td>&hellip;</td><td>&hellip;</td><td>&hellip;</td><td>&hellip;</td><td>&hellip;</td><td>&hellip;</td><td>&hellip;</td><td>&hellip;</td><td>&hellip;</td><td>&hellip;</td><td>&hellip;</td><td>&hellip;</td><td>&hellip;</td><td>&hellip;</td><td>&hellip;</td><td>&hellip;</td><td>&hellip;</td><td>&hellip;</td><td>&hellip;</td><td>&hellip;</td><td>&hellip;</td><td>&hellip;</td><td>&hellip;</td><td>&hellip;</td><td>&hellip;</td><td>&hellip;</td><td>&hellip;</td><td>&hellip;</td><td>&hellip;</td><td>&hellip;</td></tr><tr><td>&quot;K41U&quot;</td><td>&quot;cloud_layer_3&quot;</td><td>1</td><td>true</td><td>2590.83</td><td>2024-11-19 07:35:00 UTC</td><td>null</td><td>null</td><td>&quot;overcast&quot;</td><td>&quot;Meters&quot;</td><td>46328</td><td>&quot;Manti-Ephraim Airport&quot;</td><td>5500.0</td><td>39.33133</td><td>-111.61273</td><td>1</td><td>&quot;UT&quot;</td><td>&quot;America/Denver&quot;</td><td>5505.2</td><td>&quot;UT118&quot;</td><td>&quot;SLC492&quot;</td><td>&quot;GBCC&quot;</td><td>&quot;ASOS/AWOS&quot;</td><td>&quot;GB27&quot;</td><td>&quot;Sanpete&quot;</td><td>&quot;US&quot;</td><td>null</td><td>&quot;SLC&quot;</td><td>2015-06-03 18:59:00 UTC</td><td>2024-11-20 04:35:00 UTC</td><td>[{&quot;National Weather Service&quot;,&quot;http://www.weather.gov&quot;}]</td><td>true</td><td>false</td><td>true</td></tr><tr><td>&quot;UUSYR&quot;</td><td>&quot;cloud_layer_3&quot;</td><td>1</td><td>true</td><td>2225.07</td><td>2024-11-18 15:40:00 UTC</td><td>null</td><td>null</td><td>&quot;N/A&quot;</td><td>&quot;Meters&quot;</td><td>62231</td><td>&quot;Syracuse&quot;</td><td>4217.0</td><td>41.08847</td><td>-112.1188</td><td>153</td><td>&quot;UT&quot;</td><td>&quot;America/Denver&quot;</td><td>4215.9</td><td>&quot;UT104&quot;</td><td>&quot;SLC478&quot;</td><td>&quot;GBCC&quot;</td><td>&quot;UUNET&quot;</td><td>&quot;GB25&quot;</td><td>&quot;Davis&quot;</td><td>&quot;US&quot;</td><td>null</td><td>&quot;SLC&quot;</td><td>2017-03-17 19:46:00 UTC</td><td>2024-11-20 04:50:00 UTC</td><td>[{&quot;U of U MesoWest Group&quot;,&quot;http://meso1.chpc.utah.edu/mesowest_overview/&quot;}]</td><td>false</td><td>false</td><td>true</td></tr><tr><td>&quot;KSPK&quot;</td><td>&quot;cloud_layer_3&quot;</td><td>1</td><td>true</td><td>2286.03</td><td>2024-11-19 15:35:00 UTC</td><td>null</td><td>null</td><td>&quot;broken&quot;</td><td>&quot;Meters&quot;</td><td>160898</td><td>&quot;Spanish Fork Municipal Airport&quot;</td><td>4530.0</td><td>40.145</td><td>-111.6677</td><td>1</td><td>&quot;UT&quot;</td><td>&quot;America/Denver&quot;</td><td>4534.1</td><td>&quot;UT106&quot;</td><td>&quot;SLC478&quot;</td><td>&quot;GBCC&quot;</td><td>&quot;ASOS/AWOS&quot;</td><td>&quot;GB25&quot;</td><td>&quot;Utah&quot;</td><td>&quot;US&quot;</td><td>null</td><td>&quot;SLC&quot;</td><td>2021-01-19 19:28:00 UTC</td><td>2024-11-20 04:35:00 UTC</td><td>[{&quot;National Weather Service&quot;,&quot;http://www.weather.gov&quot;}]</td><td>false</td><td>false</td><td>true</td></tr><tr><td>&quot;KU64&quot;</td><td>&quot;cloud_layer_3&quot;</td><td>1</td><td>true</td><td>2590.83</td><td>2024-11-19 11:55:00 UTC</td><td>null</td><td>null</td><td>&quot;broken&quot;</td><td>&quot;Meters&quot;</td><td>207121</td><td>&quot;Monticello Airport&quot;</td><td>6970.0</td><td>37.93243</td><td>-109.34122</td><td>1</td><td>&quot;UT&quot;</td><td>&quot;America/Denver&quot;</td><td>null</td><td>&quot;UT028&quot;</td><td>&quot;GJT491&quot;</td><td>&quot;GBCC&quot;</td><td>&quot;ASOS/AWOS&quot;</td><td>&quot;GB32&quot;</td><td>&quot;San Juan&quot;</td><td>&quot;US&quot;</td><td>null</td><td>&quot;GJT&quot;</td><td>2023-04-06 13:59:00 UTC</td><td>2024-11-20 04:35:00 UTC</td><td>[{&quot;National Weather Service&quot;,&quot;http://www.weather.gov&quot;}]</td><td>false</td><td>false</td><td>true</td></tr><tr><td>&quot;K40U&quot;</td><td>&quot;cloud_layer_3&quot;</td><td>1</td><td>true</td><td>1524.02</td><td>2024-11-19 00:55:00 UTC</td><td>null</td><td>null</td><td>&quot;scattered&quot;</td><td>&quot;Meters&quot;</td><td>218094</td><td>&quot;MANILA&quot;</td><td>6175.0</td><td>40.9833</td><td>-109.6833</td><td>1</td><td>&quot;UT&quot;</td><td>&quot;America/Denver&quot;</td><td>null</td><td>&quot;UT023&quot;</td><td>&quot;GJT485&quot;</td><td>&quot;GBCC&quot;</td><td>&quot;ASOS/AWOS&quot;</td><td>&quot;GB29&quot;</td><td>&quot;Daggett&quot;</td><td>&quot;US&quot;</td><td>null</td><td>&quot;GJT&quot;</td><td>2023-05-24 20:23:00 UTC</td><td>2024-11-20 04:15:00 UTC</td><td>[{&quot;National Weather Service&quot;,&quot;http://www.weather.gov&quot;}]</td><td>true</td><td>false</td><td>true</td></tr></tbody></table></div>"
      ],
      "text/plain": [
       "shape: (12_913, 34)\n",
       "┌───────┬────────────┬────────────┬────────────┬───┬───────────┬───────────┬───────────┬───────────┐\n",
       "│ stid  ┆ variable   ┆ sensor_ind ┆ is_derived ┆ … ┆ providers ┆ qc_flagge ┆ is_restri ┆ is_active │\n",
       "│ ---   ┆ ---        ┆ ex         ┆ ---        ┆   ┆ ---       ┆ d         ┆ cted      ┆ ---       │\n",
       "│ str   ┆ str        ┆ ---        ┆ bool       ┆   ┆ list[stru ┆ ---       ┆ ---       ┆ bool      │\n",
       "│       ┆            ┆ u32        ┆            ┆   ┆ ct[2]]    ┆ bool      ┆ bool      ┆           │\n",
       "╞═══════╪════════════╪════════════╪════════════╪═══╪═══════════╪═══════════╪═══════════╪═══════════╡\n",
       "│ WBB   ┆ pressure   ┆ 1          ┆ false      ┆ … ┆ [{\"U of U ┆ false     ┆ false     ┆ true      │\n",
       "│       ┆            ┆            ┆            ┆   ┆ MesoWest  ┆           ┆           ┆           │\n",
       "│       ┆            ┆            ┆            ┆   ┆ Group\",\"h ┆           ┆           ┆           │\n",
       "│       ┆            ┆            ┆            ┆   ┆ tt…       ┆           ┆           ┆           │\n",
       "│ GNI   ┆ pressure   ┆ 1          ┆ false      ┆ … ┆ [{\"U of U ┆ false     ┆ false     ┆ true      │\n",
       "│       ┆            ┆            ┆            ┆   ┆ MesoWest  ┆           ┆           ┆           │\n",
       "│       ┆            ┆            ┆            ┆   ┆ Group\",\"h ┆           ┆           ┆           │\n",
       "│       ┆            ┆            ┆            ┆   ┆ tt…       ┆           ┆           ┆           │\n",
       "│ HATUT ┆ pressure   ┆ 1          ┆ false      ┆ … ┆ [{\"U of U ┆ false     ┆ false     ┆ true      │\n",
       "│       ┆            ┆            ┆            ┆   ┆ MesoWest  ┆           ┆           ┆           │\n",
       "│       ┆            ┆            ┆            ┆   ┆ Group\",\"h ┆           ┆           ┆           │\n",
       "│       ┆            ┆            ┆            ┆   ┆ tt…       ┆           ┆           ┆           │\n",
       "│ LMS   ┆ pressure   ┆ 1          ┆ false      ┆ … ┆ [{\"U of U ┆ false     ┆ false     ┆ true      │\n",
       "│       ┆            ┆            ┆            ┆   ┆ MesoWest  ┆           ┆           ┆           │\n",
       "│       ┆            ┆            ┆            ┆   ┆ Group\",\"h ┆           ┆           ┆           │\n",
       "│       ┆            ┆            ┆            ┆   ┆ tt…       ┆           ┆           ┆           │\n",
       "│ LMR   ┆ pressure   ┆ 1          ┆ false      ┆ … ┆ [{\"U of U ┆ false     ┆ false     ┆ true      │\n",
       "│       ┆            ┆            ┆            ┆   ┆ MesoWest  ┆           ┆           ┆           │\n",
       "│       ┆            ┆            ┆            ┆   ┆ Group\",\"h ┆           ┆           ┆           │\n",
       "│       ┆            ┆            ┆            ┆   ┆ tt…       ┆           ┆           ┆           │\n",
       "│ …     ┆ …          ┆ …          ┆ …          ┆ … ┆ …         ┆ …         ┆ …         ┆ …         │\n",
       "│ K41U  ┆ cloud_laye ┆ 1          ┆ true       ┆ … ┆ [{\"Nation ┆ true      ┆ false     ┆ true      │\n",
       "│       ┆ r_3        ┆            ┆            ┆   ┆ al        ┆           ┆           ┆           │\n",
       "│       ┆            ┆            ┆            ┆   ┆ Weather   ┆           ┆           ┆           │\n",
       "│       ┆            ┆            ┆            ┆   ┆ Service\", ┆           ┆           ┆           │\n",
       "│       ┆            ┆            ┆            ┆   ┆ \"…        ┆           ┆           ┆           │\n",
       "│ UUSYR ┆ cloud_laye ┆ 1          ┆ true       ┆ … ┆ [{\"U of U ┆ false     ┆ false     ┆ true      │\n",
       "│       ┆ r_3        ┆            ┆            ┆   ┆ MesoWest  ┆           ┆           ┆           │\n",
       "│       ┆            ┆            ┆            ┆   ┆ Group\",\"h ┆           ┆           ┆           │\n",
       "│       ┆            ┆            ┆            ┆   ┆ tt…       ┆           ┆           ┆           │\n",
       "│ KSPK  ┆ cloud_laye ┆ 1          ┆ true       ┆ … ┆ [{\"Nation ┆ false     ┆ false     ┆ true      │\n",
       "│       ┆ r_3        ┆            ┆            ┆   ┆ al        ┆           ┆           ┆           │\n",
       "│       ┆            ┆            ┆            ┆   ┆ Weather   ┆           ┆           ┆           │\n",
       "│       ┆            ┆            ┆            ┆   ┆ Service\", ┆           ┆           ┆           │\n",
       "│       ┆            ┆            ┆            ┆   ┆ \"…        ┆           ┆           ┆           │\n",
       "│ KU64  ┆ cloud_laye ┆ 1          ┆ true       ┆ … ┆ [{\"Nation ┆ false     ┆ false     ┆ true      │\n",
       "│       ┆ r_3        ┆            ┆            ┆   ┆ al        ┆           ┆           ┆           │\n",
       "│       ┆            ┆            ┆            ┆   ┆ Weather   ┆           ┆           ┆           │\n",
       "│       ┆            ┆            ┆            ┆   ┆ Service\", ┆           ┆           ┆           │\n",
       "│       ┆            ┆            ┆            ┆   ┆ \"…        ┆           ┆           ┆           │\n",
       "│ K40U  ┆ cloud_laye ┆ 1          ┆ true       ┆ … ┆ [{\"Nation ┆ true      ┆ false     ┆ true      │\n",
       "│       ┆ r_3        ┆            ┆            ┆   ┆ al        ┆           ┆           ┆           │\n",
       "│       ┆            ┆            ┆            ┆   ┆ Weather   ┆           ┆           ┆           │\n",
       "│       ┆            ┆            ┆            ┆   ┆ Service\", ┆           ┆           ┆           │\n",
       "│       ┆            ┆            ┆            ┆   ┆ \"…        ┆           ┆           ┆           │\n",
       "└───────┴────────────┴────────────┴────────────┴───┴───────────┴───────────┴───────────┴───────────┘"
      ]
     },
     "execution_count": 2,
     "metadata": {},
     "output_type": "execute_result"
    }
   ],
   "source": [
    "df = synoptic.Latest(\n",
    "    # vars=\"air_temp,wind_speed,ozone_concentration\",\n",
    "    state=\"ut\",\n",
    "    # network=1,\n",
    "    complete=True,\n",
    "    qc=True,\n",
    "    qc_checks=\"all\",\n",
    ").df()\n",
    "df"
   ]
  },
  {
   "cell_type": "code",
   "execution_count": 2,
   "metadata": {},
   "outputs": [
    {
     "name": "stdout",
     "output_type": "stream",
     "text": [
      "🚚💨 Speedy delivery from Synoptic's \u001b[32mtimeseries\u001b[0m service.\n",
      "📦 Received data from 849 stations.\n",
      "WARNING: cloud_layer_1_set_1d not implemented.\n"
     ]
    },
    {
     "data": {
      "text/html": [
       "<div><style>\n",
       ".dataframe > thead > tr,\n",
       ".dataframe > tbody > tr {\n",
       "  text-align: right;\n",
       "  white-space: pre-wrap;\n",
       "}\n",
       "</style>\n",
       "<small>shape: (287_920, 32)</small><table border=\"1\" class=\"dataframe\"><thead><tr><th>stid</th><th>date_time</th><th>variable</th><th>sensor_index</th><th>is_derived</th><th>value</th><th>value_sting</th><th>units</th><th>id</th><th>name</th><th>elevation</th><th>latitude</th><th>longitude</th><th>mnet_id</th><th>state</th><th>timezone</th><th>elev_dem</th><th>nwszone</th><th>nwsfirezone</th><th>gacc</th><th>shortname</th><th>sgid</th><th>county</th><th>country</th><th>wims_id</th><th>cwa</th><th>period_of_record_start</th><th>period_of_record_end</th><th>providers</th><th>qc_flagged</th><th>is_restricted</th><th>is_active</th></tr><tr><td>str</td><td>datetime[μs, UTC]</td><td>str</td><td>u32</td><td>bool</td><td>f64</td><td>str</td><td>str</td><td>u32</td><td>str</td><td>f64</td><td>f64</td><td>f64</td><td>u32</td><td>str</td><td>str</td><td>f64</td><td>str</td><td>str</td><td>str</td><td>str</td><td>str</td><td>str</td><td>str</td><td>str</td><td>str</td><td>datetime[μs, UTC]</td><td>datetime[μs, UTC]</td><td>list[struct[2]]</td><td>bool</td><td>bool</td><td>bool</td></tr></thead><tbody><tr><td>&quot;WBB&quot;</td><td>2024-11-20 06:05:00 UTC</td><td>&quot;ozone_concentration&quot;</td><td>1</td><td>false</td><td>36.85</td><td>null</td><td>&quot;ppb&quot;</td><td>1</td><td>&quot;U of U William Browning Buildi…</td><td>4806.0</td><td>40.76623</td><td>-111.84755</td><td>153</td><td>&quot;UT&quot;</td><td>&quot;America/Denver&quot;</td><td>4727.7</td><td>&quot;UT105&quot;</td><td>&quot;SLC478&quot;</td><td>&quot;GBCC&quot;</td><td>&quot;UUNET&quot;</td><td>&quot;GB25&quot;</td><td>&quot;Salt Lake&quot;</td><td>&quot;US&quot;</td><td>null</td><td>&quot;SLC&quot;</td><td>1997-01-01 00:00:00 UTC</td><td>2024-11-20 05:55:00 UTC</td><td>[{&quot;U of U MesoWest Group&quot;,&quot;http://meso1.chpc.utah.edu/mesowest_overview/&quot;}, {&quot;U-ATAQ&quot;,&quot;http://air.utah.edu/&quot;}]</td><td>false</td><td>false</td><td>true</td></tr><tr><td>&quot;WBB&quot;</td><td>2024-11-20 06:06:00 UTC</td><td>&quot;ozone_concentration&quot;</td><td>1</td><td>false</td><td>null</td><td>null</td><td>&quot;ppb&quot;</td><td>1</td><td>&quot;U of U William Browning Buildi…</td><td>4806.0</td><td>40.76623</td><td>-111.84755</td><td>153</td><td>&quot;UT&quot;</td><td>&quot;America/Denver&quot;</td><td>4727.7</td><td>&quot;UT105&quot;</td><td>&quot;SLC478&quot;</td><td>&quot;GBCC&quot;</td><td>&quot;UUNET&quot;</td><td>&quot;GB25&quot;</td><td>&quot;Salt Lake&quot;</td><td>&quot;US&quot;</td><td>null</td><td>&quot;SLC&quot;</td><td>1997-01-01 00:00:00 UTC</td><td>2024-11-20 05:55:00 UTC</td><td>[{&quot;U of U MesoWest Group&quot;,&quot;http://meso1.chpc.utah.edu/mesowest_overview/&quot;}, {&quot;U-ATAQ&quot;,&quot;http://air.utah.edu/&quot;}]</td><td>false</td><td>false</td><td>true</td></tr><tr><td>&quot;WBB&quot;</td><td>2024-11-20 06:07:00 UTC</td><td>&quot;ozone_concentration&quot;</td><td>1</td><td>false</td><td>null</td><td>null</td><td>&quot;ppb&quot;</td><td>1</td><td>&quot;U of U William Browning Buildi…</td><td>4806.0</td><td>40.76623</td><td>-111.84755</td><td>153</td><td>&quot;UT&quot;</td><td>&quot;America/Denver&quot;</td><td>4727.7</td><td>&quot;UT105&quot;</td><td>&quot;SLC478&quot;</td><td>&quot;GBCC&quot;</td><td>&quot;UUNET&quot;</td><td>&quot;GB25&quot;</td><td>&quot;Salt Lake&quot;</td><td>&quot;US&quot;</td><td>null</td><td>&quot;SLC&quot;</td><td>1997-01-01 00:00:00 UTC</td><td>2024-11-20 05:55:00 UTC</td><td>[{&quot;U of U MesoWest Group&quot;,&quot;http://meso1.chpc.utah.edu/mesowest_overview/&quot;}, {&quot;U-ATAQ&quot;,&quot;http://air.utah.edu/&quot;}]</td><td>false</td><td>false</td><td>true</td></tr><tr><td>&quot;WBB&quot;</td><td>2024-11-20 06:08:00 UTC</td><td>&quot;ozone_concentration&quot;</td><td>1</td><td>false</td><td>null</td><td>null</td><td>&quot;ppb&quot;</td><td>1</td><td>&quot;U of U William Browning Buildi…</td><td>4806.0</td><td>40.76623</td><td>-111.84755</td><td>153</td><td>&quot;UT&quot;</td><td>&quot;America/Denver&quot;</td><td>4727.7</td><td>&quot;UT105&quot;</td><td>&quot;SLC478&quot;</td><td>&quot;GBCC&quot;</td><td>&quot;UUNET&quot;</td><td>&quot;GB25&quot;</td><td>&quot;Salt Lake&quot;</td><td>&quot;US&quot;</td><td>null</td><td>&quot;SLC&quot;</td><td>1997-01-01 00:00:00 UTC</td><td>2024-11-20 05:55:00 UTC</td><td>[{&quot;U of U MesoWest Group&quot;,&quot;http://meso1.chpc.utah.edu/mesowest_overview/&quot;}, {&quot;U-ATAQ&quot;,&quot;http://air.utah.edu/&quot;}]</td><td>false</td><td>false</td><td>true</td></tr><tr><td>&quot;WBB&quot;</td><td>2024-11-20 06:09:00 UTC</td><td>&quot;ozone_concentration&quot;</td><td>1</td><td>false</td><td>null</td><td>null</td><td>&quot;ppb&quot;</td><td>1</td><td>&quot;U of U William Browning Buildi…</td><td>4806.0</td><td>40.76623</td><td>-111.84755</td><td>153</td><td>&quot;UT&quot;</td><td>&quot;America/Denver&quot;</td><td>4727.7</td><td>&quot;UT105&quot;</td><td>&quot;SLC478&quot;</td><td>&quot;GBCC&quot;</td><td>&quot;UUNET&quot;</td><td>&quot;GB25&quot;</td><td>&quot;Salt Lake&quot;</td><td>&quot;US&quot;</td><td>null</td><td>&quot;SLC&quot;</td><td>1997-01-01 00:00:00 UTC</td><td>2024-11-20 05:55:00 UTC</td><td>[{&quot;U of U MesoWest Group&quot;,&quot;http://meso1.chpc.utah.edu/mesowest_overview/&quot;}, {&quot;U-ATAQ&quot;,&quot;http://air.utah.edu/&quot;}]</td><td>false</td><td>false</td><td>true</td></tr><tr><td>&hellip;</td><td>&hellip;</td><td>&hellip;</td><td>&hellip;</td><td>&hellip;</td><td>&hellip;</td><td>&hellip;</td><td>&hellip;</td><td>&hellip;</td><td>&hellip;</td><td>&hellip;</td><td>&hellip;</td><td>&hellip;</td><td>&hellip;</td><td>&hellip;</td><td>&hellip;</td><td>&hellip;</td><td>&hellip;</td><td>&hellip;</td><td>&hellip;</td><td>&hellip;</td><td>&hellip;</td><td>&hellip;</td><td>&hellip;</td><td>&hellip;</td><td>&hellip;</td><td>&hellip;</td><td>&hellip;</td><td>&hellip;</td><td>&hellip;</td><td>&hellip;</td><td>&hellip;</td></tr><tr><td>&quot;G5565&quot;</td><td>2024-11-20 06:08:00 UTC</td><td>&quot;weather_condition&quot;</td><td>1</td><td>true</td><td>null</td><td>null</td><td>&quot;weather_condition&quot;</td><td>252735</td><td>&quot;GW5565 SANDY&quot;</td><td>4383.0</td><td>40.6</td><td>-111.9</td><td>65</td><td>&quot;UT&quot;</td><td>&quot;America/Denver&quot;</td><td>null</td><td>&quot;UT105&quot;</td><td>&quot;SLC478&quot;</td><td>&quot;GBCC&quot;</td><td>&quot;APRSWXNET/CWOP&quot;</td><td>&quot;GB25&quot;</td><td>&quot;Salt Lake&quot;</td><td>&quot;US&quot;</td><td>null</td><td>&quot;SLC&quot;</td><td>2024-11-19 19:43:00 UTC</td><td>2024-11-20 05:53:00 UTC</td><td>[{&quot;APRSWXNET/Citizen Weather Observer Program&quot;,&quot;http://www.findu.com/citizenweather&quot;}]</td><td>false</td><td>false</td><td>null</td></tr><tr><td>&quot;G5565&quot;</td><td>2024-11-20 06:13:00 UTC</td><td>&quot;weather_condition&quot;</td><td>1</td><td>true</td><td>null</td><td>null</td><td>&quot;weather_condition&quot;</td><td>252735</td><td>&quot;GW5565 SANDY&quot;</td><td>4383.0</td><td>40.6</td><td>-111.9</td><td>65</td><td>&quot;UT&quot;</td><td>&quot;America/Denver&quot;</td><td>null</td><td>&quot;UT105&quot;</td><td>&quot;SLC478&quot;</td><td>&quot;GBCC&quot;</td><td>&quot;APRSWXNET/CWOP&quot;</td><td>&quot;GB25&quot;</td><td>&quot;Salt Lake&quot;</td><td>&quot;US&quot;</td><td>null</td><td>&quot;SLC&quot;</td><td>2024-11-19 19:43:00 UTC</td><td>2024-11-20 05:53:00 UTC</td><td>[{&quot;APRSWXNET/Citizen Weather Observer Program&quot;,&quot;http://www.findu.com/citizenweather&quot;}]</td><td>false</td><td>false</td><td>null</td></tr><tr><td>&quot;G5565&quot;</td><td>2024-11-20 06:18:00 UTC</td><td>&quot;weather_condition&quot;</td><td>1</td><td>true</td><td>null</td><td>null</td><td>&quot;weather_condition&quot;</td><td>252735</td><td>&quot;GW5565 SANDY&quot;</td><td>4383.0</td><td>40.6</td><td>-111.9</td><td>65</td><td>&quot;UT&quot;</td><td>&quot;America/Denver&quot;</td><td>null</td><td>&quot;UT105&quot;</td><td>&quot;SLC478&quot;</td><td>&quot;GBCC&quot;</td><td>&quot;APRSWXNET/CWOP&quot;</td><td>&quot;GB25&quot;</td><td>&quot;Salt Lake&quot;</td><td>&quot;US&quot;</td><td>null</td><td>&quot;SLC&quot;</td><td>2024-11-19 19:43:00 UTC</td><td>2024-11-20 05:53:00 UTC</td><td>[{&quot;APRSWXNET/Citizen Weather Observer Program&quot;,&quot;http://www.findu.com/citizenweather&quot;}]</td><td>false</td><td>false</td><td>null</td></tr><tr><td>&quot;G5565&quot;</td><td>2024-11-20 06:23:00 UTC</td><td>&quot;weather_condition&quot;</td><td>1</td><td>true</td><td>null</td><td>null</td><td>&quot;weather_condition&quot;</td><td>252735</td><td>&quot;GW5565 SANDY&quot;</td><td>4383.0</td><td>40.6</td><td>-111.9</td><td>65</td><td>&quot;UT&quot;</td><td>&quot;America/Denver&quot;</td><td>null</td><td>&quot;UT105&quot;</td><td>&quot;SLC478&quot;</td><td>&quot;GBCC&quot;</td><td>&quot;APRSWXNET/CWOP&quot;</td><td>&quot;GB25&quot;</td><td>&quot;Salt Lake&quot;</td><td>&quot;US&quot;</td><td>null</td><td>&quot;SLC&quot;</td><td>2024-11-19 19:43:00 UTC</td><td>2024-11-20 05:53:00 UTC</td><td>[{&quot;APRSWXNET/Citizen Weather Observer Program&quot;,&quot;http://www.findu.com/citizenweather&quot;}]</td><td>false</td><td>false</td><td>null</td></tr><tr><td>&quot;G5565&quot;</td><td>2024-11-20 06:28:00 UTC</td><td>&quot;weather_condition&quot;</td><td>1</td><td>true</td><td>null</td><td>null</td><td>&quot;weather_condition&quot;</td><td>252735</td><td>&quot;GW5565 SANDY&quot;</td><td>4383.0</td><td>40.6</td><td>-111.9</td><td>65</td><td>&quot;UT&quot;</td><td>&quot;America/Denver&quot;</td><td>null</td><td>&quot;UT105&quot;</td><td>&quot;SLC478&quot;</td><td>&quot;GBCC&quot;</td><td>&quot;APRSWXNET/CWOP&quot;</td><td>&quot;GB25&quot;</td><td>&quot;Salt Lake&quot;</td><td>&quot;US&quot;</td><td>null</td><td>&quot;SLC&quot;</td><td>2024-11-19 19:43:00 UTC</td><td>2024-11-20 05:53:00 UTC</td><td>[{&quot;APRSWXNET/Citizen Weather Observer Program&quot;,&quot;http://www.findu.com/citizenweather&quot;}]</td><td>false</td><td>false</td><td>null</td></tr></tbody></table></div>"
      ],
      "text/plain": [
       "shape: (287_920, 32)\n",
       "┌───────┬────────────┬────────────┬────────────┬───┬───────────┬───────────┬───────────┬───────────┐\n",
       "│ stid  ┆ date_time  ┆ variable   ┆ sensor_ind ┆ … ┆ providers ┆ qc_flagge ┆ is_restri ┆ is_active │\n",
       "│ ---   ┆ ---        ┆ ---        ┆ ex         ┆   ┆ ---       ┆ d         ┆ cted      ┆ ---       │\n",
       "│ str   ┆ datetime[μ ┆ str        ┆ ---        ┆   ┆ list[stru ┆ ---       ┆ ---       ┆ bool      │\n",
       "│       ┆ s, UTC]    ┆            ┆ u32        ┆   ┆ ct[2]]    ┆ bool      ┆ bool      ┆           │\n",
       "╞═══════╪════════════╪════════════╪════════════╪═══╪═══════════╪═══════════╪═══════════╪═══════════╡\n",
       "│ WBB   ┆ 2024-11-20 ┆ ozone_conc ┆ 1          ┆ … ┆ [{\"U of U ┆ false     ┆ false     ┆ true      │\n",
       "│       ┆ 06:05:00   ┆ entration  ┆            ┆   ┆ MesoWest  ┆           ┆           ┆           │\n",
       "│       ┆ UTC        ┆            ┆            ┆   ┆ Group\",\"h ┆           ┆           ┆           │\n",
       "│       ┆            ┆            ┆            ┆   ┆ tt…       ┆           ┆           ┆           │\n",
       "│ WBB   ┆ 2024-11-20 ┆ ozone_conc ┆ 1          ┆ … ┆ [{\"U of U ┆ false     ┆ false     ┆ true      │\n",
       "│       ┆ 06:06:00   ┆ entration  ┆            ┆   ┆ MesoWest  ┆           ┆           ┆           │\n",
       "│       ┆ UTC        ┆            ┆            ┆   ┆ Group\",\"h ┆           ┆           ┆           │\n",
       "│       ┆            ┆            ┆            ┆   ┆ tt…       ┆           ┆           ┆           │\n",
       "│ WBB   ┆ 2024-11-20 ┆ ozone_conc ┆ 1          ┆ … ┆ [{\"U of U ┆ false     ┆ false     ┆ true      │\n",
       "│       ┆ 06:07:00   ┆ entration  ┆            ┆   ┆ MesoWest  ┆           ┆           ┆           │\n",
       "│       ┆ UTC        ┆            ┆            ┆   ┆ Group\",\"h ┆           ┆           ┆           │\n",
       "│       ┆            ┆            ┆            ┆   ┆ tt…       ┆           ┆           ┆           │\n",
       "│ WBB   ┆ 2024-11-20 ┆ ozone_conc ┆ 1          ┆ … ┆ [{\"U of U ┆ false     ┆ false     ┆ true      │\n",
       "│       ┆ 06:08:00   ┆ entration  ┆            ┆   ┆ MesoWest  ┆           ┆           ┆           │\n",
       "│       ┆ UTC        ┆            ┆            ┆   ┆ Group\",\"h ┆           ┆           ┆           │\n",
       "│       ┆            ┆            ┆            ┆   ┆ tt…       ┆           ┆           ┆           │\n",
       "│ WBB   ┆ 2024-11-20 ┆ ozone_conc ┆ 1          ┆ … ┆ [{\"U of U ┆ false     ┆ false     ┆ true      │\n",
       "│       ┆ 06:09:00   ┆ entration  ┆            ┆   ┆ MesoWest  ┆           ┆           ┆           │\n",
       "│       ┆ UTC        ┆            ┆            ┆   ┆ Group\",\"h ┆           ┆           ┆           │\n",
       "│       ┆            ┆            ┆            ┆   ┆ tt…       ┆           ┆           ┆           │\n",
       "│ …     ┆ …          ┆ …          ┆ …          ┆ … ┆ …         ┆ …         ┆ …         ┆ …         │\n",
       "│ G5565 ┆ 2024-11-20 ┆ weather_co ┆ 1          ┆ … ┆ [{\"APRSWX ┆ false     ┆ false     ┆ null      │\n",
       "│       ┆ 06:08:00   ┆ ndition    ┆            ┆   ┆ NET/Citiz ┆           ┆           ┆           │\n",
       "│       ┆ UTC        ┆            ┆            ┆   ┆ en        ┆           ┆           ┆           │\n",
       "│       ┆            ┆            ┆            ┆   ┆ Weather   ┆           ┆           ┆           │\n",
       "│       ┆            ┆            ┆            ┆   ┆ O…        ┆           ┆           ┆           │\n",
       "│ G5565 ┆ 2024-11-20 ┆ weather_co ┆ 1          ┆ … ┆ [{\"APRSWX ┆ false     ┆ false     ┆ null      │\n",
       "│       ┆ 06:13:00   ┆ ndition    ┆            ┆   ┆ NET/Citiz ┆           ┆           ┆           │\n",
       "│       ┆ UTC        ┆            ┆            ┆   ┆ en        ┆           ┆           ┆           │\n",
       "│       ┆            ┆            ┆            ┆   ┆ Weather   ┆           ┆           ┆           │\n",
       "│       ┆            ┆            ┆            ┆   ┆ O…        ┆           ┆           ┆           │\n",
       "│ G5565 ┆ 2024-11-20 ┆ weather_co ┆ 1          ┆ … ┆ [{\"APRSWX ┆ false     ┆ false     ┆ null      │\n",
       "│       ┆ 06:18:00   ┆ ndition    ┆            ┆   ┆ NET/Citiz ┆           ┆           ┆           │\n",
       "│       ┆ UTC        ┆            ┆            ┆   ┆ en        ┆           ┆           ┆           │\n",
       "│       ┆            ┆            ┆            ┆   ┆ Weather   ┆           ┆           ┆           │\n",
       "│       ┆            ┆            ┆            ┆   ┆ O…        ┆           ┆           ┆           │\n",
       "│ G5565 ┆ 2024-11-20 ┆ weather_co ┆ 1          ┆ … ┆ [{\"APRSWX ┆ false     ┆ false     ┆ null      │\n",
       "│       ┆ 06:23:00   ┆ ndition    ┆            ┆   ┆ NET/Citiz ┆           ┆           ┆           │\n",
       "│       ┆ UTC        ┆            ┆            ┆   ┆ en        ┆           ┆           ┆           │\n",
       "│       ┆            ┆            ┆            ┆   ┆ Weather   ┆           ┆           ┆           │\n",
       "│       ┆            ┆            ┆            ┆   ┆ O…        ┆           ┆           ┆           │\n",
       "│ G5565 ┆ 2024-11-20 ┆ weather_co ┆ 1          ┆ … ┆ [{\"APRSWX ┆ false     ┆ false     ┆ null      │\n",
       "│       ┆ 06:28:00   ┆ ndition    ┆            ┆   ┆ NET/Citiz ┆           ┆           ┆           │\n",
       "│       ┆ UTC        ┆            ┆            ┆   ┆ en        ┆           ┆           ┆           │\n",
       "│       ┆            ┆            ┆            ┆   ┆ Weather   ┆           ┆           ┆           │\n",
       "│       ┆            ┆            ┆            ┆   ┆ O…        ┆           ┆           ┆           │\n",
       "└───────┴────────────┴────────────┴────────────┴───┴───────────┴───────────┴───────────┴───────────┘"
      ]
     },
     "execution_count": 2,
     "metadata": {},
     "output_type": "execute_result"
    }
   ],
   "source": [
    "df = synoptic.TimeSeries(\n",
    "    # vars=\"air_temp,wind_speed,ozone_concentration\",\n",
    "    state=\"ut\",\n",
    "    recent=\"30m\",\n",
    "    # network=1,\n",
    "    complete=True,\n",
    "    qc=True,\n",
    "    qc_checks=\"all\",\n",
    ").df()\n",
    "df\n"
   ]
  },
  {
   "cell_type": "code",
   "execution_count": 3,
   "metadata": {},
   "outputs": [
    {
     "name": "stdout",
     "output_type": "stream",
     "text": [
      "🚚💨 Speedy delivery from Synoptic's \u001b[32mtimeseries\u001b[0m service.\n",
      "📦 Received data from 930 stations.\n"
     ]
    },
    {
     "data": {
      "text/plain": [
       "╭─ Synoptic timeseries service ─────\n",
       "│ Stations : 930\n",
       "│ QC Checks: 86\n",
       "╰──────────────────────────────────────╯"
      ]
     },
     "execution_count": 3,
     "metadata": {},
     "output_type": "execute_result"
    }
   ],
   "source": [
    "S = synoptic.SynopticAPI(\n",
    "    \"timeseries\",\n",
    "    # vars=\"air_temp,wind_speed,ozone_concentration\",\n",
    "    # stid=\"wbb,ukbkb,kslc\",\n",
    "    recent=\"30m\",\n",
    "    state=\"ut\",\n",
    "    # network=1,\n",
    "    complete=True,\n",
    "    qc=True,\n",
    "    qc_checks=\"all\",\n",
    ")\n",
    "S"
   ]
  },
  {
   "cell_type": "code",
   "execution_count": null,
   "metadata": {},
   "outputs": [],
   "source": [
    "\n",
    "# TODO: Need to do something with the list of qc data\n",
    "# TODO: Need to implement parsing cloud_layer\n",
    "\n",
    "observations = []\n",
    "qc = []\n",
    "latency = []\n",
    "sensor_variables = []\n",
    "\n",
    "for s in S.STATION:\n",
    "    observations.append({\"stid\": s[\"STID\"]} | s.pop(\"OBSERVATIONS\", {}))\n",
    "    qc.append({\"stid\": s[\"STID\"]} | s.pop(\"QC\", {}))\n",
    "    latency.append({\"stid\": s[\"STID\"]} | s.pop(\"LATENCY\", {}))\n",
    "    sensor_variables.append({\"stid\": s[\"STID\"]} | s.pop(\"SENSOR_VARIABLES\", {}))\n",
    "\n",
    "df = pl.DataFrame(observations, infer_schema_length=None)"
   ]
  },
  {
   "cell_type": "code",
   "execution_count": 112,
   "metadata": {},
   "outputs": [
    {
     "data": {
      "text/plain": [
       "['cloud_layer_1_set_1d']"
      ]
     },
     "execution_count": 112,
     "metadata": {},
     "output_type": "execute_result"
    }
   ],
   "source": [
    "cols_with_float = []\n",
    "cols_with_string = []\n",
    "cols_with_cloud_layer = []\n",
    "cols_with_other = []\n",
    "\n",
    "for col, schema in df.schema.items():\n",
    "    if col in {\"date_time\", \"stid\"}:\n",
    "        continue\n",
    "    elif schema == pl.List(pl.Float64):\n",
    "        cols_with_float.append(col)\n",
    "    elif schema == pl.List(pl.String):\n",
    "        cols_with_string.append(col)\n",
    "    elif col.startswith(\"cloud_layer\"):\n",
    "        cols_with_cloud_layer.append(col)\n",
    "    else:\n",
    "        cols_with_other.append(col)\n",
    "        print(f\"WARNING: Unknown schema for {col=} {schema=}\")\n",
    "\n",
    "cols_with_cloud_layer"
   ]
  },
  {
   "cell_type": "code",
   "execution_count": 113,
   "metadata": {},
   "outputs": [
    {
     "data": {
      "text/html": [
       "<div><style>\n",
       ".dataframe > thead > tr,\n",
       ".dataframe > tbody > tr {\n",
       "  text-align: right;\n",
       "  white-space: pre-wrap;\n",
       "}\n",
       "</style>\n",
       "<small>shape: (360_114, 4)</small><table border=\"1\" class=\"dataframe\"><thead><tr><th>stid</th><th>date_time</th><th>variable</th><th>value</th></tr><tr><td>str</td><td>str</td><td>str</td><td>f64</td></tr></thead><tbody><tr><td>&quot;WBB&quot;</td><td>&quot;2024-11-20T05:49:00Z&quot;</td><td>&quot;air_temp_set_1&quot;</td><td>0.4</td></tr><tr><td>&quot;WBB&quot;</td><td>&quot;2024-11-20T05:50:00Z&quot;</td><td>&quot;air_temp_set_1&quot;</td><td>0.433</td></tr><tr><td>&quot;WBB&quot;</td><td>&quot;2024-11-20T05:51:00Z&quot;</td><td>&quot;air_temp_set_1&quot;</td><td>0.567</td></tr><tr><td>&quot;WBB&quot;</td><td>&quot;2024-11-20T05:52:00Z&quot;</td><td>&quot;air_temp_set_1&quot;</td><td>0.628</td></tr><tr><td>&quot;WBB&quot;</td><td>&quot;2024-11-20T05:53:00Z&quot;</td><td>&quot;air_temp_set_1&quot;</td><td>0.606</td></tr><tr><td>&hellip;</td><td>&hellip;</td><td>&hellip;</td><td>&hellip;</td></tr><tr><td>&quot;G5565&quot;</td><td>&quot;2024-11-20T05:53:00Z&quot;</td><td>&quot;wind_chill_set_2d&quot;</td><td>null</td></tr><tr><td>&quot;G5565&quot;</td><td>&quot;2024-11-20T05:58:00Z&quot;</td><td>&quot;wind_chill_set_2d&quot;</td><td>null</td></tr><tr><td>&quot;G5565&quot;</td><td>&quot;2024-11-20T06:04:00Z&quot;</td><td>&quot;wind_chill_set_2d&quot;</td><td>null</td></tr><tr><td>&quot;G5565&quot;</td><td>&quot;2024-11-20T06:08:00Z&quot;</td><td>&quot;wind_chill_set_2d&quot;</td><td>null</td></tr><tr><td>&quot;G5565&quot;</td><td>&quot;2024-11-20T06:13:00Z&quot;</td><td>&quot;wind_chill_set_2d&quot;</td><td>null</td></tr></tbody></table></div>"
      ],
      "text/plain": [
       "shape: (360_114, 4)\n",
       "┌───────┬──────────────────────┬───────────────────┬───────┐\n",
       "│ stid  ┆ date_time            ┆ variable          ┆ value │\n",
       "│ ---   ┆ ---                  ┆ ---               ┆ ---   │\n",
       "│ str   ┆ str                  ┆ str               ┆ f64   │\n",
       "╞═══════╪══════════════════════╪═══════════════════╪═══════╡\n",
       "│ WBB   ┆ 2024-11-20T05:49:00Z ┆ air_temp_set_1    ┆ 0.4   │\n",
       "│ WBB   ┆ 2024-11-20T05:50:00Z ┆ air_temp_set_1    ┆ 0.433 │\n",
       "│ WBB   ┆ 2024-11-20T05:51:00Z ┆ air_temp_set_1    ┆ 0.567 │\n",
       "│ WBB   ┆ 2024-11-20T05:52:00Z ┆ air_temp_set_1    ┆ 0.628 │\n",
       "│ WBB   ┆ 2024-11-20T05:53:00Z ┆ air_temp_set_1    ┆ 0.606 │\n",
       "│ …     ┆ …                    ┆ …                 ┆ …     │\n",
       "│ G5565 ┆ 2024-11-20T05:53:00Z ┆ wind_chill_set_2d ┆ null  │\n",
       "│ G5565 ┆ 2024-11-20T05:58:00Z ┆ wind_chill_set_2d ┆ null  │\n",
       "│ G5565 ┆ 2024-11-20T06:04:00Z ┆ wind_chill_set_2d ┆ null  │\n",
       "│ G5565 ┆ 2024-11-20T06:08:00Z ┆ wind_chill_set_2d ┆ null  │\n",
       "│ G5565 ┆ 2024-11-20T06:13:00Z ┆ wind_chill_set_2d ┆ null  │\n",
       "└───────┴──────────────────────┴───────────────────┴───────┘"
      ]
     },
     "execution_count": 113,
     "metadata": {},
     "output_type": "execute_result"
    }
   ],
   "source": [
    "to_concat = []\n",
    "\n",
    "# Unpack the float observations\n",
    "if cols_with_float:\n",
    "    observed_float = (\n",
    "        df.select([\"stid\", \"date_time\"] + cols_with_float)\n",
    "        .with_columns(\n",
    "            pl.col(cols_with_float).fill_null(\n",
    "                pl.lit(None, dtype=pl.Float64).repeat_by(\n",
    "                    pl.col(\"date_time\").list.len()\n",
    "                )  # https://stackoverflow.com/q/78810432/2383070\n",
    "            )\n",
    "        )\n",
    "        .explode([\"date_time\"] + cols_with_float)\n",
    "        .unpivot(cols_with_float, index=[\"stid\", \"date_time\"])\n",
    "    )\n",
    "    to_concat.append(observed_float)\n",
    "\n",
    "observed_float"
   ]
  },
  {
   "cell_type": "code",
   "execution_count": 114,
   "metadata": {},
   "outputs": [
    {
     "data": {
      "text/html": [
       "<div><style>\n",
       ".dataframe > thead > tr,\n",
       ".dataframe > tbody > tr {\n",
       "  text-align: right;\n",
       "  white-space: pre-wrap;\n",
       "}\n",
       "</style>\n",
       "<small>shape: (12_770, 4)</small><table border=\"1\" class=\"dataframe\"><thead><tr><th>stid</th><th>date_time</th><th>variable</th><th>value_sting</th></tr><tr><td>str</td><td>str</td><td>str</td><td>str</td></tr></thead><tbody><tr><td>&quot;WBB&quot;</td><td>&quot;2024-11-20T05:49:00Z&quot;</td><td>&quot;wind_cardinal_direction_set_1d&quot;</td><td>&quot;NE&quot;</td></tr><tr><td>&quot;WBB&quot;</td><td>&quot;2024-11-20T05:50:00Z&quot;</td><td>&quot;wind_cardinal_direction_set_1d&quot;</td><td>&quot;NE&quot;</td></tr><tr><td>&quot;WBB&quot;</td><td>&quot;2024-11-20T05:51:00Z&quot;</td><td>&quot;wind_cardinal_direction_set_1d&quot;</td><td>&quot;ENE&quot;</td></tr><tr><td>&quot;WBB&quot;</td><td>&quot;2024-11-20T05:52:00Z&quot;</td><td>&quot;wind_cardinal_direction_set_1d&quot;</td><td>&quot;ENE&quot;</td></tr><tr><td>&quot;WBB&quot;</td><td>&quot;2024-11-20T05:53:00Z&quot;</td><td>&quot;wind_cardinal_direction_set_1d&quot;</td><td>&quot;E&quot;</td></tr><tr><td>&hellip;</td><td>&hellip;</td><td>&hellip;</td><td>&hellip;</td></tr><tr><td>&quot;G5565&quot;</td><td>&quot;2024-11-20T05:53:00Z&quot;</td><td>&quot;wind_cardinal_direction_set_2d&quot;</td><td>null</td></tr><tr><td>&quot;G5565&quot;</td><td>&quot;2024-11-20T05:58:00Z&quot;</td><td>&quot;wind_cardinal_direction_set_2d&quot;</td><td>null</td></tr><tr><td>&quot;G5565&quot;</td><td>&quot;2024-11-20T06:04:00Z&quot;</td><td>&quot;wind_cardinal_direction_set_2d&quot;</td><td>null</td></tr><tr><td>&quot;G5565&quot;</td><td>&quot;2024-11-20T06:08:00Z&quot;</td><td>&quot;wind_cardinal_direction_set_2d&quot;</td><td>null</td></tr><tr><td>&quot;G5565&quot;</td><td>&quot;2024-11-20T06:13:00Z&quot;</td><td>&quot;wind_cardinal_direction_set_2d&quot;</td><td>null</td></tr></tbody></table></div>"
      ],
      "text/plain": [
       "shape: (12_770, 4)\n",
       "┌───────┬──────────────────────┬────────────────────────────────┬─────────────┐\n",
       "│ stid  ┆ date_time            ┆ variable                       ┆ value_sting │\n",
       "│ ---   ┆ ---                  ┆ ---                            ┆ ---         │\n",
       "│ str   ┆ str                  ┆ str                            ┆ str         │\n",
       "╞═══════╪══════════════════════╪════════════════════════════════╪═════════════╡\n",
       "│ WBB   ┆ 2024-11-20T05:49:00Z ┆ wind_cardinal_direction_set_1d ┆ NE          │\n",
       "│ WBB   ┆ 2024-11-20T05:50:00Z ┆ wind_cardinal_direction_set_1d ┆ NE          │\n",
       "│ WBB   ┆ 2024-11-20T05:51:00Z ┆ wind_cardinal_direction_set_1d ┆ ENE         │\n",
       "│ WBB   ┆ 2024-11-20T05:52:00Z ┆ wind_cardinal_direction_set_1d ┆ ENE         │\n",
       "│ WBB   ┆ 2024-11-20T05:53:00Z ┆ wind_cardinal_direction_set_1d ┆ E           │\n",
       "│ …     ┆ …                    ┆ …                              ┆ …           │\n",
       "│ G5565 ┆ 2024-11-20T05:53:00Z ┆ wind_cardinal_direction_set_2d ┆ null        │\n",
       "│ G5565 ┆ 2024-11-20T05:58:00Z ┆ wind_cardinal_direction_set_2d ┆ null        │\n",
       "│ G5565 ┆ 2024-11-20T06:04:00Z ┆ wind_cardinal_direction_set_2d ┆ null        │\n",
       "│ G5565 ┆ 2024-11-20T06:08:00Z ┆ wind_cardinal_direction_set_2d ┆ null        │\n",
       "│ G5565 ┆ 2024-11-20T06:13:00Z ┆ wind_cardinal_direction_set_2d ┆ null        │\n",
       "└───────┴──────────────────────┴────────────────────────────────┴─────────────┘"
      ]
     },
     "execution_count": 114,
     "metadata": {},
     "output_type": "execute_result"
    }
   ],
   "source": [
    "# Unpack the string observations\n",
    "#   Put values in column 'value_string'\n",
    "\n",
    "if cols_with_string:\n",
    "    observed_string = (\n",
    "        df.select([\"stid\", \"date_time\"] + cols_with_string)\n",
    "        .with_columns(\n",
    "            pl.col(cols_with_string).fill_null(\n",
    "                pl.lit(None, dtype=pl.String).repeat_by(\n",
    "                    pl.col(\"date_time\").list.len()\n",
    "                )  # https://stackoverflow.com/q/78810432/2383070\n",
    "            )\n",
    "        )\n",
    "        .explode([\"date_time\"] + cols_with_string)\n",
    "        .unpivot(cols_with_string, index=[\"stid\", \"date_time\"])\n",
    "        .rename({\"value\": \"value_sting\"})\n",
    "    )\n",
    "    to_concat.append(observed_string)\n",
    "\n",
    "observed_string"
   ]
  },
  {
   "cell_type": "code",
   "execution_count": 115,
   "metadata": {},
   "outputs": [
    {
     "ename": "InvalidOperationError",
     "evalue": "`repeat_by` operation not supported for dtype `null`",
     "output_type": "error",
     "traceback": [
      "\u001b[0;31m---------------------------------------------------------------------------\u001b[0m",
      "\u001b[0;31mInvalidOperationError\u001b[0m                     Traceback (most recent call last)",
      "Cell \u001b[0;32mIn[115], line 8\u001b[0m\n\u001b[1;32m      1\u001b[0m \u001b[38;5;66;03m# Unpack the cloud layer.\u001b[39;00m\n\u001b[1;32m      2\u001b[0m \u001b[38;5;66;03m#   Put sky_condition in 'value_sting' column\u001b[39;00m\n\u001b[1;32m      3\u001b[0m \u001b[38;5;66;03m#   and height_agl in 'value' column\u001b[39;00m\n\u001b[1;32m      5\u001b[0m \u001b[38;5;28;01mif\u001b[39;00m cols_with_cloud_layer:\n\u001b[1;32m      6\u001b[0m     observed_cloud_layer \u001b[38;5;241m=\u001b[39m (\n\u001b[1;32m      7\u001b[0m         \u001b[43mdf\u001b[49m\u001b[38;5;241;43m.\u001b[39;49m\u001b[43mselect\u001b[49m\u001b[43m(\u001b[49m\u001b[43m[\u001b[49m\u001b[38;5;124;43m\"\u001b[39;49m\u001b[38;5;124;43mstid\u001b[39;49m\u001b[38;5;124;43m\"\u001b[39;49m\u001b[43m,\u001b[49m\u001b[43m \u001b[49m\u001b[38;5;124;43m\"\u001b[39;49m\u001b[38;5;124;43mdate_time\u001b[39;49m\u001b[38;5;124;43m\"\u001b[39;49m\u001b[43m]\u001b[49m\u001b[43m \u001b[49m\u001b[38;5;241;43m+\u001b[39;49m\u001b[43m \u001b[49m\u001b[43mcols_with_cloud_layer\u001b[49m\u001b[43m)\u001b[49m\n\u001b[0;32m----> 8\u001b[0m \u001b[43m        \u001b[49m\u001b[38;5;241;43m.\u001b[39;49m\u001b[43mwith_columns\u001b[49m\u001b[43m(\u001b[49m\n\u001b[1;32m      9\u001b[0m \u001b[43m            \u001b[49m\u001b[43mpl\u001b[49m\u001b[38;5;241;43m.\u001b[39;49m\u001b[43mcol\u001b[49m\u001b[43m(\u001b[49m\u001b[43mcols_with_cloud_layer\u001b[49m\u001b[43m)\u001b[49m\u001b[38;5;241;43m.\u001b[39;49m\u001b[43mfill_null\u001b[49m\u001b[43m(\u001b[49m\n\u001b[1;32m     10\u001b[0m \u001b[43m                \u001b[49m\u001b[43mpl\u001b[49m\u001b[38;5;241;43m.\u001b[39;49m\u001b[43mlit\u001b[49m\u001b[43m(\u001b[49m\u001b[38;5;28;43;01mNone\u001b[39;49;00m\u001b[43m)\u001b[49m\u001b[38;5;241;43m.\u001b[39;49m\u001b[43mrepeat_by\u001b[49m\u001b[43m(\u001b[49m\n\u001b[1;32m     11\u001b[0m \u001b[43m                    \u001b[49m\u001b[43mpl\u001b[49m\u001b[38;5;241;43m.\u001b[39;49m\u001b[43mcol\u001b[49m\u001b[43m(\u001b[49m\u001b[38;5;124;43m\"\u001b[39;49m\u001b[38;5;124;43mdate_time\u001b[39;49m\u001b[38;5;124;43m\"\u001b[39;49m\u001b[43m)\u001b[49m\u001b[38;5;241;43m.\u001b[39;49m\u001b[43mlist\u001b[49m\u001b[38;5;241;43m.\u001b[39;49m\u001b[43mlen\u001b[49m\u001b[43m(\u001b[49m\u001b[43m)\u001b[49m\n\u001b[1;32m     12\u001b[0m \u001b[43m                \u001b[49m\u001b[43m)\u001b[49m\u001b[43m  \u001b[49m\u001b[38;5;66;43;03m# https://stackoverflow.com/q/78810432/2383070\u001b[39;49;00m\n\u001b[1;32m     13\u001b[0m \u001b[43m            \u001b[49m\u001b[43m)\u001b[49m\n\u001b[1;32m     14\u001b[0m \u001b[43m        \u001b[49m\u001b[43m)\u001b[49m\n\u001b[1;32m     15\u001b[0m         \u001b[38;5;241m.\u001b[39mexplode([\u001b[38;5;124m\"\u001b[39m\u001b[38;5;124mdate_time\u001b[39m\u001b[38;5;124m\"\u001b[39m] \u001b[38;5;241m+\u001b[39m cols_with_cloud_layer)\n\u001b[1;32m     16\u001b[0m         \u001b[38;5;241m.\u001b[39munpivot(cols_with_cloud_layer, index\u001b[38;5;241m=\u001b[39m[\u001b[38;5;124m\"\u001b[39m\u001b[38;5;124mstid\u001b[39m\u001b[38;5;124m\"\u001b[39m, \u001b[38;5;124m\"\u001b[39m\u001b[38;5;124mdate_time\u001b[39m\u001b[38;5;124m\"\u001b[39m])\n\u001b[1;32m     17\u001b[0m         \u001b[38;5;241m.\u001b[39mrename({\u001b[38;5;124m\"\u001b[39m\u001b[38;5;124mvalue\u001b[39m\u001b[38;5;124m\"\u001b[39m: \u001b[38;5;124m\"\u001b[39m\u001b[38;5;124mvalue_sting\u001b[39m\u001b[38;5;124m\"\u001b[39m})\n\u001b[1;32m     18\u001b[0m     )\n\u001b[1;32m     19\u001b[0m     to_concat\u001b[38;5;241m.\u001b[39mappend(observed_cloud_layer)\n\u001b[1;32m     21\u001b[0m observed_cloud_layer\n",
      "File \u001b[0;32m~/miniconda3/envs/synoptic2/lib/python3.12/site-packages/polars/dataframe/frame.py:9183\u001b[0m, in \u001b[0;36mDataFrame.with_columns\u001b[0;34m(self, *exprs, **named_exprs)\u001b[0m\n\u001b[1;32m   9037\u001b[0m \u001b[38;5;28;01mdef\u001b[39;00m \u001b[38;5;21mwith_columns\u001b[39m(\n\u001b[1;32m   9038\u001b[0m     \u001b[38;5;28mself\u001b[39m,\n\u001b[1;32m   9039\u001b[0m     \u001b[38;5;241m*\u001b[39mexprs: IntoExpr \u001b[38;5;241m|\u001b[39m Iterable[IntoExpr],\n\u001b[1;32m   9040\u001b[0m     \u001b[38;5;241m*\u001b[39m\u001b[38;5;241m*\u001b[39mnamed_exprs: IntoExpr,\n\u001b[1;32m   9041\u001b[0m ) \u001b[38;5;241m-\u001b[39m\u001b[38;5;241m>\u001b[39m DataFrame:\n\u001b[1;32m   9042\u001b[0m \u001b[38;5;250m    \u001b[39m\u001b[38;5;124;03m\"\"\"\u001b[39;00m\n\u001b[1;32m   9043\u001b[0m \u001b[38;5;124;03m    Add columns to this DataFrame.\u001b[39;00m\n\u001b[1;32m   9044\u001b[0m \n\u001b[0;32m   (...)\u001b[0m\n\u001b[1;32m   9181\u001b[0m \u001b[38;5;124;03m    └─────┴──────┴─────────────┘\u001b[39;00m\n\u001b[1;32m   9182\u001b[0m \u001b[38;5;124;03m    \"\"\"\u001b[39;00m\n\u001b[0;32m-> 9183\u001b[0m     \u001b[38;5;28;01mreturn\u001b[39;00m \u001b[38;5;28;43mself\u001b[39;49m\u001b[38;5;241;43m.\u001b[39;49m\u001b[43mlazy\u001b[49m\u001b[43m(\u001b[49m\u001b[43m)\u001b[49m\u001b[38;5;241;43m.\u001b[39;49m\u001b[43mwith_columns\u001b[49m\u001b[43m(\u001b[49m\u001b[38;5;241;43m*\u001b[39;49m\u001b[43mexprs\u001b[49m\u001b[43m,\u001b[49m\u001b[43m \u001b[49m\u001b[38;5;241;43m*\u001b[39;49m\u001b[38;5;241;43m*\u001b[39;49m\u001b[43mnamed_exprs\u001b[49m\u001b[43m)\u001b[49m\u001b[38;5;241;43m.\u001b[39;49m\u001b[43mcollect\u001b[49m\u001b[43m(\u001b[49m\u001b[43m_eager\u001b[49m\u001b[38;5;241;43m=\u001b[39;49m\u001b[38;5;28;43;01mTrue\u001b[39;49;00m\u001b[43m)\u001b[49m\n",
      "File \u001b[0;32m~/miniconda3/envs/synoptic2/lib/python3.12/site-packages/polars/lazyframe/frame.py:2050\u001b[0m, in \u001b[0;36mLazyFrame.collect\u001b[0;34m(self, type_coercion, predicate_pushdown, projection_pushdown, simplify_expression, slice_pushdown, comm_subplan_elim, comm_subexpr_elim, cluster_with_columns, collapse_joins, no_optimization, streaming, engine, background, _eager, **_kwargs)\u001b[0m\n\u001b[1;32m   2048\u001b[0m \u001b[38;5;66;03m# Only for testing purposes\u001b[39;00m\n\u001b[1;32m   2049\u001b[0m callback \u001b[38;5;241m=\u001b[39m _kwargs\u001b[38;5;241m.\u001b[39mget(\u001b[38;5;124m\"\u001b[39m\u001b[38;5;124mpost_opt_callback\u001b[39m\u001b[38;5;124m\"\u001b[39m, callback)\n\u001b[0;32m-> 2050\u001b[0m \u001b[38;5;28;01mreturn\u001b[39;00m wrap_df(\u001b[43mldf\u001b[49m\u001b[38;5;241;43m.\u001b[39;49m\u001b[43mcollect\u001b[49m\u001b[43m(\u001b[49m\u001b[43mcallback\u001b[49m\u001b[43m)\u001b[49m)\n",
      "\u001b[0;31mInvalidOperationError\u001b[0m: `repeat_by` operation not supported for dtype `null`"
     ]
    }
   ],
   "source": [
    "# Unpack the cloud layer.\n",
    "#   Put sky_condition in 'value_sting' column\n",
    "#   and height_agl in 'value' column\n",
    "\n",
    "if cols_with_cloud_layer:\n",
    "    observed_cloud_layer = (\n",
    "        df.select([\"stid\", \"date_time\"] + cols_with_cloud_layer)\n",
    "        .with_columns(\n",
    "            pl.col(cols_with_cloud_layer).fill_null(\n",
    "                pl.lit(None).repeat_by(\n",
    "                    pl.col(\"date_time\").list.len()\n",
    "                )  # https://stackoverflow.com/q/78810432/2383070\n",
    "            )\n",
    "        )\n",
    "        .explode([\"date_time\"] + cols_with_cloud_layer)\n",
    "        .unpivot(cols_with_cloud_layer, index=[\"stid\", \"date_time\"])\n",
    "        .rename({\"value\": \"value_sting\"})\n",
    "    )\n",
    "    to_concat.append(observed_cloud_layer)\n",
    "\n",
    "observed_cloud_layer\n"
   ]
  },
  {
   "cell_type": "code",
   "execution_count": 116,
   "metadata": {},
   "outputs": [],
   "source": [
    "# Join all observation values\n",
    "observed = pl.concat(to_concat, how=\"diagonal_relaxed\")\n",
    "\n",
    "# Cast 'date_time' column from string to datetime\n",
    "observed = observed.with_columns(pl.col(\"date_time\").str.to_datetime())\n",
    "\n",
    "# Parse the variable name\n",
    "observed = observed.pipe(parse_raw_variable_column, S.UNITS)\n",
    "\n",
    "# Join the metadata to the observed values\n",
    "metadata = station_metadata_to_dataframe(S.STATION)\n",
    "observed = observed.join(metadata, on=\"stid\", how=\"full\", coalesce=True)\n"
   ]
  },
  {
   "cell_type": "code",
   "execution_count": 122,
   "metadata": {},
   "outputs": [
    {
     "data": {
      "text/plain": [
       "'https://api.synopticdata.com/v2/stations/timeseries?recent=30&state=ut&complete=1&qc=on&qc_checks=all&token=0bbe0e9fda7945a68951cc1bdebb2b0d'"
      ]
     },
     "execution_count": 122,
     "metadata": {},
     "output_type": "execute_result"
    }
   ],
   "source": [
    "S.url"
   ]
  },
  {
   "cell_type": "code",
   "execution_count": 120,
   "metadata": {},
   "outputs": [
    {
     "data": {
      "text/html": [
       "<div><style>\n",
       ".dataframe > thead > tr,\n",
       ".dataframe > tbody > tr {\n",
       "  text-align: right;\n",
       "  white-space: pre-wrap;\n",
       "}\n",
       "</style>\n",
       "<small>shape: (45_552, 32)</small><table border=\"1\" class=\"dataframe\"><thead><tr><th>stid</th><th>date_time</th><th>variable</th><th>sensor_index</th><th>is_derived</th><th>value</th><th>value_sting</th><th>units</th><th>id</th><th>name</th><th>elevation</th><th>latitude</th><th>longitude</th><th>mnet_id</th><th>state</th><th>timezone</th><th>elev_dem</th><th>nwszone</th><th>nwsfirezone</th><th>gacc</th><th>shortname</th><th>sgid</th><th>county</th><th>country</th><th>wims_id</th><th>cwa</th><th>period_of_record_start</th><th>period_of_record_end</th><th>providers</th><th>qc_flagged</th><th>is_restricted</th><th>is_active</th></tr><tr><td>str</td><td>datetime[μs, UTC]</td><td>str</td><td>u32</td><td>bool</td><td>f64</td><td>str</td><td>str</td><td>u32</td><td>str</td><td>f64</td><td>f64</td><td>f64</td><td>u32</td><td>str</td><td>str</td><td>f64</td><td>str</td><td>str</td><td>str</td><td>str</td><td>str</td><td>str</td><td>str</td><td>str</td><td>str</td><td>datetime[μs, UTC]</td><td>datetime[μs, UTC]</td><td>list[struct[2]]</td><td>bool</td><td>bool</td><td>bool</td></tr></thead><tbody><tr><td>&quot;KPVU&quot;</td><td>2024-11-20 05:50:00 UTC</td><td>&quot;air_temp&quot;</td><td>1</td><td>false</td><td>-3.0</td><td>null</td><td>&quot;Celsius&quot;</td><td>58</td><td>&quot;Provo Municipal Airport&quot;</td><td>4495.0</td><td>40.2239</td><td>-111.7253</td><td>1</td><td>&quot;UT&quot;</td><td>&quot;America/Denver&quot;</td><td>4491.5</td><td>&quot;UT106&quot;</td><td>&quot;SLC478&quot;</td><td>&quot;GBCC&quot;</td><td>&quot;ASOS/AWOS&quot;</td><td>&quot;GB25&quot;</td><td>&quot;Utah&quot;</td><td>&quot;US&quot;</td><td>null</td><td>&quot;SLC&quot;</td><td>1997-01-01 00:00:00 UTC</td><td>2024-11-20 05:45:00 UTC</td><td>[{&quot;National Weather Service&quot;,&quot;http://www.weather.gov&quot;}]</td><td>true</td><td>false</td><td>true</td></tr><tr><td>&quot;KPVU&quot;</td><td>2024-11-20 05:55:00 UTC</td><td>&quot;air_temp&quot;</td><td>1</td><td>false</td><td>-3.0</td><td>null</td><td>&quot;Celsius&quot;</td><td>58</td><td>&quot;Provo Municipal Airport&quot;</td><td>4495.0</td><td>40.2239</td><td>-111.7253</td><td>1</td><td>&quot;UT&quot;</td><td>&quot;America/Denver&quot;</td><td>4491.5</td><td>&quot;UT106&quot;</td><td>&quot;SLC478&quot;</td><td>&quot;GBCC&quot;</td><td>&quot;ASOS/AWOS&quot;</td><td>&quot;GB25&quot;</td><td>&quot;Utah&quot;</td><td>&quot;US&quot;</td><td>null</td><td>&quot;SLC&quot;</td><td>1997-01-01 00:00:00 UTC</td><td>2024-11-20 05:45:00 UTC</td><td>[{&quot;National Weather Service&quot;,&quot;http://www.weather.gov&quot;}]</td><td>true</td><td>false</td><td>true</td></tr><tr><td>&quot;KPVU&quot;</td><td>2024-11-20 05:56:00 UTC</td><td>&quot;air_temp&quot;</td><td>1</td><td>false</td><td>-3.9</td><td>null</td><td>&quot;Celsius&quot;</td><td>58</td><td>&quot;Provo Municipal Airport&quot;</td><td>4495.0</td><td>40.2239</td><td>-111.7253</td><td>1</td><td>&quot;UT&quot;</td><td>&quot;America/Denver&quot;</td><td>4491.5</td><td>&quot;UT106&quot;</td><td>&quot;SLC478&quot;</td><td>&quot;GBCC&quot;</td><td>&quot;ASOS/AWOS&quot;</td><td>&quot;GB25&quot;</td><td>&quot;Utah&quot;</td><td>&quot;US&quot;</td><td>null</td><td>&quot;SLC&quot;</td><td>1997-01-01 00:00:00 UTC</td><td>2024-11-20 05:45:00 UTC</td><td>[{&quot;National Weather Service&quot;,&quot;http://www.weather.gov&quot;}]</td><td>true</td><td>false</td><td>true</td></tr><tr><td>&quot;KPVU&quot;</td><td>2024-11-20 06:00:00 UTC</td><td>&quot;air_temp&quot;</td><td>1</td><td>false</td><td>-4.0</td><td>null</td><td>&quot;Celsius&quot;</td><td>58</td><td>&quot;Provo Municipal Airport&quot;</td><td>4495.0</td><td>40.2239</td><td>-111.7253</td><td>1</td><td>&quot;UT&quot;</td><td>&quot;America/Denver&quot;</td><td>4491.5</td><td>&quot;UT106&quot;</td><td>&quot;SLC478&quot;</td><td>&quot;GBCC&quot;</td><td>&quot;ASOS/AWOS&quot;</td><td>&quot;GB25&quot;</td><td>&quot;Utah&quot;</td><td>&quot;US&quot;</td><td>null</td><td>&quot;SLC&quot;</td><td>1997-01-01 00:00:00 UTC</td><td>2024-11-20 05:45:00 UTC</td><td>[{&quot;National Weather Service&quot;,&quot;http://www.weather.gov&quot;}]</td><td>true</td><td>false</td><td>true</td></tr><tr><td>&quot;KPVU&quot;</td><td>2024-11-20 06:05:00 UTC</td><td>&quot;air_temp&quot;</td><td>1</td><td>false</td><td>-5.0</td><td>null</td><td>&quot;Celsius&quot;</td><td>58</td><td>&quot;Provo Municipal Airport&quot;</td><td>4495.0</td><td>40.2239</td><td>-111.7253</td><td>1</td><td>&quot;UT&quot;</td><td>&quot;America/Denver&quot;</td><td>4491.5</td><td>&quot;UT106&quot;</td><td>&quot;SLC478&quot;</td><td>&quot;GBCC&quot;</td><td>&quot;ASOS/AWOS&quot;</td><td>&quot;GB25&quot;</td><td>&quot;Utah&quot;</td><td>&quot;US&quot;</td><td>null</td><td>&quot;SLC&quot;</td><td>1997-01-01 00:00:00 UTC</td><td>2024-11-20 05:45:00 UTC</td><td>[{&quot;National Weather Service&quot;,&quot;http://www.weather.gov&quot;}]</td><td>true</td><td>false</td><td>true</td></tr><tr><td>&hellip;</td><td>&hellip;</td><td>&hellip;</td><td>&hellip;</td><td>&hellip;</td><td>&hellip;</td><td>&hellip;</td><td>&hellip;</td><td>&hellip;</td><td>&hellip;</td><td>&hellip;</td><td>&hellip;</td><td>&hellip;</td><td>&hellip;</td><td>&hellip;</td><td>&hellip;</td><td>&hellip;</td><td>&hellip;</td><td>&hellip;</td><td>&hellip;</td><td>&hellip;</td><td>&hellip;</td><td>&hellip;</td><td>&hellip;</td><td>&hellip;</td><td>&hellip;</td><td>&hellip;</td><td>&hellip;</td><td>&hellip;</td><td>&hellip;</td><td>&hellip;</td><td>&hellip;</td></tr><tr><td>&quot;AV997&quot;</td><td>2024-11-20 06:07:00 UTC</td><td>&quot;wind_cardinal_direction&quot;</td><td>2</td><td>true</td><td>null</td><td>null</td><td>&quot;wind_cardinal_direction&quot;</td><td>232230</td><td>&quot;NW5W-12 Suncrest&quot;</td><td>6201.0</td><td>40.47583</td><td>-111.84533</td><td>65</td><td>&quot;UT&quot;</td><td>&quot;America/Denver&quot;</td><td>null</td><td>&quot;UT111&quot;</td><td>&quot;SLC478&quot;</td><td>&quot;GBCC&quot;</td><td>&quot;APRSWXNET/CWOP&quot;</td><td>&quot;GB25&quot;</td><td>&quot;Utah&quot;</td><td>&quot;US&quot;</td><td>null</td><td>&quot;SLC&quot;</td><td>2024-03-03 20:40:00 UTC</td><td>2024-11-20 05:47:00 UTC</td><td>[{&quot;APRSWXNET/Citizen Weather Observer Program&quot;,&quot;http://www.findu.com/citizenweather&quot;}]</td><td>true</td><td>false</td><td>true</td></tr><tr><td>&quot;AV997&quot;</td><td>2024-11-20 06:12:00 UTC</td><td>&quot;wind_cardinal_direction&quot;</td><td>2</td><td>true</td><td>null</td><td>null</td><td>&quot;wind_cardinal_direction&quot;</td><td>232230</td><td>&quot;NW5W-12 Suncrest&quot;</td><td>6201.0</td><td>40.47583</td><td>-111.84533</td><td>65</td><td>&quot;UT&quot;</td><td>&quot;America/Denver&quot;</td><td>null</td><td>&quot;UT111&quot;</td><td>&quot;SLC478&quot;</td><td>&quot;GBCC&quot;</td><td>&quot;APRSWXNET/CWOP&quot;</td><td>&quot;GB25&quot;</td><td>&quot;Utah&quot;</td><td>&quot;US&quot;</td><td>null</td><td>&quot;SLC&quot;</td><td>2024-03-03 20:40:00 UTC</td><td>2024-11-20 05:47:00 UTC</td><td>[{&quot;APRSWXNET/Citizen Weather Observer Program&quot;,&quot;http://www.findu.com/citizenweather&quot;}]</td><td>true</td><td>false</td><td>true</td></tr><tr><td>&quot;G5229&quot;</td><td>2024-11-20 05:50:00 UTC</td><td>&quot;wind_cardinal_direction&quot;</td><td>2</td><td>true</td><td>null</td><td>null</td><td>&quot;wind_cardinal_direction&quot;</td><td>242416</td><td>&quot;GW5229 LINDON&quot;</td><td>4629.0</td><td>40.33317</td><td>-111.72767</td><td>65</td><td>&quot;UT&quot;</td><td>&quot;America/Denver&quot;</td><td>null</td><td>&quot;UT106&quot;</td><td>&quot;SLC478&quot;</td><td>&quot;GBCC&quot;</td><td>&quot;APRSWXNET/CWOP&quot;</td><td>&quot;GB25&quot;</td><td>&quot;Utah&quot;</td><td>&quot;US&quot;</td><td>null</td><td>&quot;SLC&quot;</td><td>2024-08-06 17:36:00 UTC</td><td>2024-11-20 05:50:00 UTC</td><td>[{&quot;APRSWXNET/Citizen Weather Observer Program&quot;,&quot;http://www.findu.com/citizenweather&quot;}]</td><td>true</td><td>false</td><td>true</td></tr><tr><td>&quot;G5229&quot;</td><td>2024-11-20 05:55:00 UTC</td><td>&quot;wind_cardinal_direction&quot;</td><td>2</td><td>true</td><td>null</td><td>null</td><td>&quot;wind_cardinal_direction&quot;</td><td>242416</td><td>&quot;GW5229 LINDON&quot;</td><td>4629.0</td><td>40.33317</td><td>-111.72767</td><td>65</td><td>&quot;UT&quot;</td><td>&quot;America/Denver&quot;</td><td>null</td><td>&quot;UT106&quot;</td><td>&quot;SLC478&quot;</td><td>&quot;GBCC&quot;</td><td>&quot;APRSWXNET/CWOP&quot;</td><td>&quot;GB25&quot;</td><td>&quot;Utah&quot;</td><td>&quot;US&quot;</td><td>null</td><td>&quot;SLC&quot;</td><td>2024-08-06 17:36:00 UTC</td><td>2024-11-20 05:50:00 UTC</td><td>[{&quot;APRSWXNET/Citizen Weather Observer Program&quot;,&quot;http://www.findu.com/citizenweather&quot;}]</td><td>true</td><td>false</td><td>true</td></tr><tr><td>&quot;G5229&quot;</td><td>2024-11-20 06:05:00 UTC</td><td>&quot;wind_cardinal_direction&quot;</td><td>2</td><td>true</td><td>null</td><td>null</td><td>&quot;wind_cardinal_direction&quot;</td><td>242416</td><td>&quot;GW5229 LINDON&quot;</td><td>4629.0</td><td>40.33317</td><td>-111.72767</td><td>65</td><td>&quot;UT&quot;</td><td>&quot;America/Denver&quot;</td><td>null</td><td>&quot;UT106&quot;</td><td>&quot;SLC478&quot;</td><td>&quot;GBCC&quot;</td><td>&quot;APRSWXNET/CWOP&quot;</td><td>&quot;GB25&quot;</td><td>&quot;Utah&quot;</td><td>&quot;US&quot;</td><td>null</td><td>&quot;SLC&quot;</td><td>2024-08-06 17:36:00 UTC</td><td>2024-11-20 05:50:00 UTC</td><td>[{&quot;APRSWXNET/Citizen Weather Observer Program&quot;,&quot;http://www.findu.com/citizenweather&quot;}]</td><td>true</td><td>false</td><td>true</td></tr></tbody></table></div>"
      ],
      "text/plain": [
       "shape: (45_552, 32)\n",
       "┌───────┬────────────┬────────────┬────────────┬───┬───────────┬───────────┬───────────┬───────────┐\n",
       "│ stid  ┆ date_time  ┆ variable   ┆ sensor_ind ┆ … ┆ providers ┆ qc_flagge ┆ is_restri ┆ is_active │\n",
       "│ ---   ┆ ---        ┆ ---        ┆ ex         ┆   ┆ ---       ┆ d         ┆ cted      ┆ ---       │\n",
       "│ str   ┆ datetime[μ ┆ str        ┆ ---        ┆   ┆ list[stru ┆ ---       ┆ ---       ┆ bool      │\n",
       "│       ┆ s, UTC]    ┆            ┆ u32        ┆   ┆ ct[2]]    ┆ bool      ┆ bool      ┆           │\n",
       "╞═══════╪════════════╪════════════╪════════════╪═══╪═══════════╪═══════════╪═══════════╪═══════════╡\n",
       "│ KPVU  ┆ 2024-11-20 ┆ air_temp   ┆ 1          ┆ … ┆ [{\"Nation ┆ true      ┆ false     ┆ true      │\n",
       "│       ┆ 05:50:00   ┆            ┆            ┆   ┆ al        ┆           ┆           ┆           │\n",
       "│       ┆ UTC        ┆            ┆            ┆   ┆ Weather   ┆           ┆           ┆           │\n",
       "│       ┆            ┆            ┆            ┆   ┆ Service\", ┆           ┆           ┆           │\n",
       "│       ┆            ┆            ┆            ┆   ┆ \"…        ┆           ┆           ┆           │\n",
       "│ KPVU  ┆ 2024-11-20 ┆ air_temp   ┆ 1          ┆ … ┆ [{\"Nation ┆ true      ┆ false     ┆ true      │\n",
       "│       ┆ 05:55:00   ┆            ┆            ┆   ┆ al        ┆           ┆           ┆           │\n",
       "│       ┆ UTC        ┆            ┆            ┆   ┆ Weather   ┆           ┆           ┆           │\n",
       "│       ┆            ┆            ┆            ┆   ┆ Service\", ┆           ┆           ┆           │\n",
       "│       ┆            ┆            ┆            ┆   ┆ \"…        ┆           ┆           ┆           │\n",
       "│ KPVU  ┆ 2024-11-20 ┆ air_temp   ┆ 1          ┆ … ┆ [{\"Nation ┆ true      ┆ false     ┆ true      │\n",
       "│       ┆ 05:56:00   ┆            ┆            ┆   ┆ al        ┆           ┆           ┆           │\n",
       "│       ┆ UTC        ┆            ┆            ┆   ┆ Weather   ┆           ┆           ┆           │\n",
       "│       ┆            ┆            ┆            ┆   ┆ Service\", ┆           ┆           ┆           │\n",
       "│       ┆            ┆            ┆            ┆   ┆ \"…        ┆           ┆           ┆           │\n",
       "│ KPVU  ┆ 2024-11-20 ┆ air_temp   ┆ 1          ┆ … ┆ [{\"Nation ┆ true      ┆ false     ┆ true      │\n",
       "│       ┆ 06:00:00   ┆            ┆            ┆   ┆ al        ┆           ┆           ┆           │\n",
       "│       ┆ UTC        ┆            ┆            ┆   ┆ Weather   ┆           ┆           ┆           │\n",
       "│       ┆            ┆            ┆            ┆   ┆ Service\", ┆           ┆           ┆           │\n",
       "│       ┆            ┆            ┆            ┆   ┆ \"…        ┆           ┆           ┆           │\n",
       "│ KPVU  ┆ 2024-11-20 ┆ air_temp   ┆ 1          ┆ … ┆ [{\"Nation ┆ true      ┆ false     ┆ true      │\n",
       "│       ┆ 06:05:00   ┆            ┆            ┆   ┆ al        ┆           ┆           ┆           │\n",
       "│       ┆ UTC        ┆            ┆            ┆   ┆ Weather   ┆           ┆           ┆           │\n",
       "│       ┆            ┆            ┆            ┆   ┆ Service\", ┆           ┆           ┆           │\n",
       "│       ┆            ┆            ┆            ┆   ┆ \"…        ┆           ┆           ┆           │\n",
       "│ …     ┆ …          ┆ …          ┆ …          ┆ … ┆ …         ┆ …         ┆ …         ┆ …         │\n",
       "│ AV997 ┆ 2024-11-20 ┆ wind_cardi ┆ 2          ┆ … ┆ [{\"APRSWX ┆ true      ┆ false     ┆ true      │\n",
       "│       ┆ 06:07:00   ┆ nal_direct ┆            ┆   ┆ NET/Citiz ┆           ┆           ┆           │\n",
       "│       ┆ UTC        ┆ ion        ┆            ┆   ┆ en        ┆           ┆           ┆           │\n",
       "│       ┆            ┆            ┆            ┆   ┆ Weather   ┆           ┆           ┆           │\n",
       "│       ┆            ┆            ┆            ┆   ┆ O…        ┆           ┆           ┆           │\n",
       "│ AV997 ┆ 2024-11-20 ┆ wind_cardi ┆ 2          ┆ … ┆ [{\"APRSWX ┆ true      ┆ false     ┆ true      │\n",
       "│       ┆ 06:12:00   ┆ nal_direct ┆            ┆   ┆ NET/Citiz ┆           ┆           ┆           │\n",
       "│       ┆ UTC        ┆ ion        ┆            ┆   ┆ en        ┆           ┆           ┆           │\n",
       "│       ┆            ┆            ┆            ┆   ┆ Weather   ┆           ┆           ┆           │\n",
       "│       ┆            ┆            ┆            ┆   ┆ O…        ┆           ┆           ┆           │\n",
       "│ G5229 ┆ 2024-11-20 ┆ wind_cardi ┆ 2          ┆ … ┆ [{\"APRSWX ┆ true      ┆ false     ┆ true      │\n",
       "│       ┆ 05:50:00   ┆ nal_direct ┆            ┆   ┆ NET/Citiz ┆           ┆           ┆           │\n",
       "│       ┆ UTC        ┆ ion        ┆            ┆   ┆ en        ┆           ┆           ┆           │\n",
       "│       ┆            ┆            ┆            ┆   ┆ Weather   ┆           ┆           ┆           │\n",
       "│       ┆            ┆            ┆            ┆   ┆ O…        ┆           ┆           ┆           │\n",
       "│ G5229 ┆ 2024-11-20 ┆ wind_cardi ┆ 2          ┆ … ┆ [{\"APRSWX ┆ true      ┆ false     ┆ true      │\n",
       "│       ┆ 05:55:00   ┆ nal_direct ┆            ┆   ┆ NET/Citiz ┆           ┆           ┆           │\n",
       "│       ┆ UTC        ┆ ion        ┆            ┆   ┆ en        ┆           ┆           ┆           │\n",
       "│       ┆            ┆            ┆            ┆   ┆ Weather   ┆           ┆           ┆           │\n",
       "│       ┆            ┆            ┆            ┆   ┆ O…        ┆           ┆           ┆           │\n",
       "│ G5229 ┆ 2024-11-20 ┆ wind_cardi ┆ 2          ┆ … ┆ [{\"APRSWX ┆ true      ┆ false     ┆ true      │\n",
       "│       ┆ 06:05:00   ┆ nal_direct ┆            ┆   ┆ NET/Citiz ┆           ┆           ┆           │\n",
       "│       ┆ UTC        ┆ ion        ┆            ┆   ┆ en        ┆           ┆           ┆           │\n",
       "│       ┆            ┆            ┆            ┆   ┆ Weather   ┆           ┆           ┆           │\n",
       "│       ┆            ┆            ┆            ┆   ┆ O…        ┆           ┆           ┆           │\n",
       "└───────┴────────────┴────────────┴────────────┴───┴───────────┴───────────┴───────────┴───────────┘"
      ]
     },
     "execution_count": 120,
     "metadata": {},
     "output_type": "execute_result"
    }
   ],
   "source": [
    "observed.filter(pl.col(\"qc_flagged\"))"
   ]
  },
  {
   "cell_type": "code",
   "execution_count": null,
   "metadata": {},
   "outputs": [
    {
     "ename": "SyntaxError",
     "evalue": "unmatched ')' (1834039484.py, line 9)",
     "output_type": "error",
     "traceback": [
      "\u001b[0;36m  Cell \u001b[0;32mIn[96], line 9\u001b[0;36m\u001b[0m\n\u001b[0;31m    )\u001b[0m\n\u001b[0m    ^\u001b[0m\n\u001b[0;31mSyntaxError\u001b[0m\u001b[0;31m:\u001b[0m unmatched ')'\n"
     ]
    }
   ],
   "source": [
    "(\n",
    "    df.select([\"stid\", \"date_time\"] + cols_with_cloud_layer).with_columns(\n",
    "        pl.col(cols_with_cloud_layer).fill_null(\n",
    "            pl.struct({'sky_condition':None, \"height_agl\":None})), dtype=pl.Boolean).repeat_by(\n",
    "                pl.col(\"date_time\").list.len()\n",
    "            )  # https://stackoverflow.com/q/78810432/2383070\n",
    "        )\n",
    "    )\n",
    ")"
   ]
  },
  {
   "cell_type": "code",
   "execution_count": 3,
   "metadata": {},
   "outputs": [],
   "source": [
    "import polars as pl\n",
    "\n",
    "\n",
    "def unnest_period_of_record(\n",
    "    df: pl.DataFrame | pl.LazyFrame,\n",
    ") -> pl.DataFrame | pl.LazyFrame:\n",
    "    \"\"\"Un-nest the PERIOD_OF_RECORD column struct.\"\"\"\n",
    "    return df.with_columns(\n",
    "        pl.struct(\n",
    "            pl.col(\"PERIOD_OF_RECORD\")\n",
    "            .struct.field(\"start\")\n",
    "            .cast(pl.String)\n",
    "            .str.to_datetime(time_zone=\"UTC\")\n",
    "            .alias(\"PERIOD_OF_RECORD_START\"),\n",
    "            pl.col(\"PERIOD_OF_RECORD\")\n",
    "            .struct.field(\"end\")\n",
    "            .cast(pl.String)\n",
    "            .str.to_datetime(time_zone=\"UTC\")\n",
    "            .alias(\"PERIOD_OF_RECORD_END\"),\n",
    "        ).alias(\"PERIOD_OF_RECORD\"),\n",
    "    ).unnest(\"PERIOD_OF_RECORD\")\n",
    "\n",
    "\n",
    "def station_metadata_to_dataframe(STATION: list[dict]):\n",
    "    \"\"\"From STATION, produce the metadata DataFrame.\"\"\"\n",
    "    a = []\n",
    "    for metadata in STATION:\n",
    "        metadata = metadata.copy()\n",
    "        metadata.pop(\"OBSERVATIONS\", None)\n",
    "        metadata.pop(\"SENSOR_VARIABLES\", None)\n",
    "        metadata.pop(\"LATENCY\", None)\n",
    "        metadata.pop(\"QC\", None)\n",
    "        a.append(metadata)\n",
    "    df = pl.DataFrame(a, infer_schema_length=None).lazy()\n",
    "    df = df.with_columns(\n",
    "        pl.col(\"STID\").cast(pl.String),\n",
    "        pl.col(\"ID\", \"MNET_ID\").cast(pl.UInt32),\n",
    "        pl.col(\"ELEVATION\", \"LATITUDE\", \"LONGITUDE\").cast(pl.Float64),\n",
    "        is_active=pl.when(pl.col(\"STATUS\") == \"ACTIVE\")\n",
    "        .then(True)\n",
    "        .otherwise(pl.when(pl.col(\"STATUS\") == \"INACTIVE\").then(False)),\n",
    "    ).drop(\"UNITS\", \"STATUS\")\n",
    "\n",
    "    if \"RESTRICTED\" in df.collect_schema().names():\n",
    "        df = df.rename({\"RESTRICTED\": \"is_restricted\"})\n",
    "\n",
    "    if \"ELEV_DEM\" in df.collect_schema().names():\n",
    "        # This isn't in the Latency request\n",
    "        df = df.with_columns(pl.col(\"ELEV_DEM\").cast(pl.Float64))\n",
    "\n",
    "    df = df.pipe(unnest_period_of_record)\n",
    "    df = df.rename({i: i.lower() for i in df.collect_schema().names()})\n",
    "\n",
    "    return df.collect()\n",
    "\n",
    "\n",
    "def NEW_parse_stations_latest_nearesttime(STATION):\n",
    "    pass\n"
   ]
  },
  {
   "cell_type": "code",
   "execution_count": 4,
   "metadata": {},
   "outputs": [],
   "source": [
    "# Unpack Latest/Nearest time JSON into parts\n",
    "\n",
    "observations = []\n",
    "qc = []\n",
    "latency = []\n",
    "sensor_variables = []\n",
    "\n",
    "for s in S.STATION:\n",
    "    observations.append({\"stid\": s[\"STID\"]} | s.pop(\"OBSERVATIONS\", {}))\n",
    "    qc.append({\"stid\": s[\"STID\"]} | s.pop(\"qc\", {}))\n",
    "    latency.append({\"stid\": s[\"STID\"]} | s.pop(\"latency\", {}))\n",
    "    sensor_variables.append({\"stid\": s[\"STID\"]} | s.pop(\"sensor_variables\", {}))\n",
    "\n",
    "\n",
    "# Get Metadata DataFrame\n",
    "metadata = station_metadata_to_dataframe(S.STATION)\n",
    "\n",
    "# Get Observations DataFrame (needs more processing)\n",
    "df = pl.DataFrame(observations, infer_schema_length=None)"
   ]
  },
  {
   "cell_type": "code",
   "execution_count": 5,
   "metadata": {},
   "outputs": [],
   "source": [
    "# BUG: Synoptic API ozone_concentration_value_1, the value is returned as string and not float\n",
    "df = df.with_columns(\n",
    "    pl.struct(\n",
    "        [\n",
    "            pl.col(\"ozone_concentration_value_1\")\n",
    "            .struct.field(\"value\")\n",
    "            .replace(\"\", None)\n",
    "            .cast(pl.Float64),\n",
    "            pl.col(\"ozone_concentration_value_1\").struct.field(\"date_time\"),\n",
    "        ]\n",
    "    ).alias(\"ozone_concentration_value_1\")\n",
    ")\n"
   ]
  },
  {
   "cell_type": "code",
   "execution_count": 6,
   "metadata": {},
   "outputs": [
    {
     "name": "stdout",
     "output_type": "stream",
     "text": [
      "col='stid', schema=String\n"
     ]
    }
   ],
   "source": [
    "# Separate columns by value type\n",
    "# TODO: Still need to handle sky_condition types\n",
    "\n",
    "cols_with_float = []\n",
    "cols_with_string = []\n",
    "cols_with_cloud_layer = []\n",
    "cols_with_other = []\n",
    "for col, schema in df.schema.items():\n",
    "    if hasattr(schema, \"fields\"):\n",
    "        if pl.Field(\"value\", pl.Float64) in schema.fields:\n",
    "            cols_with_float.append(col)\n",
    "        elif pl.Field(\"value\", pl.String) in schema.fields:\n",
    "            cols_with_string.append(col)\n",
    "        elif col.startswith(\"cloud_layer\"):\n",
    "            cols_with_cloud_layer.append(col)\n",
    "        elif pl.Field(\"value\", pl.Struct) in schema.fields:\n",
    "            cols_with_other.append(col)\n",
    "            print(f\"WARNING: Unknown struct for {col=} {schema=}\")\n",
    "    else:\n",
    "        print(f\"{col=}, {schema=}\")"
   ]
  },
  {
   "cell_type": "code",
   "execution_count": 9,
   "metadata": {},
   "outputs": [
    {
     "data": {
      "text/html": [
       "<div><style>\n",
       ".dataframe > thead > tr,\n",
       ".dataframe > tbody > tr {\n",
       "  text-align: right;\n",
       "  white-space: pre-wrap;\n",
       "}\n",
       "</style>\n",
       "<small>shape: (12_772, 5)</small><table border=\"1\" class=\"dataframe\"><thead><tr><th>stid</th><th>variable</th><th>value</th><th>date_time</th><th>qc</th></tr><tr><td>str</td><td>str</td><td>f64</td><td>datetime[μs, UTC]</td><td>struct[2]</td></tr></thead><tbody><tr><td>&quot;WBB&quot;</td><td>&quot;pressure_value_1&quot;</td><td>85878.0</td><td>2024-11-20 04:55:00 UTC</td><td>{&quot;passed&quot;,null}</td></tr><tr><td>&quot;GNI&quot;</td><td>&quot;pressure_value_1&quot;</td><td>87058.0</td><td>2024-10-31 07:40:00 UTC</td><td>{&quot;passed&quot;,null}</td></tr><tr><td>&quot;HATUT&quot;</td><td>&quot;pressure_value_1&quot;</td><td>87580.0</td><td>2024-11-20 04:45:00 UTC</td><td>{&quot;passed&quot;,null}</td></tr><tr><td>&quot;LMS&quot;</td><td>&quot;pressure_value_1&quot;</td><td>87821.0</td><td>2024-11-20 04:45:00 UTC</td><td>{&quot;passed&quot;,null}</td></tr><tr><td>&quot;LMR&quot;</td><td>&quot;pressure_value_1&quot;</td><td>84728.0</td><td>2024-11-20 04:45:00 UTC</td><td>{&quot;passed&quot;,null}</td></tr><tr><td>&hellip;</td><td>&hellip;</td><td>&hellip;</td><td>&hellip;</td><td>&hellip;</td></tr><tr><td>&quot;UGSPG&quot;</td><td>&quot;evapotranspiration_value_2&quot;</td><td>0.0</td><td>2024-11-20 04:30:00 UTC</td><td>{&quot;passed&quot;,null}</td></tr><tr><td>&quot;UUCMF&quot;</td><td>&quot;evapotranspiration_value_2&quot;</td><td>0.0051</td><td>2024-11-20 04:30:00 UTC</td><td>{&quot;passed&quot;,null}</td></tr><tr><td>&quot;UUPYF&quot;</td><td>&quot;evapotranspiration_value_2&quot;</td><td>0.0</td><td>2024-11-20 04:30:00 UTC</td><td>{&quot;passed&quot;,null}</td></tr><tr><td>&quot;NGLO161462&quot;</td><td>&quot;precip_interval_value_1&quot;</td><td>0.0</td><td>2024-11-15 19:16:00 UTC</td><td>{&quot;passed&quot;,null}</td></tr><tr><td>&quot;NGLO162428&quot;</td><td>&quot;precip_interval_value_1&quot;</td><td>1.2</td><td>2024-11-16 19:12:00 UTC</td><td>{&quot;passed&quot;,null}</td></tr></tbody></table></div>"
      ],
      "text/plain": [
       "shape: (12_772, 5)\n",
       "┌────────────┬────────────────────────────┬─────────┬─────────────────────────┬─────────────────┐\n",
       "│ stid       ┆ variable                   ┆ value   ┆ date_time               ┆ qc              │\n",
       "│ ---        ┆ ---                        ┆ ---     ┆ ---                     ┆ ---             │\n",
       "│ str        ┆ str                        ┆ f64     ┆ datetime[μs, UTC]       ┆ struct[2]       │\n",
       "╞════════════╪════════════════════════════╪═════════╪═════════════════════════╪═════════════════╡\n",
       "│ WBB        ┆ pressure_value_1           ┆ 85878.0 ┆ 2024-11-20 04:55:00 UTC ┆ {\"passed\",null} │\n",
       "│ GNI        ┆ pressure_value_1           ┆ 87058.0 ┆ 2024-10-31 07:40:00 UTC ┆ {\"passed\",null} │\n",
       "│ HATUT      ┆ pressure_value_1           ┆ 87580.0 ┆ 2024-11-20 04:45:00 UTC ┆ {\"passed\",null} │\n",
       "│ LMS        ┆ pressure_value_1           ┆ 87821.0 ┆ 2024-11-20 04:45:00 UTC ┆ {\"passed\",null} │\n",
       "│ LMR        ┆ pressure_value_1           ┆ 84728.0 ┆ 2024-11-20 04:45:00 UTC ┆ {\"passed\",null} │\n",
       "│ …          ┆ …                          ┆ …       ┆ …                       ┆ …               │\n",
       "│ UGSPG      ┆ evapotranspiration_value_2 ┆ 0.0     ┆ 2024-11-20 04:30:00 UTC ┆ {\"passed\",null} │\n",
       "│ UUCMF      ┆ evapotranspiration_value_2 ┆ 0.0051  ┆ 2024-11-20 04:30:00 UTC ┆ {\"passed\",null} │\n",
       "│ UUPYF      ┆ evapotranspiration_value_2 ┆ 0.0     ┆ 2024-11-20 04:30:00 UTC ┆ {\"passed\",null} │\n",
       "│ NGLO161462 ┆ precip_interval_value_1    ┆ 0.0     ┆ 2024-11-15 19:16:00 UTC ┆ {\"passed\",null} │\n",
       "│ NGLO162428 ┆ precip_interval_value_1    ┆ 1.2     ┆ 2024-11-16 19:12:00 UTC ┆ {\"passed\",null} │\n",
       "└────────────┴────────────────────────────┴─────────┴─────────────────────────┴─────────────────┘"
      ]
     },
     "execution_count": 9,
     "metadata": {},
     "output_type": "execute_result"
    }
   ],
   "source": [
    "# Unpack the Float observations\n",
    "observed_float = (\n",
    "    df.select([\"stid\"] + cols_with_float)\n",
    "    .select(\"stid\", \"^.*value.*$\")\n",
    "    .unpivot(index=\"stid\")\n",
    "    # .with_columns(\n",
    "    #    pl.col(\"variable\").str.extract_groups(\n",
    "    #        r\"(?<variable>.+)_value_(?<sensor_index>\\d)(?<is_derived>d?)\"\n",
    "    #    )\n",
    "    # )\n",
    "    # .unnest(\"variable\")\n",
    "    # .with_columns(\n",
    "    #    pl.col(\"is_derived\") == \"d\",\n",
    "    #    pl.col(\"sensor_index\").cast(pl.UInt32),\n",
    "    #    pl.col(\"variable\").replace(S.UNITS).alias(\"units\"),\n",
    "    # )\n",
    "    .unnest(\"value\")\n",
    "    .with_columns(pl.col(\"date_time\").str.to_datetime())\n",
    "    .drop_nulls()\n",
    ")\n",
    "observed_float"
   ]
  },
  {
   "cell_type": "code",
   "execution_count": 11,
   "metadata": {},
   "outputs": [
    {
     "data": {
      "text/html": [
       "<div><style>\n",
       ".dataframe > thead > tr,\n",
       ".dataframe > tbody > tr {\n",
       "  text-align: right;\n",
       "  white-space: pre-wrap;\n",
       "}\n",
       "</style>\n",
       "<small>shape: (33, 5)</small><table border=\"1\" class=\"dataframe\"><thead><tr><th>stid</th><th>variable</th><th>value_string</th><th>date_time</th><th>qc</th></tr><tr><td>str</td><td>str</td><td>str</td><td>datetime[μs, UTC]</td><td>struct[1]</td></tr></thead><tbody><tr><td>&quot;KSLC&quot;</td><td>&quot;metar_value_1&quot;</td><td>&quot;METAR KSLC 200454Z 18006KT 10S…</td><td>2024-11-20 04:54:00 UTC</td><td>{&quot;passed&quot;}</td></tr><tr><td>&quot;KU42&quot;</td><td>&quot;metar_value_1&quot;</td><td>&quot;METAR KU42 200435Z AUTO 17005K…</td><td>2024-11-20 04:35:00 UTC</td><td>{&quot;passed&quot;}</td></tr><tr><td>&quot;KHIF&quot;</td><td>&quot;metar_value_1&quot;</td><td>&quot;METAR KHIF 200455Z AUTO 12011K…</td><td>2024-11-20 04:55:00 UTC</td><td>{&quot;passed&quot;}</td></tr><tr><td>&quot;KOGD&quot;</td><td>&quot;metar_value_1&quot;</td><td>&quot;METAR KOGD 200453Z AUTO 16007K…</td><td>2024-11-20 04:53:00 UTC</td><td>{&quot;passed&quot;}</td></tr><tr><td>&quot;KBMC&quot;</td><td>&quot;metar_value_1&quot;</td><td>&quot;METAR KBMC 200435Z AUTO 13003K…</td><td>2024-11-20 04:35:00 UTC</td><td>{&quot;passed&quot;}</td></tr><tr><td>&hellip;</td><td>&hellip;</td><td>&hellip;</td><td>&hellip;</td><td>&hellip;</td></tr><tr><td>&quot;KFOM&quot;</td><td>&quot;metar_value_1&quot;</td><td>&quot;METAR KFOM 200435Z AUTO 10SM C…</td><td>2024-11-20 04:35:00 UTC</td><td>{&quot;passed&quot;}</td></tr><tr><td>&quot;K41U&quot;</td><td>&quot;metar_value_1&quot;</td><td>&quot;METAR K41U 200435Z AUTO 03004K…</td><td>2024-11-20 04:35:00 UTC</td><td>{&quot;passed&quot;}</td></tr><tr><td>&quot;KSPK&quot;</td><td>&quot;metar_value_1&quot;</td><td>&quot;METAR KSPK 200435Z AUTO 13009K…</td><td>2024-11-20 04:35:00 UTC</td><td>{&quot;passed&quot;}</td></tr><tr><td>&quot;KU64&quot;</td><td>&quot;metar_value_1&quot;</td><td>&quot;KU64 200435Z AUTO 24004KT 10SM…</td><td>2024-11-20 04:35:00 UTC</td><td>{&quot;passed&quot;}</td></tr><tr><td>&quot;K40U&quot;</td><td>&quot;metar_value_1&quot;</td><td>&quot;METAR K40U 200415Z AUTO 00000K…</td><td>2024-11-20 04:15:00 UTC</td><td>{&quot;passed&quot;}</td></tr></tbody></table></div>"
      ],
      "text/plain": [
       "shape: (33, 5)\n",
       "┌──────┬───────────────┬─────────────────────────────────┬─────────────────────────┬────────────┐\n",
       "│ stid ┆ variable      ┆ value_string                    ┆ date_time               ┆ qc         │\n",
       "│ ---  ┆ ---           ┆ ---                             ┆ ---                     ┆ ---        │\n",
       "│ str  ┆ str           ┆ str                             ┆ datetime[μs, UTC]       ┆ struct[1]  │\n",
       "╞══════╪═══════════════╪═════════════════════════════════╪═════════════════════════╪════════════╡\n",
       "│ KSLC ┆ metar_value_1 ┆ METAR KSLC 200454Z 18006KT 10S… ┆ 2024-11-20 04:54:00 UTC ┆ {\"passed\"} │\n",
       "│ KU42 ┆ metar_value_1 ┆ METAR KU42 200435Z AUTO 17005K… ┆ 2024-11-20 04:35:00 UTC ┆ {\"passed\"} │\n",
       "│ KHIF ┆ metar_value_1 ┆ METAR KHIF 200455Z AUTO 12011K… ┆ 2024-11-20 04:55:00 UTC ┆ {\"passed\"} │\n",
       "│ KOGD ┆ metar_value_1 ┆ METAR KOGD 200453Z AUTO 16007K… ┆ 2024-11-20 04:53:00 UTC ┆ {\"passed\"} │\n",
       "│ KBMC ┆ metar_value_1 ┆ METAR KBMC 200435Z AUTO 13003K… ┆ 2024-11-20 04:35:00 UTC ┆ {\"passed\"} │\n",
       "│ …    ┆ …             ┆ …                               ┆ …                       ┆ …          │\n",
       "│ KFOM ┆ metar_value_1 ┆ METAR KFOM 200435Z AUTO 10SM C… ┆ 2024-11-20 04:35:00 UTC ┆ {\"passed\"} │\n",
       "│ K41U ┆ metar_value_1 ┆ METAR K41U 200435Z AUTO 03004K… ┆ 2024-11-20 04:35:00 UTC ┆ {\"passed\"} │\n",
       "│ KSPK ┆ metar_value_1 ┆ METAR KSPK 200435Z AUTO 13009K… ┆ 2024-11-20 04:35:00 UTC ┆ {\"passed\"} │\n",
       "│ KU64 ┆ metar_value_1 ┆ KU64 200435Z AUTO 24004KT 10SM… ┆ 2024-11-20 04:35:00 UTC ┆ {\"passed\"} │\n",
       "│ K40U ┆ metar_value_1 ┆ METAR K40U 200415Z AUTO 00000K… ┆ 2024-11-20 04:15:00 UTC ┆ {\"passed\"} │\n",
       "└──────┴───────────────┴─────────────────────────────────┴─────────────────────────┴────────────┘"
      ]
     },
     "execution_count": 11,
     "metadata": {},
     "output_type": "execute_result"
    }
   ],
   "source": [
    "# Unpack the string observations\n",
    "observed_string = (\n",
    "    df.select([\"stid\"] + cols_with_string)\n",
    "    .select(\"stid\", \"^.*value.*$\")\n",
    "    .unpivot(index=\"stid\")\n",
    "    # .with_columns(\n",
    "    #    pl.col(\"variable\").str.extract_groups(\n",
    "    #        r\"(?<variable>.+)_value_(?<sensor_index>\\d)(?<is_derived>d?)\"\n",
    "    #    )\n",
    "    # )\n",
    "    # .unnest(\"variable\")\n",
    "    # .with_columns(\n",
    "    #    pl.col(\"is_derived\") == \"d\",\n",
    "    #    pl.col(\"sensor_index\").cast(pl.UInt32),\n",
    "    #    pl.col(\"variable\").replace(S.UNITS).alias(\"units\"),\n",
    "    # )\n",
    "    .unnest(\"value\")\n",
    "    .rename({\"value\": \"value_string\"})\n",
    "    .with_columns(pl.col(\"date_time\").str.to_datetime())\n",
    "    .drop_nulls()\n",
    ")\n",
    "observed_string\n"
   ]
  },
  {
   "cell_type": "code",
   "execution_count": 12,
   "metadata": {},
   "outputs": [
    {
     "data": {
      "text/html": [
       "<div><style>\n",
       ".dataframe > thead > tr,\n",
       ".dataframe > tbody > tr {\n",
       "  text-align: right;\n",
       "  white-space: pre-wrap;\n",
       "}\n",
       "</style>\n",
       "<small>shape: (108, 5)</small><table border=\"1\" class=\"dataframe\"><thead><tr><th>stid</th><th>variable</th><th>date_time</th><th>value_string</th><th>value</th></tr><tr><td>str</td><td>str</td><td>datetime[μs, UTC]</td><td>str</td><td>f64</td></tr></thead><tbody><tr><td>&quot;KSLC&quot;</td><td>&quot;cloud_layer_1_value_1d&quot;</td><td>2024-11-20 04:54:00 UTC</td><td>&quot;clear&quot;</td><td>null</td></tr><tr><td>&quot;KU42&quot;</td><td>&quot;cloud_layer_1_value_1d&quot;</td><td>2024-11-20 04:35:00 UTC</td><td>&quot;clear&quot;</td><td>null</td></tr><tr><td>&quot;KHIF&quot;</td><td>&quot;cloud_layer_1_value_1d&quot;</td><td>2024-11-20 04:55:00 UTC</td><td>&quot;clear&quot;</td><td>null</td></tr><tr><td>&quot;KOGD&quot;</td><td>&quot;cloud_layer_1_value_1d&quot;</td><td>2024-11-20 04:53:00 UTC</td><td>&quot;clear&quot;</td><td>null</td></tr><tr><td>&quot;KBMC&quot;</td><td>&quot;cloud_layer_1_value_1d&quot;</td><td>2024-11-20 04:35:00 UTC</td><td>&quot;clear&quot;</td><td>null</td></tr><tr><td>&hellip;</td><td>&hellip;</td><td>&hellip;</td><td>&hellip;</td><td>&hellip;</td></tr><tr><td>&quot;K41U&quot;</td><td>&quot;cloud_layer_3_value_1d&quot;</td><td>2024-11-19 07:35:00 UTC</td><td>&quot;overcast&quot;</td><td>2590.83</td></tr><tr><td>&quot;UUSYR&quot;</td><td>&quot;cloud_layer_3_value_1d&quot;</td><td>2024-11-18 15:40:00 UTC</td><td>&quot;N/A&quot;</td><td>2225.07</td></tr><tr><td>&quot;KSPK&quot;</td><td>&quot;cloud_layer_3_value_1d&quot;</td><td>2024-11-19 15:35:00 UTC</td><td>&quot;broken&quot;</td><td>2286.03</td></tr><tr><td>&quot;KU64&quot;</td><td>&quot;cloud_layer_3_value_1d&quot;</td><td>2024-11-19 11:55:00 UTC</td><td>&quot;broken&quot;</td><td>2590.83</td></tr><tr><td>&quot;K40U&quot;</td><td>&quot;cloud_layer_3_value_1d&quot;</td><td>2024-11-19 00:55:00 UTC</td><td>&quot;scattered&quot;</td><td>1524.02</td></tr></tbody></table></div>"
      ],
      "text/plain": [
       "shape: (108, 5)\n",
       "┌───────┬────────────────────────┬─────────────────────────┬──────────────┬─────────┐\n",
       "│ stid  ┆ variable               ┆ date_time               ┆ value_string ┆ value   │\n",
       "│ ---   ┆ ---                    ┆ ---                     ┆ ---          ┆ ---     │\n",
       "│ str   ┆ str                    ┆ datetime[μs, UTC]       ┆ str          ┆ f64     │\n",
       "╞═══════╪════════════════════════╪═════════════════════════╪══════════════╪═════════╡\n",
       "│ KSLC  ┆ cloud_layer_1_value_1d ┆ 2024-11-20 04:54:00 UTC ┆ clear        ┆ null    │\n",
       "│ KU42  ┆ cloud_layer_1_value_1d ┆ 2024-11-20 04:35:00 UTC ┆ clear        ┆ null    │\n",
       "│ KHIF  ┆ cloud_layer_1_value_1d ┆ 2024-11-20 04:55:00 UTC ┆ clear        ┆ null    │\n",
       "│ KOGD  ┆ cloud_layer_1_value_1d ┆ 2024-11-20 04:53:00 UTC ┆ clear        ┆ null    │\n",
       "│ KBMC  ┆ cloud_layer_1_value_1d ┆ 2024-11-20 04:35:00 UTC ┆ clear        ┆ null    │\n",
       "│ …     ┆ …                      ┆ …                       ┆ …            ┆ …       │\n",
       "│ K41U  ┆ cloud_layer_3_value_1d ┆ 2024-11-19 07:35:00 UTC ┆ overcast     ┆ 2590.83 │\n",
       "│ UUSYR ┆ cloud_layer_3_value_1d ┆ 2024-11-18 15:40:00 UTC ┆ N/A          ┆ 2225.07 │\n",
       "│ KSPK  ┆ cloud_layer_3_value_1d ┆ 2024-11-19 15:35:00 UTC ┆ broken       ┆ 2286.03 │\n",
       "│ KU64  ┆ cloud_layer_3_value_1d ┆ 2024-11-19 11:55:00 UTC ┆ broken       ┆ 2590.83 │\n",
       "│ K40U  ┆ cloud_layer_3_value_1d ┆ 2024-11-19 00:55:00 UTC ┆ scattered    ┆ 1524.02 │\n",
       "└───────┴────────────────────────┴─────────────────────────┴──────────────┴─────────┘"
      ]
     },
     "execution_count": 12,
     "metadata": {},
     "output_type": "execute_result"
    }
   ],
   "source": [
    "# Unpack the cloud layer\n",
    "observed_cloud_layer = (\n",
    "    (\n",
    "        df.select([\"stid\"] + cols_with_cloud_layer)\n",
    "        .select(\"stid\", \"^.*value.*$\")\n",
    "        .unpivot(index=\"stid\")\n",
    "        # .with_columns(\n",
    "        #    pl.col(\"variable\").str.extract_groups(\n",
    "        #        r\"(?<variable>.+)_value_(?<sensor_index>\\d)(?<is_derived>d?)\"\n",
    "        #    )\n",
    "        # )\n",
    "        # .unnest(\"variable\")\n",
    "        # .with_columns(\n",
    "        #    pl.col(\"is_derived\") == \"d\",\n",
    "        #    pl.col(\"sensor_index\").cast(pl.UInt32),\n",
    "        #    pl.col(\"variable\").replace(S.UNITS).alias(\"units\"),\n",
    "        # )\n",
    "        .unnest(\"value\")\n",
    "        .rename({\"value\": \"value_cloud_layer\"})\n",
    "        .with_columns(pl.col(\"date_time\").str.to_datetime())\n",
    "        .drop_nulls()\n",
    "    )\n",
    "    .unnest(\"value_cloud_layer\")\n",
    "    .rename({\"sky_condition\": \"value_string\", \"height_agl\": \"value\"})\n",
    ")\n",
    "observed_cloud_layer\n"
   ]
  },
  {
   "cell_type": "code",
   "execution_count": 17,
   "metadata": {},
   "outputs": [],
   "source": [
    "# Join all observation values\n",
    "\n",
    "observed = pl.concat(\n",
    "    [observed_float, observed_string, observed_cloud_layer], how=\"diagonal_relaxed\"\n",
    ")"
   ]
  },
  {
   "cell_type": "code",
   "execution_count": 18,
   "metadata": {},
   "outputs": [
    {
     "data": {
      "text/html": [
       "<div><style>\n",
       ".dataframe > thead > tr,\n",
       ".dataframe > tbody > tr {\n",
       "  text-align: right;\n",
       "  white-space: pre-wrap;\n",
       "}\n",
       "</style>\n",
       "<small>shape: (12_913, 34)</small><table border=\"1\" class=\"dataframe\"><thead><tr><th>stid</th><th>variable</th><th>sensor_index</th><th>is_derived</th><th>value</th><th>date_time</th><th>qc_passed</th><th>qc_flags</th><th>value_string</th><th>id</th><th>name</th><th>elevation</th><th>latitude</th><th>longitude</th><th>mnet_id</th><th>state</th><th>timezone</th><th>elev_dem</th><th>nwszone</th><th>nwsfirezone</th><th>gacc</th><th>shortname</th><th>sgid</th><th>county</th><th>country</th><th>wims_id</th><th>cwa</th><th>period_of_record_start</th><th>period_of_record_end</th><th>providers</th><th>qc_flagged</th><th>is_restricted</th><th>is_active</th><th>units</th></tr><tr><td>str</td><td>str</td><td>u32</td><td>bool</td><td>f64</td><td>datetime[μs, UTC]</td><td>bool</td><td>list[i64]</td><td>str</td><td>u32</td><td>str</td><td>f64</td><td>f64</td><td>f64</td><td>u32</td><td>str</td><td>str</td><td>f64</td><td>str</td><td>str</td><td>str</td><td>str</td><td>str</td><td>str</td><td>str</td><td>str</td><td>str</td><td>datetime[μs, UTC]</td><td>datetime[μs, UTC]</td><td>list[struct[2]]</td><td>bool</td><td>bool</td><td>bool</td><td>str</td></tr></thead><tbody><tr><td>&quot;WBB&quot;</td><td>&quot;pressure&quot;</td><td>1</td><td>false</td><td>85878.0</td><td>2024-11-20 04:55:00 UTC</td><td>true</td><td>null</td><td>null</td><td>1</td><td>&quot;U of U William Browning Buildi…</td><td>4806.0</td><td>40.76623</td><td>-111.84755</td><td>153</td><td>&quot;UT&quot;</td><td>&quot;America/Denver&quot;</td><td>4727.7</td><td>&quot;UT105&quot;</td><td>&quot;SLC478&quot;</td><td>&quot;GBCC&quot;</td><td>&quot;UUNET&quot;</td><td>&quot;GB25&quot;</td><td>&quot;Salt Lake&quot;</td><td>&quot;US&quot;</td><td>null</td><td>&quot;SLC&quot;</td><td>1997-01-01 00:00:00 UTC</td><td>2024-11-20 04:50:00 UTC</td><td>[{&quot;U of U MesoWest Group&quot;,&quot;http://meso1.chpc.utah.edu/mesowest_overview/&quot;}, {&quot;U-ATAQ&quot;,&quot;http://air.utah.edu/&quot;}]</td><td>false</td><td>false</td><td>true</td><td>&quot;Pascals&quot;</td></tr><tr><td>&quot;GNI&quot;</td><td>&quot;pressure&quot;</td><td>1</td><td>false</td><td>87058.0</td><td>2024-10-31 07:40:00 UTC</td><td>true</td><td>null</td><td>null</td><td>34</td><td>&quot;Gunnison Island&quot;</td><td>4242.0</td><td>41.33216</td><td>-112.85432</td><td>153</td><td>&quot;UT&quot;</td><td>&quot;America/Denver&quot;</td><td>4202.8</td><td>&quot;UT101&quot;</td><td>&quot;SLC478&quot;</td><td>&quot;GBCC&quot;</td><td>&quot;UUNET&quot;</td><td>&quot;GB25&quot;</td><td>&quot;Box Elder&quot;</td><td>&quot;US&quot;</td><td>null</td><td>&quot;SLC&quot;</td><td>1998-05-22 00:00:00 UTC</td><td>2024-11-20 04:45:00 UTC</td><td>[{&quot;U of U MesoWest Group&quot;,&quot;http://meso1.chpc.utah.edu/mesowest_overview/&quot;}, {&quot;Utah Department of Natural Resources&quot;,&quot;http://www.dnr.utah.gov&quot;}, {&quot;SLC WFO/NWS Western Region&quot;,&quot;http://www.wrh.noaa.gov/slc&quot;}]</td><td>false</td><td>false</td><td>true</td><td>&quot;Pascals&quot;</td></tr><tr><td>&quot;HATUT&quot;</td><td>&quot;pressure&quot;</td><td>1</td><td>false</td><td>87580.0</td><td>2024-11-20 04:45:00 UTC</td><td>true</td><td>null</td><td>null</td><td>35</td><td>&quot;Hat Island&quot;</td><td>4242.0</td><td>41.07073</td><td>-112.58621</td><td>153</td><td>&quot;UT&quot;</td><td>&quot;America/Denver&quot;</td><td>4245.4</td><td>&quot;UT101&quot;</td><td>&quot;SLC478&quot;</td><td>&quot;GBCC&quot;</td><td>&quot;UUNET&quot;</td><td>&quot;GB25&quot;</td><td>&quot;Box Elder&quot;</td><td>&quot;US&quot;</td><td>null</td><td>&quot;SLC&quot;</td><td>1998-09-02 00:00:00 UTC</td><td>2024-11-20 04:45:00 UTC</td><td>[{&quot;U of U MesoWest Group&quot;,&quot;http://meso1.chpc.utah.edu/mesowest_overview/&quot;}, {&quot;Utah Department of Natural Resources&quot;,&quot;http://www.dnr.utah.gov&quot;}, {&quot;SLC WFO/NWS Western Region&quot;,&quot;http://www.wrh.noaa.gov/slc&quot;}]</td><td>false</td><td>false</td><td>true</td><td>&quot;Pascals&quot;</td></tr><tr><td>&quot;LMS&quot;</td><td>&quot;pressure&quot;</td><td>1</td><td>false</td><td>87821.0</td><td>2024-11-20 04:45:00 UTC</td><td>true</td><td>null</td><td>null</td><td>36</td><td>&quot;Locomotive Springs&quot;</td><td>4242.0</td><td>41.701</td><td>-112.86181</td><td>153</td><td>&quot;UT&quot;</td><td>&quot;America/Denver&quot;</td><td>4215.9</td><td>&quot;UT101&quot;</td><td>&quot;SLC478&quot;</td><td>&quot;GBCC&quot;</td><td>&quot;UUNET&quot;</td><td>&quot;GB25&quot;</td><td>&quot;Box Elder&quot;</td><td>&quot;US&quot;</td><td>null</td><td>&quot;SLC&quot;</td><td>1999-07-02 00:00:00 UTC</td><td>2024-11-20 04:45:00 UTC</td><td>[{&quot;U of U MesoWest Group&quot;,&quot;http://meso1.chpc.utah.edu/mesowest_overview/&quot;}, {&quot;SLC WFO/NWS Western Region&quot;,&quot;http://www.wrh.noaa.gov/slc&quot;}]</td><td>false</td><td>false</td><td>true</td><td>&quot;Pascals&quot;</td></tr><tr><td>&quot;LMR&quot;</td><td>&quot;pressure&quot;</td><td>1</td><td>false</td><td>84728.0</td><td>2024-11-20 04:45:00 UTC</td><td>true</td><td>null</td><td>null</td><td>39</td><td>&quot;Lakeside Mountain&quot;</td><td>5039.0</td><td>41.06084</td><td>-112.89173</td><td>153</td><td>&quot;UT&quot;</td><td>&quot;America/Denver&quot;</td><td>5150.9</td><td>&quot;UT101&quot;</td><td>&quot;SLC478&quot;</td><td>&quot;GBCC&quot;</td><td>&quot;UUNET&quot;</td><td>&quot;GB25&quot;</td><td>&quot;Box Elder&quot;</td><td>&quot;US&quot;</td><td>null</td><td>&quot;SLC&quot;</td><td>1999-12-16 00:00:00 UTC</td><td>2024-11-20 04:45:00 UTC</td><td>[{&quot;U of U MesoWest Group&quot;,&quot;http://meso1.chpc.utah.edu/mesowest_overview/&quot;}, {&quot;SLC WFO/NWS Western Region&quot;,&quot;http://www.wrh.noaa.gov/slc&quot;}]</td><td>false</td><td>false</td><td>true</td><td>&quot;Pascals&quot;</td></tr><tr><td>&hellip;</td><td>&hellip;</td><td>&hellip;</td><td>&hellip;</td><td>&hellip;</td><td>&hellip;</td><td>&hellip;</td><td>&hellip;</td><td>&hellip;</td><td>&hellip;</td><td>&hellip;</td><td>&hellip;</td><td>&hellip;</td><td>&hellip;</td><td>&hellip;</td><td>&hellip;</td><td>&hellip;</td><td>&hellip;</td><td>&hellip;</td><td>&hellip;</td><td>&hellip;</td><td>&hellip;</td><td>&hellip;</td><td>&hellip;</td><td>&hellip;</td><td>&hellip;</td><td>&hellip;</td><td>&hellip;</td><td>&hellip;</td><td>&hellip;</td><td>&hellip;</td><td>&hellip;</td><td>&hellip;</td><td>&hellip;</td></tr><tr><td>&quot;K41U&quot;</td><td>&quot;cloud_layer_3&quot;</td><td>1</td><td>true</td><td>2590.83</td><td>2024-11-19 07:35:00 UTC</td><td>null</td><td>null</td><td>&quot;overcast&quot;</td><td>46328</td><td>&quot;Manti-Ephraim Airport&quot;</td><td>5500.0</td><td>39.33133</td><td>-111.61273</td><td>1</td><td>&quot;UT&quot;</td><td>&quot;America/Denver&quot;</td><td>5505.2</td><td>&quot;UT118&quot;</td><td>&quot;SLC492&quot;</td><td>&quot;GBCC&quot;</td><td>&quot;ASOS/AWOS&quot;</td><td>&quot;GB27&quot;</td><td>&quot;Sanpete&quot;</td><td>&quot;US&quot;</td><td>null</td><td>&quot;SLC&quot;</td><td>2015-06-03 18:59:00 UTC</td><td>2024-11-20 04:35:00 UTC</td><td>[{&quot;National Weather Service&quot;,&quot;http://www.weather.gov&quot;}]</td><td>false</td><td>false</td><td>true</td><td>&quot;Meters&quot;</td></tr><tr><td>&quot;UUSYR&quot;</td><td>&quot;cloud_layer_3&quot;</td><td>1</td><td>true</td><td>2225.07</td><td>2024-11-18 15:40:00 UTC</td><td>null</td><td>null</td><td>&quot;N/A&quot;</td><td>62231</td><td>&quot;Syracuse&quot;</td><td>4217.0</td><td>41.08847</td><td>-112.1188</td><td>153</td><td>&quot;UT&quot;</td><td>&quot;America/Denver&quot;</td><td>4215.9</td><td>&quot;UT104&quot;</td><td>&quot;SLC478&quot;</td><td>&quot;GBCC&quot;</td><td>&quot;UUNET&quot;</td><td>&quot;GB25&quot;</td><td>&quot;Davis&quot;</td><td>&quot;US&quot;</td><td>null</td><td>&quot;SLC&quot;</td><td>2017-03-17 19:46:00 UTC</td><td>2024-11-20 04:50:00 UTC</td><td>[{&quot;U of U MesoWest Group&quot;,&quot;http://meso1.chpc.utah.edu/mesowest_overview/&quot;}]</td><td>false</td><td>false</td><td>true</td><td>&quot;Meters&quot;</td></tr><tr><td>&quot;KSPK&quot;</td><td>&quot;cloud_layer_3&quot;</td><td>1</td><td>true</td><td>2286.03</td><td>2024-11-19 15:35:00 UTC</td><td>null</td><td>null</td><td>&quot;broken&quot;</td><td>160898</td><td>&quot;Spanish Fork Municipal Airport&quot;</td><td>4530.0</td><td>40.145</td><td>-111.6677</td><td>1</td><td>&quot;UT&quot;</td><td>&quot;America/Denver&quot;</td><td>4534.1</td><td>&quot;UT106&quot;</td><td>&quot;SLC478&quot;</td><td>&quot;GBCC&quot;</td><td>&quot;ASOS/AWOS&quot;</td><td>&quot;GB25&quot;</td><td>&quot;Utah&quot;</td><td>&quot;US&quot;</td><td>null</td><td>&quot;SLC&quot;</td><td>2021-01-19 19:28:00 UTC</td><td>2024-11-20 04:35:00 UTC</td><td>[{&quot;National Weather Service&quot;,&quot;http://www.weather.gov&quot;}]</td><td>false</td><td>false</td><td>true</td><td>&quot;Meters&quot;</td></tr><tr><td>&quot;KU64&quot;</td><td>&quot;cloud_layer_3&quot;</td><td>1</td><td>true</td><td>2590.83</td><td>2024-11-19 11:55:00 UTC</td><td>null</td><td>null</td><td>&quot;broken&quot;</td><td>207121</td><td>&quot;Monticello Airport&quot;</td><td>6970.0</td><td>37.93243</td><td>-109.34122</td><td>1</td><td>&quot;UT&quot;</td><td>&quot;America/Denver&quot;</td><td>null</td><td>&quot;UT028&quot;</td><td>&quot;GJT491&quot;</td><td>&quot;GBCC&quot;</td><td>&quot;ASOS/AWOS&quot;</td><td>&quot;GB32&quot;</td><td>&quot;San Juan&quot;</td><td>&quot;US&quot;</td><td>null</td><td>&quot;GJT&quot;</td><td>2023-04-06 13:59:00 UTC</td><td>2024-11-20 04:35:00 UTC</td><td>[{&quot;National Weather Service&quot;,&quot;http://www.weather.gov&quot;}]</td><td>false</td><td>false</td><td>true</td><td>&quot;Meters&quot;</td></tr><tr><td>&quot;K40U&quot;</td><td>&quot;cloud_layer_3&quot;</td><td>1</td><td>true</td><td>1524.02</td><td>2024-11-19 00:55:00 UTC</td><td>null</td><td>null</td><td>&quot;scattered&quot;</td><td>218094</td><td>&quot;MANILA&quot;</td><td>6175.0</td><td>40.9833</td><td>-109.6833</td><td>1</td><td>&quot;UT&quot;</td><td>&quot;America/Denver&quot;</td><td>null</td><td>&quot;UT023&quot;</td><td>&quot;GJT485&quot;</td><td>&quot;GBCC&quot;</td><td>&quot;ASOS/AWOS&quot;</td><td>&quot;GB29&quot;</td><td>&quot;Daggett&quot;</td><td>&quot;US&quot;</td><td>null</td><td>&quot;GJT&quot;</td><td>2023-05-24 20:23:00 UTC</td><td>2024-11-20 04:15:00 UTC</td><td>[{&quot;National Weather Service&quot;,&quot;http://www.weather.gov&quot;}]</td><td>true</td><td>false</td><td>true</td><td>&quot;Meters&quot;</td></tr></tbody></table></div>"
      ],
      "text/plain": [
       "shape: (12_913, 34)\n",
       "┌───────┬────────────┬────────────┬────────────┬───┬────────────┬────────────┬───────────┬─────────┐\n",
       "│ stid  ┆ variable   ┆ sensor_ind ┆ is_derived ┆ … ┆ qc_flagged ┆ is_restric ┆ is_active ┆ units   │\n",
       "│ ---   ┆ ---        ┆ ex         ┆ ---        ┆   ┆ ---        ┆ ted        ┆ ---       ┆ ---     │\n",
       "│ str   ┆ str        ┆ ---        ┆ bool       ┆   ┆ bool       ┆ ---        ┆ bool      ┆ str     │\n",
       "│       ┆            ┆ u32        ┆            ┆   ┆            ┆ bool       ┆           ┆         │\n",
       "╞═══════╪════════════╪════════════╪════════════╪═══╪════════════╪════════════╪═══════════╪═════════╡\n",
       "│ WBB   ┆ pressure   ┆ 1          ┆ false      ┆ … ┆ false      ┆ false      ┆ true      ┆ Pascals │\n",
       "│ GNI   ┆ pressure   ┆ 1          ┆ false      ┆ … ┆ false      ┆ false      ┆ true      ┆ Pascals │\n",
       "│ HATUT ┆ pressure   ┆ 1          ┆ false      ┆ … ┆ false      ┆ false      ┆ true      ┆ Pascals │\n",
       "│ LMS   ┆ pressure   ┆ 1          ┆ false      ┆ … ┆ false      ┆ false      ┆ true      ┆ Pascals │\n",
       "│ LMR   ┆ pressure   ┆ 1          ┆ false      ┆ … ┆ false      ┆ false      ┆ true      ┆ Pascals │\n",
       "│ …     ┆ …          ┆ …          ┆ …          ┆ … ┆ …          ┆ …          ┆ …         ┆ …       │\n",
       "│ K41U  ┆ cloud_laye ┆ 1          ┆ true       ┆ … ┆ false      ┆ false      ┆ true      ┆ Meters  │\n",
       "│       ┆ r_3        ┆            ┆            ┆   ┆            ┆            ┆           ┆         │\n",
       "│ UUSYR ┆ cloud_laye ┆ 1          ┆ true       ┆ … ┆ false      ┆ false      ┆ true      ┆ Meters  │\n",
       "│       ┆ r_3        ┆            ┆            ┆   ┆            ┆            ┆           ┆         │\n",
       "│ KSPK  ┆ cloud_laye ┆ 1          ┆ true       ┆ … ┆ false      ┆ false      ┆ true      ┆ Meters  │\n",
       "│       ┆ r_3        ┆            ┆            ┆   ┆            ┆            ┆           ┆         │\n",
       "│ KU64  ┆ cloud_laye ┆ 1          ┆ true       ┆ … ┆ false      ┆ false      ┆ true      ┆ Meters  │\n",
       "│       ┆ r_3        ┆            ┆            ┆   ┆            ┆            ┆           ┆         │\n",
       "│ K40U  ┆ cloud_laye ┆ 1          ┆ true       ┆ … ┆ true       ┆ false      ┆ true      ┆ Meters  │\n",
       "│       ┆ r_3        ┆            ┆            ┆   ┆            ┆            ┆           ┆         │\n",
       "└───────┴────────────┴────────────┴────────────┴───┴────────────┴────────────┴───────────┴─────────┘"
      ]
     },
     "execution_count": 18,
     "metadata": {},
     "output_type": "execute_result"
    }
   ],
   "source": [
    "# Join the metadata to the observed values\n",
    "\n",
    "observed = observed.join(metadata, on=\"stid\", how=\"full\", coalesce=True)\n",
    "\n",
    "# Pase the variable name\n",
    "observed = (\n",
    "    observed.with_columns(\n",
    "        pl.col(\"variable\").str.extract_groups(\n",
    "            r\"(?<variable>.+)_value_(?<sensor_index>\\d)(?<is_derived>d?)\"\n",
    "        )\n",
    "    )\n",
    "    .unnest(\"variable\")\n",
    "    .with_columns(\n",
    "        pl.col(\"is_derived\") == \"d\",\n",
    "        pl.col(\"sensor_index\").cast(pl.UInt32),\n",
    "        pl.col(\"variable\").replace(S.UNITS).alias(\"units\"),\n",
    "    )\n",
    ")\n",
    "\n",
    "if \"qc\" in observed.columns:\n",
    "    observed = (\n",
    "        observed.unnest(\"qc\")\n",
    "        .rename({\"status\": \"qc_passed\"})\n",
    "        .with_columns(\n",
    "            pl.col(\"qc_passed\").replace_strict({\"failed\": False, \"passed\": True})\n",
    "        )\n",
    "    )\n",
    "\n",
    "observed"
   ]
  },
  {
   "cell_type": "code",
   "execution_count": 16,
   "metadata": {},
   "outputs": [
    {
     "data": {
      "text/html": [
       "<div><style>\n",
       ".dataframe > thead > tr,\n",
       ".dataframe > tbody > tr {\n",
       "  text-align: right;\n",
       "  white-space: pre-wrap;\n",
       "}\n",
       "</style>\n",
       "<small>shape: (12_913,)</small><table border=\"1\" class=\"dataframe\"><thead><tr><th>units</th></tr><tr><td>str</td></tr></thead><tbody><tr><td>&quot;Pascals&quot;</td></tr><tr><td>&quot;Pascals&quot;</td></tr><tr><td>&quot;Pascals&quot;</td></tr><tr><td>&quot;Pascals&quot;</td></tr><tr><td>&quot;Pascals&quot;</td></tr><tr><td>&hellip;</td></tr><tr><td>&quot;Meters&quot;</td></tr><tr><td>&quot;Meters&quot;</td></tr><tr><td>&quot;Meters&quot;</td></tr><tr><td>&quot;Meters&quot;</td></tr><tr><td>&quot;Meters&quot;</td></tr></tbody></table></div>"
      ],
      "text/plain": [
       "shape: (12_913,)\n",
       "Series: 'units' [str]\n",
       "[\n",
       "\t\"Pascals\"\n",
       "\t\"Pascals\"\n",
       "\t\"Pascals\"\n",
       "\t\"Pascals\"\n",
       "\t\"Pascals\"\n",
       "\t…\n",
       "\t\"Meters\"\n",
       "\t\"Meters\"\n",
       "\t\"Meters\"\n",
       "\t\"Meters\"\n",
       "\t\"Meters\"\n",
       "]"
      ]
     },
     "execution_count": 16,
     "metadata": {},
     "output_type": "execute_result"
    }
   ],
   "source": [
    "observed[\"units\"]"
   ]
  }
 ],
 "metadata": {
  "kernelspec": {
   "display_name": "synoptic2",
   "language": "python",
   "name": "python3"
  },
  "language_info": {
   "codemirror_mode": {
    "name": "ipython",
    "version": 3
   },
   "file_extension": ".py",
   "mimetype": "text/x-python",
   "name": "python",
   "nbconvert_exporter": "python",
   "pygments_lexer": "ipython3",
   "version": "3.12.5"
  }
 },
 "nbformat": 4,
 "nbformat_minor": 2
}
