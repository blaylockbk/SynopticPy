{
 "cells": [
  {
   "cell_type": "markdown",
   "metadata": {},
   "source": [
    "# New Metadata parser\n",
    "Instead of looping though each individually, build the metadata dict all at once."
   ]
  },
  {
   "cell_type": "code",
   "execution_count": 1,
   "metadata": {},
   "outputs": [],
   "source": [
    "import synoptic"
   ]
  },
  {
   "cell_type": "code",
   "execution_count": 2,
   "metadata": {},
   "outputs": [
    {
     "name": "stdout",
     "output_type": "stream",
     "text": [
      "🚚💨 Speedy delivery from Synoptic's \u001b[32mlatest\u001b[0m service.\n",
      "📦 Received data from 1,448 stations.\n",
      "col='stid', schema=String\n"
     ]
    },
    {
     "data": {
      "text/html": [
       "<div><style>\n",
       ".dataframe > thead > tr,\n",
       ".dataframe > tbody > tr {\n",
       "  text-align: right;\n",
       "  white-space: pre-wrap;\n",
       "}\n",
       "</style>\n",
       "<small>shape: (12_902, 34)</small><table border=\"1\" class=\"dataframe\"><thead><tr><th>stid</th><th>variable</th><th>sensor_index</th><th>is_derived</th><th>value</th><th>date_time</th><th>qc_passed</th><th>qc_flags</th><th>units</th><th>value_string</th><th>id</th><th>name</th><th>elevation</th><th>latitude</th><th>longitude</th><th>mnet_id</th><th>state</th><th>timezone</th><th>elev_dem</th><th>nwszone</th><th>nwsfirezone</th><th>gacc</th><th>shortname</th><th>sgid</th><th>county</th><th>country</th><th>wims_id</th><th>cwa</th><th>period_of_record_start</th><th>period_of_record_end</th><th>providers</th><th>qc_flagged</th><th>is_restricted</th><th>is_active</th></tr><tr><td>str</td><td>str</td><td>u32</td><td>bool</td><td>f64</td><td>datetime[μs, UTC]</td><td>bool</td><td>list[i64]</td><td>str</td><td>str</td><td>u32</td><td>str</td><td>f64</td><td>f64</td><td>f64</td><td>u32</td><td>str</td><td>str</td><td>f64</td><td>str</td><td>str</td><td>str</td><td>str</td><td>str</td><td>str</td><td>str</td><td>str</td><td>str</td><td>datetime[μs, UTC]</td><td>datetime[μs, UTC]</td><td>list[struct[2]]</td><td>bool</td><td>bool</td><td>bool</td></tr></thead><tbody><tr><td>&quot;WBB&quot;</td><td>&quot;pressure&quot;</td><td>1</td><td>false</td><td>84996.0</td><td>2024-11-19 04:10:00 UTC</td><td>true</td><td>null</td><td>&quot;Pascals&quot;</td><td>null</td><td>1</td><td>&quot;U of U William Browning Buildi…</td><td>4806.0</td><td>40.76623</td><td>-111.84755</td><td>153</td><td>&quot;UT&quot;</td><td>&quot;America/Denver&quot;</td><td>4727.7</td><td>&quot;UT105&quot;</td><td>&quot;SLC478&quot;</td><td>&quot;GBCC&quot;</td><td>&quot;UUNET&quot;</td><td>&quot;GB25&quot;</td><td>&quot;Salt Lake&quot;</td><td>&quot;US&quot;</td><td>null</td><td>&quot;SLC&quot;</td><td>1997-01-01 00:00:00 UTC</td><td>2024-11-19 03:15:00 UTC</td><td>[{&quot;U of U MesoWest Group&quot;,&quot;http://meso1.chpc.utah.edu/mesowest_overview/&quot;}, {&quot;U-ATAQ&quot;,&quot;http://air.utah.edu/&quot;}]</td><td>false</td><td>false</td><td>true</td></tr><tr><td>&quot;GNI&quot;</td><td>&quot;pressure&quot;</td><td>1</td><td>false</td><td>87058.0</td><td>2024-10-31 07:40:00 UTC</td><td>true</td><td>null</td><td>&quot;Pascals&quot;</td><td>null</td><td>34</td><td>&quot;Gunnison Island&quot;</td><td>4242.0</td><td>41.33216</td><td>-112.85432</td><td>153</td><td>&quot;UT&quot;</td><td>&quot;America/Denver&quot;</td><td>4202.8</td><td>&quot;UT101&quot;</td><td>&quot;SLC478&quot;</td><td>&quot;GBCC&quot;</td><td>&quot;UUNET&quot;</td><td>&quot;GB25&quot;</td><td>&quot;Box Elder&quot;</td><td>&quot;US&quot;</td><td>null</td><td>&quot;SLC&quot;</td><td>1998-05-22 00:00:00 UTC</td><td>2024-11-19 03:00:00 UTC</td><td>[{&quot;U of U MesoWest Group&quot;,&quot;http://meso1.chpc.utah.edu/mesowest_overview/&quot;}, {&quot;Utah Department of Natural Resources&quot;,&quot;http://www.dnr.utah.gov&quot;}, {&quot;SLC WFO/NWS Western Region&quot;,&quot;http://www.wrh.noaa.gov/slc&quot;}]</td><td>false</td><td>false</td><td>true</td></tr><tr><td>&quot;HATUT&quot;</td><td>&quot;pressure&quot;</td><td>1</td><td>false</td><td>86690.0</td><td>2024-11-19 04:00:00 UTC</td><td>true</td><td>null</td><td>&quot;Pascals&quot;</td><td>null</td><td>35</td><td>&quot;Hat Island&quot;</td><td>4242.0</td><td>41.07073</td><td>-112.58621</td><td>153</td><td>&quot;UT&quot;</td><td>&quot;America/Denver&quot;</td><td>4245.4</td><td>&quot;UT101&quot;</td><td>&quot;SLC478&quot;</td><td>&quot;GBCC&quot;</td><td>&quot;UUNET&quot;</td><td>&quot;GB25&quot;</td><td>&quot;Box Elder&quot;</td><td>&quot;US&quot;</td><td>null</td><td>&quot;SLC&quot;</td><td>1998-09-02 00:00:00 UTC</td><td>2024-11-19 03:15:00 UTC</td><td>[{&quot;U of U MesoWest Group&quot;,&quot;http://meso1.chpc.utah.edu/mesowest_overview/&quot;}, {&quot;Utah Department of Natural Resources&quot;,&quot;http://www.dnr.utah.gov&quot;}, {&quot;SLC WFO/NWS Western Region&quot;,&quot;http://www.wrh.noaa.gov/slc&quot;}]</td><td>false</td><td>false</td><td>true</td></tr><tr><td>&quot;LMS&quot;</td><td>&quot;pressure&quot;</td><td>1</td><td>false</td><td>86971.0</td><td>2024-11-19 04:00:00 UTC</td><td>true</td><td>null</td><td>&quot;Pascals&quot;</td><td>null</td><td>36</td><td>&quot;Locomotive Springs&quot;</td><td>4242.0</td><td>41.701</td><td>-112.86181</td><td>153</td><td>&quot;UT&quot;</td><td>&quot;America/Denver&quot;</td><td>4215.9</td><td>&quot;UT101&quot;</td><td>&quot;SLC478&quot;</td><td>&quot;GBCC&quot;</td><td>&quot;UUNET&quot;</td><td>&quot;GB25&quot;</td><td>&quot;Box Elder&quot;</td><td>&quot;US&quot;</td><td>null</td><td>&quot;SLC&quot;</td><td>1999-07-02 00:00:00 UTC</td><td>2024-11-19 03:00:00 UTC</td><td>[{&quot;U of U MesoWest Group&quot;,&quot;http://meso1.chpc.utah.edu/mesowest_overview/&quot;}, {&quot;SLC WFO/NWS Western Region&quot;,&quot;http://www.wrh.noaa.gov/slc&quot;}]</td><td>false</td><td>false</td><td>true</td></tr><tr><td>&quot;LMR&quot;</td><td>&quot;pressure&quot;</td><td>1</td><td>false</td><td>83929.0</td><td>2024-11-19 04:00:00 UTC</td><td>true</td><td>null</td><td>&quot;Pascals&quot;</td><td>null</td><td>39</td><td>&quot;Lakeside Mountain&quot;</td><td>5039.0</td><td>41.06084</td><td>-112.89173</td><td>153</td><td>&quot;UT&quot;</td><td>&quot;America/Denver&quot;</td><td>5150.9</td><td>&quot;UT101&quot;</td><td>&quot;SLC478&quot;</td><td>&quot;GBCC&quot;</td><td>&quot;UUNET&quot;</td><td>&quot;GB25&quot;</td><td>&quot;Box Elder&quot;</td><td>&quot;US&quot;</td><td>null</td><td>&quot;SLC&quot;</td><td>1999-12-16 00:00:00 UTC</td><td>2024-11-19 03:00:00 UTC</td><td>[{&quot;U of U MesoWest Group&quot;,&quot;http://meso1.chpc.utah.edu/mesowest_overview/&quot;}, {&quot;SLC WFO/NWS Western Region&quot;,&quot;http://www.wrh.noaa.gov/slc&quot;}]</td><td>false</td><td>false</td><td>true</td></tr><tr><td>&hellip;</td><td>&hellip;</td><td>&hellip;</td><td>&hellip;</td><td>&hellip;</td><td>&hellip;</td><td>&hellip;</td><td>&hellip;</td><td>&hellip;</td><td>&hellip;</td><td>&hellip;</td><td>&hellip;</td><td>&hellip;</td><td>&hellip;</td><td>&hellip;</td><td>&hellip;</td><td>&hellip;</td><td>&hellip;</td><td>&hellip;</td><td>&hellip;</td><td>&hellip;</td><td>&hellip;</td><td>&hellip;</td><td>&hellip;</td><td>&hellip;</td><td>&hellip;</td><td>&hellip;</td><td>&hellip;</td><td>&hellip;</td><td>&hellip;</td><td>&hellip;</td><td>&hellip;</td><td>&hellip;</td><td>&hellip;</td></tr><tr><td>&quot;K41U&quot;</td><td>&quot;cloud_layer_3&quot;</td><td>1</td><td>true</td><td>3352.84</td><td>2024-11-18 19:55:00 UTC</td><td>null</td><td>null</td><td>&quot;Meters&quot;</td><td>&quot;broken&quot;</td><td>46328</td><td>&quot;Manti-Ephraim Airport&quot;</td><td>5500.0</td><td>39.33133</td><td>-111.61273</td><td>1</td><td>&quot;UT&quot;</td><td>&quot;America/Denver&quot;</td><td>5505.2</td><td>&quot;UT118&quot;</td><td>&quot;SLC492&quot;</td><td>&quot;GBCC&quot;</td><td>&quot;ASOS/AWOS&quot;</td><td>&quot;GB27&quot;</td><td>&quot;Sanpete&quot;</td><td>&quot;US&quot;</td><td>null</td><td>&quot;SLC&quot;</td><td>2015-06-03 18:59:00 UTC</td><td>2024-11-19 02:55:00 UTC</td><td>[{&quot;National Weather Service&quot;,&quot;http://www.weather.gov&quot;}]</td><td>true</td><td>false</td><td>true</td></tr><tr><td>&quot;UUSYR&quot;</td><td>&quot;cloud_layer_3&quot;</td><td>1</td><td>true</td><td>2225.07</td><td>2024-11-18 15:40:00 UTC</td><td>null</td><td>null</td><td>&quot;Meters&quot;</td><td>&quot;N/A&quot;</td><td>62231</td><td>&quot;Syracuse&quot;</td><td>4217.0</td><td>41.08847</td><td>-112.1188</td><td>153</td><td>&quot;UT&quot;</td><td>&quot;America/Denver&quot;</td><td>4215.9</td><td>&quot;UT104&quot;</td><td>&quot;SLC478&quot;</td><td>&quot;GBCC&quot;</td><td>&quot;UUNET&quot;</td><td>&quot;GB25&quot;</td><td>&quot;Davis&quot;</td><td>&quot;US&quot;</td><td>null</td><td>&quot;SLC&quot;</td><td>2017-03-17 19:46:00 UTC</td><td>2024-11-19 03:15:00 UTC</td><td>[{&quot;U of U MesoWest Group&quot;,&quot;http://meso1.chpc.utah.edu/mesowest_overview/&quot;}]</td><td>false</td><td>false</td><td>true</td></tr><tr><td>&quot;KSPK&quot;</td><td>&quot;cloud_layer_3&quot;</td><td>1</td><td>true</td><td>3048.04</td><td>2024-11-18 23:15:00 UTC</td><td>null</td><td>null</td><td>&quot;Meters&quot;</td><td>&quot;broken&quot;</td><td>160898</td><td>&quot;Spanish Fork Municipal Airport&quot;</td><td>4530.0</td><td>40.145</td><td>-111.6677</td><td>1</td><td>&quot;UT&quot;</td><td>&quot;America/Denver&quot;</td><td>4534.1</td><td>&quot;UT106&quot;</td><td>&quot;SLC478&quot;</td><td>&quot;GBCC&quot;</td><td>&quot;ASOS/AWOS&quot;</td><td>&quot;GB25&quot;</td><td>&quot;Utah&quot;</td><td>&quot;US&quot;</td><td>null</td><td>&quot;SLC&quot;</td><td>2021-01-19 19:28:00 UTC</td><td>2024-11-19 02:55:00 UTC</td><td>[{&quot;National Weather Service&quot;,&quot;http://www.weather.gov&quot;}]</td><td>false</td><td>false</td><td>true</td></tr><tr><td>&quot;KU64&quot;</td><td>&quot;cloud_layer_3&quot;</td><td>1</td><td>true</td><td>4876.86</td><td>2024-11-18 15:55:00 UTC</td><td>null</td><td>null</td><td>&quot;Meters&quot;</td><td>&quot;broken&quot;</td><td>207121</td><td>&quot;Monticello Airport&quot;</td><td>6970.0</td><td>37.93243</td><td>-109.34122</td><td>1</td><td>&quot;UT&quot;</td><td>&quot;America/Denver&quot;</td><td>null</td><td>&quot;UT028&quot;</td><td>&quot;GJT491&quot;</td><td>&quot;GBCC&quot;</td><td>&quot;ASOS/AWOS&quot;</td><td>&quot;GB32&quot;</td><td>&quot;San Juan&quot;</td><td>&quot;US&quot;</td><td>null</td><td>&quot;GJT&quot;</td><td>2023-04-06 13:59:00 UTC</td><td>2024-11-19 02:55:00 UTC</td><td>[{&quot;National Weather Service&quot;,&quot;http://www.weather.gov&quot;}]</td><td>false</td><td>false</td><td>true</td></tr><tr><td>&quot;K40U&quot;</td><td>&quot;cloud_layer_3&quot;</td><td>1</td><td>true</td><td>1524.02</td><td>2024-11-19 00:55:00 UTC</td><td>null</td><td>null</td><td>&quot;Meters&quot;</td><td>&quot;scattered&quot;</td><td>218094</td><td>&quot;MANILA&quot;</td><td>6175.0</td><td>40.9833</td><td>-109.6833</td><td>1</td><td>&quot;UT&quot;</td><td>&quot;America/Denver&quot;</td><td>null</td><td>&quot;UT023&quot;</td><td>&quot;GJT485&quot;</td><td>&quot;GBCC&quot;</td><td>&quot;ASOS/AWOS&quot;</td><td>&quot;GB29&quot;</td><td>&quot;Daggett&quot;</td><td>&quot;US&quot;</td><td>null</td><td>&quot;GJT&quot;</td><td>2023-05-24 20:23:00 UTC</td><td>2024-11-19 02:55:00 UTC</td><td>[{&quot;National Weather Service&quot;,&quot;http://www.weather.gov&quot;}]</td><td>false</td><td>false</td><td>true</td></tr></tbody></table></div>"
      ],
      "text/plain": [
       "shape: (12_902, 34)\n",
       "┌───────┬────────────┬────────────┬────────────┬───┬───────────┬───────────┬───────────┬───────────┐\n",
       "│ stid  ┆ variable   ┆ sensor_ind ┆ is_derived ┆ … ┆ providers ┆ qc_flagge ┆ is_restri ┆ is_active │\n",
       "│ ---   ┆ ---        ┆ ex         ┆ ---        ┆   ┆ ---       ┆ d         ┆ cted      ┆ ---       │\n",
       "│ str   ┆ str        ┆ ---        ┆ bool       ┆   ┆ list[stru ┆ ---       ┆ ---       ┆ bool      │\n",
       "│       ┆            ┆ u32        ┆            ┆   ┆ ct[2]]    ┆ bool      ┆ bool      ┆           │\n",
       "╞═══════╪════════════╪════════════╪════════════╪═══╪═══════════╪═══════════╪═══════════╪═══════════╡\n",
       "│ WBB   ┆ pressure   ┆ 1          ┆ false      ┆ … ┆ [{\"U of U ┆ false     ┆ false     ┆ true      │\n",
       "│       ┆            ┆            ┆            ┆   ┆ MesoWest  ┆           ┆           ┆           │\n",
       "│       ┆            ┆            ┆            ┆   ┆ Group\",\"h ┆           ┆           ┆           │\n",
       "│       ┆            ┆            ┆            ┆   ┆ tt…       ┆           ┆           ┆           │\n",
       "│ GNI   ┆ pressure   ┆ 1          ┆ false      ┆ … ┆ [{\"U of U ┆ false     ┆ false     ┆ true      │\n",
       "│       ┆            ┆            ┆            ┆   ┆ MesoWest  ┆           ┆           ┆           │\n",
       "│       ┆            ┆            ┆            ┆   ┆ Group\",\"h ┆           ┆           ┆           │\n",
       "│       ┆            ┆            ┆            ┆   ┆ tt…       ┆           ┆           ┆           │\n",
       "│ HATUT ┆ pressure   ┆ 1          ┆ false      ┆ … ┆ [{\"U of U ┆ false     ┆ false     ┆ true      │\n",
       "│       ┆            ┆            ┆            ┆   ┆ MesoWest  ┆           ┆           ┆           │\n",
       "│       ┆            ┆            ┆            ┆   ┆ Group\",\"h ┆           ┆           ┆           │\n",
       "│       ┆            ┆            ┆            ┆   ┆ tt…       ┆           ┆           ┆           │\n",
       "│ LMS   ┆ pressure   ┆ 1          ┆ false      ┆ … ┆ [{\"U of U ┆ false     ┆ false     ┆ true      │\n",
       "│       ┆            ┆            ┆            ┆   ┆ MesoWest  ┆           ┆           ┆           │\n",
       "│       ┆            ┆            ┆            ┆   ┆ Group\",\"h ┆           ┆           ┆           │\n",
       "│       ┆            ┆            ┆            ┆   ┆ tt…       ┆           ┆           ┆           │\n",
       "│ LMR   ┆ pressure   ┆ 1          ┆ false      ┆ … ┆ [{\"U of U ┆ false     ┆ false     ┆ true      │\n",
       "│       ┆            ┆            ┆            ┆   ┆ MesoWest  ┆           ┆           ┆           │\n",
       "│       ┆            ┆            ┆            ┆   ┆ Group\",\"h ┆           ┆           ┆           │\n",
       "│       ┆            ┆            ┆            ┆   ┆ tt…       ┆           ┆           ┆           │\n",
       "│ …     ┆ …          ┆ …          ┆ …          ┆ … ┆ …         ┆ …         ┆ …         ┆ …         │\n",
       "│ K41U  ┆ cloud_laye ┆ 1          ┆ true       ┆ … ┆ [{\"Nation ┆ true      ┆ false     ┆ true      │\n",
       "│       ┆ r_3        ┆            ┆            ┆   ┆ al        ┆           ┆           ┆           │\n",
       "│       ┆            ┆            ┆            ┆   ┆ Weather   ┆           ┆           ┆           │\n",
       "│       ┆            ┆            ┆            ┆   ┆ Service\", ┆           ┆           ┆           │\n",
       "│       ┆            ┆            ┆            ┆   ┆ \"…        ┆           ┆           ┆           │\n",
       "│ UUSYR ┆ cloud_laye ┆ 1          ┆ true       ┆ … ┆ [{\"U of U ┆ false     ┆ false     ┆ true      │\n",
       "│       ┆ r_3        ┆            ┆            ┆   ┆ MesoWest  ┆           ┆           ┆           │\n",
       "│       ┆            ┆            ┆            ┆   ┆ Group\",\"h ┆           ┆           ┆           │\n",
       "│       ┆            ┆            ┆            ┆   ┆ tt…       ┆           ┆           ┆           │\n",
       "│ KSPK  ┆ cloud_laye ┆ 1          ┆ true       ┆ … ┆ [{\"Nation ┆ false     ┆ false     ┆ true      │\n",
       "│       ┆ r_3        ┆            ┆            ┆   ┆ al        ┆           ┆           ┆           │\n",
       "│       ┆            ┆            ┆            ┆   ┆ Weather   ┆           ┆           ┆           │\n",
       "│       ┆            ┆            ┆            ┆   ┆ Service\", ┆           ┆           ┆           │\n",
       "│       ┆            ┆            ┆            ┆   ┆ \"…        ┆           ┆           ┆           │\n",
       "│ KU64  ┆ cloud_laye ┆ 1          ┆ true       ┆ … ┆ [{\"Nation ┆ false     ┆ false     ┆ true      │\n",
       "│       ┆ r_3        ┆            ┆            ┆   ┆ al        ┆           ┆           ┆           │\n",
       "│       ┆            ┆            ┆            ┆   ┆ Weather   ┆           ┆           ┆           │\n",
       "│       ┆            ┆            ┆            ┆   ┆ Service\", ┆           ┆           ┆           │\n",
       "│       ┆            ┆            ┆            ┆   ┆ \"…        ┆           ┆           ┆           │\n",
       "│ K40U  ┆ cloud_laye ┆ 1          ┆ true       ┆ … ┆ [{\"Nation ┆ false     ┆ false     ┆ true      │\n",
       "│       ┆ r_3        ┆            ┆            ┆   ┆ al        ┆           ┆           ┆           │\n",
       "│       ┆            ┆            ┆            ┆   ┆ Weather   ┆           ┆           ┆           │\n",
       "│       ┆            ┆            ┆            ┆   ┆ Service\", ┆           ┆           ┆           │\n",
       "│       ┆            ┆            ┆            ┆   ┆ \"…        ┆           ┆           ┆           │\n",
       "└───────┴────────────┴────────────┴────────────┴───┴───────────┴───────────┴───────────┴───────────┘"
      ]
     },
     "execution_count": 2,
     "metadata": {},
     "output_type": "execute_result"
    }
   ],
   "source": [
    "df = synoptic.Latest(\n",
    "    # vars=\"air_temp,wind_speed,ozone_concentration\",\n",
    "    state=\"ut\",\n",
    "    # network=1,\n",
    "    complete=True,\n",
    "    qc=True,\n",
    "    qc_checks=\"all\",\n",
    ").df()\n",
    "df"
   ]
  },
  {
   "cell_type": "code",
   "execution_count": 4,
   "metadata": {},
   "outputs": [
    {
     "data": {
      "text/plain": [
       "[[1, 2, 3], [12, 3, 4]]"
      ]
     },
     "execution_count": 4,
     "metadata": {},
     "output_type": "execute_result"
    }
   ],
   "source": [
    "a = [[1, 2, 3], [12, 3, 4], []]\n",
    "[i for i in a if i]"
   ]
  },
  {
   "cell_type": "code",
   "execution_count": 3,
   "metadata": {},
   "outputs": [
    {
     "name": "stdout",
     "output_type": "stream",
     "text": [
      "🚚💨 Speedy delivery from Synoptic's \u001b[32mlatest\u001b[0m service.\n",
      "📦 Received data from 1,448 stations.\n"
     ]
    },
    {
     "ename": "ColumnNotFoundError",
     "evalue": "PERIOD_OF_RECORD\n\nResolved plan until failure:\n\n\t---> FAILED HERE RESOLVING 'with_columns' <---\nDF [\"date_time\", \"variable\", \"sensor_index\", \"is_derived\"]; PROJECT */10 COLUMNS; SELECTION: None",
     "output_type": "error",
     "traceback": [
      "\u001b[0;31m---------------------------------------------------------------------------\u001b[0m",
      "\u001b[0;31mColumnNotFoundError\u001b[0m                       Traceback (most recent call last)",
      "Cell \u001b[0;32mIn[3], line 8\u001b[0m\n\u001b[1;32m      1\u001b[0m df \u001b[38;5;241m=\u001b[39m \u001b[43msynoptic\u001b[49m\u001b[38;5;241;43m.\u001b[39;49m\u001b[43mOLD_Latest\u001b[49m\u001b[43m(\u001b[49m\n\u001b[1;32m      2\u001b[0m \u001b[43m    \u001b[49m\u001b[38;5;66;43;03m# vars=\"air_temp,wind_speed,ozone_concentration\",\u001b[39;49;00m\n\u001b[1;32m      3\u001b[0m \u001b[43m    \u001b[49m\u001b[43mstate\u001b[49m\u001b[38;5;241;43m=\u001b[39;49m\u001b[38;5;124;43m\"\u001b[39;49m\u001b[38;5;124;43mut\u001b[39;49m\u001b[38;5;124;43m\"\u001b[39;49m\u001b[43m,\u001b[49m\n\u001b[1;32m      4\u001b[0m \u001b[43m    \u001b[49m\u001b[38;5;66;43;03m# network=1,\u001b[39;49;00m\n\u001b[1;32m      5\u001b[0m \u001b[43m    \u001b[49m\u001b[43mcomplete\u001b[49m\u001b[38;5;241;43m=\u001b[39;49m\u001b[38;5;28;43;01mTrue\u001b[39;49;00m\u001b[43m,\u001b[49m\n\u001b[1;32m      6\u001b[0m \u001b[43m    \u001b[49m\u001b[43mqc\u001b[49m\u001b[38;5;241;43m=\u001b[39;49m\u001b[38;5;28;43;01mTrue\u001b[39;49;00m\u001b[43m,\u001b[49m\n\u001b[1;32m      7\u001b[0m \u001b[43m    \u001b[49m\u001b[43mqc_checks\u001b[49m\u001b[38;5;241;43m=\u001b[39;49m\u001b[38;5;124;43m\"\u001b[39;49m\u001b[38;5;124;43mall\u001b[39;49m\u001b[38;5;124;43m\"\u001b[39;49m\u001b[43m,\u001b[49m\n\u001b[0;32m----> 8\u001b[0m \u001b[43m)\u001b[49m\u001b[38;5;241;43m.\u001b[39;49m\u001b[43mdf\u001b[49m\u001b[43m(\u001b[49m\u001b[43m)\u001b[49m\n\u001b[1;32m      9\u001b[0m df\n",
      "File \u001b[0;32m~/GITHUB/SynopticPy/src/synoptic/services.py:425\u001b[0m, in \u001b[0;36mOLD_Latest.df\u001b[0;34m(self)\u001b[0m\n\u001b[1;32m    422\u001b[0m \u001b[38;5;129m@lru_cache\u001b[39m\n\u001b[1;32m    423\u001b[0m \u001b[38;5;28;01mdef\u001b[39;00m \u001b[38;5;21mdf\u001b[39m(\u001b[38;5;28mself\u001b[39m) \u001b[38;5;241m-\u001b[39m\u001b[38;5;241m>\u001b[39m pl\u001b[38;5;241m.\u001b[39mDataFrame:\n\u001b[1;32m    424\u001b[0m \u001b[38;5;250m    \u001b[39m\u001b[38;5;124;03m\"\"\"Stations latest DataFrame.\"\"\"\u001b[39;00m\n\u001b[0;32m--> 425\u001b[0m     df \u001b[38;5;241m=\u001b[39m \u001b[43mOLD_parse_stations_latest_nearesttime\u001b[49m\u001b[43m(\u001b[49m\u001b[38;5;28;43mself\u001b[39;49m\u001b[43m)\u001b[49m\n\u001b[1;32m    426\u001b[0m     \u001b[38;5;28;01mreturn\u001b[39;00m df\n",
      "File \u001b[0;32m~/GITHUB/SynopticPy/src/synoptic/json_parsers.py:455\u001b[0m, in \u001b[0;36mOLD_parse_stations_latest_nearesttime\u001b[0;34m(S)\u001b[0m\n\u001b[1;32m    452\u001b[0m df \u001b[38;5;241m=\u001b[39m pl\u001b[38;5;241m.\u001b[39mconcat(dfs, how\u001b[38;5;241m=\u001b[39m\u001b[38;5;124m\"\u001b[39m\u001b[38;5;124mdiagonal_relaxed\u001b[39m\u001b[38;5;124m\"\u001b[39m)\n\u001b[1;32m    454\u001b[0m \u001b[38;5;66;03m# Clean up\u001b[39;00m\n\u001b[0;32m--> 455\u001b[0m df \u001b[38;5;241m=\u001b[39m \u001b[43mdf\u001b[49m\u001b[38;5;241;43m.\u001b[39;49m\u001b[43mpipe\u001b[49m\u001b[43m(\u001b[49m\u001b[43munnest_period_of_record\u001b[49m\u001b[43m)\u001b[49m\n\u001b[1;32m    456\u001b[0m df \u001b[38;5;241m=\u001b[39m df\u001b[38;5;241m.\u001b[39mrename({i: i\u001b[38;5;241m.\u001b[39mlower() \u001b[38;5;28;01mfor\u001b[39;00m i \u001b[38;5;129;01min\u001b[39;00m df\u001b[38;5;241m.\u001b[39mcolumns})\n\u001b[1;32m    458\u001b[0m \u001b[38;5;66;03m# Don't want to confuse the user with this column, so drop it.\u001b[39;00m\n\u001b[1;32m    459\u001b[0m \u001b[38;5;66;03m# The user only needs to check for the `qc_flags` column to see if\u001b[39;00m\n\u001b[1;32m    460\u001b[0m \u001b[38;5;66;03m# the observation was QCed.\u001b[39;00m\n",
      "File \u001b[0;32m~/miniconda3/envs/synoptic2/lib/python3.12/site-packages/polars/dataframe/frame.py:5791\u001b[0m, in \u001b[0;36mDataFrame.pipe\u001b[0;34m(self, function, *args, **kwargs)\u001b[0m\n\u001b[1;32m   5726\u001b[0m \u001b[38;5;28;01mdef\u001b[39;00m \u001b[38;5;21mpipe\u001b[39m(\n\u001b[1;32m   5727\u001b[0m     \u001b[38;5;28mself\u001b[39m,\n\u001b[1;32m   5728\u001b[0m     function: Callable[Concatenate[DataFrame, P], T],\n\u001b[1;32m   5729\u001b[0m     \u001b[38;5;241m*\u001b[39margs: P\u001b[38;5;241m.\u001b[39margs,\n\u001b[1;32m   5730\u001b[0m     \u001b[38;5;241m*\u001b[39m\u001b[38;5;241m*\u001b[39mkwargs: P\u001b[38;5;241m.\u001b[39mkwargs,\n\u001b[1;32m   5731\u001b[0m ) \u001b[38;5;241m-\u001b[39m\u001b[38;5;241m>\u001b[39m T:\n\u001b[1;32m   5732\u001b[0m \u001b[38;5;250m    \u001b[39m\u001b[38;5;124;03m\"\"\"\u001b[39;00m\n\u001b[1;32m   5733\u001b[0m \u001b[38;5;124;03m    Offers a structured way to apply a sequence of user-defined functions (UDFs).\u001b[39;00m\n\u001b[1;32m   5734\u001b[0m \n\u001b[0;32m   (...)\u001b[0m\n\u001b[1;32m   5789\u001b[0m \u001b[38;5;124;03m    └─────┴─────┘\u001b[39;00m\n\u001b[1;32m   5790\u001b[0m \u001b[38;5;124;03m    \"\"\"\u001b[39;00m\n\u001b[0;32m-> 5791\u001b[0m     \u001b[38;5;28;01mreturn\u001b[39;00m \u001b[43mfunction\u001b[49m\u001b[43m(\u001b[49m\u001b[38;5;28;43mself\u001b[39;49m\u001b[43m,\u001b[49m\u001b[43m \u001b[49m\u001b[38;5;241;43m*\u001b[39;49m\u001b[43margs\u001b[49m\u001b[43m,\u001b[49m\u001b[43m \u001b[49m\u001b[38;5;241;43m*\u001b[39;49m\u001b[38;5;241;43m*\u001b[39;49m\u001b[43mkwargs\u001b[49m\u001b[43m)\u001b[49m\n",
      "File \u001b[0;32m~/GITHUB/SynopticPy/src/synoptic/json_parsers.py:15\u001b[0m, in \u001b[0;36munnest_period_of_record\u001b[0;34m(df)\u001b[0m\n\u001b[1;32m     11\u001b[0m \u001b[38;5;28;01mdef\u001b[39;00m \u001b[38;5;21munnest_period_of_record\u001b[39m(\n\u001b[1;32m     12\u001b[0m     df: pl\u001b[38;5;241m.\u001b[39mDataFrame \u001b[38;5;241m|\u001b[39m pl\u001b[38;5;241m.\u001b[39mLazyFrame,\n\u001b[1;32m     13\u001b[0m ) \u001b[38;5;241m-\u001b[39m\u001b[38;5;241m>\u001b[39m pl\u001b[38;5;241m.\u001b[39mDataFrame \u001b[38;5;241m|\u001b[39m pl\u001b[38;5;241m.\u001b[39mLazyFrame:\n\u001b[1;32m     14\u001b[0m \u001b[38;5;250m    \u001b[39m\u001b[38;5;124;03m\"\"\"Un-nest the PERIOD_OF_RECORD column struct.\"\"\"\u001b[39;00m\n\u001b[0;32m---> 15\u001b[0m     \u001b[38;5;28;01mreturn\u001b[39;00m \u001b[43mdf\u001b[49m\u001b[38;5;241;43m.\u001b[39;49m\u001b[43mwith_columns\u001b[49m\u001b[43m(\u001b[49m\n\u001b[1;32m     16\u001b[0m \u001b[43m        \u001b[49m\u001b[43mpl\u001b[49m\u001b[38;5;241;43m.\u001b[39;49m\u001b[43mstruct\u001b[49m\u001b[43m(\u001b[49m\n\u001b[1;32m     17\u001b[0m \u001b[43m            \u001b[49m\u001b[43mpl\u001b[49m\u001b[38;5;241;43m.\u001b[39;49m\u001b[43mcol\u001b[49m\u001b[43m(\u001b[49m\u001b[38;5;124;43m\"\u001b[39;49m\u001b[38;5;124;43mPERIOD_OF_RECORD\u001b[39;49m\u001b[38;5;124;43m\"\u001b[39;49m\u001b[43m)\u001b[49m\n\u001b[1;32m     18\u001b[0m \u001b[43m            \u001b[49m\u001b[38;5;241;43m.\u001b[39;49m\u001b[43mstruct\u001b[49m\u001b[38;5;241;43m.\u001b[39;49m\u001b[43mfield\u001b[49m\u001b[43m(\u001b[49m\u001b[38;5;124;43m\"\u001b[39;49m\u001b[38;5;124;43mstart\u001b[39;49m\u001b[38;5;124;43m\"\u001b[39;49m\u001b[43m)\u001b[49m\n\u001b[1;32m     19\u001b[0m \u001b[43m            \u001b[49m\u001b[38;5;241;43m.\u001b[39;49m\u001b[43mcast\u001b[49m\u001b[43m(\u001b[49m\u001b[43mpl\u001b[49m\u001b[38;5;241;43m.\u001b[39;49m\u001b[43mString\u001b[49m\u001b[43m)\u001b[49m\n\u001b[1;32m     20\u001b[0m \u001b[43m            \u001b[49m\u001b[38;5;241;43m.\u001b[39;49m\u001b[43mstr\u001b[49m\u001b[38;5;241;43m.\u001b[39;49m\u001b[43mto_datetime\u001b[49m\u001b[43m(\u001b[49m\u001b[43mtime_zone\u001b[49m\u001b[38;5;241;43m=\u001b[39;49m\u001b[38;5;124;43m\"\u001b[39;49m\u001b[38;5;124;43mUTC\u001b[39;49m\u001b[38;5;124;43m\"\u001b[39;49m\u001b[43m)\u001b[49m\n\u001b[1;32m     21\u001b[0m \u001b[43m            \u001b[49m\u001b[38;5;241;43m.\u001b[39;49m\u001b[43malias\u001b[49m\u001b[43m(\u001b[49m\u001b[38;5;124;43m\"\u001b[39;49m\u001b[38;5;124;43mPERIOD_OF_RECORD_START\u001b[39;49m\u001b[38;5;124;43m\"\u001b[39;49m\u001b[43m)\u001b[49m\u001b[43m,\u001b[49m\n\u001b[1;32m     22\u001b[0m \u001b[43m            \u001b[49m\u001b[43mpl\u001b[49m\u001b[38;5;241;43m.\u001b[39;49m\u001b[43mcol\u001b[49m\u001b[43m(\u001b[49m\u001b[38;5;124;43m\"\u001b[39;49m\u001b[38;5;124;43mPERIOD_OF_RECORD\u001b[39;49m\u001b[38;5;124;43m\"\u001b[39;49m\u001b[43m)\u001b[49m\n\u001b[1;32m     23\u001b[0m \u001b[43m            \u001b[49m\u001b[38;5;241;43m.\u001b[39;49m\u001b[43mstruct\u001b[49m\u001b[38;5;241;43m.\u001b[39;49m\u001b[43mfield\u001b[49m\u001b[43m(\u001b[49m\u001b[38;5;124;43m\"\u001b[39;49m\u001b[38;5;124;43mend\u001b[39;49m\u001b[38;5;124;43m\"\u001b[39;49m\u001b[43m)\u001b[49m\n\u001b[1;32m     24\u001b[0m \u001b[43m            \u001b[49m\u001b[38;5;241;43m.\u001b[39;49m\u001b[43mcast\u001b[49m\u001b[43m(\u001b[49m\u001b[43mpl\u001b[49m\u001b[38;5;241;43m.\u001b[39;49m\u001b[43mString\u001b[49m\u001b[43m)\u001b[49m\n\u001b[1;32m     25\u001b[0m \u001b[43m            \u001b[49m\u001b[38;5;241;43m.\u001b[39;49m\u001b[43mstr\u001b[49m\u001b[38;5;241;43m.\u001b[39;49m\u001b[43mto_datetime\u001b[49m\u001b[43m(\u001b[49m\u001b[43mtime_zone\u001b[49m\u001b[38;5;241;43m=\u001b[39;49m\u001b[38;5;124;43m\"\u001b[39;49m\u001b[38;5;124;43mUTC\u001b[39;49m\u001b[38;5;124;43m\"\u001b[39;49m\u001b[43m)\u001b[49m\n\u001b[1;32m     26\u001b[0m \u001b[43m            \u001b[49m\u001b[38;5;241;43m.\u001b[39;49m\u001b[43malias\u001b[49m\u001b[43m(\u001b[49m\u001b[38;5;124;43m\"\u001b[39;49m\u001b[38;5;124;43mPERIOD_OF_RECORD_END\u001b[39;49m\u001b[38;5;124;43m\"\u001b[39;49m\u001b[43m)\u001b[49m\u001b[43m,\u001b[49m\n\u001b[1;32m     27\u001b[0m \u001b[43m        \u001b[49m\u001b[43m)\u001b[49m\u001b[38;5;241;43m.\u001b[39;49m\u001b[43malias\u001b[49m\u001b[43m(\u001b[49m\u001b[38;5;124;43m\"\u001b[39;49m\u001b[38;5;124;43mPERIOD_OF_RECORD\u001b[39;49m\u001b[38;5;124;43m\"\u001b[39;49m\u001b[43m)\u001b[49m\u001b[43m,\u001b[49m\n\u001b[1;32m     28\u001b[0m \u001b[43m    \u001b[49m\u001b[43m)\u001b[49m\u001b[38;5;241m.\u001b[39munnest(\u001b[38;5;124m\"\u001b[39m\u001b[38;5;124mPERIOD_OF_RECORD\u001b[39m\u001b[38;5;124m\"\u001b[39m)\n",
      "File \u001b[0;32m~/miniconda3/envs/synoptic2/lib/python3.12/site-packages/polars/dataframe/frame.py:9183\u001b[0m, in \u001b[0;36mDataFrame.with_columns\u001b[0;34m(self, *exprs, **named_exprs)\u001b[0m\n\u001b[1;32m   9037\u001b[0m \u001b[38;5;28;01mdef\u001b[39;00m \u001b[38;5;21mwith_columns\u001b[39m(\n\u001b[1;32m   9038\u001b[0m     \u001b[38;5;28mself\u001b[39m,\n\u001b[1;32m   9039\u001b[0m     \u001b[38;5;241m*\u001b[39mexprs: IntoExpr \u001b[38;5;241m|\u001b[39m Iterable[IntoExpr],\n\u001b[1;32m   9040\u001b[0m     \u001b[38;5;241m*\u001b[39m\u001b[38;5;241m*\u001b[39mnamed_exprs: IntoExpr,\n\u001b[1;32m   9041\u001b[0m ) \u001b[38;5;241m-\u001b[39m\u001b[38;5;241m>\u001b[39m DataFrame:\n\u001b[1;32m   9042\u001b[0m \u001b[38;5;250m    \u001b[39m\u001b[38;5;124;03m\"\"\"\u001b[39;00m\n\u001b[1;32m   9043\u001b[0m \u001b[38;5;124;03m    Add columns to this DataFrame.\u001b[39;00m\n\u001b[1;32m   9044\u001b[0m \n\u001b[0;32m   (...)\u001b[0m\n\u001b[1;32m   9181\u001b[0m \u001b[38;5;124;03m    └─────┴──────┴─────────────┘\u001b[39;00m\n\u001b[1;32m   9182\u001b[0m \u001b[38;5;124;03m    \"\"\"\u001b[39;00m\n\u001b[0;32m-> 9183\u001b[0m     \u001b[38;5;28;01mreturn\u001b[39;00m \u001b[38;5;28;43mself\u001b[39;49m\u001b[38;5;241;43m.\u001b[39;49m\u001b[43mlazy\u001b[49m\u001b[43m(\u001b[49m\u001b[43m)\u001b[49m\u001b[38;5;241;43m.\u001b[39;49m\u001b[43mwith_columns\u001b[49m\u001b[43m(\u001b[49m\u001b[38;5;241;43m*\u001b[39;49m\u001b[43mexprs\u001b[49m\u001b[43m,\u001b[49m\u001b[43m \u001b[49m\u001b[38;5;241;43m*\u001b[39;49m\u001b[38;5;241;43m*\u001b[39;49m\u001b[43mnamed_exprs\u001b[49m\u001b[43m)\u001b[49m\u001b[38;5;241;43m.\u001b[39;49m\u001b[43mcollect\u001b[49m\u001b[43m(\u001b[49m\u001b[43m_eager\u001b[49m\u001b[38;5;241;43m=\u001b[39;49m\u001b[38;5;28;43;01mTrue\u001b[39;49;00m\u001b[43m)\u001b[49m\n",
      "File \u001b[0;32m~/miniconda3/envs/synoptic2/lib/python3.12/site-packages/polars/lazyframe/frame.py:2050\u001b[0m, in \u001b[0;36mLazyFrame.collect\u001b[0;34m(self, type_coercion, predicate_pushdown, projection_pushdown, simplify_expression, slice_pushdown, comm_subplan_elim, comm_subexpr_elim, cluster_with_columns, collapse_joins, no_optimization, streaming, engine, background, _eager, **_kwargs)\u001b[0m\n\u001b[1;32m   2048\u001b[0m \u001b[38;5;66;03m# Only for testing purposes\u001b[39;00m\n\u001b[1;32m   2049\u001b[0m callback \u001b[38;5;241m=\u001b[39m _kwargs\u001b[38;5;241m.\u001b[39mget(\u001b[38;5;124m\"\u001b[39m\u001b[38;5;124mpost_opt_callback\u001b[39m\u001b[38;5;124m\"\u001b[39m, callback)\n\u001b[0;32m-> 2050\u001b[0m \u001b[38;5;28;01mreturn\u001b[39;00m wrap_df(\u001b[43mldf\u001b[49m\u001b[38;5;241;43m.\u001b[39;49m\u001b[43mcollect\u001b[49m\u001b[43m(\u001b[49m\u001b[43mcallback\u001b[49m\u001b[43m)\u001b[49m)\n",
      "\u001b[0;31mColumnNotFoundError\u001b[0m: PERIOD_OF_RECORD\n\nResolved plan until failure:\n\n\t---> FAILED HERE RESOLVING 'with_columns' <---\nDF [\"date_time\", \"variable\", \"sensor_index\", \"is_derived\"]; PROJECT */10 COLUMNS; SELECTION: None"
     ]
    }
   ],
   "source": [
    "df = synoptic.OLD_Latest(\n",
    "    # vars=\"air_temp,wind_speed,ozone_concentration\",\n",
    "    state=\"ut\",\n",
    "    # network=1,\n",
    "    complete=True,\n",
    "    qc=True,\n",
    "    qc_checks=\"all\",\n",
    ").df()\n",
    "df\n"
   ]
  },
  {
   "cell_type": "code",
   "execution_count": 3,
   "metadata": {},
   "outputs": [
    {
     "name": "stdout",
     "output_type": "stream",
     "text": [
      "🚚💨 Speedy delivery from Synoptic's \u001b[32mlatest\u001b[0m service.\n",
      "📦 Received data from 1,448 stations.\n"
     ]
    },
    {
     "data": {
      "text/plain": [
       "╭─ Synoptic latest service ─────\n",
       "│ Stations : 1,448\n",
       "│ QC Checks: 86\n",
       "╰──────────────────────────────────────╯"
      ]
     },
     "execution_count": 3,
     "metadata": {},
     "output_type": "execute_result"
    }
   ],
   "source": [
    "S = synoptic.SynopticAPI(\n",
    "    \"latest\",\n",
    "    # vars=\"air_temp,wind_speed,ozone_concentration\",\n",
    "    state=\"ut\",\n",
    "    # network=1,\n",
    "    complete=True,\n",
    "    qc=True,\n",
    "    qc_checks=\"all\",\n",
    ")\n",
    "S"
   ]
  },
  {
   "cell_type": "code",
   "execution_count": 6,
   "metadata": {},
   "outputs": [
    {
     "ename": "AttributeError",
     "evalue": "'str' object has no attribute 'copy'",
     "output_type": "error",
     "traceback": [
      "\u001b[0;31m---------------------------------------------------------------------------\u001b[0m",
      "\u001b[0;31mAttributeError\u001b[0m                            Traceback (most recent call last)",
      "Cell \u001b[0;32mIn[6], line 1\u001b[0m\n\u001b[0;32m----> 1\u001b[0m \u001b[43msynoptic\u001b[49m\u001b[38;5;241;43m.\u001b[39;49m\u001b[43mjson_parsers\u001b[49m\u001b[38;5;241;43m.\u001b[39;49m\u001b[43mOLD_parse_stations_latest_nearesttime\u001b[49m\u001b[43m(\u001b[49m\u001b[43mS\u001b[49m\u001b[43m)\u001b[49m\n",
      "File \u001b[0;32m~/GITHUB/SynopticPy/src/synoptic/json_parsers.py:322\u001b[0m, in \u001b[0;36mOLD_parse_stations_latest_nearesttime\u001b[0;34m(S)\u001b[0m\n\u001b[1;32m    320\u001b[0m \u001b[38;5;28;01mfor\u001b[39;00m station \u001b[38;5;129;01min\u001b[39;00m S\u001b[38;5;241m.\u001b[39mSTATION:\n\u001b[1;32m    321\u001b[0m     observations \u001b[38;5;241m=\u001b[39m station\u001b[38;5;241m.\u001b[39mget(\u001b[38;5;124m\"\u001b[39m\u001b[38;5;124mOBSERVATIONS\u001b[39m\u001b[38;5;124m\"\u001b[39m)\n\u001b[0;32m--> 322\u001b[0m     metadata \u001b[38;5;241m=\u001b[39m \u001b[43mstation_metadata_to_dataframe\u001b[49m\u001b[43m(\u001b[49m\u001b[43mstation\u001b[49m\u001b[43m)\u001b[49m\n\u001b[1;32m    324\u001b[0m     \u001b[38;5;66;03m# Tip: It's informative to look at the unique schema for all observations with\u001b[39;00m\n\u001b[1;32m    325\u001b[0m     \u001b[38;5;66;03m# `{dtype for col, dtype in pl.DataFrame(observations).schema.items()}`\u001b[39;00m\n\u001b[1;32m    327\u001b[0m     df \u001b[38;5;241m=\u001b[39m pl\u001b[38;5;241m.\u001b[39mDataFrame(observations)\n",
      "File \u001b[0;32m~/GITHUB/SynopticPy/src/synoptic/json_parsers.py:35\u001b[0m, in \u001b[0;36mstation_metadata_to_dataframe\u001b[0;34m(STATION)\u001b[0m\n\u001b[1;32m     33\u001b[0m a \u001b[38;5;241m=\u001b[39m []\n\u001b[1;32m     34\u001b[0m \u001b[38;5;28;01mfor\u001b[39;00m metadata \u001b[38;5;129;01min\u001b[39;00m STATION:\n\u001b[0;32m---> 35\u001b[0m     metadata \u001b[38;5;241m=\u001b[39m \u001b[43mmetadata\u001b[49m\u001b[38;5;241;43m.\u001b[39;49m\u001b[43mcopy\u001b[49m()\n\u001b[1;32m     36\u001b[0m     metadata\u001b[38;5;241m.\u001b[39mpop(\u001b[38;5;124m\"\u001b[39m\u001b[38;5;124mOBSERVATIONS\u001b[39m\u001b[38;5;124m\"\u001b[39m, \u001b[38;5;28;01mNone\u001b[39;00m)\n\u001b[1;32m     37\u001b[0m     metadata\u001b[38;5;241m.\u001b[39mpop(\u001b[38;5;124m\"\u001b[39m\u001b[38;5;124mSENSOR_VARIABLES\u001b[39m\u001b[38;5;124m\"\u001b[39m, \u001b[38;5;28;01mNone\u001b[39;00m)\n",
      "\u001b[0;31mAttributeError\u001b[0m: 'str' object has no attribute 'copy'"
     ]
    }
   ],
   "source": [
    "synoptic.json_parsers.OLD_parse_stations_latest_nearesttime(S)"
   ]
  },
  {
   "cell_type": "code",
   "execution_count": 50,
   "metadata": {},
   "outputs": [],
   "source": [
    "import polars as pl\n",
    "\n",
    "\n",
    "def unnest_period_of_record(\n",
    "    df: pl.DataFrame | pl.LazyFrame,\n",
    ") -> pl.DataFrame | pl.LazyFrame:\n",
    "    \"\"\"Un-nest the PERIOD_OF_RECORD column struct.\"\"\"\n",
    "    return df.with_columns(\n",
    "        pl.struct(\n",
    "            pl.col(\"PERIOD_OF_RECORD\")\n",
    "            .struct.field(\"start\")\n",
    "            .cast(pl.String)\n",
    "            .str.to_datetime(time_zone=\"UTC\")\n",
    "            .alias(\"PERIOD_OF_RECORD_START\"),\n",
    "            pl.col(\"PERIOD_OF_RECORD\")\n",
    "            .struct.field(\"end\")\n",
    "            .cast(pl.String)\n",
    "            .str.to_datetime(time_zone=\"UTC\")\n",
    "            .alias(\"PERIOD_OF_RECORD_END\"),\n",
    "        ).alias(\"PERIOD_OF_RECORD\"),\n",
    "    ).unnest(\"PERIOD_OF_RECORD\")\n",
    "\n",
    "\n",
    "def station_metadata_to_dataframe(STATION: list[dict]):\n",
    "    \"\"\"From STATION, produce the metadata DataFrame.\"\"\"\n",
    "    a = []\n",
    "    for metadata in STATION:\n",
    "        metadata = metadata.copy()\n",
    "        metadata.pop(\"OBSERVATIONS\", None)\n",
    "        metadata.pop(\"SENSOR_VARIABLES\", None)\n",
    "        metadata.pop(\"LATENCY\", None)\n",
    "        metadata.pop(\"QC\", None)\n",
    "        a.append(metadata)\n",
    "    df = pl.DataFrame(a, infer_schema_length=None).lazy()\n",
    "    df = df.with_columns(\n",
    "        pl.col(\"STID\").cast(pl.String),\n",
    "        pl.col(\"ID\", \"MNET_ID\").cast(pl.UInt32),\n",
    "        pl.col(\"ELEVATION\", \"LATITUDE\", \"LONGITUDE\").cast(pl.Float64),\n",
    "        is_active=pl.when(pl.col(\"STATUS\") == \"ACTIVE\")\n",
    "        .then(True)\n",
    "        .otherwise(pl.when(pl.col(\"STATUS\") == \"INACTIVE\").then(False)),\n",
    "    ).drop(\"UNITS\", \"STATUS\")\n",
    "\n",
    "    if \"RESTRICTED\" in df.collect_schema().names():\n",
    "        df = df.rename({\"RESTRICTED\": \"is_restricted\"})\n",
    "\n",
    "    if \"ELEV_DEM\" in df.collect_schema().names():\n",
    "        # This isn't in the Latency request\n",
    "        df = df.with_columns(pl.col(\"ELEV_DEM\").cast(pl.Float64))\n",
    "\n",
    "    df = df.pipe(unnest_period_of_record)\n",
    "    df = df.rename({i: i.lower() for i in df.collect_schema().names()})\n",
    "\n",
    "    return df.collect()\n",
    "\n",
    "\n",
    "def NEW_parse_stations_latest_nearesttime(STATION):\n",
    "    pass\n"
   ]
  },
  {
   "cell_type": "code",
   "execution_count": 51,
   "metadata": {},
   "outputs": [],
   "source": [
    "# Unpack Latest/Nearest time JSON into parts\n",
    "\n",
    "observations = []\n",
    "qc = []\n",
    "latency = []\n",
    "sensor_variables = []\n",
    "\n",
    "for s in S.STATION:\n",
    "    observations.append({\"stid\": s[\"STID\"]} | s.pop(\"OBSERVATIONS\", {}))\n",
    "    qc.append({\"stid\": s[\"STID\"]} | s.pop(\"qc\", {}))\n",
    "    latency.append({\"stid\": s[\"STID\"]} | s.pop(\"latency\", {}))\n",
    "    sensor_variables.append({\"stid\": s[\"STID\"]} | s.pop(\"sensor_variables\", {}))\n",
    "\n",
    "\n",
    "# Get Metadata DataFrame\n",
    "metadata = station_metadata_to_dataframe(S.STATION)\n",
    "\n",
    "# Get Observations DataFrame (needs more processing)\n",
    "df = pl.DataFrame(observations, infer_schema_length=None)"
   ]
  },
  {
   "cell_type": "code",
   "execution_count": 52,
   "metadata": {},
   "outputs": [],
   "source": [
    "# BUG: Synoptic API ozone_concentration_value_1, the value is returned as string and not float\n",
    "df = df.with_columns(\n",
    "    pl.struct(\n",
    "        [\n",
    "            pl.col(\"ozone_concentration_value_1\")\n",
    "            .struct.field(\"value\")\n",
    "            .replace(\"\", None)\n",
    "            .cast(pl.Float64),\n",
    "            pl.col(\"ozone_concentration_value_1\").struct.field(\"date_time\"),\n",
    "        ]\n",
    "    ).alias(\"ozone_concentration_value_1\")\n",
    ")\n"
   ]
  },
  {
   "cell_type": "code",
   "execution_count": 53,
   "metadata": {},
   "outputs": [
    {
     "name": "stdout",
     "output_type": "stream",
     "text": [
      "col='stid', schema=String\n"
     ]
    }
   ],
   "source": [
    "# Separate columns by value type\n",
    "# TODO: Still need to handle sky_condition types\n",
    "\n",
    "cols_with_float = []\n",
    "cols_with_string = []\n",
    "cols_with_cloud_layer = []\n",
    "cols_with_other = []\n",
    "for col, schema in df.schema.items():\n",
    "    if hasattr(schema, \"fields\"):\n",
    "        if pl.Field(\"value\", pl.Float64) in schema.fields:\n",
    "            cols_with_float.append(col)\n",
    "        elif pl.Field(\"value\", pl.String) in schema.fields:\n",
    "            cols_with_string.append(col)\n",
    "        elif col.startswith(\"cloud_layer\"):\n",
    "            cols_with_cloud_layer.append(col)\n",
    "        elif pl.Field(\"value\", pl.Struct) in schema.fields:\n",
    "            cols_with_other.append(col)\n",
    "            print(f\"WARNING: Unknown struct for {col=} {schema=}\")\n",
    "    else:\n",
    "        print(f\"{col=}, {schema=}\")"
   ]
  },
  {
   "cell_type": "code",
   "execution_count": 54,
   "metadata": {},
   "outputs": [
    {
     "data": {
      "text/html": [
       "<div><style>\n",
       ".dataframe > thead > tr,\n",
       ".dataframe > tbody > tr {\n",
       "  text-align: right;\n",
       "  white-space: pre-wrap;\n",
       "}\n",
       "</style>\n",
       "<small>shape: (12_761, 8)</small><table border=\"1\" class=\"dataframe\"><thead><tr><th>stid</th><th>variable</th><th>sensor_index</th><th>is_derived</th><th>value</th><th>date_time</th><th>qc</th><th>units</th></tr><tr><td>str</td><td>str</td><td>u32</td><td>bool</td><td>f64</td><td>datetime[μs, UTC]</td><td>struct[2]</td><td>str</td></tr></thead><tbody><tr><td>&quot;WBB&quot;</td><td>&quot;pressure&quot;</td><td>1</td><td>false</td><td>84968.0</td><td>2024-11-19 03:50:00 UTC</td><td>{&quot;passed&quot;,null}</td><td>&quot;Pascals&quot;</td></tr><tr><td>&quot;GNI&quot;</td><td>&quot;pressure&quot;</td><td>1</td><td>false</td><td>87058.0</td><td>2024-10-31 07:40:00 UTC</td><td>{&quot;passed&quot;,null}</td><td>&quot;Pascals&quot;</td></tr><tr><td>&quot;HATUT&quot;</td><td>&quot;pressure&quot;</td><td>1</td><td>false</td><td>86660.0</td><td>2024-11-19 03:45:00 UTC</td><td>{&quot;passed&quot;,null}</td><td>&quot;Pascals&quot;</td></tr><tr><td>&quot;LMS&quot;</td><td>&quot;pressure&quot;</td><td>1</td><td>false</td><td>86965.0</td><td>2024-11-19 03:45:00 UTC</td><td>{&quot;passed&quot;,null}</td><td>&quot;Pascals&quot;</td></tr><tr><td>&quot;LMR&quot;</td><td>&quot;pressure&quot;</td><td>1</td><td>false</td><td>83896.0</td><td>2024-11-19 03:45:00 UTC</td><td>{&quot;passed&quot;,null}</td><td>&quot;Pascals&quot;</td></tr><tr><td>&hellip;</td><td>&hellip;</td><td>&hellip;</td><td>&hellip;</td><td>&hellip;</td><td>&hellip;</td><td>&hellip;</td><td>&hellip;</td></tr><tr><td>&quot;UGSPG&quot;</td><td>&quot;evapotranspiration&quot;</td><td>2</td><td>false</td><td>0.0</td><td>2024-11-19 03:30:00 UTC</td><td>{&quot;passed&quot;,null}</td><td>&quot;Millimeters&quot;</td></tr><tr><td>&quot;UUCMF&quot;</td><td>&quot;evapotranspiration&quot;</td><td>2</td><td>false</td><td>0.0</td><td>2024-11-19 03:30:00 UTC</td><td>{&quot;passed&quot;,null}</td><td>&quot;Millimeters&quot;</td></tr><tr><td>&quot;UUPYF&quot;</td><td>&quot;evapotranspiration&quot;</td><td>2</td><td>false</td><td>0.0</td><td>2024-11-19 03:30:00 UTC</td><td>{&quot;passed&quot;,null}</td><td>&quot;Millimeters&quot;</td></tr><tr><td>&quot;NGLO161462&quot;</td><td>&quot;precip_interval&quot;</td><td>1</td><td>false</td><td>0.0</td><td>2024-11-15 19:16:00 UTC</td><td>{&quot;passed&quot;,null}</td><td>&quot;Millimeters&quot;</td></tr><tr><td>&quot;NGLO162428&quot;</td><td>&quot;precip_interval&quot;</td><td>1</td><td>false</td><td>1.2</td><td>2024-11-16 19:12:00 UTC</td><td>{&quot;passed&quot;,null}</td><td>&quot;Millimeters&quot;</td></tr></tbody></table></div>"
      ],
      "text/plain": [
       "shape: (12_761, 8)\n",
       "┌────────────┬────────────┬────────────┬────────────┬─────────┬────────────┬───────────┬───────────┐\n",
       "│ stid       ┆ variable   ┆ sensor_ind ┆ is_derived ┆ value   ┆ date_time  ┆ qc        ┆ units     │\n",
       "│ ---        ┆ ---        ┆ ex         ┆ ---        ┆ ---     ┆ ---        ┆ ---       ┆ ---       │\n",
       "│ str        ┆ str        ┆ ---        ┆ bool       ┆ f64     ┆ datetime[μ ┆ struct[2] ┆ str       │\n",
       "│            ┆            ┆ u32        ┆            ┆         ┆ s, UTC]    ┆           ┆           │\n",
       "╞════════════╪════════════╪════════════╪════════════╪═════════╪════════════╪═══════════╪═══════════╡\n",
       "│ WBB        ┆ pressure   ┆ 1          ┆ false      ┆ 84968.0 ┆ 2024-11-19 ┆ {\"passed\" ┆ Pascals   │\n",
       "│            ┆            ┆            ┆            ┆         ┆ 03:50:00   ┆ ,null}    ┆           │\n",
       "│            ┆            ┆            ┆            ┆         ┆ UTC        ┆           ┆           │\n",
       "│ GNI        ┆ pressure   ┆ 1          ┆ false      ┆ 87058.0 ┆ 2024-10-31 ┆ {\"passed\" ┆ Pascals   │\n",
       "│            ┆            ┆            ┆            ┆         ┆ 07:40:00   ┆ ,null}    ┆           │\n",
       "│            ┆            ┆            ┆            ┆         ┆ UTC        ┆           ┆           │\n",
       "│ HATUT      ┆ pressure   ┆ 1          ┆ false      ┆ 86660.0 ┆ 2024-11-19 ┆ {\"passed\" ┆ Pascals   │\n",
       "│            ┆            ┆            ┆            ┆         ┆ 03:45:00   ┆ ,null}    ┆           │\n",
       "│            ┆            ┆            ┆            ┆         ┆ UTC        ┆           ┆           │\n",
       "│ LMS        ┆ pressure   ┆ 1          ┆ false      ┆ 86965.0 ┆ 2024-11-19 ┆ {\"passed\" ┆ Pascals   │\n",
       "│            ┆            ┆            ┆            ┆         ┆ 03:45:00   ┆ ,null}    ┆           │\n",
       "│            ┆            ┆            ┆            ┆         ┆ UTC        ┆           ┆           │\n",
       "│ LMR        ┆ pressure   ┆ 1          ┆ false      ┆ 83896.0 ┆ 2024-11-19 ┆ {\"passed\" ┆ Pascals   │\n",
       "│            ┆            ┆            ┆            ┆         ┆ 03:45:00   ┆ ,null}    ┆           │\n",
       "│            ┆            ┆            ┆            ┆         ┆ UTC        ┆           ┆           │\n",
       "│ …          ┆ …          ┆ …          ┆ …          ┆ …       ┆ …          ┆ …         ┆ …         │\n",
       "│ UGSPG      ┆ evapotrans ┆ 2          ┆ false      ┆ 0.0     ┆ 2024-11-19 ┆ {\"passed\" ┆ Millimete │\n",
       "│            ┆ piration   ┆            ┆            ┆         ┆ 03:30:00   ┆ ,null}    ┆ rs        │\n",
       "│            ┆            ┆            ┆            ┆         ┆ UTC        ┆           ┆           │\n",
       "│ UUCMF      ┆ evapotrans ┆ 2          ┆ false      ┆ 0.0     ┆ 2024-11-19 ┆ {\"passed\" ┆ Millimete │\n",
       "│            ┆ piration   ┆            ┆            ┆         ┆ 03:30:00   ┆ ,null}    ┆ rs        │\n",
       "│            ┆            ┆            ┆            ┆         ┆ UTC        ┆           ┆           │\n",
       "│ UUPYF      ┆ evapotrans ┆ 2          ┆ false      ┆ 0.0     ┆ 2024-11-19 ┆ {\"passed\" ┆ Millimete │\n",
       "│            ┆ piration   ┆            ┆            ┆         ┆ 03:30:00   ┆ ,null}    ┆ rs        │\n",
       "│            ┆            ┆            ┆            ┆         ┆ UTC        ┆           ┆           │\n",
       "│ NGLO161462 ┆ precip_int ┆ 1          ┆ false      ┆ 0.0     ┆ 2024-11-15 ┆ {\"passed\" ┆ Millimete │\n",
       "│            ┆ erval      ┆            ┆            ┆         ┆ 19:16:00   ┆ ,null}    ┆ rs        │\n",
       "│            ┆            ┆            ┆            ┆         ┆ UTC        ┆           ┆           │\n",
       "│ NGLO162428 ┆ precip_int ┆ 1          ┆ false      ┆ 1.2     ┆ 2024-11-16 ┆ {\"passed\" ┆ Millimete │\n",
       "│            ┆ erval      ┆            ┆            ┆         ┆ 19:12:00   ┆ ,null}    ┆ rs        │\n",
       "│            ┆            ┆            ┆            ┆         ┆ UTC        ┆           ┆           │\n",
       "└────────────┴────────────┴────────────┴────────────┴─────────┴────────────┴───────────┴───────────┘"
      ]
     },
     "execution_count": 54,
     "metadata": {},
     "output_type": "execute_result"
    }
   ],
   "source": [
    "# Unpack the Float observations\n",
    "observed_float = (\n",
    "    df.select([\"stid\"] + cols_with_float)\n",
    "    .select(\"stid\", \"^.*value.*$\")\n",
    "    .unpivot(index=\"stid\")\n",
    "    .with_columns(\n",
    "        pl.col(\"variable\").str.extract_groups(\n",
    "            r\"(?<variable>.+)_value_(?<sensor_index>\\d)(?<is_derived>d?)\"\n",
    "        )\n",
    "    )\n",
    "    .unnest(\"variable\")\n",
    "    .with_columns(\n",
    "        pl.col(\"is_derived\") == \"d\",\n",
    "        pl.col(\"sensor_index\").cast(pl.UInt32),\n",
    "        pl.col(\"variable\").replace(S.UNITS).alias(\"units\"),\n",
    "    )\n",
    "    .unnest(\"value\")\n",
    "    .with_columns(pl.col(\"date_time\").str.to_datetime())\n",
    "    .drop_nulls()\n",
    ")\n",
    "observed_float"
   ]
  },
  {
   "cell_type": "code",
   "execution_count": 55,
   "metadata": {},
   "outputs": [
    {
     "data": {
      "text/html": [
       "<div><style>\n",
       ".dataframe > thead > tr,\n",
       ".dataframe > tbody > tr {\n",
       "  text-align: right;\n",
       "  white-space: pre-wrap;\n",
       "}\n",
       "</style>\n",
       "<small>shape: (33, 8)</small><table border=\"1\" class=\"dataframe\"><thead><tr><th>stid</th><th>variable</th><th>sensor_index</th><th>is_derived</th><th>value_string</th><th>date_time</th><th>qc</th><th>units</th></tr><tr><td>str</td><td>str</td><td>u32</td><td>bool</td><td>str</td><td>datetime[μs, UTC]</td><td>struct[1]</td><td>str</td></tr></thead><tbody><tr><td>&quot;KSLC&quot;</td><td>&quot;metar&quot;</td><td>1</td><td>false</td><td>&quot;METAR KSLC 190350Z 34007KT 10S…</td><td>2024-11-19 03:50:00 UTC</td><td>{&quot;passed&quot;}</td><td>&quot;text&quot;</td></tr><tr><td>&quot;KU42&quot;</td><td>&quot;metar&quot;</td><td>1</td><td>false</td><td>&quot;METAR KU42 190335Z AUTO 00000K…</td><td>2024-11-19 03:35:00 UTC</td><td>{&quot;passed&quot;}</td><td>&quot;text&quot;</td></tr><tr><td>&quot;KHIF&quot;</td><td>&quot;metar&quot;</td><td>1</td><td>false</td><td>&quot;METAR KHIF 190255Z 36004KT 10S…</td><td>2024-11-19 02:55:00 UTC</td><td>{&quot;passed&quot;}</td><td>&quot;text&quot;</td></tr><tr><td>&quot;KOGD&quot;</td><td>&quot;metar&quot;</td><td>1</td><td>false</td><td>&quot;METAR KOGD 190345Z AUTO 00000K…</td><td>2024-11-19 03:45:00 UTC</td><td>{&quot;passed&quot;}</td><td>&quot;text&quot;</td></tr><tr><td>&quot;KBMC&quot;</td><td>&quot;metar&quot;</td><td>1</td><td>false</td><td>&quot;METAR KBMC 190335Z AUTO 30003K…</td><td>2024-11-19 03:35:00 UTC</td><td>{&quot;passed&quot;}</td><td>&quot;text&quot;</td></tr><tr><td>&hellip;</td><td>&hellip;</td><td>&hellip;</td><td>&hellip;</td><td>&hellip;</td><td>&hellip;</td><td>&hellip;</td><td>&hellip;</td></tr><tr><td>&quot;KFOM&quot;</td><td>&quot;metar&quot;</td><td>1</td><td>false</td><td>&quot;METAR KFOM 190335Z AUTO 10SM B…</td><td>2024-11-19 03:35:00 UTC</td><td>{&quot;passed&quot;}</td><td>&quot;text&quot;</td></tr><tr><td>&quot;K41U&quot;</td><td>&quot;metar&quot;</td><td>1</td><td>false</td><td>&quot;METAR K41U 190335Z AUTO 35003K…</td><td>2024-11-19 03:35:00 UTC</td><td>{&quot;passed&quot;}</td><td>&quot;text&quot;</td></tr><tr><td>&quot;KSPK&quot;</td><td>&quot;metar&quot;</td><td>1</td><td>false</td><td>&quot;METAR KSPK 190335Z AUTO 30007K…</td><td>2024-11-19 03:35:00 UTC</td><td>{&quot;passed&quot;}</td><td>&quot;text&quot;</td></tr><tr><td>&quot;KU64&quot;</td><td>&quot;metar&quot;</td><td>1</td><td>false</td><td>&quot;METAR KU64 190335Z AUTO 31006K…</td><td>2024-11-19 03:35:00 UTC</td><td>{&quot;passed&quot;}</td><td>&quot;text&quot;</td></tr><tr><td>&quot;K40U&quot;</td><td>&quot;metar&quot;</td><td>1</td><td>false</td><td>&quot;METAR K40U 190335Z AUTO 29009G…</td><td>2024-11-19 03:35:00 UTC</td><td>{&quot;passed&quot;}</td><td>&quot;text&quot;</td></tr></tbody></table></div>"
      ],
      "text/plain": [
       "shape: (33, 8)\n",
       "┌──────┬──────────┬──────────────┬────────────┬───────────────┬───────────────┬────────────┬───────┐\n",
       "│ stid ┆ variable ┆ sensor_index ┆ is_derived ┆ value_string  ┆ date_time     ┆ qc         ┆ units │\n",
       "│ ---  ┆ ---      ┆ ---          ┆ ---        ┆ ---           ┆ ---           ┆ ---        ┆ ---   │\n",
       "│ str  ┆ str      ┆ u32          ┆ bool       ┆ str           ┆ datetime[μs,  ┆ struct[1]  ┆ str   │\n",
       "│      ┆          ┆              ┆            ┆               ┆ UTC]          ┆            ┆       │\n",
       "╞══════╪══════════╪══════════════╪════════════╪═══════════════╪═══════════════╪════════════╪═══════╡\n",
       "│ KSLC ┆ metar    ┆ 1            ┆ false      ┆ METAR KSLC    ┆ 2024-11-19    ┆ {\"passed\"} ┆ text  │\n",
       "│      ┆          ┆              ┆            ┆ 190350Z       ┆ 03:50:00 UTC  ┆            ┆       │\n",
       "│      ┆          ┆              ┆            ┆ 34007KT 10S…  ┆               ┆            ┆       │\n",
       "│ KU42 ┆ metar    ┆ 1            ┆ false      ┆ METAR KU42    ┆ 2024-11-19    ┆ {\"passed\"} ┆ text  │\n",
       "│      ┆          ┆              ┆            ┆ 190335Z AUTO  ┆ 03:35:00 UTC  ┆            ┆       │\n",
       "│      ┆          ┆              ┆            ┆ 00000K…       ┆               ┆            ┆       │\n",
       "│ KHIF ┆ metar    ┆ 1            ┆ false      ┆ METAR KHIF    ┆ 2024-11-19    ┆ {\"passed\"} ┆ text  │\n",
       "│      ┆          ┆              ┆            ┆ 190255Z       ┆ 02:55:00 UTC  ┆            ┆       │\n",
       "│      ┆          ┆              ┆            ┆ 36004KT 10S…  ┆               ┆            ┆       │\n",
       "│ KOGD ┆ metar    ┆ 1            ┆ false      ┆ METAR KOGD    ┆ 2024-11-19    ┆ {\"passed\"} ┆ text  │\n",
       "│      ┆          ┆              ┆            ┆ 190345Z AUTO  ┆ 03:45:00 UTC  ┆            ┆       │\n",
       "│      ┆          ┆              ┆            ┆ 00000K…       ┆               ┆            ┆       │\n",
       "│ KBMC ┆ metar    ┆ 1            ┆ false      ┆ METAR KBMC    ┆ 2024-11-19    ┆ {\"passed\"} ┆ text  │\n",
       "│      ┆          ┆              ┆            ┆ 190335Z AUTO  ┆ 03:35:00 UTC  ┆            ┆       │\n",
       "│      ┆          ┆              ┆            ┆ 30003K…       ┆               ┆            ┆       │\n",
       "│ …    ┆ …        ┆ …            ┆ …          ┆ …             ┆ …             ┆ …          ┆ …     │\n",
       "│ KFOM ┆ metar    ┆ 1            ┆ false      ┆ METAR KFOM    ┆ 2024-11-19    ┆ {\"passed\"} ┆ text  │\n",
       "│      ┆          ┆              ┆            ┆ 190335Z AUTO  ┆ 03:35:00 UTC  ┆            ┆       │\n",
       "│      ┆          ┆              ┆            ┆ 10SM B…       ┆               ┆            ┆       │\n",
       "│ K41U ┆ metar    ┆ 1            ┆ false      ┆ METAR K41U    ┆ 2024-11-19    ┆ {\"passed\"} ┆ text  │\n",
       "│      ┆          ┆              ┆            ┆ 190335Z AUTO  ┆ 03:35:00 UTC  ┆            ┆       │\n",
       "│      ┆          ┆              ┆            ┆ 35003K…       ┆               ┆            ┆       │\n",
       "│ KSPK ┆ metar    ┆ 1            ┆ false      ┆ METAR KSPK    ┆ 2024-11-19    ┆ {\"passed\"} ┆ text  │\n",
       "│      ┆          ┆              ┆            ┆ 190335Z AUTO  ┆ 03:35:00 UTC  ┆            ┆       │\n",
       "│      ┆          ┆              ┆            ┆ 30007K…       ┆               ┆            ┆       │\n",
       "│ KU64 ┆ metar    ┆ 1            ┆ false      ┆ METAR KU64    ┆ 2024-11-19    ┆ {\"passed\"} ┆ text  │\n",
       "│      ┆          ┆              ┆            ┆ 190335Z AUTO  ┆ 03:35:00 UTC  ┆            ┆       │\n",
       "│      ┆          ┆              ┆            ┆ 31006K…       ┆               ┆            ┆       │\n",
       "│ K40U ┆ metar    ┆ 1            ┆ false      ┆ METAR K40U    ┆ 2024-11-19    ┆ {\"passed\"} ┆ text  │\n",
       "│      ┆          ┆              ┆            ┆ 190335Z AUTO  ┆ 03:35:00 UTC  ┆            ┆       │\n",
       "│      ┆          ┆              ┆            ┆ 29009G…       ┆               ┆            ┆       │\n",
       "└──────┴──────────┴──────────────┴────────────┴───────────────┴───────────────┴────────────┴───────┘"
      ]
     },
     "execution_count": 55,
     "metadata": {},
     "output_type": "execute_result"
    }
   ],
   "source": [
    "# Unpack the string observations\n",
    "observed_string = (\n",
    "    df.select([\"stid\"] + cols_with_string)\n",
    "    .select(\"stid\", \"^.*value.*$\")\n",
    "    .unpivot(index=\"stid\")\n",
    "    .with_columns(\n",
    "        pl.col(\"variable\").str.extract_groups(\n",
    "            r\"(?<variable>.+)_value_(?<sensor_index>\\d)(?<is_derived>d?)\"\n",
    "        )\n",
    "    )\n",
    "    .unnest(\"variable\")\n",
    "    .with_columns(\n",
    "        pl.col(\"is_derived\") == \"d\",\n",
    "        pl.col(\"sensor_index\").cast(pl.UInt32),\n",
    "        pl.col(\"variable\").replace(S.UNITS).alias(\"units\"),\n",
    "    )\n",
    "    .unnest(\"value\")\n",
    "    .rename({\"value\": \"value_string\"})\n",
    "    .with_columns(pl.col(\"date_time\").str.to_datetime())\n",
    "    .drop_nulls()\n",
    ")\n",
    "observed_string\n"
   ]
  },
  {
   "cell_type": "code",
   "execution_count": 56,
   "metadata": {},
   "outputs": [
    {
     "data": {
      "text/html": [
       "<div><style>\n",
       ".dataframe > thead > tr,\n",
       ".dataframe > tbody > tr {\n",
       "  text-align: right;\n",
       "  white-space: pre-wrap;\n",
       "}\n",
       "</style>\n",
       "<small>shape: (108, 8)</small><table border=\"1\" class=\"dataframe\"><thead><tr><th>stid</th><th>variable</th><th>sensor_index</th><th>is_derived</th><th>date_time</th><th>value_string</th><th>value</th><th>units</th></tr><tr><td>str</td><td>str</td><td>u32</td><td>bool</td><td>datetime[μs, UTC]</td><td>str</td><td>f64</td><td>str</td></tr></thead><tbody><tr><td>&quot;KSLC&quot;</td><td>&quot;cloud_layer_1&quot;</td><td>1</td><td>true</td><td>2024-11-19 03:50:00 UTC</td><td>&quot;thin scattered&quot;</td><td>1828.82</td><td>&quot;Meters&quot;</td></tr><tr><td>&quot;KU42&quot;</td><td>&quot;cloud_layer_1&quot;</td><td>1</td><td>true</td><td>2024-11-19 03:35:00 UTC</td><td>&quot;scattered&quot;</td><td>1828.82</td><td>&quot;Meters&quot;</td></tr><tr><td>&quot;KHIF&quot;</td><td>&quot;cloud_layer_1&quot;</td><td>1</td><td>true</td><td>2024-11-19 02:55:00 UTC</td><td>&quot;clear&quot;</td><td>null</td><td>&quot;Meters&quot;</td></tr><tr><td>&quot;KOGD&quot;</td><td>&quot;cloud_layer_1&quot;</td><td>1</td><td>true</td><td>2024-11-19 03:45:00 UTC</td><td>&quot;clear&quot;</td><td>null</td><td>&quot;Meters&quot;</td></tr><tr><td>&quot;KBMC&quot;</td><td>&quot;cloud_layer_1&quot;</td><td>1</td><td>true</td><td>2024-11-19 03:35:00 UTC</td><td>&quot;scattered&quot;</td><td>2743.23</td><td>&quot;Meters&quot;</td></tr><tr><td>&hellip;</td><td>&hellip;</td><td>&hellip;</td><td>&hellip;</td><td>&hellip;</td><td>&hellip;</td><td>&hellip;</td><td>&hellip;</td></tr><tr><td>&quot;K41U&quot;</td><td>&quot;cloud_layer_3&quot;</td><td>1</td><td>true</td><td>2024-11-18 19:55:00 UTC</td><td>&quot;broken&quot;</td><td>3352.84</td><td>&quot;Meters&quot;</td></tr><tr><td>&quot;UUSYR&quot;</td><td>&quot;cloud_layer_3&quot;</td><td>1</td><td>true</td><td>2024-11-18 15:40:00 UTC</td><td>&quot;N/A&quot;</td><td>2225.07</td><td>&quot;Meters&quot;</td></tr><tr><td>&quot;KSPK&quot;</td><td>&quot;cloud_layer_3&quot;</td><td>1</td><td>true</td><td>2024-11-18 23:15:00 UTC</td><td>&quot;broken&quot;</td><td>3048.04</td><td>&quot;Meters&quot;</td></tr><tr><td>&quot;KU64&quot;</td><td>&quot;cloud_layer_3&quot;</td><td>1</td><td>true</td><td>2024-11-18 15:55:00 UTC</td><td>&quot;broken&quot;</td><td>4876.86</td><td>&quot;Meters&quot;</td></tr><tr><td>&quot;K40U&quot;</td><td>&quot;cloud_layer_3&quot;</td><td>1</td><td>true</td><td>2024-11-19 00:55:00 UTC</td><td>&quot;scattered&quot;</td><td>1524.02</td><td>&quot;Meters&quot;</td></tr></tbody></table></div>"
      ],
      "text/plain": [
       "shape: (108, 8)\n",
       "┌───────┬──────────────┬──────────────┬────────────┬──────────────┬─────────────┬─────────┬────────┐\n",
       "│ stid  ┆ variable     ┆ sensor_index ┆ is_derived ┆ date_time    ┆ value_strin ┆ value   ┆ units  │\n",
       "│ ---   ┆ ---          ┆ ---          ┆ ---        ┆ ---          ┆ g           ┆ ---     ┆ ---    │\n",
       "│ str   ┆ str          ┆ u32          ┆ bool       ┆ datetime[μs, ┆ ---         ┆ f64     ┆ str    │\n",
       "│       ┆              ┆              ┆            ┆ UTC]         ┆ str         ┆         ┆        │\n",
       "╞═══════╪══════════════╪══════════════╪════════════╪══════════════╪═════════════╪═════════╪════════╡\n",
       "│ KSLC  ┆ cloud_layer_ ┆ 1            ┆ true       ┆ 2024-11-19   ┆ thin        ┆ 1828.82 ┆ Meters │\n",
       "│       ┆ 1            ┆              ┆            ┆ 03:50:00 UTC ┆ scattered   ┆         ┆        │\n",
       "│ KU42  ┆ cloud_layer_ ┆ 1            ┆ true       ┆ 2024-11-19   ┆ scattered   ┆ 1828.82 ┆ Meters │\n",
       "│       ┆ 1            ┆              ┆            ┆ 03:35:00 UTC ┆             ┆         ┆        │\n",
       "│ KHIF  ┆ cloud_layer_ ┆ 1            ┆ true       ┆ 2024-11-19   ┆ clear       ┆ null    ┆ Meters │\n",
       "│       ┆ 1            ┆              ┆            ┆ 02:55:00 UTC ┆             ┆         ┆        │\n",
       "│ KOGD  ┆ cloud_layer_ ┆ 1            ┆ true       ┆ 2024-11-19   ┆ clear       ┆ null    ┆ Meters │\n",
       "│       ┆ 1            ┆              ┆            ┆ 03:45:00 UTC ┆             ┆         ┆        │\n",
       "│ KBMC  ┆ cloud_layer_ ┆ 1            ┆ true       ┆ 2024-11-19   ┆ scattered   ┆ 2743.23 ┆ Meters │\n",
       "│       ┆ 1            ┆              ┆            ┆ 03:35:00 UTC ┆             ┆         ┆        │\n",
       "│ …     ┆ …            ┆ …            ┆ …          ┆ …            ┆ …           ┆ …       ┆ …      │\n",
       "│ K41U  ┆ cloud_layer_ ┆ 1            ┆ true       ┆ 2024-11-18   ┆ broken      ┆ 3352.84 ┆ Meters │\n",
       "│       ┆ 3            ┆              ┆            ┆ 19:55:00 UTC ┆             ┆         ┆        │\n",
       "│ UUSYR ┆ cloud_layer_ ┆ 1            ┆ true       ┆ 2024-11-18   ┆ N/A         ┆ 2225.07 ┆ Meters │\n",
       "│       ┆ 3            ┆              ┆            ┆ 15:40:00 UTC ┆             ┆         ┆        │\n",
       "│ KSPK  ┆ cloud_layer_ ┆ 1            ┆ true       ┆ 2024-11-18   ┆ broken      ┆ 3048.04 ┆ Meters │\n",
       "│       ┆ 3            ┆              ┆            ┆ 23:15:00 UTC ┆             ┆         ┆        │\n",
       "│ KU64  ┆ cloud_layer_ ┆ 1            ┆ true       ┆ 2024-11-18   ┆ broken      ┆ 4876.86 ┆ Meters │\n",
       "│       ┆ 3            ┆              ┆            ┆ 15:55:00 UTC ┆             ┆         ┆        │\n",
       "│ K40U  ┆ cloud_layer_ ┆ 1            ┆ true       ┆ 2024-11-19   ┆ scattered   ┆ 1524.02 ┆ Meters │\n",
       "│       ┆ 3            ┆              ┆            ┆ 00:55:00 UTC ┆             ┆         ┆        │\n",
       "└───────┴──────────────┴──────────────┴────────────┴──────────────┴─────────────┴─────────┴────────┘"
      ]
     },
     "execution_count": 56,
     "metadata": {},
     "output_type": "execute_result"
    }
   ],
   "source": [
    "# Unpack the cloud layer\n",
    "observed_cloud_layer = (\n",
    "    (\n",
    "        df.select([\"stid\"] + cols_with_cloud_layer)\n",
    "        .select(\"stid\", \"^.*value.*$\")\n",
    "        .unpivot(index=\"stid\")\n",
    "        .with_columns(\n",
    "            pl.col(\"variable\").str.extract_groups(\n",
    "                r\"(?<variable>.+)_value_(?<sensor_index>\\d)(?<is_derived>d?)\"\n",
    "            )\n",
    "        )\n",
    "        .unnest(\"variable\")\n",
    "        .with_columns(\n",
    "            pl.col(\"is_derived\") == \"d\",\n",
    "            pl.col(\"sensor_index\").cast(pl.UInt32),\n",
    "            pl.col(\"variable\").replace(S.UNITS).alias(\"units\"),\n",
    "        )\n",
    "        .unnest(\"value\")\n",
    "        .rename({\"value\": \"value_cloud_layer\"})\n",
    "        .with_columns(pl.col(\"date_time\").str.to_datetime())\n",
    "        .drop_nulls()\n",
    "    )\n",
    "    .unnest(\"value_cloud_layer\")\n",
    "    .rename({\"sky_condition\": \"value_string\", \"height_agl\": \"value\"})\n",
    ")\n",
    "observed_cloud_layer\n"
   ]
  },
  {
   "cell_type": "code",
   "execution_count": 57,
   "metadata": {},
   "outputs": [],
   "source": [
    "# Join all observation values\n",
    "\n",
    "observed = pl.concat(\n",
    "    [observed_float, observed_string, observed_cloud_layer], how=\"diagonal_relaxed\"\n",
    ")"
   ]
  },
  {
   "cell_type": "code",
   "execution_count": 61,
   "metadata": {},
   "outputs": [
    {
     "data": {
      "text/html": [
       "<div><style>\n",
       ".dataframe > thead > tr,\n",
       ".dataframe > tbody > tr {\n",
       "  text-align: right;\n",
       "  white-space: pre-wrap;\n",
       "}\n",
       "</style>\n",
       "<small>shape: (12_902, 34)</small><table border=\"1\" class=\"dataframe\"><thead><tr><th>stid</th><th>variable</th><th>sensor_index</th><th>is_derived</th><th>value</th><th>date_time</th><th>qc_passed</th><th>qc_flags</th><th>units</th><th>value_string</th><th>id</th><th>name</th><th>elevation</th><th>latitude</th><th>longitude</th><th>mnet_id</th><th>state</th><th>timezone</th><th>elev_dem</th><th>nwszone</th><th>nwsfirezone</th><th>gacc</th><th>shortname</th><th>sgid</th><th>county</th><th>country</th><th>wims_id</th><th>cwa</th><th>period_of_record_start</th><th>period_of_record_end</th><th>providers</th><th>qc_flagged</th><th>is_restricted</th><th>is_active</th></tr><tr><td>str</td><td>str</td><td>u32</td><td>bool</td><td>f64</td><td>datetime[μs, UTC]</td><td>bool</td><td>list[i64]</td><td>str</td><td>str</td><td>u32</td><td>str</td><td>f64</td><td>f64</td><td>f64</td><td>u32</td><td>str</td><td>str</td><td>f64</td><td>str</td><td>str</td><td>str</td><td>str</td><td>str</td><td>str</td><td>str</td><td>str</td><td>str</td><td>datetime[μs, UTC]</td><td>datetime[μs, UTC]</td><td>list[struct[2]]</td><td>bool</td><td>bool</td><td>bool</td></tr></thead><tbody><tr><td>&quot;WBB&quot;</td><td>&quot;pressure&quot;</td><td>1</td><td>false</td><td>84968.0</td><td>2024-11-19 03:50:00 UTC</td><td>true</td><td>null</td><td>&quot;Pascals&quot;</td><td>null</td><td>1</td><td>&quot;U of U William Browning Buildi…</td><td>4806.0</td><td>40.76623</td><td>-111.84755</td><td>153</td><td>&quot;UT&quot;</td><td>&quot;America/Denver&quot;</td><td>4727.7</td><td>&quot;UT105&quot;</td><td>&quot;SLC478&quot;</td><td>&quot;GBCC&quot;</td><td>&quot;UUNET&quot;</td><td>&quot;GB25&quot;</td><td>&quot;Salt Lake&quot;</td><td>&quot;US&quot;</td><td>null</td><td>&quot;SLC&quot;</td><td>1997-01-01 00:00:00 UTC</td><td>2024-11-19 03:10:00 UTC</td><td>[{&quot;U of U MesoWest Group&quot;,&quot;http://meso1.chpc.utah.edu/mesowest_overview/&quot;}, {&quot;U-ATAQ&quot;,&quot;http://air.utah.edu/&quot;}]</td><td>false</td><td>false</td><td>true</td></tr><tr><td>&quot;GNI&quot;</td><td>&quot;pressure&quot;</td><td>1</td><td>false</td><td>87058.0</td><td>2024-10-31 07:40:00 UTC</td><td>true</td><td>null</td><td>&quot;Pascals&quot;</td><td>null</td><td>34</td><td>&quot;Gunnison Island&quot;</td><td>4242.0</td><td>41.33216</td><td>-112.85432</td><td>153</td><td>&quot;UT&quot;</td><td>&quot;America/Denver&quot;</td><td>4202.8</td><td>&quot;UT101&quot;</td><td>&quot;SLC478&quot;</td><td>&quot;GBCC&quot;</td><td>&quot;UUNET&quot;</td><td>&quot;GB25&quot;</td><td>&quot;Box Elder&quot;</td><td>&quot;US&quot;</td><td>null</td><td>&quot;SLC&quot;</td><td>1998-05-22 00:00:00 UTC</td><td>2024-11-19 03:00:00 UTC</td><td>[{&quot;U of U MesoWest Group&quot;,&quot;http://meso1.chpc.utah.edu/mesowest_overview/&quot;}, {&quot;Utah Department of Natural Resources&quot;,&quot;http://www.dnr.utah.gov&quot;}, {&quot;SLC WFO/NWS Western Region&quot;,&quot;http://www.wrh.noaa.gov/slc&quot;}]</td><td>false</td><td>false</td><td>true</td></tr><tr><td>&quot;HATUT&quot;</td><td>&quot;pressure&quot;</td><td>1</td><td>false</td><td>86660.0</td><td>2024-11-19 03:45:00 UTC</td><td>true</td><td>null</td><td>&quot;Pascals&quot;</td><td>null</td><td>35</td><td>&quot;Hat Island&quot;</td><td>4242.0</td><td>41.07073</td><td>-112.58621</td><td>153</td><td>&quot;UT&quot;</td><td>&quot;America/Denver&quot;</td><td>4245.4</td><td>&quot;UT101&quot;</td><td>&quot;SLC478&quot;</td><td>&quot;GBCC&quot;</td><td>&quot;UUNET&quot;</td><td>&quot;GB25&quot;</td><td>&quot;Box Elder&quot;</td><td>&quot;US&quot;</td><td>null</td><td>&quot;SLC&quot;</td><td>1998-09-02 00:00:00 UTC</td><td>2024-11-19 03:00:00 UTC</td><td>[{&quot;U of U MesoWest Group&quot;,&quot;http://meso1.chpc.utah.edu/mesowest_overview/&quot;}, {&quot;Utah Department of Natural Resources&quot;,&quot;http://www.dnr.utah.gov&quot;}, {&quot;SLC WFO/NWS Western Region&quot;,&quot;http://www.wrh.noaa.gov/slc&quot;}]</td><td>false</td><td>false</td><td>true</td></tr><tr><td>&quot;LMS&quot;</td><td>&quot;pressure&quot;</td><td>1</td><td>false</td><td>86965.0</td><td>2024-11-19 03:45:00 UTC</td><td>true</td><td>null</td><td>&quot;Pascals&quot;</td><td>null</td><td>36</td><td>&quot;Locomotive Springs&quot;</td><td>4242.0</td><td>41.701</td><td>-112.86181</td><td>153</td><td>&quot;UT&quot;</td><td>&quot;America/Denver&quot;</td><td>4215.9</td><td>&quot;UT101&quot;</td><td>&quot;SLC478&quot;</td><td>&quot;GBCC&quot;</td><td>&quot;UUNET&quot;</td><td>&quot;GB25&quot;</td><td>&quot;Box Elder&quot;</td><td>&quot;US&quot;</td><td>null</td><td>&quot;SLC&quot;</td><td>1999-07-02 00:00:00 UTC</td><td>2024-11-19 03:00:00 UTC</td><td>[{&quot;U of U MesoWest Group&quot;,&quot;http://meso1.chpc.utah.edu/mesowest_overview/&quot;}, {&quot;SLC WFO/NWS Western Region&quot;,&quot;http://www.wrh.noaa.gov/slc&quot;}]</td><td>false</td><td>false</td><td>true</td></tr><tr><td>&quot;LMR&quot;</td><td>&quot;pressure&quot;</td><td>1</td><td>false</td><td>83896.0</td><td>2024-11-19 03:45:00 UTC</td><td>true</td><td>null</td><td>&quot;Pascals&quot;</td><td>null</td><td>39</td><td>&quot;Lakeside Mountain&quot;</td><td>5039.0</td><td>41.06084</td><td>-112.89173</td><td>153</td><td>&quot;UT&quot;</td><td>&quot;America/Denver&quot;</td><td>5150.9</td><td>&quot;UT101&quot;</td><td>&quot;SLC478&quot;</td><td>&quot;GBCC&quot;</td><td>&quot;UUNET&quot;</td><td>&quot;GB25&quot;</td><td>&quot;Box Elder&quot;</td><td>&quot;US&quot;</td><td>null</td><td>&quot;SLC&quot;</td><td>1999-12-16 00:00:00 UTC</td><td>2024-11-19 03:00:00 UTC</td><td>[{&quot;U of U MesoWest Group&quot;,&quot;http://meso1.chpc.utah.edu/mesowest_overview/&quot;}, {&quot;SLC WFO/NWS Western Region&quot;,&quot;http://www.wrh.noaa.gov/slc&quot;}]</td><td>false</td><td>false</td><td>true</td></tr><tr><td>&hellip;</td><td>&hellip;</td><td>&hellip;</td><td>&hellip;</td><td>&hellip;</td><td>&hellip;</td><td>&hellip;</td><td>&hellip;</td><td>&hellip;</td><td>&hellip;</td><td>&hellip;</td><td>&hellip;</td><td>&hellip;</td><td>&hellip;</td><td>&hellip;</td><td>&hellip;</td><td>&hellip;</td><td>&hellip;</td><td>&hellip;</td><td>&hellip;</td><td>&hellip;</td><td>&hellip;</td><td>&hellip;</td><td>&hellip;</td><td>&hellip;</td><td>&hellip;</td><td>&hellip;</td><td>&hellip;</td><td>&hellip;</td><td>&hellip;</td><td>&hellip;</td><td>&hellip;</td><td>&hellip;</td><td>&hellip;</td></tr><tr><td>&quot;K41U&quot;</td><td>&quot;cloud_layer_3&quot;</td><td>1</td><td>true</td><td>3352.84</td><td>2024-11-18 19:55:00 UTC</td><td>null</td><td>null</td><td>&quot;Meters&quot;</td><td>&quot;broken&quot;</td><td>46328</td><td>&quot;Manti-Ephraim Airport&quot;</td><td>5500.0</td><td>39.33133</td><td>-111.61273</td><td>1</td><td>&quot;UT&quot;</td><td>&quot;America/Denver&quot;</td><td>5505.2</td><td>&quot;UT118&quot;</td><td>&quot;SLC492&quot;</td><td>&quot;GBCC&quot;</td><td>&quot;ASOS/AWOS&quot;</td><td>&quot;GB27&quot;</td><td>&quot;Sanpete&quot;</td><td>&quot;US&quot;</td><td>null</td><td>&quot;SLC&quot;</td><td>2015-06-03 18:59:00 UTC</td><td>2024-11-19 02:55:00 UTC</td><td>[{&quot;National Weather Service&quot;,&quot;http://www.weather.gov&quot;}]</td><td>false</td><td>false</td><td>true</td></tr><tr><td>&quot;UUSYR&quot;</td><td>&quot;cloud_layer_3&quot;</td><td>1</td><td>true</td><td>2225.07</td><td>2024-11-18 15:40:00 UTC</td><td>null</td><td>null</td><td>&quot;Meters&quot;</td><td>&quot;N/A&quot;</td><td>62231</td><td>&quot;Syracuse&quot;</td><td>4217.0</td><td>41.08847</td><td>-112.1188</td><td>153</td><td>&quot;UT&quot;</td><td>&quot;America/Denver&quot;</td><td>4215.9</td><td>&quot;UT104&quot;</td><td>&quot;SLC478&quot;</td><td>&quot;GBCC&quot;</td><td>&quot;UUNET&quot;</td><td>&quot;GB25&quot;</td><td>&quot;Davis&quot;</td><td>&quot;US&quot;</td><td>null</td><td>&quot;SLC&quot;</td><td>2017-03-17 19:46:00 UTC</td><td>2024-11-19 03:10:00 UTC</td><td>[{&quot;U of U MesoWest Group&quot;,&quot;http://meso1.chpc.utah.edu/mesowest_overview/&quot;}]</td><td>false</td><td>false</td><td>true</td></tr><tr><td>&quot;KSPK&quot;</td><td>&quot;cloud_layer_3&quot;</td><td>1</td><td>true</td><td>3048.04</td><td>2024-11-18 23:15:00 UTC</td><td>null</td><td>null</td><td>&quot;Meters&quot;</td><td>&quot;broken&quot;</td><td>160898</td><td>&quot;Spanish Fork Municipal Airport&quot;</td><td>4530.0</td><td>40.145</td><td>-111.6677</td><td>1</td><td>&quot;UT&quot;</td><td>&quot;America/Denver&quot;</td><td>4534.1</td><td>&quot;UT106&quot;</td><td>&quot;SLC478&quot;</td><td>&quot;GBCC&quot;</td><td>&quot;ASOS/AWOS&quot;</td><td>&quot;GB25&quot;</td><td>&quot;Utah&quot;</td><td>&quot;US&quot;</td><td>null</td><td>&quot;SLC&quot;</td><td>2021-01-19 19:28:00 UTC</td><td>2024-11-19 02:55:00 UTC</td><td>[{&quot;National Weather Service&quot;,&quot;http://www.weather.gov&quot;}]</td><td>false</td><td>false</td><td>true</td></tr><tr><td>&quot;KU64&quot;</td><td>&quot;cloud_layer_3&quot;</td><td>1</td><td>true</td><td>4876.86</td><td>2024-11-18 15:55:00 UTC</td><td>null</td><td>null</td><td>&quot;Meters&quot;</td><td>&quot;broken&quot;</td><td>207121</td><td>&quot;Monticello Airport&quot;</td><td>6970.0</td><td>37.93243</td><td>-109.34122</td><td>1</td><td>&quot;UT&quot;</td><td>&quot;America/Denver&quot;</td><td>null</td><td>&quot;UT028&quot;</td><td>&quot;GJT491&quot;</td><td>&quot;GBCC&quot;</td><td>&quot;ASOS/AWOS&quot;</td><td>&quot;GB32&quot;</td><td>&quot;San Juan&quot;</td><td>&quot;US&quot;</td><td>null</td><td>&quot;GJT&quot;</td><td>2023-04-06 13:59:00 UTC</td><td>2024-11-19 02:55:00 UTC</td><td>[{&quot;National Weather Service&quot;,&quot;http://www.weather.gov&quot;}]</td><td>false</td><td>false</td><td>true</td></tr><tr><td>&quot;K40U&quot;</td><td>&quot;cloud_layer_3&quot;</td><td>1</td><td>true</td><td>1524.02</td><td>2024-11-19 00:55:00 UTC</td><td>null</td><td>null</td><td>&quot;Meters&quot;</td><td>&quot;scattered&quot;</td><td>218094</td><td>&quot;MANILA&quot;</td><td>6175.0</td><td>40.9833</td><td>-109.6833</td><td>1</td><td>&quot;UT&quot;</td><td>&quot;America/Denver&quot;</td><td>null</td><td>&quot;UT023&quot;</td><td>&quot;GJT485&quot;</td><td>&quot;GBCC&quot;</td><td>&quot;ASOS/AWOS&quot;</td><td>&quot;GB29&quot;</td><td>&quot;Daggett&quot;</td><td>&quot;US&quot;</td><td>null</td><td>&quot;GJT&quot;</td><td>2023-05-24 20:23:00 UTC</td><td>2024-11-19 02:55:00 UTC</td><td>[{&quot;National Weather Service&quot;,&quot;http://www.weather.gov&quot;}]</td><td>false</td><td>false</td><td>true</td></tr></tbody></table></div>"
      ],
      "text/plain": [
       "shape: (12_902, 34)\n",
       "┌───────┬────────────┬────────────┬────────────┬───┬───────────┬───────────┬───────────┬───────────┐\n",
       "│ stid  ┆ variable   ┆ sensor_ind ┆ is_derived ┆ … ┆ providers ┆ qc_flagge ┆ is_restri ┆ is_active │\n",
       "│ ---   ┆ ---        ┆ ex         ┆ ---        ┆   ┆ ---       ┆ d         ┆ cted      ┆ ---       │\n",
       "│ str   ┆ str        ┆ ---        ┆ bool       ┆   ┆ list[stru ┆ ---       ┆ ---       ┆ bool      │\n",
       "│       ┆            ┆ u32        ┆            ┆   ┆ ct[2]]    ┆ bool      ┆ bool      ┆           │\n",
       "╞═══════╪════════════╪════════════╪════════════╪═══╪═══════════╪═══════════╪═══════════╪═══════════╡\n",
       "│ WBB   ┆ pressure   ┆ 1          ┆ false      ┆ … ┆ [{\"U of U ┆ false     ┆ false     ┆ true      │\n",
       "│       ┆            ┆            ┆            ┆   ┆ MesoWest  ┆           ┆           ┆           │\n",
       "│       ┆            ┆            ┆            ┆   ┆ Group\",\"h ┆           ┆           ┆           │\n",
       "│       ┆            ┆            ┆            ┆   ┆ tt…       ┆           ┆           ┆           │\n",
       "│ GNI   ┆ pressure   ┆ 1          ┆ false      ┆ … ┆ [{\"U of U ┆ false     ┆ false     ┆ true      │\n",
       "│       ┆            ┆            ┆            ┆   ┆ MesoWest  ┆           ┆           ┆           │\n",
       "│       ┆            ┆            ┆            ┆   ┆ Group\",\"h ┆           ┆           ┆           │\n",
       "│       ┆            ┆            ┆            ┆   ┆ tt…       ┆           ┆           ┆           │\n",
       "│ HATUT ┆ pressure   ┆ 1          ┆ false      ┆ … ┆ [{\"U of U ┆ false     ┆ false     ┆ true      │\n",
       "│       ┆            ┆            ┆            ┆   ┆ MesoWest  ┆           ┆           ┆           │\n",
       "│       ┆            ┆            ┆            ┆   ┆ Group\",\"h ┆           ┆           ┆           │\n",
       "│       ┆            ┆            ┆            ┆   ┆ tt…       ┆           ┆           ┆           │\n",
       "│ LMS   ┆ pressure   ┆ 1          ┆ false      ┆ … ┆ [{\"U of U ┆ false     ┆ false     ┆ true      │\n",
       "│       ┆            ┆            ┆            ┆   ┆ MesoWest  ┆           ┆           ┆           │\n",
       "│       ┆            ┆            ┆            ┆   ┆ Group\",\"h ┆           ┆           ┆           │\n",
       "│       ┆            ┆            ┆            ┆   ┆ tt…       ┆           ┆           ┆           │\n",
       "│ LMR   ┆ pressure   ┆ 1          ┆ false      ┆ … ┆ [{\"U of U ┆ false     ┆ false     ┆ true      │\n",
       "│       ┆            ┆            ┆            ┆   ┆ MesoWest  ┆           ┆           ┆           │\n",
       "│       ┆            ┆            ┆            ┆   ┆ Group\",\"h ┆           ┆           ┆           │\n",
       "│       ┆            ┆            ┆            ┆   ┆ tt…       ┆           ┆           ┆           │\n",
       "│ …     ┆ …          ┆ …          ┆ …          ┆ … ┆ …         ┆ …         ┆ …         ┆ …         │\n",
       "│ K41U  ┆ cloud_laye ┆ 1          ┆ true       ┆ … ┆ [{\"Nation ┆ false     ┆ false     ┆ true      │\n",
       "│       ┆ r_3        ┆            ┆            ┆   ┆ al        ┆           ┆           ┆           │\n",
       "│       ┆            ┆            ┆            ┆   ┆ Weather   ┆           ┆           ┆           │\n",
       "│       ┆            ┆            ┆            ┆   ┆ Service\", ┆           ┆           ┆           │\n",
       "│       ┆            ┆            ┆            ┆   ┆ \"…        ┆           ┆           ┆           │\n",
       "│ UUSYR ┆ cloud_laye ┆ 1          ┆ true       ┆ … ┆ [{\"U of U ┆ false     ┆ false     ┆ true      │\n",
       "│       ┆ r_3        ┆            ┆            ┆   ┆ MesoWest  ┆           ┆           ┆           │\n",
       "│       ┆            ┆            ┆            ┆   ┆ Group\",\"h ┆           ┆           ┆           │\n",
       "│       ┆            ┆            ┆            ┆   ┆ tt…       ┆           ┆           ┆           │\n",
       "│ KSPK  ┆ cloud_laye ┆ 1          ┆ true       ┆ … ┆ [{\"Nation ┆ false     ┆ false     ┆ true      │\n",
       "│       ┆ r_3        ┆            ┆            ┆   ┆ al        ┆           ┆           ┆           │\n",
       "│       ┆            ┆            ┆            ┆   ┆ Weather   ┆           ┆           ┆           │\n",
       "│       ┆            ┆            ┆            ┆   ┆ Service\", ┆           ┆           ┆           │\n",
       "│       ┆            ┆            ┆            ┆   ┆ \"…        ┆           ┆           ┆           │\n",
       "│ KU64  ┆ cloud_laye ┆ 1          ┆ true       ┆ … ┆ [{\"Nation ┆ false     ┆ false     ┆ true      │\n",
       "│       ┆ r_3        ┆            ┆            ┆   ┆ al        ┆           ┆           ┆           │\n",
       "│       ┆            ┆            ┆            ┆   ┆ Weather   ┆           ┆           ┆           │\n",
       "│       ┆            ┆            ┆            ┆   ┆ Service\", ┆           ┆           ┆           │\n",
       "│       ┆            ┆            ┆            ┆   ┆ \"…        ┆           ┆           ┆           │\n",
       "│ K40U  ┆ cloud_laye ┆ 1          ┆ true       ┆ … ┆ [{\"Nation ┆ false     ┆ false     ┆ true      │\n",
       "│       ┆ r_3        ┆            ┆            ┆   ┆ al        ┆           ┆           ┆           │\n",
       "│       ┆            ┆            ┆            ┆   ┆ Weather   ┆           ┆           ┆           │\n",
       "│       ┆            ┆            ┆            ┆   ┆ Service\", ┆           ┆           ┆           │\n",
       "│       ┆            ┆            ┆            ┆   ┆ \"…        ┆           ┆           ┆           │\n",
       "└───────┴────────────┴────────────┴────────────┴───┴───────────┴───────────┴───────────┴───────────┘"
      ]
     },
     "execution_count": 61,
     "metadata": {},
     "output_type": "execute_result"
    }
   ],
   "source": [
    "# Join the metadata to the observed values\n",
    "\n",
    "observed = observed.join(metadata, on=\"stid\", how=\"full\", coalesce=True)\n",
    "\n",
    "if \"qc\" in observed.columns:\n",
    "    observed = (\n",
    "        observed.unnest(\"qc\")\n",
    "        .rename({\"status\": \"qc_passed\"})\n",
    "        .with_columns(\n",
    "            pl.col(\"qc_passed\").replace_strict({\"failed\": False, \"passed\": True})\n",
    "        )\n",
    "    )\n",
    "\n",
    "observed"
   ]
  },
  {
   "cell_type": "code",
   "execution_count": 59,
   "metadata": {},
   "outputs": [
    {
     "data": {
      "text/html": [
       "<div><style>\n",
       ".dataframe > thead > tr,\n",
       ".dataframe > tbody > tr {\n",
       "  text-align: right;\n",
       "  white-space: pre-wrap;\n",
       "}\n",
       "</style>\n",
       "<small>shape: (12_902, 34)</small><table border=\"1\" class=\"dataframe\"><thead><tr><th>stid</th><th>variable</th><th>sensor_index</th><th>is_derived</th><th>value</th><th>date_time</th><th>status</th><th>qc_flags</th><th>units</th><th>value_string</th><th>id</th><th>name</th><th>elevation</th><th>latitude</th><th>longitude</th><th>mnet_id</th><th>state</th><th>timezone</th><th>elev_dem</th><th>nwszone</th><th>nwsfirezone</th><th>gacc</th><th>shortname</th><th>sgid</th><th>county</th><th>country</th><th>wims_id</th><th>cwa</th><th>period_of_record_start</th><th>period_of_record_end</th><th>providers</th><th>qc_flagged</th><th>is_restricted</th><th>is_active</th></tr><tr><td>str</td><td>str</td><td>u32</td><td>bool</td><td>f64</td><td>datetime[μs, UTC]</td><td>str</td><td>list[i64]</td><td>str</td><td>str</td><td>u32</td><td>str</td><td>f64</td><td>f64</td><td>f64</td><td>u32</td><td>str</td><td>str</td><td>f64</td><td>str</td><td>str</td><td>str</td><td>str</td><td>str</td><td>str</td><td>str</td><td>str</td><td>str</td><td>datetime[μs, UTC]</td><td>datetime[μs, UTC]</td><td>list[struct[2]]</td><td>bool</td><td>bool</td><td>bool</td></tr></thead><tbody><tr><td>&quot;WBB&quot;</td><td>&quot;pressure&quot;</td><td>1</td><td>false</td><td>84968.0</td><td>2024-11-19 03:50:00 UTC</td><td>&quot;passed&quot;</td><td>null</td><td>&quot;Pascals&quot;</td><td>null</td><td>1</td><td>&quot;U of U William Browning Buildi…</td><td>4806.0</td><td>40.76623</td><td>-111.84755</td><td>153</td><td>&quot;UT&quot;</td><td>&quot;America/Denver&quot;</td><td>4727.7</td><td>&quot;UT105&quot;</td><td>&quot;SLC478&quot;</td><td>&quot;GBCC&quot;</td><td>&quot;UUNET&quot;</td><td>&quot;GB25&quot;</td><td>&quot;Salt Lake&quot;</td><td>&quot;US&quot;</td><td>null</td><td>&quot;SLC&quot;</td><td>1997-01-01 00:00:00 UTC</td><td>2024-11-19 03:10:00 UTC</td><td>[{&quot;U of U MesoWest Group&quot;,&quot;http://meso1.chpc.utah.edu/mesowest_overview/&quot;}, {&quot;U-ATAQ&quot;,&quot;http://air.utah.edu/&quot;}]</td><td>false</td><td>false</td><td>true</td></tr><tr><td>&quot;GNI&quot;</td><td>&quot;pressure&quot;</td><td>1</td><td>false</td><td>87058.0</td><td>2024-10-31 07:40:00 UTC</td><td>&quot;passed&quot;</td><td>null</td><td>&quot;Pascals&quot;</td><td>null</td><td>34</td><td>&quot;Gunnison Island&quot;</td><td>4242.0</td><td>41.33216</td><td>-112.85432</td><td>153</td><td>&quot;UT&quot;</td><td>&quot;America/Denver&quot;</td><td>4202.8</td><td>&quot;UT101&quot;</td><td>&quot;SLC478&quot;</td><td>&quot;GBCC&quot;</td><td>&quot;UUNET&quot;</td><td>&quot;GB25&quot;</td><td>&quot;Box Elder&quot;</td><td>&quot;US&quot;</td><td>null</td><td>&quot;SLC&quot;</td><td>1998-05-22 00:00:00 UTC</td><td>2024-11-19 03:00:00 UTC</td><td>[{&quot;U of U MesoWest Group&quot;,&quot;http://meso1.chpc.utah.edu/mesowest_overview/&quot;}, {&quot;Utah Department of Natural Resources&quot;,&quot;http://www.dnr.utah.gov&quot;}, {&quot;SLC WFO/NWS Western Region&quot;,&quot;http://www.wrh.noaa.gov/slc&quot;}]</td><td>false</td><td>false</td><td>true</td></tr><tr><td>&quot;HATUT&quot;</td><td>&quot;pressure&quot;</td><td>1</td><td>false</td><td>86660.0</td><td>2024-11-19 03:45:00 UTC</td><td>&quot;passed&quot;</td><td>null</td><td>&quot;Pascals&quot;</td><td>null</td><td>35</td><td>&quot;Hat Island&quot;</td><td>4242.0</td><td>41.07073</td><td>-112.58621</td><td>153</td><td>&quot;UT&quot;</td><td>&quot;America/Denver&quot;</td><td>4245.4</td><td>&quot;UT101&quot;</td><td>&quot;SLC478&quot;</td><td>&quot;GBCC&quot;</td><td>&quot;UUNET&quot;</td><td>&quot;GB25&quot;</td><td>&quot;Box Elder&quot;</td><td>&quot;US&quot;</td><td>null</td><td>&quot;SLC&quot;</td><td>1998-09-02 00:00:00 UTC</td><td>2024-11-19 03:00:00 UTC</td><td>[{&quot;U of U MesoWest Group&quot;,&quot;http://meso1.chpc.utah.edu/mesowest_overview/&quot;}, {&quot;Utah Department of Natural Resources&quot;,&quot;http://www.dnr.utah.gov&quot;}, {&quot;SLC WFO/NWS Western Region&quot;,&quot;http://www.wrh.noaa.gov/slc&quot;}]</td><td>false</td><td>false</td><td>true</td></tr><tr><td>&quot;LMS&quot;</td><td>&quot;pressure&quot;</td><td>1</td><td>false</td><td>86965.0</td><td>2024-11-19 03:45:00 UTC</td><td>&quot;passed&quot;</td><td>null</td><td>&quot;Pascals&quot;</td><td>null</td><td>36</td><td>&quot;Locomotive Springs&quot;</td><td>4242.0</td><td>41.701</td><td>-112.86181</td><td>153</td><td>&quot;UT&quot;</td><td>&quot;America/Denver&quot;</td><td>4215.9</td><td>&quot;UT101&quot;</td><td>&quot;SLC478&quot;</td><td>&quot;GBCC&quot;</td><td>&quot;UUNET&quot;</td><td>&quot;GB25&quot;</td><td>&quot;Box Elder&quot;</td><td>&quot;US&quot;</td><td>null</td><td>&quot;SLC&quot;</td><td>1999-07-02 00:00:00 UTC</td><td>2024-11-19 03:00:00 UTC</td><td>[{&quot;U of U MesoWest Group&quot;,&quot;http://meso1.chpc.utah.edu/mesowest_overview/&quot;}, {&quot;SLC WFO/NWS Western Region&quot;,&quot;http://www.wrh.noaa.gov/slc&quot;}]</td><td>false</td><td>false</td><td>true</td></tr><tr><td>&quot;LMR&quot;</td><td>&quot;pressure&quot;</td><td>1</td><td>false</td><td>83896.0</td><td>2024-11-19 03:45:00 UTC</td><td>&quot;passed&quot;</td><td>null</td><td>&quot;Pascals&quot;</td><td>null</td><td>39</td><td>&quot;Lakeside Mountain&quot;</td><td>5039.0</td><td>41.06084</td><td>-112.89173</td><td>153</td><td>&quot;UT&quot;</td><td>&quot;America/Denver&quot;</td><td>5150.9</td><td>&quot;UT101&quot;</td><td>&quot;SLC478&quot;</td><td>&quot;GBCC&quot;</td><td>&quot;UUNET&quot;</td><td>&quot;GB25&quot;</td><td>&quot;Box Elder&quot;</td><td>&quot;US&quot;</td><td>null</td><td>&quot;SLC&quot;</td><td>1999-12-16 00:00:00 UTC</td><td>2024-11-19 03:00:00 UTC</td><td>[{&quot;U of U MesoWest Group&quot;,&quot;http://meso1.chpc.utah.edu/mesowest_overview/&quot;}, {&quot;SLC WFO/NWS Western Region&quot;,&quot;http://www.wrh.noaa.gov/slc&quot;}]</td><td>false</td><td>false</td><td>true</td></tr><tr><td>&hellip;</td><td>&hellip;</td><td>&hellip;</td><td>&hellip;</td><td>&hellip;</td><td>&hellip;</td><td>&hellip;</td><td>&hellip;</td><td>&hellip;</td><td>&hellip;</td><td>&hellip;</td><td>&hellip;</td><td>&hellip;</td><td>&hellip;</td><td>&hellip;</td><td>&hellip;</td><td>&hellip;</td><td>&hellip;</td><td>&hellip;</td><td>&hellip;</td><td>&hellip;</td><td>&hellip;</td><td>&hellip;</td><td>&hellip;</td><td>&hellip;</td><td>&hellip;</td><td>&hellip;</td><td>&hellip;</td><td>&hellip;</td><td>&hellip;</td><td>&hellip;</td><td>&hellip;</td><td>&hellip;</td><td>&hellip;</td></tr><tr><td>&quot;K41U&quot;</td><td>&quot;cloud_layer_3&quot;</td><td>1</td><td>true</td><td>3352.84</td><td>2024-11-18 19:55:00 UTC</td><td>null</td><td>null</td><td>&quot;Meters&quot;</td><td>&quot;broken&quot;</td><td>46328</td><td>&quot;Manti-Ephraim Airport&quot;</td><td>5500.0</td><td>39.33133</td><td>-111.61273</td><td>1</td><td>&quot;UT&quot;</td><td>&quot;America/Denver&quot;</td><td>5505.2</td><td>&quot;UT118&quot;</td><td>&quot;SLC492&quot;</td><td>&quot;GBCC&quot;</td><td>&quot;ASOS/AWOS&quot;</td><td>&quot;GB27&quot;</td><td>&quot;Sanpete&quot;</td><td>&quot;US&quot;</td><td>null</td><td>&quot;SLC&quot;</td><td>2015-06-03 18:59:00 UTC</td><td>2024-11-19 02:55:00 UTC</td><td>[{&quot;National Weather Service&quot;,&quot;http://www.weather.gov&quot;}]</td><td>false</td><td>false</td><td>true</td></tr><tr><td>&quot;UUSYR&quot;</td><td>&quot;cloud_layer_3&quot;</td><td>1</td><td>true</td><td>2225.07</td><td>2024-11-18 15:40:00 UTC</td><td>null</td><td>null</td><td>&quot;Meters&quot;</td><td>&quot;N/A&quot;</td><td>62231</td><td>&quot;Syracuse&quot;</td><td>4217.0</td><td>41.08847</td><td>-112.1188</td><td>153</td><td>&quot;UT&quot;</td><td>&quot;America/Denver&quot;</td><td>4215.9</td><td>&quot;UT104&quot;</td><td>&quot;SLC478&quot;</td><td>&quot;GBCC&quot;</td><td>&quot;UUNET&quot;</td><td>&quot;GB25&quot;</td><td>&quot;Davis&quot;</td><td>&quot;US&quot;</td><td>null</td><td>&quot;SLC&quot;</td><td>2017-03-17 19:46:00 UTC</td><td>2024-11-19 03:10:00 UTC</td><td>[{&quot;U of U MesoWest Group&quot;,&quot;http://meso1.chpc.utah.edu/mesowest_overview/&quot;}]</td><td>false</td><td>false</td><td>true</td></tr><tr><td>&quot;KSPK&quot;</td><td>&quot;cloud_layer_3&quot;</td><td>1</td><td>true</td><td>3048.04</td><td>2024-11-18 23:15:00 UTC</td><td>null</td><td>null</td><td>&quot;Meters&quot;</td><td>&quot;broken&quot;</td><td>160898</td><td>&quot;Spanish Fork Municipal Airport&quot;</td><td>4530.0</td><td>40.145</td><td>-111.6677</td><td>1</td><td>&quot;UT&quot;</td><td>&quot;America/Denver&quot;</td><td>4534.1</td><td>&quot;UT106&quot;</td><td>&quot;SLC478&quot;</td><td>&quot;GBCC&quot;</td><td>&quot;ASOS/AWOS&quot;</td><td>&quot;GB25&quot;</td><td>&quot;Utah&quot;</td><td>&quot;US&quot;</td><td>null</td><td>&quot;SLC&quot;</td><td>2021-01-19 19:28:00 UTC</td><td>2024-11-19 02:55:00 UTC</td><td>[{&quot;National Weather Service&quot;,&quot;http://www.weather.gov&quot;}]</td><td>false</td><td>false</td><td>true</td></tr><tr><td>&quot;KU64&quot;</td><td>&quot;cloud_layer_3&quot;</td><td>1</td><td>true</td><td>4876.86</td><td>2024-11-18 15:55:00 UTC</td><td>null</td><td>null</td><td>&quot;Meters&quot;</td><td>&quot;broken&quot;</td><td>207121</td><td>&quot;Monticello Airport&quot;</td><td>6970.0</td><td>37.93243</td><td>-109.34122</td><td>1</td><td>&quot;UT&quot;</td><td>&quot;America/Denver&quot;</td><td>null</td><td>&quot;UT028&quot;</td><td>&quot;GJT491&quot;</td><td>&quot;GBCC&quot;</td><td>&quot;ASOS/AWOS&quot;</td><td>&quot;GB32&quot;</td><td>&quot;San Juan&quot;</td><td>&quot;US&quot;</td><td>null</td><td>&quot;GJT&quot;</td><td>2023-04-06 13:59:00 UTC</td><td>2024-11-19 02:55:00 UTC</td><td>[{&quot;National Weather Service&quot;,&quot;http://www.weather.gov&quot;}]</td><td>false</td><td>false</td><td>true</td></tr><tr><td>&quot;K40U&quot;</td><td>&quot;cloud_layer_3&quot;</td><td>1</td><td>true</td><td>1524.02</td><td>2024-11-19 00:55:00 UTC</td><td>null</td><td>null</td><td>&quot;Meters&quot;</td><td>&quot;scattered&quot;</td><td>218094</td><td>&quot;MANILA&quot;</td><td>6175.0</td><td>40.9833</td><td>-109.6833</td><td>1</td><td>&quot;UT&quot;</td><td>&quot;America/Denver&quot;</td><td>null</td><td>&quot;UT023&quot;</td><td>&quot;GJT485&quot;</td><td>&quot;GBCC&quot;</td><td>&quot;ASOS/AWOS&quot;</td><td>&quot;GB29&quot;</td><td>&quot;Daggett&quot;</td><td>&quot;US&quot;</td><td>null</td><td>&quot;GJT&quot;</td><td>2023-05-24 20:23:00 UTC</td><td>2024-11-19 02:55:00 UTC</td><td>[{&quot;National Weather Service&quot;,&quot;http://www.weather.gov&quot;}]</td><td>false</td><td>false</td><td>true</td></tr></tbody></table></div>"
      ],
      "text/plain": [
       "shape: (12_902, 34)\n",
       "┌───────┬────────────┬────────────┬────────────┬───┬───────────┬───────────┬───────────┬───────────┐\n",
       "│ stid  ┆ variable   ┆ sensor_ind ┆ is_derived ┆ … ┆ providers ┆ qc_flagge ┆ is_restri ┆ is_active │\n",
       "│ ---   ┆ ---        ┆ ex         ┆ ---        ┆   ┆ ---       ┆ d         ┆ cted      ┆ ---       │\n",
       "│ str   ┆ str        ┆ ---        ┆ bool       ┆   ┆ list[stru ┆ ---       ┆ ---       ┆ bool      │\n",
       "│       ┆            ┆ u32        ┆            ┆   ┆ ct[2]]    ┆ bool      ┆ bool      ┆           │\n",
       "╞═══════╪════════════╪════════════╪════════════╪═══╪═══════════╪═══════════╪═══════════╪═══════════╡\n",
       "│ WBB   ┆ pressure   ┆ 1          ┆ false      ┆ … ┆ [{\"U of U ┆ false     ┆ false     ┆ true      │\n",
       "│       ┆            ┆            ┆            ┆   ┆ MesoWest  ┆           ┆           ┆           │\n",
       "│       ┆            ┆            ┆            ┆   ┆ Group\",\"h ┆           ┆           ┆           │\n",
       "│       ┆            ┆            ┆            ┆   ┆ tt…       ┆           ┆           ┆           │\n",
       "│ GNI   ┆ pressure   ┆ 1          ┆ false      ┆ … ┆ [{\"U of U ┆ false     ┆ false     ┆ true      │\n",
       "│       ┆            ┆            ┆            ┆   ┆ MesoWest  ┆           ┆           ┆           │\n",
       "│       ┆            ┆            ┆            ┆   ┆ Group\",\"h ┆           ┆           ┆           │\n",
       "│       ┆            ┆            ┆            ┆   ┆ tt…       ┆           ┆           ┆           │\n",
       "│ HATUT ┆ pressure   ┆ 1          ┆ false      ┆ … ┆ [{\"U of U ┆ false     ┆ false     ┆ true      │\n",
       "│       ┆            ┆            ┆            ┆   ┆ MesoWest  ┆           ┆           ┆           │\n",
       "│       ┆            ┆            ┆            ┆   ┆ Group\",\"h ┆           ┆           ┆           │\n",
       "│       ┆            ┆            ┆            ┆   ┆ tt…       ┆           ┆           ┆           │\n",
       "│ LMS   ┆ pressure   ┆ 1          ┆ false      ┆ … ┆ [{\"U of U ┆ false     ┆ false     ┆ true      │\n",
       "│       ┆            ┆            ┆            ┆   ┆ MesoWest  ┆           ┆           ┆           │\n",
       "│       ┆            ┆            ┆            ┆   ┆ Group\",\"h ┆           ┆           ┆           │\n",
       "│       ┆            ┆            ┆            ┆   ┆ tt…       ┆           ┆           ┆           │\n",
       "│ LMR   ┆ pressure   ┆ 1          ┆ false      ┆ … ┆ [{\"U of U ┆ false     ┆ false     ┆ true      │\n",
       "│       ┆            ┆            ┆            ┆   ┆ MesoWest  ┆           ┆           ┆           │\n",
       "│       ┆            ┆            ┆            ┆   ┆ Group\",\"h ┆           ┆           ┆           │\n",
       "│       ┆            ┆            ┆            ┆   ┆ tt…       ┆           ┆           ┆           │\n",
       "│ …     ┆ …          ┆ …          ┆ …          ┆ … ┆ …         ┆ …         ┆ …         ┆ …         │\n",
       "│ K41U  ┆ cloud_laye ┆ 1          ┆ true       ┆ … ┆ [{\"Nation ┆ false     ┆ false     ┆ true      │\n",
       "│       ┆ r_3        ┆            ┆            ┆   ┆ al        ┆           ┆           ┆           │\n",
       "│       ┆            ┆            ┆            ┆   ┆ Weather   ┆           ┆           ┆           │\n",
       "│       ┆            ┆            ┆            ┆   ┆ Service\", ┆           ┆           ┆           │\n",
       "│       ┆            ┆            ┆            ┆   ┆ \"…        ┆           ┆           ┆           │\n",
       "│ UUSYR ┆ cloud_laye ┆ 1          ┆ true       ┆ … ┆ [{\"U of U ┆ false     ┆ false     ┆ true      │\n",
       "│       ┆ r_3        ┆            ┆            ┆   ┆ MesoWest  ┆           ┆           ┆           │\n",
       "│       ┆            ┆            ┆            ┆   ┆ Group\",\"h ┆           ┆           ┆           │\n",
       "│       ┆            ┆            ┆            ┆   ┆ tt…       ┆           ┆           ┆           │\n",
       "│ KSPK  ┆ cloud_laye ┆ 1          ┆ true       ┆ … ┆ [{\"Nation ┆ false     ┆ false     ┆ true      │\n",
       "│       ┆ r_3        ┆            ┆            ┆   ┆ al        ┆           ┆           ┆           │\n",
       "│       ┆            ┆            ┆            ┆   ┆ Weather   ┆           ┆           ┆           │\n",
       "│       ┆            ┆            ┆            ┆   ┆ Service\", ┆           ┆           ┆           │\n",
       "│       ┆            ┆            ┆            ┆   ┆ \"…        ┆           ┆           ┆           │\n",
       "│ KU64  ┆ cloud_laye ┆ 1          ┆ true       ┆ … ┆ [{\"Nation ┆ false     ┆ false     ┆ true      │\n",
       "│       ┆ r_3        ┆            ┆            ┆   ┆ al        ┆           ┆           ┆           │\n",
       "│       ┆            ┆            ┆            ┆   ┆ Weather   ┆           ┆           ┆           │\n",
       "│       ┆            ┆            ┆            ┆   ┆ Service\", ┆           ┆           ┆           │\n",
       "│       ┆            ┆            ┆            ┆   ┆ \"…        ┆           ┆           ┆           │\n",
       "│ K40U  ┆ cloud_laye ┆ 1          ┆ true       ┆ … ┆ [{\"Nation ┆ false     ┆ false     ┆ true      │\n",
       "│       ┆ r_3        ┆            ┆            ┆   ┆ al        ┆           ┆           ┆           │\n",
       "│       ┆            ┆            ┆            ┆   ┆ Weather   ┆           ┆           ┆           │\n",
       "│       ┆            ┆            ┆            ┆   ┆ Service\", ┆           ┆           ┆           │\n",
       "│       ┆            ┆            ┆            ┆   ┆ \"…        ┆           ┆           ┆           │\n",
       "└───────┴────────────┴────────────┴────────────┴───┴───────────┴───────────┴───────────┴───────────┘"
      ]
     },
     "execution_count": 59,
     "metadata": {},
     "output_type": "execute_result"
    }
   ],
   "source": [
    "_.unnest(\"qc\")"
   ]
  }
 ],
 "metadata": {
  "kernelspec": {
   "display_name": "synoptic2",
   "language": "python",
   "name": "python3"
  },
  "language_info": {
   "codemirror_mode": {
    "name": "ipython",
    "version": 3
   },
   "file_extension": ".py",
   "mimetype": "text/x-python",
   "name": "python",
   "nbconvert_exporter": "python",
   "pygments_lexer": "ipython3",
   "version": "3.12.5"
  }
 },
 "nbformat": 4,
 "nbformat_minor": 2
}
