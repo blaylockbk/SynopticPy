{
 "cells": [
  {
   "cell_type": "markdown",
   "metadata": {},
   "source": [
    "# Variables\n",
    "\n",
    "Demonstrates using `synoptic.services.Variables`. This returns a simple table of all variables provided by Synoptic. It may be useful for joining into other DataFrames if you need more details about the variables."
   ]
  },
  {
   "cell_type": "code",
   "execution_count": 1,
   "metadata": {},
   "outputs": [],
   "source": [
    "from synoptic import Variables"
   ]
  },
  {
   "cell_type": "code",
   "execution_count": 2,
   "metadata": {},
   "outputs": [
    {
     "name": "stdout",
     "output_type": "stream",
     "text": [
      "🚚💨 Speedy delivery from Synoptic's \u001b[32mvariables\u001b[0m service.\n",
      "📦 Received data from \u001b[36m203\u001b[0m stations (0.17 seconds).\n"
     ]
    },
    {
     "data": {
      "text/html": [
       "<div><style>\n",
       ".dataframe > thead > tr,\n",
       ".dataframe > tbody > tr {\n",
       "  text-align: right;\n",
       "  white-space: pre-wrap;\n",
       "}\n",
       "</style>\n",
       "<small>shape: (203, 4)</small><table border=\"1\" class=\"dataframe\"><thead><tr><th>variable</th><th>vid</th><th>long_name</th><th>unit</th></tr><tr><td>str</td><td>u32</td><td>str</td><td>str</td></tr></thead><tbody><tr><td>&quot;air_temp&quot;</td><td>3</td><td>&quot;Temperature&quot;</td><td>&quot;Celsius&quot;</td></tr><tr><td>&quot;dew_point_temperature&quot;</td><td>4</td><td>&quot;Dew Point&quot;</td><td>&quot;Celsius&quot;</td></tr><tr><td>&quot;relative_humidity&quot;</td><td>5</td><td>&quot;Relative Humidity&quot;</td><td>&quot;%&quot;</td></tr><tr><td>&quot;wind_speed&quot;</td><td>6</td><td>&quot;Wind Speed&quot;</td><td>&quot;m/s&quot;</td></tr><tr><td>&quot;wind_direction&quot;</td><td>7</td><td>&quot;Wind Direction&quot;</td><td>&quot;Degrees&quot;</td></tr><tr><td>&hellip;</td><td>&hellip;</td><td>&hellip;</td><td>&hellip;</td></tr><tr><td>&quot;weather_condition&quot;</td><td>0</td><td>&quot;Weather condition&quot;</td><td>&quot;&quot;</td></tr><tr><td>&quot;weather_summary&quot;</td><td>0</td><td>&quot;Weather summary&quot;</td><td>&quot;&quot;</td></tr><tr><td>&quot;cloud_layer_1&quot;</td><td>0</td><td>&quot;Cloud layer 1&quot;</td><td>&quot;&quot;</td></tr><tr><td>&quot;cloud_layer_2&quot;</td><td>0</td><td>&quot;Cloud layer 2&quot;</td><td>&quot;&quot;</td></tr><tr><td>&quot;cloud_layer_3&quot;</td><td>0</td><td>&quot;Cloud layer 3&quot;</td><td>&quot;&quot;</td></tr></tbody></table></div>"
      ],
      "text/plain": [
       "shape: (203, 4)\n",
       "┌───────────────────────┬─────┬───────────────────┬─────────┐\n",
       "│ variable              ┆ vid ┆ long_name         ┆ unit    │\n",
       "│ ---                   ┆ --- ┆ ---               ┆ ---     │\n",
       "│ str                   ┆ u32 ┆ str               ┆ str     │\n",
       "╞═══════════════════════╪═════╪═══════════════════╪═════════╡\n",
       "│ air_temp              ┆ 3   ┆ Temperature       ┆ Celsius │\n",
       "│ dew_point_temperature ┆ 4   ┆ Dew Point         ┆ Celsius │\n",
       "│ relative_humidity     ┆ 5   ┆ Relative Humidity ┆ %       │\n",
       "│ wind_speed            ┆ 6   ┆ Wind Speed        ┆ m/s     │\n",
       "│ wind_direction        ┆ 7   ┆ Wind Direction    ┆ Degrees │\n",
       "│ …                     ┆ …   ┆ …                 ┆ …       │\n",
       "│ weather_condition     ┆ 0   ┆ Weather condition ┆         │\n",
       "│ weather_summary       ┆ 0   ┆ Weather summary   ┆         │\n",
       "│ cloud_layer_1         ┆ 0   ┆ Cloud layer 1     ┆         │\n",
       "│ cloud_layer_2         ┆ 0   ┆ Cloud layer 2     ┆         │\n",
       "│ cloud_layer_3         ┆ 0   ┆ Cloud layer 3     ┆         │\n",
       "└───────────────────────┴─────┴───────────────────┴─────────┘"
      ]
     },
     "execution_count": 2,
     "metadata": {},
     "output_type": "execute_result"
    }
   ],
   "source": [
    "df = Variables().df()\n",
    "df"
   ]
  }
 ],
 "metadata": {
  "kernelspec": {
   "display_name": "synoptic2",
   "language": "python",
   "name": "python3"
  },
  "language_info": {
   "codemirror_mode": {
    "name": "ipython",
    "version": 3
   },
   "file_extension": ".py",
   "mimetype": "text/x-python",
   "name": "python",
   "nbconvert_exporter": "python",
   "pygments_lexer": "ipython3",
   "version": "3.12.5"
  }
 },
 "nbformat": 4,
 "nbformat_minor": 2
}
