{
 "cells": [
  {
   "cell_type": "markdown",
   "metadata": {},
   "source": [
    "# QCTypes\n",
    "\n",
    "Demonstrates using `synoptic.services.QCTypes`. This returns a simple table of all Quality Control Types provided by Synoptic. It may be useful for joining into other DataFrames if you need more details about the Quality Control Types."
   ]
  },
  {
   "cell_type": "code",
   "execution_count": 1,
   "metadata": {},
   "outputs": [],
   "source": [
    "from synoptic import QCTypes"
   ]
  },
  {
   "cell_type": "code",
   "execution_count": 2,
   "metadata": {},
   "outputs": [
    {
     "name": "stdout",
     "output_type": "stream",
     "text": [
      "🚚💨 Speedy delivery from Synoptic's \u001b[32mqctypes\u001b[0m service.\n",
      "📦 Received data from \u001b[36m79\u001b[0m stations (0.17 seconds).\n"
     ]
    },
    {
     "data": {
      "text/html": [
       "<div><style>\n",
       ".dataframe > thead > tr,\n",
       ".dataframe > tbody > tr {\n",
       "  text-align: right;\n",
       "  white-space: pre-wrap;\n",
       "}\n",
       "</style>\n",
       "<small>shape: (79, 4)</small><table border=\"1\" class=\"dataframe\"><thead><tr><th>id</th><th>name</th><th>shortname</th><th>source_id</th></tr><tr><td>u32</td><td>str</td><td>str</td><td>u32</td></tr></thead><tbody><tr><td>1</td><td>&quot;SynopticLabs Range Check&quot;</td><td>&quot;sl_range_check&quot;</td><td>1</td></tr><tr><td>3</td><td>&quot;SynopticLabs Temporal Persiste…</td><td>&quot;sl_pers_check&quot;</td><td>1</td></tr><tr><td>10</td><td>&quot;SynopticLabs Wind Speed vs. Ma…</td><td>&quot;sl_windspd_maxgust_check&quot;</td><td>1</td></tr><tr><td>12</td><td>&quot;SynopticLabs Wind Speed vs. Wi…</td><td>&quot;sl_windspd_winddir_check&quot;</td><td>1</td></tr><tr><td>81</td><td>&quot;SynopticLabs Rate Change Check&quot;</td><td>&quot;sl_rate_check&quot;</td><td>1</td></tr><tr><td>&hellip;</td><td>&hellip;</td><td>&hellip;</td><td>&hellip;</td></tr><tr><td>76</td><td>&quot;MADIS Snow Depth vs. Snow Wate…</td><td>&quot;ma_snowdepth_swe_check&quot;</td><td>2</td></tr><tr><td>77</td><td>&quot;ARLFRD Manual Data Check&quot;</td><td>&quot;arlfrd_manual_check&quot;</td><td>3</td></tr><tr><td>78</td><td>&quot;MesoWest Multivariate Linear R…</td><td>&quot;mw_multvariate_lin_reg_check&quot;</td><td>5</td></tr><tr><td>79</td><td>&quot;MesoWest 24 Hour Wind Persiste…</td><td>&quot;mw_24h_wind_persistence_check&quot;</td><td>5</td></tr><tr><td>80</td><td>&quot;MesoWest UU2DVAR Rejection&quot;</td><td>&quot;mw_uu2dvar_rejection&quot;</td><td>5</td></tr></tbody></table></div>"
      ],
      "text/plain": [
       "shape: (79, 4)\n",
       "┌─────┬─────────────────────────────────┬───────────────────────────────┬───────────┐\n",
       "│ id  ┆ name                            ┆ shortname                     ┆ source_id │\n",
       "│ --- ┆ ---                             ┆ ---                           ┆ ---       │\n",
       "│ u32 ┆ str                             ┆ str                           ┆ u32       │\n",
       "╞═════╪═════════════════════════════════╪═══════════════════════════════╪═══════════╡\n",
       "│ 1   ┆ SynopticLabs Range Check        ┆ sl_range_check                ┆ 1         │\n",
       "│ 3   ┆ SynopticLabs Temporal Persiste… ┆ sl_pers_check                 ┆ 1         │\n",
       "│ 10  ┆ SynopticLabs Wind Speed vs. Ma… ┆ sl_windspd_maxgust_check      ┆ 1         │\n",
       "│ 12  ┆ SynopticLabs Wind Speed vs. Wi… ┆ sl_windspd_winddir_check      ┆ 1         │\n",
       "│ 81  ┆ SynopticLabs Rate Change Check  ┆ sl_rate_check                 ┆ 1         │\n",
       "│ …   ┆ …                               ┆ …                             ┆ …         │\n",
       "│ 76  ┆ MADIS Snow Depth vs. Snow Wate… ┆ ma_snowdepth_swe_check        ┆ 2         │\n",
       "│ 77  ┆ ARLFRD Manual Data Check        ┆ arlfrd_manual_check           ┆ 3         │\n",
       "│ 78  ┆ MesoWest Multivariate Linear R… ┆ mw_multvariate_lin_reg_check  ┆ 5         │\n",
       "│ 79  ┆ MesoWest 24 Hour Wind Persiste… ┆ mw_24h_wind_persistence_check ┆ 5         │\n",
       "│ 80  ┆ MesoWest UU2DVAR Rejection      ┆ mw_uu2dvar_rejection          ┆ 5         │\n",
       "└─────┴─────────────────────────────────┴───────────────────────────────┴───────────┘"
      ]
     },
     "execution_count": 2,
     "metadata": {},
     "output_type": "execute_result"
    }
   ],
   "source": [
    "df = QCTypes().df()\n",
    "df"
   ]
  }
 ],
 "metadata": {
  "kernelspec": {
   "display_name": "synoptic2",
   "language": "python",
   "name": "python3"
  },
  "language_info": {
   "codemirror_mode": {
    "name": "ipython",
    "version": 3
   },
   "file_extension": ".py",
   "mimetype": "text/x-python",
   "name": "python",
   "nbconvert_exporter": "python",
   "pygments_lexer": "ipython3",
   "version": "3.12.5"
  }
 },
 "nbformat": 4,
 "nbformat_minor": 2
}
