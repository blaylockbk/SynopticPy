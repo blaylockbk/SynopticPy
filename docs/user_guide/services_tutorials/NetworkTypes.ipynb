{
 "cells": [
  {
   "cell_type": "markdown",
   "metadata": {},
   "source": [
    "# NetworkTypes\n",
    "\n",
    "Demonstrates using `synoptic.services.NetworkTypes`. This returns a simple table of all Network Types provided by Synoptic. It may be useful for joining into other DataFrames if you need more details about the Network Types."
   ]
  },
  {
   "cell_type": "code",
   "execution_count": 1,
   "metadata": {},
   "outputs": [],
   "source": [
    "from synoptic import NetworkTypes"
   ]
  },
  {
   "cell_type": "code",
   "execution_count": 2,
   "metadata": {},
   "outputs": [
    {
     "name": "stdout",
     "output_type": "stream",
     "text": [
      "🚚💨 Speedy delivery from Synoptic's \u001b[32mnetworktypes\u001b[0m service.\n",
      "📦 Received data from \u001b[36m14\u001b[0m stations (0.18 seconds).\n"
     ]
    },
    {
     "data": {
      "text/html": [
       "<div><style>\n",
       ".dataframe > thead > tr,\n",
       ".dataframe > tbody > tr {\n",
       "  text-align: right;\n",
       "  white-space: pre-wrap;\n",
       "}\n",
       "</style>\n",
       "<small>shape: (14, 5)</small><table border=\"1\" class=\"dataframe\"><thead><tr><th>mnetcat_id</th><th>name</th><th>description</th><th>period_of_record_start</th><th>period_of_record_end</th></tr><tr><td>u32</td><td>str</td><td>str</td><td>datetime[μs, UTC]</td><td>datetime[μs, UTC]</td></tr></thead><tbody><tr><td>1</td><td>&quot;AG&quot;</td><td>&quot;Agricultural&quot;</td><td>1997-01-01 00:00:00 UTC</td><td>2024-12-19 06:05:00 UTC</td></tr><tr><td>2</td><td>&quot;AQ&quot;</td><td>&quot;Air Quality&quot;</td><td>1997-01-03 00:00:00 UTC</td><td>2007-01-11 23:15:00 UTC</td></tr><tr><td>3</td><td>&quot;EXT&quot;</td><td>&quot;Offshore, CA, MX&quot;</td><td>1999-01-05 00:00:00 UTC</td><td>2024-12-19 06:00:00 UTC</td></tr><tr><td>4</td><td>&quot;FED+&quot;</td><td>&quot;Federal and state networks&quot;</td><td>1997-04-01 00:00:00 UTC</td><td>2019-11-20 17:00:00 UTC</td></tr><tr><td>5</td><td>&quot;HYDRO&quot;</td><td>&quot;Hydrological&quot;</td><td>1997-04-01 00:00:00 UTC</td><td>2014-10-06 22:55:00 UTC</td></tr><tr><td>&hellip;</td><td>&hellip;</td><td>&hellip;</td><td>&hellip;</td><td>&hellip;</td></tr><tr><td>10</td><td>&quot;TRANS&quot;</td><td>&quot;Road and rail weather&quot;</td><td>1997-10-31 00:00:00 UTC</td><td>2024-12-19 06:00:00 UTC</td></tr><tr><td>11</td><td>&quot;UTILITY&quot;</td><td>&quot;Public Utility&quot;</td><td>1997-10-22 00:00:00 UTC</td><td>2002-04-07 17:00:00 UTC</td></tr><tr><td>12</td><td>&quot;RESEARCH&quot;</td><td>&quot;Research and Education&quot;</td><td>1998-01-01 00:00:00 UTC</td><td>2005-04-19 20:30:00 UTC</td></tr><tr><td>13</td><td>&quot;COMMERCIAL&quot;</td><td>&quot;Commercial&quot;</td><td>1998-01-01 00:00:00 UTC</td><td>2024-12-19 06:00:00 UTC</td></tr><tr><td>14</td><td>&quot;INTERNATIONAL&quot;</td><td>&quot;International&quot;</td><td>1999-02-15 00:00:00 UTC</td><td>2006-01-15 09:00:00 UTC</td></tr></tbody></table></div>"
      ],
      "text/plain": [
       "shape: (14, 5)\n",
       "┌────────────┬───────────────┬───────────────────┬────────────────────────┬────────────────────────┐\n",
       "│ mnetcat_id ┆ name          ┆ description       ┆ period_of_record_start ┆ period_of_record_end   │\n",
       "│ ---        ┆ ---           ┆ ---               ┆ ---                    ┆ ---                    │\n",
       "│ u32        ┆ str           ┆ str               ┆ datetime[μs, UTC]      ┆ datetime[μs, UTC]      │\n",
       "╞════════════╪═══════════════╪═══════════════════╪════════════════════════╪════════════════════════╡\n",
       "│ 1          ┆ AG            ┆ Agricultural      ┆ 1997-01-01 00:00:00    ┆ 2024-12-19 06:05:00    │\n",
       "│            ┆               ┆                   ┆ UTC                    ┆ UTC                    │\n",
       "│ 2          ┆ AQ            ┆ Air Quality       ┆ 1997-01-03 00:00:00    ┆ 2007-01-11 23:15:00    │\n",
       "│            ┆               ┆                   ┆ UTC                    ┆ UTC                    │\n",
       "│ 3          ┆ EXT           ┆ Offshore, CA, MX  ┆ 1999-01-05 00:00:00    ┆ 2024-12-19 06:00:00    │\n",
       "│            ┆               ┆                   ┆ UTC                    ┆ UTC                    │\n",
       "│ 4          ┆ FED+          ┆ Federal and state ┆ 1997-04-01 00:00:00    ┆ 2019-11-20 17:00:00    │\n",
       "│            ┆               ┆ networks          ┆ UTC                    ┆ UTC                    │\n",
       "│ 5          ┆ HYDRO         ┆ Hydrological      ┆ 1997-04-01 00:00:00    ┆ 2014-10-06 22:55:00    │\n",
       "│            ┆               ┆                   ┆ UTC                    ┆ UTC                    │\n",
       "│ …          ┆ …             ┆ …                 ┆ …                      ┆ …                      │\n",
       "│ 10         ┆ TRANS         ┆ Road and rail     ┆ 1997-10-31 00:00:00    ┆ 2024-12-19 06:00:00    │\n",
       "│            ┆               ┆ weather           ┆ UTC                    ┆ UTC                    │\n",
       "│ 11         ┆ UTILITY       ┆ Public Utility    ┆ 1997-10-22 00:00:00    ┆ 2002-04-07 17:00:00    │\n",
       "│            ┆               ┆                   ┆ UTC                    ┆ UTC                    │\n",
       "│ 12         ┆ RESEARCH      ┆ Research and      ┆ 1998-01-01 00:00:00    ┆ 2005-04-19 20:30:00    │\n",
       "│            ┆               ┆ Education         ┆ UTC                    ┆ UTC                    │\n",
       "│ 13         ┆ COMMERCIAL    ┆ Commercial        ┆ 1998-01-01 00:00:00    ┆ 2024-12-19 06:00:00    │\n",
       "│            ┆               ┆                   ┆ UTC                    ┆ UTC                    │\n",
       "│ 14         ┆ INTERNATIONAL ┆ International     ┆ 1999-02-15 00:00:00    ┆ 2006-01-15 09:00:00    │\n",
       "│            ┆               ┆                   ┆ UTC                    ┆ UTC                    │\n",
       "└────────────┴───────────────┴───────────────────┴────────────────────────┴────────────────────────┘"
      ]
     },
     "execution_count": 2,
     "metadata": {},
     "output_type": "execute_result"
    }
   ],
   "source": [
    "df = NetworkTypes().df()\n",
    "df"
   ]
  }
 ],
 "metadata": {
  "kernelspec": {
   "display_name": "synoptic2",
   "language": "python",
   "name": "python3"
  },
  "language_info": {
   "codemirror_mode": {
    "name": "ipython",
    "version": 3
   },
   "file_extension": ".py",
   "mimetype": "text/x-python",
   "name": "python",
   "nbconvert_exporter": "python",
   "pygments_lexer": "ipython3",
   "version": "3.12.5"
  }
 },
 "nbformat": 4,
 "nbformat_minor": 2
}
