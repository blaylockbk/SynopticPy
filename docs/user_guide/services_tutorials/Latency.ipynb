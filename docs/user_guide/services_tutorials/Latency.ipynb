{
 "cells": [
  {
   "cell_type": "markdown",
   "metadata": {},
   "source": [
    "# Latency\n",
    "\n",
    "Demonstrate `synoptic.services.Latency`\n",
    "\n",
    "Tells you how long it takes an observation to get to Synoptic's servers"
   ]
  },
  {
   "cell_type": "code",
   "execution_count": 1,
   "metadata": {},
   "outputs": [],
   "source": [
    "from synoptic import Latency\n",
    "\n",
    "from datetime import datetime, timedelta"
   ]
  },
  {
   "cell_type": "code",
   "execution_count": 4,
   "metadata": {},
   "outputs": [
    {
     "name": "stdout",
     "output_type": "stream",
     "text": [
      "🚚💨 Speedy delivery from Synoptic's \u001b[32mlatency\u001b[0m service.\n",
      "📦 Received data from \u001b[36m1\u001b[0m stations (0.25 seconds).\n"
     ]
    },
    {
     "data": {
      "text/html": [
       "<div><style>\n",
       ".dataframe > thead > tr,\n",
       ".dataframe > tbody > tr {\n",
       "  text-align: right;\n",
       "  white-space: pre-wrap;\n",
       "}\n",
       "</style>\n",
       "<small>shape: (61, 16)</small><table border=\"1\" class=\"dataframe\"><thead><tr><th>stid</th><th>date_time</th><th>values</th><th>id</th><th>name</th><th>elevation</th><th>latitude</th><th>longitude</th><th>mnet_id</th><th>state</th><th>timezone</th><th>restricted_data</th><th>restricted_metadata</th><th>period_of_record_start</th><th>period_of_record_end</th><th>is_active</th></tr><tr><td>str</td><td>str</td><td>i64</td><td>u32</td><td>str</td><td>f64</td><td>f64</td><td>f64</td><td>u32</td><td>str</td><td>str</td><td>str</td><td>i64</td><td>datetime[μs, UTC]</td><td>datetime[μs, UTC]</td><td>bool</td></tr></thead><tbody><tr><td>&quot;WBB&quot;</td><td>&quot;2024-06-06T00:00:00Z&quot;</td><td>5</td><td>1</td><td>&quot;U of U William Browning Buildi…</td><td>4806.0</td><td>40.76623</td><td>-111.84755</td><td>153</td><td>&quot;UT&quot;</td><td>&quot;America/Denver&quot;</td><td>&quot;0&quot;</td><td>0</td><td>1997-01-01 00:00:00 UTC</td><td>2024-12-19 05:55:00 UTC</td><td>true</td></tr><tr><td>&quot;WBB&quot;</td><td>&quot;2024-06-06T00:01:00Z&quot;</td><td>9</td><td>1</td><td>&quot;U of U William Browning Buildi…</td><td>4806.0</td><td>40.76623</td><td>-111.84755</td><td>153</td><td>&quot;UT&quot;</td><td>&quot;America/Denver&quot;</td><td>&quot;0&quot;</td><td>0</td><td>1997-01-01 00:00:00 UTC</td><td>2024-12-19 05:55:00 UTC</td><td>true</td></tr><tr><td>&quot;WBB&quot;</td><td>&quot;2024-06-06T00:02:00Z&quot;</td><td>8</td><td>1</td><td>&quot;U of U William Browning Buildi…</td><td>4806.0</td><td>40.76623</td><td>-111.84755</td><td>153</td><td>&quot;UT&quot;</td><td>&quot;America/Denver&quot;</td><td>&quot;0&quot;</td><td>0</td><td>1997-01-01 00:00:00 UTC</td><td>2024-12-19 05:55:00 UTC</td><td>true</td></tr><tr><td>&quot;WBB&quot;</td><td>&quot;2024-06-06T00:03:00Z&quot;</td><td>7</td><td>1</td><td>&quot;U of U William Browning Buildi…</td><td>4806.0</td><td>40.76623</td><td>-111.84755</td><td>153</td><td>&quot;UT&quot;</td><td>&quot;America/Denver&quot;</td><td>&quot;0&quot;</td><td>0</td><td>1997-01-01 00:00:00 UTC</td><td>2024-12-19 05:55:00 UTC</td><td>true</td></tr><tr><td>&quot;WBB&quot;</td><td>&quot;2024-06-06T00:04:00Z&quot;</td><td>6</td><td>1</td><td>&quot;U of U William Browning Buildi…</td><td>4806.0</td><td>40.76623</td><td>-111.84755</td><td>153</td><td>&quot;UT&quot;</td><td>&quot;America/Denver&quot;</td><td>&quot;0&quot;</td><td>0</td><td>1997-01-01 00:00:00 UTC</td><td>2024-12-19 05:55:00 UTC</td><td>true</td></tr><tr><td>&hellip;</td><td>&hellip;</td><td>&hellip;</td><td>&hellip;</td><td>&hellip;</td><td>&hellip;</td><td>&hellip;</td><td>&hellip;</td><td>&hellip;</td><td>&hellip;</td><td>&hellip;</td><td>&hellip;</td><td>&hellip;</td><td>&hellip;</td><td>&hellip;</td><td>&hellip;</td></tr><tr><td>&quot;WBB&quot;</td><td>&quot;2024-06-06T00:56:00Z&quot;</td><td>8</td><td>1</td><td>&quot;U of U William Browning Buildi…</td><td>4806.0</td><td>40.76623</td><td>-111.84755</td><td>153</td><td>&quot;UT&quot;</td><td>&quot;America/Denver&quot;</td><td>&quot;0&quot;</td><td>0</td><td>1997-01-01 00:00:00 UTC</td><td>2024-12-19 05:55:00 UTC</td><td>true</td></tr><tr><td>&quot;WBB&quot;</td><td>&quot;2024-06-06T00:57:00Z&quot;</td><td>7</td><td>1</td><td>&quot;U of U William Browning Buildi…</td><td>4806.0</td><td>40.76623</td><td>-111.84755</td><td>153</td><td>&quot;UT&quot;</td><td>&quot;America/Denver&quot;</td><td>&quot;0&quot;</td><td>0</td><td>1997-01-01 00:00:00 UTC</td><td>2024-12-19 05:55:00 UTC</td><td>true</td></tr><tr><td>&quot;WBB&quot;</td><td>&quot;2024-06-06T00:58:00Z&quot;</td><td>6</td><td>1</td><td>&quot;U of U William Browning Buildi…</td><td>4806.0</td><td>40.76623</td><td>-111.84755</td><td>153</td><td>&quot;UT&quot;</td><td>&quot;America/Denver&quot;</td><td>&quot;0&quot;</td><td>0</td><td>1997-01-01 00:00:00 UTC</td><td>2024-12-19 05:55:00 UTC</td><td>true</td></tr><tr><td>&quot;WBB&quot;</td><td>&quot;2024-06-06T00:59:00Z&quot;</td><td>5</td><td>1</td><td>&quot;U of U William Browning Buildi…</td><td>4806.0</td><td>40.76623</td><td>-111.84755</td><td>153</td><td>&quot;UT&quot;</td><td>&quot;America/Denver&quot;</td><td>&quot;0&quot;</td><td>0</td><td>1997-01-01 00:00:00 UTC</td><td>2024-12-19 05:55:00 UTC</td><td>true</td></tr><tr><td>&quot;WBB&quot;</td><td>&quot;2024-06-06T01:00:00Z&quot;</td><td>2</td><td>1</td><td>&quot;U of U William Browning Buildi…</td><td>4806.0</td><td>40.76623</td><td>-111.84755</td><td>153</td><td>&quot;UT&quot;</td><td>&quot;America/Denver&quot;</td><td>&quot;0&quot;</td><td>0</td><td>1997-01-01 00:00:00 UTC</td><td>2024-12-19 05:55:00 UTC</td><td>true</td></tr></tbody></table></div>"
      ],
      "text/plain": [
       "shape: (61, 16)\n",
       "┌──────┬───────────────┬────────┬─────┬───┬──────────────┬──────────────┬──────────────┬───────────┐\n",
       "│ stid ┆ date_time     ┆ values ┆ id  ┆ … ┆ restricted_m ┆ period_of_re ┆ period_of_re ┆ is_active │\n",
       "│ ---  ┆ ---           ┆ ---    ┆ --- ┆   ┆ etadata      ┆ cord_start   ┆ cord_end     ┆ ---       │\n",
       "│ str  ┆ str           ┆ i64    ┆ u32 ┆   ┆ ---          ┆ ---          ┆ ---          ┆ bool      │\n",
       "│      ┆               ┆        ┆     ┆   ┆ i64          ┆ datetime[μs, ┆ datetime[μs, ┆           │\n",
       "│      ┆               ┆        ┆     ┆   ┆              ┆ UTC]         ┆ UTC]         ┆           │\n",
       "╞══════╪═══════════════╪════════╪═════╪═══╪══════════════╪══════════════╪══════════════╪═══════════╡\n",
       "│ WBB  ┆ 2024-06-06T00 ┆ 5      ┆ 1   ┆ … ┆ 0            ┆ 1997-01-01   ┆ 2024-12-19   ┆ true      │\n",
       "│      ┆ :00:00Z       ┆        ┆     ┆   ┆              ┆ 00:00:00 UTC ┆ 05:55:00 UTC ┆           │\n",
       "│ WBB  ┆ 2024-06-06T00 ┆ 9      ┆ 1   ┆ … ┆ 0            ┆ 1997-01-01   ┆ 2024-12-19   ┆ true      │\n",
       "│      ┆ :01:00Z       ┆        ┆     ┆   ┆              ┆ 00:00:00 UTC ┆ 05:55:00 UTC ┆           │\n",
       "│ WBB  ┆ 2024-06-06T00 ┆ 8      ┆ 1   ┆ … ┆ 0            ┆ 1997-01-01   ┆ 2024-12-19   ┆ true      │\n",
       "│      ┆ :02:00Z       ┆        ┆     ┆   ┆              ┆ 00:00:00 UTC ┆ 05:55:00 UTC ┆           │\n",
       "│ WBB  ┆ 2024-06-06T00 ┆ 7      ┆ 1   ┆ … ┆ 0            ┆ 1997-01-01   ┆ 2024-12-19   ┆ true      │\n",
       "│      ┆ :03:00Z       ┆        ┆     ┆   ┆              ┆ 00:00:00 UTC ┆ 05:55:00 UTC ┆           │\n",
       "│ WBB  ┆ 2024-06-06T00 ┆ 6      ┆ 1   ┆ … ┆ 0            ┆ 1997-01-01   ┆ 2024-12-19   ┆ true      │\n",
       "│      ┆ :04:00Z       ┆        ┆     ┆   ┆              ┆ 00:00:00 UTC ┆ 05:55:00 UTC ┆           │\n",
       "│ …    ┆ …             ┆ …      ┆ …   ┆ … ┆ …            ┆ …            ┆ …            ┆ …         │\n",
       "│ WBB  ┆ 2024-06-06T00 ┆ 8      ┆ 1   ┆ … ┆ 0            ┆ 1997-01-01   ┆ 2024-12-19   ┆ true      │\n",
       "│      ┆ :56:00Z       ┆        ┆     ┆   ┆              ┆ 00:00:00 UTC ┆ 05:55:00 UTC ┆           │\n",
       "│ WBB  ┆ 2024-06-06T00 ┆ 7      ┆ 1   ┆ … ┆ 0            ┆ 1997-01-01   ┆ 2024-12-19   ┆ true      │\n",
       "│      ┆ :57:00Z       ┆        ┆     ┆   ┆              ┆ 00:00:00 UTC ┆ 05:55:00 UTC ┆           │\n",
       "│ WBB  ┆ 2024-06-06T00 ┆ 6      ┆ 1   ┆ … ┆ 0            ┆ 1997-01-01   ┆ 2024-12-19   ┆ true      │\n",
       "│      ┆ :58:00Z       ┆        ┆     ┆   ┆              ┆ 00:00:00 UTC ┆ 05:55:00 UTC ┆           │\n",
       "│ WBB  ┆ 2024-06-06T00 ┆ 5      ┆ 1   ┆ … ┆ 0            ┆ 1997-01-01   ┆ 2024-12-19   ┆ true      │\n",
       "│      ┆ :59:00Z       ┆        ┆     ┆   ┆              ┆ 00:00:00 UTC ┆ 05:55:00 UTC ┆           │\n",
       "│ WBB  ┆ 2024-06-06T01 ┆ 2      ┆ 1   ┆ … ┆ 0            ┆ 1997-01-01   ┆ 2024-12-19   ┆ true      │\n",
       "│      ┆ :00:00Z       ┆        ┆     ┆   ┆              ┆ 00:00:00 UTC ┆ 05:55:00 UTC ┆           │\n",
       "└──────┴───────────────┴────────┴─────┴───┴──────────────┴──────────────┴──────────────┴───────────┘"
      ]
     },
     "execution_count": 4,
     "metadata": {},
     "output_type": "execute_result"
    }
   ],
   "source": [
    "df = Latency(\n",
    "    stid=\"wbb\",\n",
    "    start=datetime(2024, 6, 6),\n",
    "    end=datetime(2024, 6, 6, 1),\n",
    ").df()\n",
    "df"
   ]
  },
  {
   "cell_type": "code",
   "execution_count": null,
   "metadata": {},
   "outputs": [
    {
     "name": "stdout",
     "output_type": "stream",
     "text": [
      "🚚💨 Speedy delivery from Synoptic's \u001b[32mlatency\u001b[0m service.\n",
      "📦 Received data from \u001b[36m1\u001b[0m stations (0.24 seconds).\n"
     ]
    },
    {
     "data": {
      "text/html": [
       "<div><style>\n",
       ".dataframe > thead > tr,\n",
       ".dataframe > tbody > tr {\n",
       "  text-align: right;\n",
       "  white-space: pre-wrap;\n",
       "}\n",
       "</style>\n",
       "<small>shape: (3, 26)</small><table border=\"1\" class=\"dataframe\"><thead><tr><th>stid</th><th>date_time</th><th>values</th><th>id</th><th>name</th><th>elevation</th><th>latitude</th><th>longitude</th><th>mnet_id</th><th>state</th><th>timezone</th><th>restricted_data</th><th>restricted_metadata</th><th>period_of_record_start</th><th>period_of_record_end</th><th>start</th><th>end</th><th>maxtime</th><th>mintime</th><th>count</th><th>average</th><th>maximum</th><th>minimum</th><th>standard_deviation</th><th>median</th><th>is_active</th></tr><tr><td>str</td><td>str</td><td>i64</td><td>u32</td><td>str</td><td>f64</td><td>f64</td><td>f64</td><td>u32</td><td>str</td><td>str</td><td>str</td><td>i64</td><td>datetime[μs, UTC]</td><td>datetime[μs, UTC]</td><td>str</td><td>str</td><td>str</td><td>str</td><td>f64</td><td>f64</td><td>f64</td><td>f64</td><td>f64</td><td>f64</td><td>bool</td></tr></thead><tbody><tr><td>&quot;UKBKB&quot;</td><td>&quot;2024-06-06T00:00:00Z&quot;</td><td>6</td><td>37032</td><td>&quot;EW2355 Spanish Fork&quot;</td><td>4734.0</td><td>40.09867</td><td>-111.62767</td><td>65</td><td>&quot;UT&quot;</td><td>&quot;America/Denver&quot;</td><td>&quot;0&quot;</td><td>0</td><td>2013-03-13 00:00:00 UTC</td><td>2024-12-19 06:00:00 UTC</td><td>&quot;202406060000&quot;</td><td>&quot;202406060030&quot;</td><td>&quot;2024-06-06T00:00:00Z&quot;</td><td>&quot;2024-06-06T00:15:00Z&quot;</td><td>3.0</td><td>5.333333</td><td>6.0</td><td>5.0</td><td>0.471405</td><td>5.0</td><td>true</td></tr><tr><td>&quot;UKBKB&quot;</td><td>&quot;2024-06-06T00:15:00Z&quot;</td><td>5</td><td>37032</td><td>&quot;EW2355 Spanish Fork&quot;</td><td>4734.0</td><td>40.09867</td><td>-111.62767</td><td>65</td><td>&quot;UT&quot;</td><td>&quot;America/Denver&quot;</td><td>&quot;0&quot;</td><td>0</td><td>2013-03-13 00:00:00 UTC</td><td>2024-12-19 06:00:00 UTC</td><td>&quot;202406060000&quot;</td><td>&quot;202406060030&quot;</td><td>&quot;2024-06-06T00:00:00Z&quot;</td><td>&quot;2024-06-06T00:15:00Z&quot;</td><td>3.0</td><td>5.333333</td><td>6.0</td><td>5.0</td><td>0.471405</td><td>5.0</td><td>true</td></tr><tr><td>&quot;UKBKB&quot;</td><td>&quot;2024-06-06T00:30:00Z&quot;</td><td>5</td><td>37032</td><td>&quot;EW2355 Spanish Fork&quot;</td><td>4734.0</td><td>40.09867</td><td>-111.62767</td><td>65</td><td>&quot;UT&quot;</td><td>&quot;America/Denver&quot;</td><td>&quot;0&quot;</td><td>0</td><td>2013-03-13 00:00:00 UTC</td><td>2024-12-19 06:00:00 UTC</td><td>&quot;202406060000&quot;</td><td>&quot;202406060030&quot;</td><td>&quot;2024-06-06T00:00:00Z&quot;</td><td>&quot;2024-06-06T00:15:00Z&quot;</td><td>3.0</td><td>5.333333</td><td>6.0</td><td>5.0</td><td>0.471405</td><td>5.0</td><td>true</td></tr></tbody></table></div>"
      ],
      "text/plain": [
       "shape: (3, 26)\n",
       "┌───────┬───────────────────┬────────┬───────┬───┬─────────┬──────────────────┬────────┬───────────┐\n",
       "│ stid  ┆ date_time         ┆ values ┆ id    ┆ … ┆ minimum ┆ standard_deviati ┆ median ┆ is_active │\n",
       "│ ---   ┆ ---               ┆ ---    ┆ ---   ┆   ┆ ---     ┆ on               ┆ ---    ┆ ---       │\n",
       "│ str   ┆ str               ┆ i64    ┆ u32   ┆   ┆ f64     ┆ ---              ┆ f64    ┆ bool      │\n",
       "│       ┆                   ┆        ┆       ┆   ┆         ┆ f64              ┆        ┆           │\n",
       "╞═══════╪═══════════════════╪════════╪═══════╪═══╪═════════╪══════════════════╪════════╪═══════════╡\n",
       "│ UKBKB ┆ 2024-06-06T00:00: ┆ 6      ┆ 37032 ┆ … ┆ 5.0     ┆ 0.471405         ┆ 5.0    ┆ true      │\n",
       "│       ┆ 00Z               ┆        ┆       ┆   ┆         ┆                  ┆        ┆           │\n",
       "│ UKBKB ┆ 2024-06-06T00:15: ┆ 5      ┆ 37032 ┆ … ┆ 5.0     ┆ 0.471405         ┆ 5.0    ┆ true      │\n",
       "│       ┆ 00Z               ┆        ┆       ┆   ┆         ┆                  ┆        ┆           │\n",
       "│ UKBKB ┆ 2024-06-06T00:30: ┆ 5      ┆ 37032 ┆ … ┆ 5.0     ┆ 0.471405         ┆ 5.0    ┆ true      │\n",
       "│       ┆ 00Z               ┆        ┆       ┆   ┆         ┆                  ┆        ┆           │\n",
       "└───────┴───────────────────┴────────┴───────┴───┴─────────┴──────────────────┴────────┴───────────┘"
      ]
     },
     "execution_count": 11,
     "metadata": {},
     "output_type": "execute_result"
    }
   ],
   "source": [
    "# TODO: Need to unnest and cast statistic columns\n",
    "\n",
    "df = Latency(\n",
    "    stid=\"ukbkb\",\n",
    "    start=datetime(2024, 6, 6),\n",
    "    end=datetime(2024, 6, 6, 0, 30),\n",
    "    stats=\"all\",\n",
    ").df()\n",
    "df.unnest(\"statistics\")\n"
   ]
  }
 ],
 "metadata": {
  "kernelspec": {
   "display_name": "synoptic2",
   "language": "python",
   "name": "python3"
  },
  "language_info": {
   "codemirror_mode": {
    "name": "ipython",
    "version": 3
   },
   "file_extension": ".py",
   "mimetype": "text/x-python",
   "name": "python",
   "nbconvert_exporter": "python",
   "pygments_lexer": "ipython3",
   "version": "3.12.5"
  }
 },
 "nbformat": 4,
 "nbformat_minor": 2
}
