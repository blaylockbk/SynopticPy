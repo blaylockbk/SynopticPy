{
 "cells": [
  {
   "cell_type": "markdown",
   "metadata": {},
   "source": [
    "# Networks\n",
    "\n",
    "Demonstrates using `synoptic.services.Networks`. This returns a simple table of all networks provided by Synoptic. It may be useful for joining into other DataFrames if you need more details about the networks."
   ]
  },
  {
   "cell_type": "code",
   "execution_count": 1,
   "metadata": {},
   "outputs": [],
   "source": [
    "from synoptic import Networks"
   ]
  },
  {
   "cell_type": "code",
   "execution_count": 2,
   "metadata": {},
   "outputs": [
    {
     "name": "stdout",
     "output_type": "stream",
     "text": [
      "🚚💨 Speedy delivery from Synoptic's \u001b[32mnetworks\u001b[0m service.\n",
      "📦 Received data from \u001b[36m358\u001b[0m stations (0.78 seconds).\n"
     ]
    },
    {
     "data": {
      "text/html": [
       "<div><style>\n",
       ".dataframe > thead > tr,\n",
       ".dataframe > tbody > tr {\n",
       "  text-align: right;\n",
       "  white-space: pre-wrap;\n",
       "}\n",
       "</style>\n",
       "<small>shape: (358, 16)</small><table border=\"1\" class=\"dataframe\"><thead><tr><th>mnet_id</th><th>shortname</th><th>longname</th><th>url</th><th>category</th><th>last_observation</th><th>reporting_stations</th><th>active_stations</th><th>total_stations</th><th>percent_active</th><th>percent_reporting</th><th>period_checked</th><th>active_restricted</th><th>total_restricted</th><th>period_of_record_start</th><th>period_of_record_end</th></tr><tr><td>u32</td><td>str</td><td>str</td><td>str</td><td>u32</td><td>datetime[μs, UTC]</td><td>i64</td><td>i64</td><td>i64</td><td>f64</td><td>f64</td><td>i64</td><td>i64</td><td>i64</td><td>datetime[μs, UTC]</td><td>datetime[μs, UTC]</td></tr></thead><tbody><tr><td>1</td><td>&quot;ASOS/AWOS&quot;</td><td>&quot;ASOS/AWOS&quot;</td><td>null</td><td>4</td><td>2024-12-19 06:15:00 UTC</td><td>2505</td><td>2630</td><td>3560</td><td>73.88</td><td>95.25</td><td>120</td><td>0</td><td>0</td><td>1997-01-01 00:00:00 UTC</td><td>2024-12-19 06:15:00 UTC</td></tr><tr><td>2</td><td>&quot;RAWS&quot;</td><td>&quot;Interagency Remote Automatic W…</td><td>null</td><td>9</td><td>2024-12-19 06:05:00 UTC</td><td>2275</td><td>2384</td><td>3633</td><td>65.62</td><td>95.43</td><td>90</td><td>0</td><td>0</td><td>1997-01-01 00:00:00 UTC</td><td>2024-12-19 06:05:00 UTC</td></tr><tr><td>3</td><td>&quot;DUGWAY&quot;</td><td>&quot;U.S. Army Dugway Proving Groun…</td><td>null</td><td>4</td><td>2024-12-19 00:00:00 UTC</td><td>0</td><td>29</td><td>32</td><td>90.62</td><td>0.0</td><td>30</td><td>0</td><td>0</td><td>1997-02-28 00:00:00 UTC</td><td>2024-12-19 00:00:00 UTC</td></tr><tr><td>4</td><td>&quot;UTAH DOT&quot;</td><td>&quot;Utah Department of Transportat…</td><td>null</td><td>10</td><td>2024-12-19 06:00:00 UTC</td><td>200</td><td>203</td><td>239</td><td>84.94</td><td>98.52</td><td>60</td><td>0</td><td>0</td><td>1997-01-01 00:00:00 UTC</td><td>2024-12-19 06:00:00 UTC</td></tr><tr><td>5</td><td>&quot;ARL FRD&quot;</td><td>&quot;NOAA Air Resources Laboratory …</td><td>null</td><td>4</td><td>2024-12-19 05:55:00 UTC</td><td>34</td><td>34</td><td>38</td><td>89.47</td><td>100.0</td><td>60</td><td>0</td><td>0</td><td>1997-01-01 00:00:00 UTC</td><td>2024-12-19 05:55:00 UTC</td></tr><tr><td>&hellip;</td><td>&hellip;</td><td>&hellip;</td><td>&hellip;</td><td>&hellip;</td><td>&hellip;</td><td>&hellip;</td><td>&hellip;</td><td>&hellip;</td><td>&hellip;</td><td>&hellip;</td><td>&hellip;</td><td>&hellip;</td><td>&hellip;</td><td>&hellip;</td><td>&hellip;</td></tr><tr><td>3026</td><td>&quot;UMRB-UNL&quot;</td><td>&quot;Upper Missouri River Basin - U…</td><td>null</td><td>1</td><td>2024-12-19 05:55:00 UTC</td><td>15</td><td>15</td><td>15</td><td>100.0</td><td>100.0</td><td>120</td><td>15</td><td>15</td><td>2023-11-01 21:15:00 UTC</td><td>2024-12-19 05:55:00 UTC</td></tr><tr><td>3027</td><td>&quot;UMRB-UWYO&quot;</td><td>&quot;Upper Missouri River Basin - U…</td><td>null</td><td>1</td><td>2024-12-19 06:00:00 UTC</td><td>23</td><td>23</td><td>23</td><td>100.0</td><td>100.0</td><td>120</td><td>23</td><td>23</td><td>2021-02-13 22:25:00 UTC</td><td>2024-12-19 06:00:00 UTC</td></tr><tr><td>3028</td><td>&quot;MDE&quot;</td><td>&quot;Maryland Department of the Env…</td><td>null</td><td>2</td><td>2024-12-19 05:01:00 UTC</td><td>17</td><td>20</td><td>23</td><td>86.96</td><td>85.0</td><td>120</td><td>20</td><td>23</td><td>2023-11-27 15:01:00 UTC</td><td>2024-12-19 05:01:00 UTC</td></tr><tr><td>4000</td><td>&quot;WIS2&quot;</td><td>&quot;WMO Information System 2.0&quot;</td><td>&quot;https://community.wmo.int/en/a…</td><td>14</td><td>2024-12-19 06:00:00 UTC</td><td>0</td><td>3121</td><td>3609</td><td>86.48</td><td>0.0</td><td>1</td><td>3121</td><td>3609</td><td>2024-03-21 12:00:00 UTC</td><td>2024-12-19 06:00:00 UTC</td></tr><tr><td>10000</td><td>&quot;WALAY&quot;</td><td>&quot;WeatherWalay&quot;</td><td>&quot;https://www.weatherwalay.com/&quot;</td><td>13</td><td>2024-12-19 06:06:00 UTC</td><td>121</td><td>139</td><td>180</td><td>77.22</td><td>87.05</td><td>5</td><td>139</td><td>180</td><td>2024-02-23 21:05:00 UTC</td><td>2024-12-19 06:06:00 UTC</td></tr></tbody></table></div>"
      ],
      "text/plain": [
       "shape: (358, 16)\n",
       "┌─────────┬───────────┬────────────┬───────────┬───┬───────────┬───────────┬───────────┬───────────┐\n",
       "│ mnet_id ┆ shortname ┆ longname   ┆ url       ┆ … ┆ active_re ┆ total_res ┆ period_of ┆ period_of │\n",
       "│ ---     ┆ ---       ┆ ---        ┆ ---       ┆   ┆ stricted  ┆ tricted   ┆ _record_s ┆ _record_e │\n",
       "│ u32     ┆ str       ┆ str        ┆ str       ┆   ┆ ---       ┆ ---       ┆ tart      ┆ nd        │\n",
       "│         ┆           ┆            ┆           ┆   ┆ i64       ┆ i64       ┆ ---       ┆ ---       │\n",
       "│         ┆           ┆            ┆           ┆   ┆           ┆           ┆ datetime[ ┆ datetime[ │\n",
       "│         ┆           ┆            ┆           ┆   ┆           ┆           ┆ μs, UTC]  ┆ μs, UTC]  │\n",
       "╞═════════╪═══════════╪════════════╪═══════════╪═══╪═══════════╪═══════════╪═══════════╪═══════════╡\n",
       "│ 1       ┆ ASOS/AWOS ┆ ASOS/AWOS  ┆ null      ┆ … ┆ 0         ┆ 0         ┆ 1997-01-0 ┆ 2024-12-1 │\n",
       "│         ┆           ┆            ┆           ┆   ┆           ┆           ┆ 1         ┆ 9         │\n",
       "│         ┆           ┆            ┆           ┆   ┆           ┆           ┆ 00:00:00  ┆ 06:15:00  │\n",
       "│         ┆           ┆            ┆           ┆   ┆           ┆           ┆ UTC       ┆ UTC       │\n",
       "│ 2       ┆ RAWS      ┆ Interagenc ┆ null      ┆ … ┆ 0         ┆ 0         ┆ 1997-01-0 ┆ 2024-12-1 │\n",
       "│         ┆           ┆ y Remote   ┆           ┆   ┆           ┆           ┆ 1         ┆ 9         │\n",
       "│         ┆           ┆ Automatic  ┆           ┆   ┆           ┆           ┆ 00:00:00  ┆ 06:05:00  │\n",
       "│         ┆           ┆ W…         ┆           ┆   ┆           ┆           ┆ UTC       ┆ UTC       │\n",
       "│ 3       ┆ DUGWAY    ┆ U.S. Army  ┆ null      ┆ … ┆ 0         ┆ 0         ┆ 1997-02-2 ┆ 2024-12-1 │\n",
       "│         ┆           ┆ Dugway     ┆           ┆   ┆           ┆           ┆ 8         ┆ 9         │\n",
       "│         ┆           ┆ Proving    ┆           ┆   ┆           ┆           ┆ 00:00:00  ┆ 00:00:00  │\n",
       "│         ┆           ┆ Groun…     ┆           ┆   ┆           ┆           ┆ UTC       ┆ UTC       │\n",
       "│ 4       ┆ UTAH DOT  ┆ Utah       ┆ null      ┆ … ┆ 0         ┆ 0         ┆ 1997-01-0 ┆ 2024-12-1 │\n",
       "│         ┆           ┆ Department ┆           ┆   ┆           ┆           ┆ 1         ┆ 9         │\n",
       "│         ┆           ┆ of Transpo ┆           ┆   ┆           ┆           ┆ 00:00:00  ┆ 06:00:00  │\n",
       "│         ┆           ┆ rtat…      ┆           ┆   ┆           ┆           ┆ UTC       ┆ UTC       │\n",
       "│ 5       ┆ ARL FRD   ┆ NOAA Air   ┆ null      ┆ … ┆ 0         ┆ 0         ┆ 1997-01-0 ┆ 2024-12-1 │\n",
       "│         ┆           ┆ Resources  ┆           ┆   ┆           ┆           ┆ 1         ┆ 9         │\n",
       "│         ┆           ┆ Laboratory ┆           ┆   ┆           ┆           ┆ 00:00:00  ┆ 05:55:00  │\n",
       "│         ┆           ┆ …          ┆           ┆   ┆           ┆           ┆ UTC       ┆ UTC       │\n",
       "│ …       ┆ …         ┆ …          ┆ …         ┆ … ┆ …         ┆ …         ┆ …         ┆ …         │\n",
       "│ 3026    ┆ UMRB-UNL  ┆ Upper      ┆ null      ┆ … ┆ 15        ┆ 15        ┆ 2023-11-0 ┆ 2024-12-1 │\n",
       "│         ┆           ┆ Missouri   ┆           ┆   ┆           ┆           ┆ 1         ┆ 9         │\n",
       "│         ┆           ┆ River      ┆           ┆   ┆           ┆           ┆ 21:15:00  ┆ 05:55:00  │\n",
       "│         ┆           ┆ Basin - U… ┆           ┆   ┆           ┆           ┆ UTC       ┆ UTC       │\n",
       "│ 3027    ┆ UMRB-UWYO ┆ Upper      ┆ null      ┆ … ┆ 23        ┆ 23        ┆ 2021-02-1 ┆ 2024-12-1 │\n",
       "│         ┆           ┆ Missouri   ┆           ┆   ┆           ┆           ┆ 3         ┆ 9         │\n",
       "│         ┆           ┆ River      ┆           ┆   ┆           ┆           ┆ 22:25:00  ┆ 06:00:00  │\n",
       "│         ┆           ┆ Basin - U… ┆           ┆   ┆           ┆           ┆ UTC       ┆ UTC       │\n",
       "│ 3028    ┆ MDE       ┆ Maryland   ┆ null      ┆ … ┆ 20        ┆ 23        ┆ 2023-11-2 ┆ 2024-12-1 │\n",
       "│         ┆           ┆ Department ┆           ┆   ┆           ┆           ┆ 7         ┆ 9         │\n",
       "│         ┆           ┆ of the     ┆           ┆   ┆           ┆           ┆ 15:01:00  ┆ 05:01:00  │\n",
       "│         ┆           ┆ Env…       ┆           ┆   ┆           ┆           ┆ UTC       ┆ UTC       │\n",
       "│ 4000    ┆ WIS2      ┆ WMO Inform ┆ https://c ┆ … ┆ 3121      ┆ 3609      ┆ 2024-03-2 ┆ 2024-12-1 │\n",
       "│         ┆           ┆ ation      ┆ ommunity. ┆   ┆           ┆           ┆ 1         ┆ 9         │\n",
       "│         ┆           ┆ System 2.0 ┆ wmo.int/e ┆   ┆           ┆           ┆ 12:00:00  ┆ 06:00:00  │\n",
       "│         ┆           ┆            ┆ n/a…      ┆   ┆           ┆           ┆ UTC       ┆ UTC       │\n",
       "│ 10000   ┆ WALAY     ┆ WeatherWal ┆ https://w ┆ … ┆ 139       ┆ 180       ┆ 2024-02-2 ┆ 2024-12-1 │\n",
       "│         ┆           ┆ ay         ┆ ww.weathe ┆   ┆           ┆           ┆ 3         ┆ 9         │\n",
       "│         ┆           ┆            ┆ rwalay.co ┆   ┆           ┆           ┆ 21:05:00  ┆ 06:06:00  │\n",
       "│         ┆           ┆            ┆ m/        ┆   ┆           ┆           ┆ UTC       ┆ UTC       │\n",
       "└─────────┴───────────┴────────────┴───────────┴───┴───────────┴───────────┴───────────┴───────────┘"
      ]
     },
     "execution_count": 2,
     "metadata": {},
     "output_type": "execute_result"
    }
   ],
   "source": [
    "df = Networks().df()\n",
    "df"
   ]
  }
 ],
 "metadata": {
  "kernelspec": {
   "display_name": "synoptic2",
   "language": "python",
   "name": "python3"
  },
  "language_info": {
   "codemirror_mode": {
    "name": "ipython",
    "version": 3
   },
   "file_extension": ".py",
   "mimetype": "text/x-python",
   "name": "python",
   "nbconvert_exporter": "python",
   "pygments_lexer": "ipython3",
   "version": "3.12.5"
  }
 },
 "nbformat": 4,
 "nbformat_minor": 2
}
