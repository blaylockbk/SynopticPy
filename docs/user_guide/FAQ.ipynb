{
 "cells": [
  {
   "cell_type": "markdown",
   "metadata": {},
   "source": [
    "# Frequency Asked Questions\n",
    "\n",
    "## How do I import SynopticPy?\n",
    "Simply `import synoptic` to get access to all the services classes. The `datetime` library is useful when requesting data and you'll likely need the `polars` package for DataFrame manipulation."
   ]
  },
  {
   "cell_type": "code",
   "execution_count": 2,
   "metadata": {},
   "outputs": [],
   "source": [
    "from datetime import datetime, timedelta\n",
    "\n",
    "import synoptic\n",
    "import polars as pl"
   ]
  },
  {
   "cell_type": "markdown",
   "metadata": {},
   "source": [
    "## What Synoptic weather API services are available?\n",
    "\n",
    "All the Synoptic Weather API services are available with the exception of `qcsegments`, which is not implemented (I have never needed it). There are essentially two types of API services.\n",
    "\n",
    "Data Services\n",
    "\n",
    "- `synoptic.TimeSeries` : Request time series data from a station or stations.\n",
    "- `synoptic.Latest` :  Request latest data from a station or stations.\n",
    "- `synoptic.NearestTime` :  Request data from a station or stations nearest a specific time. Very similar to the Latest service.\n",
    "- `synoptic.Precipitation` : Request precipitation data from a station or stations.\n",
    "- `synoptic.Latency` : Request latency information for a station or stations.\n",
    "- `synoptic.Metadata` : Request station metadata, like location, name, etc.\n",
    "\n",
    "Metadata Services\n",
    "\n",
    "- `synoptic.QCTypes` : Table of Synoptic's quality control types.\n",
    "- `synoptic.Variables` : Table of Synoptic's variable definitions.\n",
    "- `synoptic.Networks` : Table of Synoptic's available networks.\n",
    "- `synoptic.NetworkTypes` : Table of Synoptic's network type categories.\n"
   ]
  },
  {
   "cell_type": "markdown",
   "metadata": {},
   "source": [
    "## What is included in a Synoptic Services class instance?\n",
    "\n",
    "In general, most instances return the following attributes:\n",
    "\n",
    "1. All capitalized attributes like `SUMMARY`,  `STATION`, `UNITS`, `QC_SUMMARY` are copied dictionaries attached from the returned json. These are for convenience.\n",
    "1. `df` is the long-format **Polars DataFrame** of the `STATION` data.\n",
    "1. `endpoint` is the URL for the requested API service.\n",
    "1. `help_url` is the website for the documentation for the service.\n",
    "1. `json` is the returned json from the API request loaded into a Python dictionary.\n",
    "1. `params` are the user-specified parameters used to make the request.\n",
    "1. `response` is the object from the requests library, `requests.get(...)`.\n",
    "1. `service` is the requested Synoptic API service type.\n",
    "1. `token_source` is where SynopticPy found the token.\n",
    "1. `url` is the full URL used to make the API request.\n",
    "1. `verbose` indicates if details about what SynopticPy is doing is printed to the screen (i.e., poor-man's logging).\n",
    "\n",
    "Let's take a look at the attributes of Metadata service instance..."
   ]
  },
  {
   "cell_type": "code",
   "execution_count": 3,
   "metadata": {},
   "outputs": [
    {
     "name": "stdout",
     "output_type": "stream",
     "text": [
      "🚚💨 Speedy delivery from Synoptic metadata service.\n",
      "📦 Received data from 1 stations.\n",
      "s.endpoint='https://api.synopticdata.com/v2/stations/metadata'\n",
      "s.service='metadata'\n",
      "s.help_url='https://docs.synopticdata.com/services/weather-data-api'\n",
      "s.token_source='Config File: /home/blaylock/.config/SynopticPy'\n",
      "s.verbose=True\n"
     ]
    },
    {
     "data": {
      "text/html": [
       "<div><style>\n",
       ".dataframe > thead > tr,\n",
       ".dataframe > tbody > tr {\n",
       "  text-align: right;\n",
       "  white-space: pre-wrap;\n",
       "}\n",
       "</style>\n",
       "<small>shape: (1, 14)</small><table border=\"1\" class=\"dataframe\"><thead><tr><th>id</th><th>stid</th><th>name</th><th>elevation</th><th>latitude</th><th>longitude</th><th>mnet_id</th><th>state</th><th>timezone</th><th>elev_dem</th><th>period_of_record_start</th><th>period_of_record_end</th><th>is_restricted</th><th>is_active</th></tr><tr><td>u32</td><td>str</td><td>str</td><td>f64</td><td>f64</td><td>f64</td><td>u32</td><td>str</td><td>str</td><td>f64</td><td>datetime[μs, UTC]</td><td>datetime[μs, UTC]</td><td>bool</td><td>bool</td></tr></thead><tbody><tr><td>53</td><td>&quot;KSLC&quot;</td><td>&quot;Salt Lake City, Salt Lake City…</td><td>4226.0</td><td>40.77069</td><td>-111.96503</td><td>1</td><td>&quot;UT&quot;</td><td>&quot;America/Denver&quot;</td><td>4235.6</td><td>1997-01-01 00:00:00 UTC</td><td>2024-09-14 05:20:00 UTC</td><td>false</td><td>true</td></tr></tbody></table></div>"
      ],
      "text/plain": [
       "shape: (1, 14)\n",
       "┌─────┬──────┬──────────────┬───────────┬───┬──────────────┬─────────────┬─────────────┬───────────┐\n",
       "│ id  ┆ stid ┆ name         ┆ elevation ┆ … ┆ period_of_re ┆ period_of_r ┆ is_restrict ┆ is_active │\n",
       "│ --- ┆ ---  ┆ ---          ┆ ---       ┆   ┆ cord_start   ┆ ecord_end   ┆ ed          ┆ ---       │\n",
       "│ u32 ┆ str  ┆ str          ┆ f64       ┆   ┆ ---          ┆ ---         ┆ ---         ┆ bool      │\n",
       "│     ┆      ┆              ┆           ┆   ┆ datetime[μs, ┆ datetime[μs ┆ bool        ┆           │\n",
       "│     ┆      ┆              ┆           ┆   ┆ UTC]         ┆ , UTC]      ┆             ┆           │\n",
       "╞═════╪══════╪══════════════╪═══════════╪═══╪══════════════╪═════════════╪═════════════╪═══════════╡\n",
       "│ 53  ┆ KSLC ┆ Salt Lake    ┆ 4226.0    ┆ … ┆ 1997-01-01   ┆ 2024-09-14  ┆ false       ┆ true      │\n",
       "│     ┆      ┆ City, Salt   ┆           ┆   ┆ 00:00:00 UTC ┆ 05:20:00    ┆             ┆           │\n",
       "│     ┆      ┆ Lake City…   ┆           ┆   ┆              ┆ UTC         ┆             ┆           │\n",
       "└─────┴──────┴──────────────┴───────────┴───┴──────────────┴─────────────┴─────────────┴───────────┘"
      ]
     },
     "execution_count": 3,
     "metadata": {},
     "output_type": "execute_result"
    }
   ],
   "source": [
    "# Get station metadata for a single, specific station\n",
    "s = synoptic.Metadata(stid=\"KSLC\", verbose=True)\n",
    "\n",
    "print(f\"{s.endpoint=}\")\n",
    "print(f\"{s.service=}\")\n",
    "print(f\"{s.help_url=}\")\n",
    "print(f\"{s.token_source=}\")\n",
    "# print(f\"{s.params=}\")\n",
    "# print(f\"{s.url=}\")\n",
    "print(f\"{s.verbose=}\")\n",
    "s.df"
   ]
  },
  {
   "cell_type": "markdown",
   "metadata": {},
   "source": [
    "## What is the DataFrame structure?\n",
    "\n",
    "SynopticPy returns all data as long-format Polars DataFrames. This means that for data requests, each row in the dataframe is a single unique observation.\n",
    "\n",
    "Why? This makes it easy to archive the data locally, such as a Parquet file.\n",
    "\n",
    "I will let the user manipulate the DataFrame in the way they want it using Polars' extensive and efficient processing. For instance, long-format DataFrames can be _pivoted_ to make a DataFrame with each column as a different variable."
   ]
  },
  {
   "cell_type": "code",
   "execution_count": 4,
   "metadata": {},
   "outputs": [
    {
     "name": "stdout",
     "output_type": "stream",
     "text": [
      "🚚💨 Speedy delivery from Synoptic timeseries service.\n"
     ]
    },
    {
     "name": "stdout",
     "output_type": "stream",
     "text": [
      "📦 Received data from 1 stations.\n"
     ]
    },
    {
     "data": {
      "text/html": [
       "<div><style>\n",
       ".dataframe > thead > tr,\n",
       ".dataframe > tbody > tr {\n",
       "  text-align: right;\n",
       "  white-space: pre-wrap;\n",
       "}\n",
       "</style>\n",
       "<small>shape: (5, 20)</small><table border=\"1\" class=\"dataframe\"><thead><tr><th>date_time</th><th>variable</th><th>sensor</th><th>derived</th><th>value</th><th>units</th><th>id</th><th>stid</th><th>name</th><th>elevation</th><th>latitude</th><th>longitude</th><th>mnet_id</th><th>state</th><th>timezone</th><th>elev_dem</th><th>period_of_record_start</th><th>period_of_record_end</th><th>is_restricted</th><th>is_active</th></tr><tr><td>datetime[μs, UTC]</td><td>str</td><td>u32</td><td>bool</td><td>f64</td><td>str</td><td>u32</td><td>str</td><td>str</td><td>f64</td><td>f64</td><td>f64</td><td>u32</td><td>str</td><td>str</td><td>f64</td><td>datetime[μs, UTC]</td><td>datetime[μs, UTC]</td><td>bool</td><td>bool</td></tr></thead><tbody><tr><td>2024-09-14 00:30:00 UTC</td><td>&quot;air_temp&quot;</td><td>1</td><td>false</td><td>23.889</td><td>&quot;Celsius&quot;</td><td>37032</td><td>&quot;UKBKB&quot;</td><td>&quot;EW2355 Spanish Fork&quot;</td><td>4734.0</td><td>40.09867</td><td>-111.62767</td><td>65</td><td>&quot;UT&quot;</td><td>&quot;America/Denver&quot;</td><td>4740.8</td><td>2013-03-13 00:00:00 UTC</td><td>2024-09-14 05:15:00 UTC</td><td>false</td><td>true</td></tr><tr><td>2024-09-14 00:45:00 UTC</td><td>&quot;air_temp&quot;</td><td>1</td><td>false</td><td>22.778</td><td>&quot;Celsius&quot;</td><td>37032</td><td>&quot;UKBKB&quot;</td><td>&quot;EW2355 Spanish Fork&quot;</td><td>4734.0</td><td>40.09867</td><td>-111.62767</td><td>65</td><td>&quot;UT&quot;</td><td>&quot;America/Denver&quot;</td><td>4740.8</td><td>2013-03-13 00:00:00 UTC</td><td>2024-09-14 05:15:00 UTC</td><td>false</td><td>true</td></tr><tr><td>2024-09-14 01:00:00 UTC</td><td>&quot;air_temp&quot;</td><td>1</td><td>false</td><td>22.222</td><td>&quot;Celsius&quot;</td><td>37032</td><td>&quot;UKBKB&quot;</td><td>&quot;EW2355 Spanish Fork&quot;</td><td>4734.0</td><td>40.09867</td><td>-111.62767</td><td>65</td><td>&quot;UT&quot;</td><td>&quot;America/Denver&quot;</td><td>4740.8</td><td>2013-03-13 00:00:00 UTC</td><td>2024-09-14 05:15:00 UTC</td><td>false</td><td>true</td></tr><tr><td>2024-09-14 01:16:00 UTC</td><td>&quot;air_temp&quot;</td><td>1</td><td>false</td><td>21.667</td><td>&quot;Celsius&quot;</td><td>37032</td><td>&quot;UKBKB&quot;</td><td>&quot;EW2355 Spanish Fork&quot;</td><td>4734.0</td><td>40.09867</td><td>-111.62767</td><td>65</td><td>&quot;UT&quot;</td><td>&quot;America/Denver&quot;</td><td>4740.8</td><td>2013-03-13 00:00:00 UTC</td><td>2024-09-14 05:15:00 UTC</td><td>false</td><td>true</td></tr><tr><td>2024-09-14 01:31:00 UTC</td><td>&quot;air_temp&quot;</td><td>1</td><td>false</td><td>20.556</td><td>&quot;Celsius&quot;</td><td>37032</td><td>&quot;UKBKB&quot;</td><td>&quot;EW2355 Spanish Fork&quot;</td><td>4734.0</td><td>40.09867</td><td>-111.62767</td><td>65</td><td>&quot;UT&quot;</td><td>&quot;America/Denver&quot;</td><td>4740.8</td><td>2013-03-13 00:00:00 UTC</td><td>2024-09-14 05:15:00 UTC</td><td>false</td><td>true</td></tr></tbody></table></div>"
      ],
      "text/plain": [
       "shape: (5, 20)\n",
       "┌─────────────┬──────────┬────────┬─────────┬───┬────────────┬────────────┬────────────┬───────────┐\n",
       "│ date_time   ┆ variable ┆ sensor ┆ derived ┆ … ┆ period_of_ ┆ period_of_ ┆ is_restric ┆ is_active │\n",
       "│ ---         ┆ ---      ┆ ---    ┆ ---     ┆   ┆ record_sta ┆ record_end ┆ ted        ┆ ---       │\n",
       "│ datetime[μs ┆ str      ┆ u32    ┆ bool    ┆   ┆ rt         ┆ ---        ┆ ---        ┆ bool      │\n",
       "│ , UTC]      ┆          ┆        ┆         ┆   ┆ ---        ┆ datetime[μ ┆ bool       ┆           │\n",
       "│             ┆          ┆        ┆         ┆   ┆ datetime[μ ┆ s, UTC]    ┆            ┆           │\n",
       "│             ┆          ┆        ┆         ┆   ┆ s, UTC]    ┆            ┆            ┆           │\n",
       "╞═════════════╪══════════╪════════╪═════════╪═══╪════════════╪════════════╪════════════╪═══════════╡\n",
       "│ 2024-09-14  ┆ air_temp ┆ 1      ┆ false   ┆ … ┆ 2013-03-13 ┆ 2024-09-14 ┆ false      ┆ true      │\n",
       "│ 00:30:00    ┆          ┆        ┆         ┆   ┆ 00:00:00   ┆ 05:15:00   ┆            ┆           │\n",
       "│ UTC         ┆          ┆        ┆         ┆   ┆ UTC        ┆ UTC        ┆            ┆           │\n",
       "│ 2024-09-14  ┆ air_temp ┆ 1      ┆ false   ┆ … ┆ 2013-03-13 ┆ 2024-09-14 ┆ false      ┆ true      │\n",
       "│ 00:45:00    ┆          ┆        ┆         ┆   ┆ 00:00:00   ┆ 05:15:00   ┆            ┆           │\n",
       "│ UTC         ┆          ┆        ┆         ┆   ┆ UTC        ┆ UTC        ┆            ┆           │\n",
       "│ 2024-09-14  ┆ air_temp ┆ 1      ┆ false   ┆ … ┆ 2013-03-13 ┆ 2024-09-14 ┆ false      ┆ true      │\n",
       "│ 01:00:00    ┆          ┆        ┆         ┆   ┆ 00:00:00   ┆ 05:15:00   ┆            ┆           │\n",
       "│ UTC         ┆          ┆        ┆         ┆   ┆ UTC        ┆ UTC        ┆            ┆           │\n",
       "│ 2024-09-14  ┆ air_temp ┆ 1      ┆ false   ┆ … ┆ 2013-03-13 ┆ 2024-09-14 ┆ false      ┆ true      │\n",
       "│ 01:16:00    ┆          ┆        ┆         ┆   ┆ 00:00:00   ┆ 05:15:00   ┆            ┆           │\n",
       "│ UTC         ┆          ┆        ┆         ┆   ┆ UTC        ┆ UTC        ┆            ┆           │\n",
       "│ 2024-09-14  ┆ air_temp ┆ 1      ┆ false   ┆ … ┆ 2013-03-13 ┆ 2024-09-14 ┆ false      ┆ true      │\n",
       "│ 01:31:00    ┆          ┆        ┆         ┆   ┆ 00:00:00   ┆ 05:15:00   ┆            ┆           │\n",
       "│ UTC         ┆          ┆        ┆         ┆   ┆ UTC        ┆ UTC        ┆            ┆           │\n",
       "└─────────────┴──────────┴────────┴─────────┴───┴────────────┴────────────┴────────────┴───────────┘"
      ]
     },
     "execution_count": 4,
     "metadata": {},
     "output_type": "execute_result"
    }
   ],
   "source": [
    "df = synoptic.TimeSeries(\n",
    "    stid=\"ukbkb\",\n",
    "    recent=timedelta(hours=6),\n",
    "    vars=[\"air_temp\", \"wind_speed\", \"wind_direction\"],\n",
    ").df\n",
    "\n",
    "df.head()"
   ]
  },
  {
   "cell_type": "code",
   "execution_count": 5,
   "metadata": {},
   "outputs": [
    {
     "data": {
      "text/html": [
       "<div><style>\n",
       ".dataframe > thead > tr,\n",
       ".dataframe > tbody > tr {\n",
       "  text-align: right;\n",
       "  white-space: pre-wrap;\n",
       "}\n",
       "</style>\n",
       "<small>shape: (24, 5)</small><table border=\"1\" class=\"dataframe\"><thead><tr><th>date_time</th><th>stid</th><th>air_temp</th><th>wind_speed</th><th>wind_direction</th></tr><tr><td>datetime[μs, UTC]</td><td>str</td><td>f64</td><td>f64</td><td>f64</td></tr></thead><tbody><tr><td>2024-09-14 00:30:00 UTC</td><td>&quot;UKBKB&quot;</td><td>23.889</td><td>0.0</td><td>null</td></tr><tr><td>2024-09-14 00:45:00 UTC</td><td>&quot;UKBKB&quot;</td><td>22.778</td><td>0.0</td><td>null</td></tr><tr><td>2024-09-14 01:00:00 UTC</td><td>&quot;UKBKB&quot;</td><td>22.222</td><td>0.0</td><td>null</td></tr><tr><td>2024-09-14 01:16:00 UTC</td><td>&quot;UKBKB&quot;</td><td>21.667</td><td>0.0</td><td>null</td></tr><tr><td>2024-09-14 01:31:00 UTC</td><td>&quot;UKBKB&quot;</td><td>20.556</td><td>0.0</td><td>null</td></tr><tr><td>&hellip;</td><td>&hellip;</td><td>&hellip;</td><td>&hellip;</td><td>&hellip;</td></tr><tr><td>2024-09-14 05:15:00 UTC</td><td>&quot;UKBKB&quot;</td><td>15.556</td><td>0.0</td><td>null</td></tr><tr><td>2024-09-14 05:30:00 UTC</td><td>&quot;UKBKB&quot;</td><td>15.556</td><td>0.895</td><td>0.0</td></tr><tr><td>2024-09-14 05:45:00 UTC</td><td>&quot;UKBKB&quot;</td><td>15.556</td><td>0.448</td><td>91.0</td></tr><tr><td>2024-09-14 06:00:00 UTC</td><td>&quot;UKBKB&quot;</td><td>15.556</td><td>0.0</td><td>null</td></tr><tr><td>2024-09-14 06:15:00 UTC</td><td>&quot;UKBKB&quot;</td><td>15.556</td><td>0.448</td><td>22.0</td></tr></tbody></table></div>"
      ],
      "text/plain": [
       "shape: (24, 5)\n",
       "┌─────────────────────────┬───────┬──────────┬────────────┬────────────────┐\n",
       "│ date_time               ┆ stid  ┆ air_temp ┆ wind_speed ┆ wind_direction │\n",
       "│ ---                     ┆ ---   ┆ ---      ┆ ---        ┆ ---            │\n",
       "│ datetime[μs, UTC]       ┆ str   ┆ f64      ┆ f64        ┆ f64            │\n",
       "╞═════════════════════════╪═══════╪══════════╪════════════╪════════════════╡\n",
       "│ 2024-09-14 00:30:00 UTC ┆ UKBKB ┆ 23.889   ┆ 0.0        ┆ null           │\n",
       "│ 2024-09-14 00:45:00 UTC ┆ UKBKB ┆ 22.778   ┆ 0.0        ┆ null           │\n",
       "│ 2024-09-14 01:00:00 UTC ┆ UKBKB ┆ 22.222   ┆ 0.0        ┆ null           │\n",
       "│ 2024-09-14 01:16:00 UTC ┆ UKBKB ┆ 21.667   ┆ 0.0        ┆ null           │\n",
       "│ 2024-09-14 01:31:00 UTC ┆ UKBKB ┆ 20.556   ┆ 0.0        ┆ null           │\n",
       "│ …                       ┆ …     ┆ …        ┆ …          ┆ …              │\n",
       "│ 2024-09-14 05:15:00 UTC ┆ UKBKB ┆ 15.556   ┆ 0.0        ┆ null           │\n",
       "│ 2024-09-14 05:30:00 UTC ┆ UKBKB ┆ 15.556   ┆ 0.895      ┆ 0.0            │\n",
       "│ 2024-09-14 05:45:00 UTC ┆ UKBKB ┆ 15.556   ┆ 0.448      ┆ 91.0           │\n",
       "│ 2024-09-14 06:00:00 UTC ┆ UKBKB ┆ 15.556   ┆ 0.0        ┆ null           │\n",
       "│ 2024-09-14 06:15:00 UTC ┆ UKBKB ┆ 15.556   ┆ 0.448      ┆ 22.0           │\n",
       "└─────────────────────────┴───────┴──────────┴────────────┴────────────────┘"
      ]
     },
     "execution_count": 5,
     "metadata": {},
     "output_type": "execute_result"
    }
   ],
   "source": [
    "df.pivot(index=[\"date_time\", \"stid\"], on=\"variable\", values=\"value\")"
   ]
  },
  {
   "cell_type": "markdown",
   "metadata": {},
   "source": [
    "## Why does SynopticPy return Polars DataFrames?\n",
    "\n",
    "Previous versions of SynopticPy used Pandas. Pandas is popular, but is starting to be antiquated. I have been using Polars for over a year and love it! These are the reasons why I re-wrote SynopticPy from the ground up using [Polars](https://docs.pola.rs/user-guide/getting-started/).\n",
    "\n",
    "1. **_Personal learning exercise:_** I wanted to get better at using Polars, and rewriting SynopticPy was a great chance to do that. I'm also using class inheritance, which is not something I have used before, so I'm experimenting with that too.\n",
    "\n",
    "1. **_Improve maintainability:_** Older versions of SynopticPy had some quirks I wanted to fix. The best way to fix those quicks was to re-write the package.\n",
    "\n",
    "1. **_Locally Archiving Synoptic Data:_** SynopticPy limits the amount of data you can request in one API request. Also, in a research setting I need to use and re-use data lots of times as I'm experimenting. It doesn't make sense to keep getting data from the API every time I need to use the data. Instead, I should store the data locally after I got it from Synoptic. A long-format Polars DataFrame can be written to Parquet format, which has much smaller file sizes than JSON files.\n"
   ]
  },
  {
   "cell_type": "markdown",
   "metadata": {},
   "source": [
    "## What are the benefits of saving Synoptic data to Parquet instead of raw JSON?\n",
    "\n",
    "If I need to reuse data over many times (i.e., researching a case study) then I don't want to keep asking Synoptic for the data; I want to get the data and save it to local disk. Also, Synoptic restricts how much data you can retrieve in a single API request. If you need long a long time series then you will need to make multiple API calls. You should save the DataFrame information to a Parquet file to save disk space and most performant loading time.\n",
    "\n",
    "To demonstrate, let's collect a timeseries of 5 days of data for all the stations within 10 miles of WBB.\n",
    "\n",
    "1. Write the raw JSON to a JSON file.\n",
    "1. Write the Polars DataFrame to a Parquet file.\n",
    "\n",
    "- How large is the JSON file versus Parquet file? _Parquet is about 18x smaller than JSON, because it is efficiently compressed._\n",
    "- How long does it take to load a JSON file versus Parquet file? _Parquet is faster to load into memory, it's already organized in a clean table, you can read only select rows if you want, and it's easy to read multiple files at a time._"
   ]
  },
  {
   "cell_type": "code",
   "execution_count": 6,
   "metadata": {},
   "outputs": [
    {
     "name": "stdout",
     "output_type": "stream",
     "text": [
      "🚚💨 Speedy delivery from Synoptic timeseries service.\n"
     ]
    },
    {
     "name": "stdout",
     "output_type": "stream",
     "text": [
      "📦 Received data from 89 stations.\n",
      "Number of rows: 1,447,543\n"
     ]
    }
   ],
   "source": [
    "s = synoptic.TimeSeries(radius=\"wbb,10\", recent=timedelta(days=5))\n",
    "print(f\"Number of rows: {len(s.df):,}\")"
   ]
  },
  {
   "cell_type": "code",
   "execution_count": 7,
   "metadata": {},
   "outputs": [
    {
     "name": "stdout",
     "output_type": "stream",
     "text": [
      "JSON file size: 43.66 MB\n",
      "Parquet size: 2.24 MB\n"
     ]
    }
   ],
   "source": [
    "import json\n",
    "from pathlib import Path\n",
    "\n",
    "filepath = Path(\"sample_timeseries.json\")\n",
    "parquet = filepath.with_suffix(\".parquet\")\n",
    "\n",
    "# Write raw data to JSON\n",
    "with open(filepath, \"w\") as f:\n",
    "    json.dump(s.json, f, indent=4)\n",
    "\n",
    "\n",
    "# Write DataFrame to Parquet\n",
    "s.df.write_parquet(parquet)\n",
    "\n",
    "print(f\"JSON file size: {filepath.stat().st_size / 1000 / 1000:.2f} MB\")\n",
    "print(f\"Parquet size: {parquet.stat().st_size / 1000 / 1000:.2f} MB\")"
   ]
  },
  {
   "cell_type": "code",
   "execution_count": 13,
   "metadata": {},
   "outputs": [
    {
     "name": "stdout",
     "output_type": "stream",
     "text": [
      "CPU times: user 114 ms, sys: 133 ms, total: 247 ms\n",
      "Wall time: 245 ms\n"
     ]
    },
    {
     "ename": "",
     "evalue": "",
     "output_type": "error",
     "traceback": [
      "\u001b[1;31mThe Kernel crashed while executing code in the current cell or a previous cell. \n",
      "\u001b[1;31mPlease review the code in the cell(s) to identify a possible cause of the failure. \n",
      "\u001b[1;31mClick <a href='https://aka.ms/vscodeJupyterKernelCrash'>here</a> for more info. \n",
      "\u001b[1;31mView Jupyter <a href='command:jupyter.viewOutput'>log</a> for further details."
     ]
    }
   ],
   "source": [
    "%%time\n",
    "# Read the JSON file\n",
    "with open(filepath, \"r\") as json_file:\n",
    "    data = json.load(json_file)"
   ]
  },
  {
   "cell_type": "code",
   "execution_count": 9,
   "metadata": {},
   "outputs": [
    {
     "name": "stdout",
     "output_type": "stream",
     "text": [
      "CPU times: user 141 ms, sys: 117 ms, total: 259 ms\n",
      "Wall time: 109 ms\n"
     ]
    }
   ],
   "source": [
    "%%time\n",
    "_ = pl.read_parquet(parquet)"
   ]
  },
  {
   "cell_type": "markdown",
   "metadata": {},
   "source": [
    "## How can I split a long-format DataFrame by station?\n",
    "Polars makes this easy; use `df.partition_by('stid')` to get a list of DataFrames, each DataFrame with it's own station."
   ]
  },
  {
   "cell_type": "code",
   "execution_count": 10,
   "metadata": {},
   "outputs": [
    {
     "name": "stdout",
     "output_type": "stream",
     "text": [
      "🚚💨 Speedy delivery from Synoptic timeseries service.\n"
     ]
    },
    {
     "name": "stdout",
     "output_type": "stream",
     "text": [
      "📦 Received data from 2 stations.\n"
     ]
    },
    {
     "data": {
      "text/plain": [
       "[shape: (6, 20)\n",
       " ┌─────────────┬──────────┬────────┬─────────┬───┬────────────┬────────────┬────────────┬───────────┐\n",
       " │ date_time   ┆ variable ┆ sensor ┆ derived ┆ … ┆ period_of_ ┆ period_of_ ┆ is_restric ┆ is_active │\n",
       " │ ---         ┆ ---      ┆ ---    ┆ ---     ┆   ┆ record_sta ┆ record_end ┆ ted        ┆ ---       │\n",
       " │ datetime[μs ┆ str      ┆ u32    ┆ bool    ┆   ┆ rt         ┆ ---        ┆ ---        ┆ bool      │\n",
       " │ , UTC]      ┆          ┆        ┆         ┆   ┆ ---        ┆ datetime[μ ┆ bool       ┆           │\n",
       " │             ┆          ┆        ┆         ┆   ┆ datetime[μ ┆ s, UTC]    ┆            ┆           │\n",
       " │             ┆          ┆        ┆         ┆   ┆ s, UTC]    ┆            ┆            ┆           │\n",
       " ╞═════════════╪══════════╪════════╪═════════╪═══╪════════════╪════════════╪════════════╪═══════════╡\n",
       " │ 2024-09-14  ┆ air_temp ┆ 1      ┆ false   ┆ … ┆ 1997-01-01 ┆ 2024-09-14 ┆ false      ┆ true      │\n",
       " │ 05:54:00    ┆          ┆        ┆         ┆   ┆ 00:00:00   ┆ 05:35:00   ┆            ┆           │\n",
       " │ UTC         ┆          ┆        ┆         ┆   ┆ UTC        ┆ UTC        ┆            ┆           │\n",
       " │ 2024-09-14  ┆ air_temp ┆ 1      ┆ false   ┆ … ┆ 1997-01-01 ┆ 2024-09-14 ┆ false      ┆ true      │\n",
       " │ 05:55:00    ┆          ┆        ┆         ┆   ┆ 00:00:00   ┆ 05:35:00   ┆            ┆           │\n",
       " │ UTC         ┆          ┆        ┆         ┆   ┆ UTC        ┆ UTC        ┆            ┆           │\n",
       " │ 2024-09-14  ┆ air_temp ┆ 1      ┆ false   ┆ … ┆ 1997-01-01 ┆ 2024-09-14 ┆ false      ┆ true      │\n",
       " │ 06:00:00    ┆          ┆        ┆         ┆   ┆ 00:00:00   ┆ 05:35:00   ┆            ┆           │\n",
       " │ UTC         ┆          ┆        ┆         ┆   ┆ UTC        ┆ UTC        ┆            ┆           │\n",
       " │ 2024-09-14  ┆ air_temp ┆ 1      ┆ false   ┆ … ┆ 1997-01-01 ┆ 2024-09-14 ┆ false      ┆ true      │\n",
       " │ 06:05:00    ┆          ┆        ┆         ┆   ┆ 00:00:00   ┆ 05:35:00   ┆            ┆           │\n",
       " │ UTC         ┆          ┆        ┆         ┆   ┆ UTC        ┆ UTC        ┆            ┆           │\n",
       " │ 2024-09-14  ┆ air_temp ┆ 1      ┆ false   ┆ … ┆ 1997-01-01 ┆ 2024-09-14 ┆ false      ┆ true      │\n",
       " │ 06:10:00    ┆          ┆        ┆         ┆   ┆ 00:00:00   ┆ 05:35:00   ┆            ┆           │\n",
       " │ UTC         ┆          ┆        ┆         ┆   ┆ UTC        ┆ UTC        ┆            ┆           │\n",
       " │ 2024-09-14  ┆ air_temp ┆ 1      ┆ false   ┆ … ┆ 1997-01-01 ┆ 2024-09-14 ┆ false      ┆ true      │\n",
       " │ 06:15:00    ┆          ┆        ┆         ┆   ┆ 00:00:00   ┆ 05:35:00   ┆            ┆           │\n",
       " │ UTC         ┆          ┆        ┆         ┆   ┆ UTC        ┆ UTC        ┆            ┆           │\n",
       " └─────────────┴──────────┴────────┴─────────┴───┴────────────┴────────────┴────────────┴───────────┘,\n",
       " shape: (2, 20)\n",
       " ┌─────────────┬──────────┬────────┬─────────┬───┬────────────┬────────────┬────────────┬───────────┐\n",
       " │ date_time   ┆ variable ┆ sensor ┆ derived ┆ … ┆ period_of_ ┆ period_of_ ┆ is_restric ┆ is_active │\n",
       " │ ---         ┆ ---      ┆ ---    ┆ ---     ┆   ┆ record_sta ┆ record_end ┆ ted        ┆ ---       │\n",
       " │ datetime[μs ┆ str      ┆ u32    ┆ bool    ┆   ┆ rt         ┆ ---        ┆ ---        ┆ bool      │\n",
       " │ , UTC]      ┆          ┆        ┆         ┆   ┆ ---        ┆ datetime[μ ┆ bool       ┆           │\n",
       " │             ┆          ┆        ┆         ┆   ┆ datetime[μ ┆ s, UTC]    ┆            ┆           │\n",
       " │             ┆          ┆        ┆         ┆   ┆ s, UTC]    ┆            ┆            ┆           │\n",
       " ╞═════════════╪══════════╪════════╪═════════╪═══╪════════════╪════════════╪════════════╪═══════════╡\n",
       " │ 2024-09-14  ┆ air_temp ┆ 1      ┆ false   ┆ … ┆ 2013-03-13 ┆ 2024-09-14 ┆ false      ┆ true      │\n",
       " │ 06:00:00    ┆          ┆        ┆         ┆   ┆ 00:00:00   ┆ 05:30:00   ┆            ┆           │\n",
       " │ UTC         ┆          ┆        ┆         ┆   ┆ UTC        ┆ UTC        ┆            ┆           │\n",
       " │ 2024-09-14  ┆ air_temp ┆ 1      ┆ false   ┆ … ┆ 2013-03-13 ┆ 2024-09-14 ┆ false      ┆ true      │\n",
       " │ 06:15:00    ┆          ┆        ┆         ┆   ┆ 00:00:00   ┆ 05:30:00   ┆            ┆           │\n",
       " │ UTC         ┆          ┆        ┆         ┆   ┆ UTC        ┆ UTC        ┆            ┆           │\n",
       " └─────────────┴──────────┴────────┴─────────┴───┴────────────┴────────────┴────────────┴───────────┘]"
      ]
     },
     "execution_count": 10,
     "metadata": {},
     "output_type": "execute_result"
    }
   ],
   "source": [
    "df = synoptic.TimeSeries(\n",
    "    stid=\"ukbkb,kslc\",\n",
    "    recent=timedelta(minutes=30),\n",
    "    vars=\"air_temp\",\n",
    ").df\n",
    "\n",
    "df.partition_by(\"stid\")\n"
   ]
  },
  {
   "cell_type": "markdown",
   "metadata": {},
   "source": [
    "## How to get Metadata for stations of interest?"
   ]
  },
  {
   "cell_type": "code",
   "execution_count": 11,
   "metadata": {},
   "outputs": [
    {
     "name": "stdout",
     "output_type": "stream",
     "text": [
      "🚚💨 Speedy delivery from Synoptic metadata service.\n"
     ]
    },
    {
     "name": "stdout",
     "output_type": "stream",
     "text": [
      "📦 Received data from 34 stations.\n"
     ]
    },
    {
     "data": {
      "text/html": [
       "<div><style>\n",
       ".dataframe > thead > tr,\n",
       ".dataframe > tbody > tr {\n",
       "  text-align: right;\n",
       "  white-space: pre-wrap;\n",
       "}\n",
       "</style>\n",
       "<small>shape: (34, 15)</small><table border=\"1\" class=\"dataframe\"><thead><tr><th>id</th><th>stid</th><th>name</th><th>elevation</th><th>latitude</th><th>longitude</th><th>mnet_id</th><th>state</th><th>timezone</th><th>elev_dem</th><th>distance</th><th>period_of_record_start</th><th>period_of_record_end</th><th>is_restricted</th><th>is_active</th></tr><tr><td>u32</td><td>str</td><td>str</td><td>f64</td><td>f64</td><td>f64</td><td>u32</td><td>str</td><td>str</td><td>f64</td><td>f64</td><td>datetime[μs, UTC]</td><td>datetime[μs, UTC]</td><td>bool</td><td>bool</td></tr></thead><tbody><tr><td>276</td><td>&quot;KMRY&quot;</td><td>&quot;Monterey Regional Airport&quot;</td><td>167.0</td><td>36.59047</td><td>-121.84875</td><td>1</td><td>&quot;CA&quot;</td><td>&quot;America/Los_Angeles&quot;</td><td>170.6</td><td>0.0</td><td>1997-04-12 00:00:00 UTC</td><td>2024-09-14 05:35:00 UTC</td><td>false</td><td>true</td></tr><tr><td>2478</td><td>&quot;DMB&quot;</td><td>&quot;BAMI1&quot;</td><td>26.0</td><td>36.61</td><td>-121.87</td><td>31</td><td>&quot;CA&quot;</td><td>&quot;America/Los_Angeles&quot;</td><td>0.0</td><td>1.79</td><td>2000-05-07 00:00:00 UTC</td><td>2003-02-06 21:50:00 UTC</td><td>false</td><td>false</td></tr><tr><td>2489</td><td>&quot;MBA&quot;</td><td>&quot;BAMI12&quot;</td><td>75.0</td><td>36.62</td><td>-121.9</td><td>31</td><td>&quot;CA&quot;</td><td>&quot;America/Los_Angeles&quot;</td><td>0.0</td><td>3.5</td><td>2000-05-07 00:00:00 UTC</td><td>2003-02-06 20:50:00 UTC</td><td>false</td><td>false</td></tr><tr><td>3619</td><td>&quot;RTGC1&quot;</td><td>&quot;FORT ORD #2&quot;</td><td>490.0</td><td>36.626944</td><td>-121.786389</td><td>2</td><td>&quot;CA&quot;</td><td>&quot;America/Los_Angeles&quot;</td><td>469.2</td><td>4.28</td><td>2001-10-11 00:00:00 UTC</td><td>2012-10-31 03:34:00 UTC</td><td>false</td><td>false</td></tr><tr><td>18515</td><td>&quot;CMEC1&quot;</td><td>&quot;CARMEL RIVER NEAR CARMEL 3E&quot;</td><td>45.0</td><td>36.53917</td><td>-121.87944</td><td>106</td><td>&quot;CA&quot;</td><td>&quot;America/Los_Angeles&quot;</td><td>52.5</td><td>3.93</td><td>2006-12-16 00:00:00 UTC</td><td>2007-12-28 18:15:00 UTC</td><td>false</td><td>false</td></tr><tr><td>&hellip;</td><td>&hellip;</td><td>&hellip;</td><td>&hellip;</td><td>&hellip;</td><td>&hellip;</td><td>&hellip;</td><td>&hellip;</td><td>&hellip;</td><td>&hellip;</td><td>&hellip;</td><td>&hellip;</td><td>&hellip;</td><td>&hellip;</td><td>&hellip;</td></tr><tr><td>155497</td><td>&quot;026PG&quot;</td><td>&quot;Parker Flats Cutoff&quot;</td><td>436.0</td><td>36.62987</td><td>-121.79182</td><td>229</td><td>&quot;CA&quot;</td><td>&quot;America/Los_Angeles&quot;</td><td>419.9</td><td>4.17</td><td>2020-08-25 03:14:00 UTC</td><td>2024-09-14 05:40:00 UTC</td><td>false</td><td>true</td></tr><tr><td>166603</td><td>&quot;G0246&quot;</td><td>&quot;GW0246 Monterey&quot;</td><td>314.0</td><td>36.57217</td><td>-121.7975</td><td>65</td><td>&quot;CA&quot;</td><td>&quot;America/Los_Angeles&quot;</td><td>301.8</td><td>3.11</td><td>2021-07-26 22:09:00 UTC</td><td>2024-09-14 05:36:00 UTC</td><td>false</td><td>true</td></tr><tr><td>236415</td><td>&quot;NDBC46240&quot;</td><td>&quot;CABRILLO POINT, MONTEREY BAY, …</td><td>0.0</td><td>36.626</td><td>-121.907</td><td>286</td><td>&quot;CA&quot;</td><td>&quot;America/Los_Angeles&quot;</td><td>null</td><td>4.06</td><td>2024-04-25 11:26:00 UTC</td><td>2024-09-14 04:56:00 UTC</td><td>false</td><td>true</td></tr><tr><td>236973</td><td>&quot;NDBCMEYC1&quot;</td><td>&quot;9413450 - MONTEREY, CA&quot;</td><td>7.87</td><td>36.605</td><td>-121.889</td><td>286</td><td>&quot;CA&quot;</td><td>&quot;America/Los_Angeles&quot;</td><td>null</td><td>2.45</td><td>2024-04-27 21:36:00 UTC</td><td>2024-09-14 04:36:00 UTC</td><td>false</td><td>true</td></tr><tr><td>237006</td><td>&quot;NDBCMYXC1&quot;</td><td>&quot;MONTERREY, CA&quot;</td><td>null</td><td>36.605</td><td>-121.889</td><td>286</td><td>&quot;CA&quot;</td><td>&quot;America/Los_Angeles&quot;</td><td>null</td><td>2.45</td><td>null</td><td>null</td><td>false</td><td>false</td></tr></tbody></table></div>"
      ],
      "text/plain": [
       "shape: (34, 15)\n",
       "┌────────┬───────────┬────────────┬───────────┬───┬────────────┬───────────┬───────────┬───────────┐\n",
       "│ id     ┆ stid      ┆ name       ┆ elevation ┆ … ┆ period_of_ ┆ period_of ┆ is_restri ┆ is_active │\n",
       "│ ---    ┆ ---       ┆ ---        ┆ ---       ┆   ┆ record_sta ┆ _record_e ┆ cted      ┆ ---       │\n",
       "│ u32    ┆ str       ┆ str        ┆ f64       ┆   ┆ rt         ┆ nd        ┆ ---       ┆ bool      │\n",
       "│        ┆           ┆            ┆           ┆   ┆ ---        ┆ ---       ┆ bool      ┆           │\n",
       "│        ┆           ┆            ┆           ┆   ┆ datetime[μ ┆ datetime[ ┆           ┆           │\n",
       "│        ┆           ┆            ┆           ┆   ┆ s, UTC]    ┆ μs, UTC]  ┆           ┆           │\n",
       "╞════════╪═══════════╪════════════╪═══════════╪═══╪════════════╪═══════════╪═══════════╪═══════════╡\n",
       "│ 276    ┆ KMRY      ┆ Monterey   ┆ 167.0     ┆ … ┆ 1997-04-12 ┆ 2024-09-1 ┆ false     ┆ true      │\n",
       "│        ┆           ┆ Regional   ┆           ┆   ┆ 00:00:00   ┆ 4         ┆           ┆           │\n",
       "│        ┆           ┆ Airport    ┆           ┆   ┆ UTC        ┆ 05:35:00  ┆           ┆           │\n",
       "│        ┆           ┆            ┆           ┆   ┆            ┆ UTC       ┆           ┆           │\n",
       "│ 2478   ┆ DMB       ┆ BAMI1      ┆ 26.0      ┆ … ┆ 2000-05-07 ┆ 2003-02-0 ┆ false     ┆ false     │\n",
       "│        ┆           ┆            ┆           ┆   ┆ 00:00:00   ┆ 6         ┆           ┆           │\n",
       "│        ┆           ┆            ┆           ┆   ┆ UTC        ┆ 21:50:00  ┆           ┆           │\n",
       "│        ┆           ┆            ┆           ┆   ┆            ┆ UTC       ┆           ┆           │\n",
       "│ 2489   ┆ MBA       ┆ BAMI12     ┆ 75.0      ┆ … ┆ 2000-05-07 ┆ 2003-02-0 ┆ false     ┆ false     │\n",
       "│        ┆           ┆            ┆           ┆   ┆ 00:00:00   ┆ 6         ┆           ┆           │\n",
       "│        ┆           ┆            ┆           ┆   ┆ UTC        ┆ 20:50:00  ┆           ┆           │\n",
       "│        ┆           ┆            ┆           ┆   ┆            ┆ UTC       ┆           ┆           │\n",
       "│ 3619   ┆ RTGC1     ┆ FORT ORD   ┆ 490.0     ┆ … ┆ 2001-10-11 ┆ 2012-10-3 ┆ false     ┆ false     │\n",
       "│        ┆           ┆ #2         ┆           ┆   ┆ 00:00:00   ┆ 1         ┆           ┆           │\n",
       "│        ┆           ┆            ┆           ┆   ┆ UTC        ┆ 03:34:00  ┆           ┆           │\n",
       "│        ┆           ┆            ┆           ┆   ┆            ┆ UTC       ┆           ┆           │\n",
       "│ 18515  ┆ CMEC1     ┆ CARMEL     ┆ 45.0      ┆ … ┆ 2006-12-16 ┆ 2007-12-2 ┆ false     ┆ false     │\n",
       "│        ┆           ┆ RIVER NEAR ┆           ┆   ┆ 00:00:00   ┆ 8         ┆           ┆           │\n",
       "│        ┆           ┆ CARMEL 3E  ┆           ┆   ┆ UTC        ┆ 18:15:00  ┆           ┆           │\n",
       "│        ┆           ┆            ┆           ┆   ┆            ┆ UTC       ┆           ┆           │\n",
       "│ …      ┆ …         ┆ …          ┆ …         ┆ … ┆ …          ┆ …         ┆ …         ┆ …         │\n",
       "│ 155497 ┆ 026PG     ┆ Parker     ┆ 436.0     ┆ … ┆ 2020-08-25 ┆ 2024-09-1 ┆ false     ┆ true      │\n",
       "│        ┆           ┆ Flats      ┆           ┆   ┆ 03:14:00   ┆ 4         ┆           ┆           │\n",
       "│        ┆           ┆ Cutoff     ┆           ┆   ┆ UTC        ┆ 05:40:00  ┆           ┆           │\n",
       "│        ┆           ┆            ┆           ┆   ┆            ┆ UTC       ┆           ┆           │\n",
       "│ 166603 ┆ G0246     ┆ GW0246     ┆ 314.0     ┆ … ┆ 2021-07-26 ┆ 2024-09-1 ┆ false     ┆ true      │\n",
       "│        ┆           ┆ Monterey   ┆           ┆   ┆ 22:09:00   ┆ 4         ┆           ┆           │\n",
       "│        ┆           ┆            ┆           ┆   ┆ UTC        ┆ 05:36:00  ┆           ┆           │\n",
       "│        ┆           ┆            ┆           ┆   ┆            ┆ UTC       ┆           ┆           │\n",
       "│ 236415 ┆ NDBC46240 ┆ CABRILLO   ┆ 0.0       ┆ … ┆ 2024-04-25 ┆ 2024-09-1 ┆ false     ┆ true      │\n",
       "│        ┆           ┆ POINT,     ┆           ┆   ┆ 11:26:00   ┆ 4         ┆           ┆           │\n",
       "│        ┆           ┆ MONTEREY   ┆           ┆   ┆ UTC        ┆ 04:56:00  ┆           ┆           │\n",
       "│        ┆           ┆ BAY, …     ┆           ┆   ┆            ┆ UTC       ┆           ┆           │\n",
       "│ 236973 ┆ NDBCMEYC1 ┆ 9413450 -  ┆ 7.87      ┆ … ┆ 2024-04-27 ┆ 2024-09-1 ┆ false     ┆ true      │\n",
       "│        ┆           ┆ MONTEREY,  ┆           ┆   ┆ 21:36:00   ┆ 4         ┆           ┆           │\n",
       "│        ┆           ┆ CA         ┆           ┆   ┆ UTC        ┆ 04:36:00  ┆           ┆           │\n",
       "│        ┆           ┆            ┆           ┆   ┆            ┆ UTC       ┆           ┆           │\n",
       "│ 237006 ┆ NDBCMYXC1 ┆ MONTERREY, ┆ null      ┆ … ┆ null       ┆ null      ┆ false     ┆ false     │\n",
       "│        ┆           ┆ CA         ┆           ┆   ┆            ┆           ┆           ┆           │\n",
       "└────────┴───────────┴────────────┴───────────┴───┴────────────┴───────────┴───────────┴───────────┘"
      ]
     },
     "execution_count": 11,
     "metadata": {},
     "output_type": "execute_result"
    }
   ],
   "source": [
    "synoptic.Metadata(radius=\"kmry,5\").df"
   ]
  },
  {
   "cell_type": "markdown",
   "metadata": {},
   "source": [
    "## What if I don't know Polars? I'm sticking with Pandas.\n",
    "Converting a Polars DataFarme to and Pandas DataFrame is simple. Just use `df.to_pandas()` and you got it!"
   ]
  },
  {
   "cell_type": "code",
   "execution_count": 12,
   "metadata": {},
   "outputs": [
    {
     "name": "stdout",
     "output_type": "stream",
     "text": [
      "🚚💨 Speedy delivery from Synoptic metadata service.\n",
      "📦 Received data from 34 stations.\n",
      "Right now I'm a <class 'polars.dataframe.frame.DataFrame'>\n",
      "Now I'm a <class 'pandas.core.frame.DataFrame'>\n"
     ]
    }
   ],
   "source": [
    "df = synoptic.Metadata(radius=\"kmry,5\").df\n",
    "print(\"Right now I'm a\", type(df))\n",
    "\n",
    "df = df.to_pandas()\n",
    "print(\"Now I'm a\", type(df))\n"
   ]
  }
 ],
 "metadata": {
  "kernelspec": {
   "display_name": "synoptic",
   "language": "python",
   "name": "python3"
  },
  "language_info": {
   "codemirror_mode": {
    "name": "ipython",
    "version": 3
   },
   "file_extension": ".py",
   "mimetype": "text/x-python",
   "name": "python",
   "nbconvert_exporter": "python",
   "pygments_lexer": "ipython3",
   "version": "3.12.5"
  }
 },
 "nbformat": 4,
 "nbformat_minor": 2
}
