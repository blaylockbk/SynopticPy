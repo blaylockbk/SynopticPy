{
 "cells": [
  {
   "cell_type": "markdown",
   "metadata": {},
   "source": [
    "# ⏲️ Convert to local time zone\n",
    "\n",
    "SynotpicPy always parses date-time information as **UTC**. But you can convert it to the stations local timezone. "
   ]
  },
  {
   "cell_type": "code",
   "execution_count": 1,
   "metadata": {},
   "outputs": [],
   "source": [
    "from datetime import datetime\n",
    "\n",
    "import polars as pl\n",
    "import polars.selectors as cs\n",
    "\n",
    "import synoptic"
   ]
  },
  {
   "cell_type": "markdown",
   "metadata": {},
   "source": [
    "## Single time zone\n",
    "If there is only one unique timezone, this conversion is straightforward..."
   ]
  },
  {
   "cell_type": "code",
   "execution_count": 2,
   "metadata": {},
   "outputs": [
    {
     "name": "stderr",
     "output_type": "stream",
     "text": [
      "/home/blaylock/GITHUB/SynopticPy/src/synoptic/params.py:168: UserWarning: The 'obtimezone' key is ignored by SynopticPy.\n",
      "  warnings.warn(f\"The '{key}' key is ignored by SynopticPy.\", UserWarning)\n"
     ]
    },
    {
     "name": "stdout",
     "output_type": "stream",
     "text": [
      "🚚💨 Speedy delivery from Synoptic's \u001b[32mtimeseries\u001b[0m service.\n",
      "📦 Received data from \u001b[36m1\u001b[0m stations (0.38 seconds).\n"
     ]
    },
    {
     "data": {
      "text/html": [
       "<div><style>\n",
       ".dataframe > thead > tr,\n",
       ".dataframe > tbody > tr {\n",
       "  text-align: right;\n",
       "  white-space: pre-wrap;\n",
       "}\n",
       "</style>\n",
       "<small>shape: (5, 21)</small><table border=\"1\" class=\"dataframe\"><thead><tr><th>stid</th><th>date_time</th><th>variable</th><th>sensor_index</th><th>is_derived</th><th>value</th><th>units</th><th>id</th><th>name</th><th>elevation</th><th>latitude</th><th>longitude</th><th>mnet_id</th><th>state</th><th>timezone</th><th>elev_dem</th><th>period_of_record_start</th><th>period_of_record_end</th><th>qc_flagged</th><th>is_restricted</th><th>is_active</th></tr><tr><td>str</td><td>datetime[μs, UTC]</td><td>str</td><td>u32</td><td>bool</td><td>f64</td><td>str</td><td>u32</td><td>str</td><td>f64</td><td>f64</td><td>f64</td><td>u32</td><td>str</td><td>str</td><td>f64</td><td>datetime[μs, UTC]</td><td>datetime[μs, UTC]</td><td>bool</td><td>bool</td><td>bool</td></tr></thead><tbody><tr><td>&quot;WBB&quot;</td><td>2024-01-01 00:00:00 UTC</td><td>&quot;air_temp&quot;</td><td>1</td><td>false</td><td>4.194</td><td>&quot;Celsius&quot;</td><td>1</td><td>&quot;U of U William Browning Buildi…</td><td>4806.0</td><td>40.76623</td><td>-111.84755</td><td>153</td><td>&quot;UT&quot;</td><td>&quot;America/Denver&quot;</td><td>4727.7</td><td>1997-01-01 00:00:00 UTC</td><td>2024-12-03 05:10:00 UTC</td><td>false</td><td>false</td><td>true</td></tr><tr><td>&quot;WBB&quot;</td><td>2024-01-01 00:01:00 UTC</td><td>&quot;air_temp&quot;</td><td>1</td><td>false</td><td>4.083</td><td>&quot;Celsius&quot;</td><td>1</td><td>&quot;U of U William Browning Buildi…</td><td>4806.0</td><td>40.76623</td><td>-111.84755</td><td>153</td><td>&quot;UT&quot;</td><td>&quot;America/Denver&quot;</td><td>4727.7</td><td>1997-01-01 00:00:00 UTC</td><td>2024-12-03 05:10:00 UTC</td><td>false</td><td>false</td><td>true</td></tr><tr><td>&quot;WBB&quot;</td><td>2024-01-01 00:02:00 UTC</td><td>&quot;air_temp&quot;</td><td>1</td><td>false</td><td>3.983</td><td>&quot;Celsius&quot;</td><td>1</td><td>&quot;U of U William Browning Buildi…</td><td>4806.0</td><td>40.76623</td><td>-111.84755</td><td>153</td><td>&quot;UT&quot;</td><td>&quot;America/Denver&quot;</td><td>4727.7</td><td>1997-01-01 00:00:00 UTC</td><td>2024-12-03 05:10:00 UTC</td><td>false</td><td>false</td><td>true</td></tr><tr><td>&quot;WBB&quot;</td><td>2024-01-01 00:03:00 UTC</td><td>&quot;air_temp&quot;</td><td>1</td><td>false</td><td>3.928</td><td>&quot;Celsius&quot;</td><td>1</td><td>&quot;U of U William Browning Buildi…</td><td>4806.0</td><td>40.76623</td><td>-111.84755</td><td>153</td><td>&quot;UT&quot;</td><td>&quot;America/Denver&quot;</td><td>4727.7</td><td>1997-01-01 00:00:00 UTC</td><td>2024-12-03 05:10:00 UTC</td><td>false</td><td>false</td><td>true</td></tr><tr><td>&quot;WBB&quot;</td><td>2024-01-01 00:04:00 UTC</td><td>&quot;air_temp&quot;</td><td>1</td><td>false</td><td>3.894</td><td>&quot;Celsius&quot;</td><td>1</td><td>&quot;U of U William Browning Buildi…</td><td>4806.0</td><td>40.76623</td><td>-111.84755</td><td>153</td><td>&quot;UT&quot;</td><td>&quot;America/Denver&quot;</td><td>4727.7</td><td>1997-01-01 00:00:00 UTC</td><td>2024-12-03 05:10:00 UTC</td><td>false</td><td>false</td><td>true</td></tr></tbody></table></div>"
      ],
      "text/plain": [
       "shape: (5, 21)\n",
       "┌──────┬────────────┬──────────┬────────────┬───┬────────────┬────────────┬────────────┬───────────┐\n",
       "│ stid ┆ date_time  ┆ variable ┆ sensor_ind ┆ … ┆ period_of_ ┆ qc_flagged ┆ is_restric ┆ is_active │\n",
       "│ ---  ┆ ---        ┆ ---      ┆ ex         ┆   ┆ record_end ┆ ---        ┆ ted        ┆ ---       │\n",
       "│ str  ┆ datetime[μ ┆ str      ┆ ---        ┆   ┆ ---        ┆ bool       ┆ ---        ┆ bool      │\n",
       "│      ┆ s, UTC]    ┆          ┆ u32        ┆   ┆ datetime[μ ┆            ┆ bool       ┆           │\n",
       "│      ┆            ┆          ┆            ┆   ┆ s, UTC]    ┆            ┆            ┆           │\n",
       "╞══════╪════════════╪══════════╪════════════╪═══╪════════════╪════════════╪════════════╪═══════════╡\n",
       "│ WBB  ┆ 2024-01-01 ┆ air_temp ┆ 1          ┆ … ┆ 2024-12-03 ┆ false      ┆ false      ┆ true      │\n",
       "│      ┆ 00:00:00   ┆          ┆            ┆   ┆ 05:10:00   ┆            ┆            ┆           │\n",
       "│      ┆ UTC        ┆          ┆            ┆   ┆ UTC        ┆            ┆            ┆           │\n",
       "│ WBB  ┆ 2024-01-01 ┆ air_temp ┆ 1          ┆ … ┆ 2024-12-03 ┆ false      ┆ false      ┆ true      │\n",
       "│      ┆ 00:01:00   ┆          ┆            ┆   ┆ 05:10:00   ┆            ┆            ┆           │\n",
       "│      ┆ UTC        ┆          ┆            ┆   ┆ UTC        ┆            ┆            ┆           │\n",
       "│ WBB  ┆ 2024-01-01 ┆ air_temp ┆ 1          ┆ … ┆ 2024-12-03 ┆ false      ┆ false      ┆ true      │\n",
       "│      ┆ 00:02:00   ┆          ┆            ┆   ┆ 05:10:00   ┆            ┆            ┆           │\n",
       "│      ┆ UTC        ┆          ┆            ┆   ┆ UTC        ┆            ┆            ┆           │\n",
       "│ WBB  ┆ 2024-01-01 ┆ air_temp ┆ 1          ┆ … ┆ 2024-12-03 ┆ false      ┆ false      ┆ true      │\n",
       "│      ┆ 00:03:00   ┆          ┆            ┆   ┆ 05:10:00   ┆            ┆            ┆           │\n",
       "│      ┆ UTC        ┆          ┆            ┆   ┆ UTC        ┆            ┆            ┆           │\n",
       "│ WBB  ┆ 2024-01-01 ┆ air_temp ┆ 1          ┆ … ┆ 2024-12-03 ┆ false      ┆ false      ┆ true      │\n",
       "│      ┆ 00:04:00   ┆          ┆            ┆   ┆ 05:10:00   ┆            ┆            ┆           │\n",
       "│      ┆ UTC        ┆          ┆            ┆   ┆ UTC        ┆            ┆            ┆           │\n",
       "└──────┴────────────┴──────────┴────────────┴───┴────────────┴────────────┴────────────┴───────────┘"
      ]
     },
     "execution_count": 2,
     "metadata": {},
     "output_type": "execute_result"
    }
   ],
   "source": [
    "df = synoptic.TimeSeries(\n",
    "    stid=\"wbb\",\n",
    "    start=datetime(2024, 1, 1),\n",
    "    end=datetime(2024, 1, 5),\n",
    "    obtimezone=\"local\",\n",
    "    vars=[\"air_temp\"],\n",
    ").df()\n",
    "df.head()"
   ]
  },
  {
   "cell_type": "code",
   "execution_count": 3,
   "metadata": {},
   "outputs": [
    {
     "data": {
      "text/html": [
       "<div><style>\n",
       ".dataframe > thead > tr,\n",
       ".dataframe > tbody > tr {\n",
       "  text-align: right;\n",
       "  white-space: pre-wrap;\n",
       "}\n",
       "</style>\n",
       "<small>shape: (5, 21)</small><table border=\"1\" class=\"dataframe\"><thead><tr><th>stid</th><th>date_time</th><th>variable</th><th>sensor_index</th><th>is_derived</th><th>value</th><th>units</th><th>id</th><th>name</th><th>elevation</th><th>latitude</th><th>longitude</th><th>mnet_id</th><th>state</th><th>timezone</th><th>elev_dem</th><th>period_of_record_start</th><th>period_of_record_end</th><th>qc_flagged</th><th>is_restricted</th><th>is_active</th></tr><tr><td>str</td><td>datetime[μs, America/Denver]</td><td>str</td><td>u32</td><td>bool</td><td>f64</td><td>str</td><td>u32</td><td>str</td><td>f64</td><td>f64</td><td>f64</td><td>u32</td><td>str</td><td>str</td><td>f64</td><td>datetime[μs, America/Denver]</td><td>datetime[μs, America/Denver]</td><td>bool</td><td>bool</td><td>bool</td></tr></thead><tbody><tr><td>&quot;WBB&quot;</td><td>2023-12-31 17:00:00 MST</td><td>&quot;air_temp&quot;</td><td>1</td><td>false</td><td>4.194</td><td>&quot;Celsius&quot;</td><td>1</td><td>&quot;U of U William Browning Buildi…</td><td>4806.0</td><td>40.76623</td><td>-111.84755</td><td>153</td><td>&quot;UT&quot;</td><td>&quot;America/Denver&quot;</td><td>4727.7</td><td>1996-12-31 17:00:00 MST</td><td>2024-12-02 22:10:00 MST</td><td>false</td><td>false</td><td>true</td></tr><tr><td>&quot;WBB&quot;</td><td>2023-12-31 17:01:00 MST</td><td>&quot;air_temp&quot;</td><td>1</td><td>false</td><td>4.083</td><td>&quot;Celsius&quot;</td><td>1</td><td>&quot;U of U William Browning Buildi…</td><td>4806.0</td><td>40.76623</td><td>-111.84755</td><td>153</td><td>&quot;UT&quot;</td><td>&quot;America/Denver&quot;</td><td>4727.7</td><td>1996-12-31 17:00:00 MST</td><td>2024-12-02 22:10:00 MST</td><td>false</td><td>false</td><td>true</td></tr><tr><td>&quot;WBB&quot;</td><td>2023-12-31 17:02:00 MST</td><td>&quot;air_temp&quot;</td><td>1</td><td>false</td><td>3.983</td><td>&quot;Celsius&quot;</td><td>1</td><td>&quot;U of U William Browning Buildi…</td><td>4806.0</td><td>40.76623</td><td>-111.84755</td><td>153</td><td>&quot;UT&quot;</td><td>&quot;America/Denver&quot;</td><td>4727.7</td><td>1996-12-31 17:00:00 MST</td><td>2024-12-02 22:10:00 MST</td><td>false</td><td>false</td><td>true</td></tr><tr><td>&quot;WBB&quot;</td><td>2023-12-31 17:03:00 MST</td><td>&quot;air_temp&quot;</td><td>1</td><td>false</td><td>3.928</td><td>&quot;Celsius&quot;</td><td>1</td><td>&quot;U of U William Browning Buildi…</td><td>4806.0</td><td>40.76623</td><td>-111.84755</td><td>153</td><td>&quot;UT&quot;</td><td>&quot;America/Denver&quot;</td><td>4727.7</td><td>1996-12-31 17:00:00 MST</td><td>2024-12-02 22:10:00 MST</td><td>false</td><td>false</td><td>true</td></tr><tr><td>&quot;WBB&quot;</td><td>2023-12-31 17:04:00 MST</td><td>&quot;air_temp&quot;</td><td>1</td><td>false</td><td>3.894</td><td>&quot;Celsius&quot;</td><td>1</td><td>&quot;U of U William Browning Buildi…</td><td>4806.0</td><td>40.76623</td><td>-111.84755</td><td>153</td><td>&quot;UT&quot;</td><td>&quot;America/Denver&quot;</td><td>4727.7</td><td>1996-12-31 17:00:00 MST</td><td>2024-12-02 22:10:00 MST</td><td>false</td><td>false</td><td>true</td></tr></tbody></table></div>"
      ],
      "text/plain": [
       "shape: (5, 21)\n",
       "┌──────┬────────────┬──────────┬────────────┬───┬────────────┬────────────┬────────────┬───────────┐\n",
       "│ stid ┆ date_time  ┆ variable ┆ sensor_ind ┆ … ┆ period_of_ ┆ qc_flagged ┆ is_restric ┆ is_active │\n",
       "│ ---  ┆ ---        ┆ ---      ┆ ex         ┆   ┆ record_end ┆ ---        ┆ ted        ┆ ---       │\n",
       "│ str  ┆ datetime[μ ┆ str      ┆ ---        ┆   ┆ ---        ┆ bool       ┆ ---        ┆ bool      │\n",
       "│      ┆ s, America ┆          ┆ u32        ┆   ┆ datetime[μ ┆            ┆ bool       ┆           │\n",
       "│      ┆ /Denver]   ┆          ┆            ┆   ┆ s, America ┆            ┆            ┆           │\n",
       "│      ┆            ┆          ┆            ┆   ┆ /Denver]   ┆            ┆            ┆           │\n",
       "╞══════╪════════════╪══════════╪════════════╪═══╪════════════╪════════════╪════════════╪═══════════╡\n",
       "│ WBB  ┆ 2023-12-31 ┆ air_temp ┆ 1          ┆ … ┆ 2024-12-02 ┆ false      ┆ false      ┆ true      │\n",
       "│      ┆ 17:00:00   ┆          ┆            ┆   ┆ 22:10:00   ┆            ┆            ┆           │\n",
       "│      ┆ MST        ┆          ┆            ┆   ┆ MST        ┆            ┆            ┆           │\n",
       "│ WBB  ┆ 2023-12-31 ┆ air_temp ┆ 1          ┆ … ┆ 2024-12-02 ┆ false      ┆ false      ┆ true      │\n",
       "│      ┆ 17:01:00   ┆          ┆            ┆   ┆ 22:10:00   ┆            ┆            ┆           │\n",
       "│      ┆ MST        ┆          ┆            ┆   ┆ MST        ┆            ┆            ┆           │\n",
       "│ WBB  ┆ 2023-12-31 ┆ air_temp ┆ 1          ┆ … ┆ 2024-12-02 ┆ false      ┆ false      ┆ true      │\n",
       "│      ┆ 17:02:00   ┆          ┆            ┆   ┆ 22:10:00   ┆            ┆            ┆           │\n",
       "│      ┆ MST        ┆          ┆            ┆   ┆ MST        ┆            ┆            ┆           │\n",
       "│ WBB  ┆ 2023-12-31 ┆ air_temp ┆ 1          ┆ … ┆ 2024-12-02 ┆ false      ┆ false      ┆ true      │\n",
       "│      ┆ 17:03:00   ┆          ┆            ┆   ┆ 22:10:00   ┆            ┆            ┆           │\n",
       "│      ┆ MST        ┆          ┆            ┆   ┆ MST        ┆            ┆            ┆           │\n",
       "│ WBB  ┆ 2023-12-31 ┆ air_temp ┆ 1          ┆ … ┆ 2024-12-02 ┆ false      ┆ false      ┆ true      │\n",
       "│      ┆ 17:04:00   ┆          ┆            ┆   ┆ 22:10:00   ┆            ┆            ┆           │\n",
       "│      ┆ MST        ┆          ┆            ┆   ┆ MST        ┆            ┆            ┆           │\n",
       "└──────┴────────────┴──────────┴────────────┴───┴────────────┴────────────┴────────────┴───────────┘"
      ]
     },
     "execution_count": 3,
     "metadata": {},
     "output_type": "execute_result"
    }
   ],
   "source": [
    "# Get the unique timezone value\n",
    "tz = df[\"timezone\"].unique().item()\n",
    "\n",
    "# Convert all datetime columns to the time zone.\n",
    "df.with_columns(cs.datetime().dt.convert_time_zone(tz)).head()"
   ]
  },
  {
   "cell_type": "markdown",
   "metadata": {},
   "source": [
    "## Multiple time zones\n",
    "\n",
    "If your stations span mulitiple time zones, you'll have to partition the DataFrame by timezone. Notice that this produces a list of DataFrames with a DataFrame for each timezone."
   ]
  },
  {
   "cell_type": "code",
   "execution_count": 4,
   "metadata": {},
   "outputs": [
    {
     "name": "stdout",
     "output_type": "stream",
     "text": [
      "🚚💨 Speedy delivery from Synoptic's \u001b[32mtimeseries\u001b[0m service.\n"
     ]
    },
    {
     "name": "stdout",
     "output_type": "stream",
     "text": [
      "📦 Received data from \u001b[36m2\u001b[0m stations (0.21 seconds).\n"
     ]
    },
    {
     "data": {
      "text/plain": [
       "{'America/Denver': shape: (1_292, 21)\n",
       " ┌──────┬────────────┬──────────┬────────────┬───┬────────────┬────────────┬────────────┬───────────┐\n",
       " │ stid ┆ date_time  ┆ variable ┆ sensor_ind ┆ … ┆ period_of_ ┆ qc_flagged ┆ is_restric ┆ is_active │\n",
       " │ ---  ┆ ---        ┆ ---      ┆ ex         ┆   ┆ record_end ┆ ---        ┆ ted        ┆ ---       │\n",
       " │ str  ┆ datetime[μ ┆ str      ┆ ---        ┆   ┆ ---        ┆ bool       ┆ ---        ┆ bool      │\n",
       " │      ┆ s, America ┆          ┆ u32        ┆   ┆ datetime[μ ┆            ┆ bool       ┆           │\n",
       " │      ┆ /Denver]   ┆          ┆            ┆   ┆ s, America ┆            ┆            ┆           │\n",
       " │      ┆            ┆          ┆            ┆   ┆ /Denver]   ┆            ┆            ┆           │\n",
       " ╞══════╪════════════╪══════════╪════════════╪═══╪════════════╪════════════╪════════════╪═══════════╡\n",
       " │ KSLC ┆ 2023-12-31 ┆ air_temp ┆ 1          ┆ … ┆ 2024-12-02 ┆ false      ┆ false      ┆ true      │\n",
       " │      ┆ 17:00:00   ┆          ┆            ┆   ┆ 22:00:00   ┆            ┆            ┆           │\n",
       " │      ┆ MST        ┆          ┆            ┆   ┆ MST        ┆            ┆            ┆           │\n",
       " │ KSLC ┆ 2023-12-31 ┆ air_temp ┆ 1          ┆ … ┆ 2024-12-02 ┆ false      ┆ false      ┆ true      │\n",
       " │      ┆ 17:05:00   ┆          ┆            ┆   ┆ 22:00:00   ┆            ┆            ┆           │\n",
       " │      ┆ MST        ┆          ┆            ┆   ┆ MST        ┆            ┆            ┆           │\n",
       " │ KSLC ┆ 2023-12-31 ┆ air_temp ┆ 1          ┆ … ┆ 2024-12-02 ┆ false      ┆ false      ┆ true      │\n",
       " │      ┆ 17:10:00   ┆          ┆            ┆   ┆ 22:00:00   ┆            ┆            ┆           │\n",
       " │      ┆ MST        ┆          ┆            ┆   ┆ MST        ┆            ┆            ┆           │\n",
       " │ KSLC ┆ 2023-12-31 ┆ air_temp ┆ 1          ┆ … ┆ 2024-12-02 ┆ false      ┆ false      ┆ true      │\n",
       " │      ┆ 17:15:00   ┆          ┆            ┆   ┆ 22:00:00   ┆            ┆            ┆           │\n",
       " │      ┆ MST        ┆          ┆            ┆   ┆ MST        ┆            ┆            ┆           │\n",
       " │ KSLC ┆ 2023-12-31 ┆ air_temp ┆ 1          ┆ … ┆ 2024-12-02 ┆ false      ┆ false      ┆ true      │\n",
       " │      ┆ 17:20:00   ┆          ┆            ┆   ┆ 22:00:00   ┆            ┆            ┆           │\n",
       " │      ┆ MST        ┆          ┆            ┆   ┆ MST        ┆            ┆            ┆           │\n",
       " │ …    ┆ …          ┆ …        ┆ …          ┆ … ┆ …          ┆ …          ┆ …          ┆ …         │\n",
       " │ KSLC ┆ 2024-01-04 ┆ air_temp ┆ 1          ┆ … ┆ 2024-12-02 ┆ false      ┆ false      ┆ true      │\n",
       " │      ┆ 16:45:00   ┆          ┆            ┆   ┆ 22:00:00   ┆            ┆            ┆           │\n",
       " │      ┆ MST        ┆          ┆            ┆   ┆ MST        ┆            ┆            ┆           │\n",
       " │ KSLC ┆ 2024-01-04 ┆ air_temp ┆ 1          ┆ … ┆ 2024-12-02 ┆ false      ┆ false      ┆ true      │\n",
       " │      ┆ 16:50:00   ┆          ┆            ┆   ┆ 22:00:00   ┆            ┆            ┆           │\n",
       " │      ┆ MST        ┆          ┆            ┆   ┆ MST        ┆            ┆            ┆           │\n",
       " │ KSLC ┆ 2024-01-04 ┆ air_temp ┆ 1          ┆ … ┆ 2024-12-02 ┆ false      ┆ false      ┆ true      │\n",
       " │      ┆ 16:54:00   ┆          ┆            ┆   ┆ 22:00:00   ┆            ┆            ┆           │\n",
       " │      ┆ MST        ┆          ┆            ┆   ┆ MST        ┆            ┆            ┆           │\n",
       " │ KSLC ┆ 2024-01-04 ┆ air_temp ┆ 1          ┆ … ┆ 2024-12-02 ┆ false      ┆ false      ┆ true      │\n",
       " │      ┆ 16:55:00   ┆          ┆            ┆   ┆ 22:00:00   ┆            ┆            ┆           │\n",
       " │      ┆ MST        ┆          ┆            ┆   ┆ MST        ┆            ┆            ┆           │\n",
       " │ KSLC ┆ 2024-01-04 ┆ air_temp ┆ 1          ┆ … ┆ 2024-12-02 ┆ false      ┆ false      ┆ true      │\n",
       " │      ┆ 17:00:00   ┆          ┆            ┆   ┆ 22:00:00   ┆            ┆            ┆           │\n",
       " │      ┆ MST        ┆          ┆            ┆   ┆ MST        ┆            ┆            ┆           │\n",
       " └──────┴────────────┴──────────┴────────────┴───┴────────────┴────────────┴────────────┴───────────┘,\n",
       " 'America/Los_Angeles': shape: (1_219, 21)\n",
       " ┌──────┬────────────┬──────────┬────────────┬───┬────────────┬────────────┬────────────┬───────────┐\n",
       " │ stid ┆ date_time  ┆ variable ┆ sensor_ind ┆ … ┆ period_of_ ┆ qc_flagged ┆ is_restric ┆ is_active │\n",
       " │ ---  ┆ ---        ┆ ---      ┆ ex         ┆   ┆ record_end ┆ ---        ┆ ted        ┆ ---       │\n",
       " │ str  ┆ datetime[μ ┆ str      ┆ ---        ┆   ┆ ---        ┆ bool       ┆ ---        ┆ bool      │\n",
       " │      ┆ s, America ┆          ┆ u32        ┆   ┆ datetime[μ ┆            ┆ bool       ┆           │\n",
       " │      ┆ /Los_Angel ┆          ┆            ┆   ┆ s, America ┆            ┆            ┆           │\n",
       " │      ┆ es]        ┆          ┆            ┆   ┆ /Los_Angel ┆            ┆            ┆           │\n",
       " │      ┆            ┆          ┆            ┆   ┆ es]        ┆            ┆            ┆           │\n",
       " ╞══════╪════════════╪══════════╪════════════╪═══╪════════════╪════════════╪════════════╪═══════════╡\n",
       " │ KMRY ┆ 2023-12-31 ┆ air_temp ┆ 1          ┆ … ┆ 2024-12-02 ┆ false      ┆ false      ┆ true      │\n",
       " │      ┆ 16:00:00   ┆          ┆            ┆   ┆ 21:00:00   ┆            ┆            ┆           │\n",
       " │      ┆ PST        ┆          ┆            ┆   ┆ PST        ┆            ┆            ┆           │\n",
       " │ KMRY ┆ 2023-12-31 ┆ air_temp ┆ 1          ┆ … ┆ 2024-12-02 ┆ false      ┆ false      ┆ true      │\n",
       " │      ┆ 16:05:00   ┆          ┆            ┆   ┆ 21:00:00   ┆            ┆            ┆           │\n",
       " │      ┆ PST        ┆          ┆            ┆   ┆ PST        ┆            ┆            ┆           │\n",
       " │ KMRY ┆ 2023-12-31 ┆ air_temp ┆ 1          ┆ … ┆ 2024-12-02 ┆ false      ┆ false      ┆ true      │\n",
       " │      ┆ 16:10:00   ┆          ┆            ┆   ┆ 21:00:00   ┆            ┆            ┆           │\n",
       " │      ┆ PST        ┆          ┆            ┆   ┆ PST        ┆            ┆            ┆           │\n",
       " │ KMRY ┆ 2023-12-31 ┆ air_temp ┆ 1          ┆ … ┆ 2024-12-02 ┆ false      ┆ false      ┆ true      │\n",
       " │      ┆ 16:15:00   ┆          ┆            ┆   ┆ 21:00:00   ┆            ┆            ┆           │\n",
       " │      ┆ PST        ┆          ┆            ┆   ┆ PST        ┆            ┆            ┆           │\n",
       " │ KMRY ┆ 2023-12-31 ┆ air_temp ┆ 1          ┆ … ┆ 2024-12-02 ┆ false      ┆ false      ┆ true      │\n",
       " │      ┆ 16:20:00   ┆          ┆            ┆   ┆ 21:00:00   ┆            ┆            ┆           │\n",
       " │      ┆ PST        ┆          ┆            ┆   ┆ PST        ┆            ┆            ┆           │\n",
       " │ …    ┆ …          ┆ …        ┆ …          ┆ … ┆ …          ┆ …          ┆ …          ┆ …         │\n",
       " │ KMRY ┆ 2024-01-04 ┆ air_temp ┆ 1          ┆ … ┆ 2024-12-02 ┆ false      ┆ false      ┆ true      │\n",
       " │      ┆ 15:40:00   ┆          ┆            ┆   ┆ 21:00:00   ┆            ┆            ┆           │\n",
       " │      ┆ PST        ┆          ┆            ┆   ┆ PST        ┆            ┆            ┆           │\n",
       " │ KMRY ┆ 2024-01-04 ┆ air_temp ┆ 1          ┆ … ┆ 2024-12-02 ┆ false      ┆ false      ┆ true      │\n",
       " │      ┆ 15:45:00   ┆          ┆            ┆   ┆ 21:00:00   ┆            ┆            ┆           │\n",
       " │      ┆ PST        ┆          ┆            ┆   ┆ PST        ┆            ┆            ┆           │\n",
       " │ KMRY ┆ 2024-01-04 ┆ air_temp ┆ 1          ┆ … ┆ 2024-12-02 ┆ false      ┆ false      ┆ true      │\n",
       " │      ┆ 15:54:00   ┆          ┆            ┆   ┆ 21:00:00   ┆            ┆            ┆           │\n",
       " │      ┆ PST        ┆          ┆            ┆   ┆ PST        ┆            ┆            ┆           │\n",
       " │ KMRY ┆ 2024-01-04 ┆ air_temp ┆ 1          ┆ … ┆ 2024-12-02 ┆ false      ┆ false      ┆ true      │\n",
       " │      ┆ 15:55:00   ┆          ┆            ┆   ┆ 21:00:00   ┆            ┆            ┆           │\n",
       " │      ┆ PST        ┆          ┆            ┆   ┆ PST        ┆            ┆            ┆           │\n",
       " │ KMRY ┆ 2024-01-04 ┆ air_temp ┆ 1          ┆ … ┆ 2024-12-02 ┆ false      ┆ false      ┆ true      │\n",
       " │      ┆ 16:00:00   ┆          ┆            ┆   ┆ 21:00:00   ┆            ┆            ┆           │\n",
       " │      ┆ PST        ┆          ┆            ┆   ┆ PST        ┆            ┆            ┆           │\n",
       " └──────┴────────────┴──────────┴────────────┴───┴────────────┴────────────┴────────────┴───────────┘}"
      ]
     },
     "execution_count": 4,
     "metadata": {},
     "output_type": "execute_result"
    }
   ],
   "source": [
    "df = synoptic.TimeSeries(\n",
    "    stid=\"kslc,kmry\",\n",
    "    start=datetime(2024, 1, 1),\n",
    "    end=datetime(2024, 1, 5),\n",
    "    obtimezone=\"local\",\n",
    "    vars=[\"air_temp\"],\n",
    ").df()\n",
    "\n",
    "df_tz = {}\n",
    "for i in df.partition_by(\"timezone\"):\n",
    "    tz = i[\"timezone\"].unique().item()\n",
    "\n",
    "    df_tz[tz] = i.with_columns(cs.datetime().dt.convert_time_zone(tz))\n",
    "\n",
    "df_tz"
   ]
  },
  {
   "cell_type": "markdown",
   "metadata": {},
   "source": [
    "## Synoptic Namespace\n",
    "The same is implemented in the `synoptic` namespace; If there is one timezone, then return a DataFrame, if more than one timezone then return a dictionary of DataFrames."
   ]
  },
  {
   "cell_type": "code",
   "execution_count": 5,
   "metadata": {},
   "outputs": [
    {
     "name": "stdout",
     "output_type": "stream",
     "text": [
      "🚚💨 Speedy delivery from Synoptic's \u001b[32mtimeseries\u001b[0m service.\n",
      "📦 Received data from \u001b[36m1\u001b[0m stations (0.30 seconds).\n"
     ]
    },
    {
     "data": {
      "text/html": [
       "<div><style>\n",
       ".dataframe > thead > tr,\n",
       ".dataframe > tbody > tr {\n",
       "  text-align: right;\n",
       "  white-space: pre-wrap;\n",
       "}\n",
       "</style>\n",
       "<small>shape: (5_761, 21)</small><table border=\"1\" class=\"dataframe\"><thead><tr><th>stid</th><th>date_time</th><th>variable</th><th>sensor_index</th><th>is_derived</th><th>value</th><th>units</th><th>id</th><th>name</th><th>elevation</th><th>latitude</th><th>longitude</th><th>mnet_id</th><th>state</th><th>timezone</th><th>elev_dem</th><th>period_of_record_start</th><th>period_of_record_end</th><th>qc_flagged</th><th>is_restricted</th><th>is_active</th></tr><tr><td>str</td><td>datetime[μs, America/Denver]</td><td>str</td><td>u32</td><td>bool</td><td>f64</td><td>str</td><td>u32</td><td>str</td><td>f64</td><td>f64</td><td>f64</td><td>u32</td><td>str</td><td>str</td><td>f64</td><td>datetime[μs, America/Denver]</td><td>datetime[μs, America/Denver]</td><td>bool</td><td>bool</td><td>bool</td></tr></thead><tbody><tr><td>&quot;WBB&quot;</td><td>2023-12-31 17:00:00 MST</td><td>&quot;air_temp&quot;</td><td>1</td><td>false</td><td>4.194</td><td>&quot;Celsius&quot;</td><td>1</td><td>&quot;U of U William Browning Buildi…</td><td>4806.0</td><td>40.76623</td><td>-111.84755</td><td>153</td><td>&quot;UT&quot;</td><td>&quot;America/Denver&quot;</td><td>4727.7</td><td>1996-12-31 17:00:00 MST</td><td>2024-12-02 22:05:00 MST</td><td>false</td><td>false</td><td>true</td></tr><tr><td>&quot;WBB&quot;</td><td>2023-12-31 17:01:00 MST</td><td>&quot;air_temp&quot;</td><td>1</td><td>false</td><td>4.083</td><td>&quot;Celsius&quot;</td><td>1</td><td>&quot;U of U William Browning Buildi…</td><td>4806.0</td><td>40.76623</td><td>-111.84755</td><td>153</td><td>&quot;UT&quot;</td><td>&quot;America/Denver&quot;</td><td>4727.7</td><td>1996-12-31 17:00:00 MST</td><td>2024-12-02 22:05:00 MST</td><td>false</td><td>false</td><td>true</td></tr><tr><td>&quot;WBB&quot;</td><td>2023-12-31 17:02:00 MST</td><td>&quot;air_temp&quot;</td><td>1</td><td>false</td><td>3.983</td><td>&quot;Celsius&quot;</td><td>1</td><td>&quot;U of U William Browning Buildi…</td><td>4806.0</td><td>40.76623</td><td>-111.84755</td><td>153</td><td>&quot;UT&quot;</td><td>&quot;America/Denver&quot;</td><td>4727.7</td><td>1996-12-31 17:00:00 MST</td><td>2024-12-02 22:05:00 MST</td><td>false</td><td>false</td><td>true</td></tr><tr><td>&quot;WBB&quot;</td><td>2023-12-31 17:03:00 MST</td><td>&quot;air_temp&quot;</td><td>1</td><td>false</td><td>3.928</td><td>&quot;Celsius&quot;</td><td>1</td><td>&quot;U of U William Browning Buildi…</td><td>4806.0</td><td>40.76623</td><td>-111.84755</td><td>153</td><td>&quot;UT&quot;</td><td>&quot;America/Denver&quot;</td><td>4727.7</td><td>1996-12-31 17:00:00 MST</td><td>2024-12-02 22:05:00 MST</td><td>false</td><td>false</td><td>true</td></tr><tr><td>&quot;WBB&quot;</td><td>2023-12-31 17:04:00 MST</td><td>&quot;air_temp&quot;</td><td>1</td><td>false</td><td>3.894</td><td>&quot;Celsius&quot;</td><td>1</td><td>&quot;U of U William Browning Buildi…</td><td>4806.0</td><td>40.76623</td><td>-111.84755</td><td>153</td><td>&quot;UT&quot;</td><td>&quot;America/Denver&quot;</td><td>4727.7</td><td>1996-12-31 17:00:00 MST</td><td>2024-12-02 22:05:00 MST</td><td>false</td><td>false</td><td>true</td></tr><tr><td>&hellip;</td><td>&hellip;</td><td>&hellip;</td><td>&hellip;</td><td>&hellip;</td><td>&hellip;</td><td>&hellip;</td><td>&hellip;</td><td>&hellip;</td><td>&hellip;</td><td>&hellip;</td><td>&hellip;</td><td>&hellip;</td><td>&hellip;</td><td>&hellip;</td><td>&hellip;</td><td>&hellip;</td><td>&hellip;</td><td>&hellip;</td><td>&hellip;</td><td>&hellip;</td></tr><tr><td>&quot;WBB&quot;</td><td>2024-01-04 16:56:00 MST</td><td>&quot;air_temp&quot;</td><td>1</td><td>false</td><td>-0.033</td><td>&quot;Celsius&quot;</td><td>1</td><td>&quot;U of U William Browning Buildi…</td><td>4806.0</td><td>40.76623</td><td>-111.84755</td><td>153</td><td>&quot;UT&quot;</td><td>&quot;America/Denver&quot;</td><td>4727.7</td><td>1996-12-31 17:00:00 MST</td><td>2024-12-02 22:05:00 MST</td><td>false</td><td>false</td><td>true</td></tr><tr><td>&quot;WBB&quot;</td><td>2024-01-04 16:57:00 MST</td><td>&quot;air_temp&quot;</td><td>1</td><td>false</td><td>-0.094</td><td>&quot;Celsius&quot;</td><td>1</td><td>&quot;U of U William Browning Buildi…</td><td>4806.0</td><td>40.76623</td><td>-111.84755</td><td>153</td><td>&quot;UT&quot;</td><td>&quot;America/Denver&quot;</td><td>4727.7</td><td>1996-12-31 17:00:00 MST</td><td>2024-12-02 22:05:00 MST</td><td>false</td><td>false</td><td>true</td></tr><tr><td>&quot;WBB&quot;</td><td>2024-01-04 16:58:00 MST</td><td>&quot;air_temp&quot;</td><td>1</td><td>false</td><td>-0.106</td><td>&quot;Celsius&quot;</td><td>1</td><td>&quot;U of U William Browning Buildi…</td><td>4806.0</td><td>40.76623</td><td>-111.84755</td><td>153</td><td>&quot;UT&quot;</td><td>&quot;America/Denver&quot;</td><td>4727.7</td><td>1996-12-31 17:00:00 MST</td><td>2024-12-02 22:05:00 MST</td><td>false</td><td>false</td><td>true</td></tr><tr><td>&quot;WBB&quot;</td><td>2024-01-04 16:59:00 MST</td><td>&quot;air_temp&quot;</td><td>1</td><td>false</td><td>-0.072</td><td>&quot;Celsius&quot;</td><td>1</td><td>&quot;U of U William Browning Buildi…</td><td>4806.0</td><td>40.76623</td><td>-111.84755</td><td>153</td><td>&quot;UT&quot;</td><td>&quot;America/Denver&quot;</td><td>4727.7</td><td>1996-12-31 17:00:00 MST</td><td>2024-12-02 22:05:00 MST</td><td>false</td><td>false</td><td>true</td></tr><tr><td>&quot;WBB&quot;</td><td>2024-01-04 17:00:00 MST</td><td>&quot;air_temp&quot;</td><td>1</td><td>false</td><td>-0.067</td><td>&quot;Celsius&quot;</td><td>1</td><td>&quot;U of U William Browning Buildi…</td><td>4806.0</td><td>40.76623</td><td>-111.84755</td><td>153</td><td>&quot;UT&quot;</td><td>&quot;America/Denver&quot;</td><td>4727.7</td><td>1996-12-31 17:00:00 MST</td><td>2024-12-02 22:05:00 MST</td><td>false</td><td>false</td><td>true</td></tr></tbody></table></div>"
      ],
      "text/plain": [
       "shape: (5_761, 21)\n",
       "┌──────┬────────────┬──────────┬────────────┬───┬────────────┬────────────┬────────────┬───────────┐\n",
       "│ stid ┆ date_time  ┆ variable ┆ sensor_ind ┆ … ┆ period_of_ ┆ qc_flagged ┆ is_restric ┆ is_active │\n",
       "│ ---  ┆ ---        ┆ ---      ┆ ex         ┆   ┆ record_end ┆ ---        ┆ ted        ┆ ---       │\n",
       "│ str  ┆ datetime[μ ┆ str      ┆ ---        ┆   ┆ ---        ┆ bool       ┆ ---        ┆ bool      │\n",
       "│      ┆ s, America ┆          ┆ u32        ┆   ┆ datetime[μ ┆            ┆ bool       ┆           │\n",
       "│      ┆ /Denver]   ┆          ┆            ┆   ┆ s, America ┆            ┆            ┆           │\n",
       "│      ┆            ┆          ┆            ┆   ┆ /Denver]   ┆            ┆            ┆           │\n",
       "╞══════╪════════════╪══════════╪════════════╪═══╪════════════╪════════════╪════════════╪═══════════╡\n",
       "│ WBB  ┆ 2023-12-31 ┆ air_temp ┆ 1          ┆ … ┆ 2024-12-02 ┆ false      ┆ false      ┆ true      │\n",
       "│      ┆ 17:00:00   ┆          ┆            ┆   ┆ 22:05:00   ┆            ┆            ┆           │\n",
       "│      ┆ MST        ┆          ┆            ┆   ┆ MST        ┆            ┆            ┆           │\n",
       "│ WBB  ┆ 2023-12-31 ┆ air_temp ┆ 1          ┆ … ┆ 2024-12-02 ┆ false      ┆ false      ┆ true      │\n",
       "│      ┆ 17:01:00   ┆          ┆            ┆   ┆ 22:05:00   ┆            ┆            ┆           │\n",
       "│      ┆ MST        ┆          ┆            ┆   ┆ MST        ┆            ┆            ┆           │\n",
       "│ WBB  ┆ 2023-12-31 ┆ air_temp ┆ 1          ┆ … ┆ 2024-12-02 ┆ false      ┆ false      ┆ true      │\n",
       "│      ┆ 17:02:00   ┆          ┆            ┆   ┆ 22:05:00   ┆            ┆            ┆           │\n",
       "│      ┆ MST        ┆          ┆            ┆   ┆ MST        ┆            ┆            ┆           │\n",
       "│ WBB  ┆ 2023-12-31 ┆ air_temp ┆ 1          ┆ … ┆ 2024-12-02 ┆ false      ┆ false      ┆ true      │\n",
       "│      ┆ 17:03:00   ┆          ┆            ┆   ┆ 22:05:00   ┆            ┆            ┆           │\n",
       "│      ┆ MST        ┆          ┆            ┆   ┆ MST        ┆            ┆            ┆           │\n",
       "│ WBB  ┆ 2023-12-31 ┆ air_temp ┆ 1          ┆ … ┆ 2024-12-02 ┆ false      ┆ false      ┆ true      │\n",
       "│      ┆ 17:04:00   ┆          ┆            ┆   ┆ 22:05:00   ┆            ┆            ┆           │\n",
       "│      ┆ MST        ┆          ┆            ┆   ┆ MST        ┆            ┆            ┆           │\n",
       "│ …    ┆ …          ┆ …        ┆ …          ┆ … ┆ …          ┆ …          ┆ …          ┆ …         │\n",
       "│ WBB  ┆ 2024-01-04 ┆ air_temp ┆ 1          ┆ … ┆ 2024-12-02 ┆ false      ┆ false      ┆ true      │\n",
       "│      ┆ 16:56:00   ┆          ┆            ┆   ┆ 22:05:00   ┆            ┆            ┆           │\n",
       "│      ┆ MST        ┆          ┆            ┆   ┆ MST        ┆            ┆            ┆           │\n",
       "│ WBB  ┆ 2024-01-04 ┆ air_temp ┆ 1          ┆ … ┆ 2024-12-02 ┆ false      ┆ false      ┆ true      │\n",
       "│      ┆ 16:57:00   ┆          ┆            ┆   ┆ 22:05:00   ┆            ┆            ┆           │\n",
       "│      ┆ MST        ┆          ┆            ┆   ┆ MST        ┆            ┆            ┆           │\n",
       "│ WBB  ┆ 2024-01-04 ┆ air_temp ┆ 1          ┆ … ┆ 2024-12-02 ┆ false      ┆ false      ┆ true      │\n",
       "│      ┆ 16:58:00   ┆          ┆            ┆   ┆ 22:05:00   ┆            ┆            ┆           │\n",
       "│      ┆ MST        ┆          ┆            ┆   ┆ MST        ┆            ┆            ┆           │\n",
       "│ WBB  ┆ 2024-01-04 ┆ air_temp ┆ 1          ┆ … ┆ 2024-12-02 ┆ false      ┆ false      ┆ true      │\n",
       "│      ┆ 16:59:00   ┆          ┆            ┆   ┆ 22:05:00   ┆            ┆            ┆           │\n",
       "│      ┆ MST        ┆          ┆            ┆   ┆ MST        ┆            ┆            ┆           │\n",
       "│ WBB  ┆ 2024-01-04 ┆ air_temp ┆ 1          ┆ … ┆ 2024-12-02 ┆ false      ┆ false      ┆ true      │\n",
       "│      ┆ 17:00:00   ┆          ┆            ┆   ┆ 22:05:00   ┆            ┆            ┆           │\n",
       "│      ┆ MST        ┆          ┆            ┆   ┆ MST        ┆            ┆            ┆           │\n",
       "└──────┴────────────┴──────────┴────────────┴───┴────────────┴────────────┴────────────┴───────────┘"
      ]
     },
     "execution_count": 5,
     "metadata": {},
     "output_type": "execute_result"
    }
   ],
   "source": [
    "df = synoptic.TimeSeries(\n",
    "    stid=\"wbb\",\n",
    "    start=datetime(2024, 1, 1),\n",
    "    end=datetime(2024, 1, 5),\n",
    "    obtimezone=\"local\",\n",
    "    vars=[\"air_temp\"],\n",
    ").df()\n",
    "\n",
    "df.synoptic.with_local_timezone()\n"
   ]
  }
 ],
 "metadata": {
  "kernelspec": {
   "display_name": "synoptic2",
   "language": "python",
   "name": "python3"
  },
  "language_info": {
   "codemirror_mode": {
    "name": "ipython",
    "version": 3
   },
   "file_extension": ".py",
   "mimetype": "text/x-python",
   "name": "python",
   "nbconvert_exporter": "python",
   "pygments_lexer": "ipython3",
   "version": "3.12.5"
  }
 },
 "nbformat": 4,
 "nbformat_minor": 2
}
