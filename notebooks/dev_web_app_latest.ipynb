{
 "cells": [
  {
   "cell_type": "code",
   "execution_count": 2,
   "metadata": {},
   "outputs": [],
   "source": [
    "import requests\n",
    "import pandas as pd\n",
    "import json\n"
   ]
  },
  {
   "cell_type": "code",
   "execution_count": 4,
   "metadata": {},
   "outputs": [
    {
     "data": {
      "text/plain": [
       "'https://api.synopticdata.com/v2/stations/latest?stid=UKBKB,WBB&units=english&obtimezone=local&token=d25c2abe02b94001a82e7790d9c30f06'"
      ]
     },
     "execution_count": 4,
     "metadata": {},
     "output_type": "execute_result"
    }
   ],
   "source": [
    "station_selector = \"UKBKB,WBB\"\n",
    "units = \"english\"\n",
    "obtimezone = \"local\"\n",
    "token = \"d25c2abe02b94001a82e7790d9c30f06\"\n",
    "\n",
    "base_url = \"https://api.synopticdata.com/v2/stations/latest?\"\n",
    "arguments = [\n",
    "    f\"stid={station_selector}\",\n",
    "    f\"units={units}\",\n",
    "    f\"obtimezone={obtimezone}\",\n",
    "    f\"token={token}\",\n",
    "]\n",
    "url = base_url + \"&\".join(arguments)\n",
    "url\n"
   ]
  },
  {
   "cell_type": "code",
   "execution_count": 6,
   "metadata": {},
   "outputs": [
    {
     "data": {
      "text/plain": [
       "{'UNITS': {'air_flow_temperature': 'Fahrenheit',\n",
       "  'wind_direction': 'Degrees',\n",
       "  'volt': 'volts',\n",
       "  'precip_accum_five_minute': 'Inches',\n",
       "  'ozone_concentration': 'ppb',\n",
       "  'wind_cardinal_direction': 'code',\n",
       "  'wind_chill': 'Fahrenheit',\n",
       "  'sensor_error_code': 'code',\n",
       "  'elevation': 'ft',\n",
       "  'sea_level_pressure': 'Millibars',\n",
       "  'heat_index': 'Fahrenheit',\n",
       "  'precip_accum_one_minute': 'Inches',\n",
       "  'PM_25_concentration': 'ug/m3',\n",
       "  'dew_point_temperature': 'Fahrenheit',\n",
       "  'solar_radiation': 'W/m**2',\n",
       "  'pressure': 'Millibars',\n",
       "  'flow_rate': 'liters/min',\n",
       "  'altimeter': 'INHG',\n",
       "  'wind_speed': 'knots',\n",
       "  'air_temp': 'Fahrenheit',\n",
       "  'wind_gust': 'knots',\n",
       "  'relative_humidity': '%',\n",
       "  'qc': 'code',\n",
       "  'internal_relative_humidity': '%',\n",
       "  'precip_accum': 'Inches',\n",
       "  'precip_accum_24_hour': 'Inches',\n",
       "  'precip_accum_since_local_midnight': 'Inches',\n",
       "  'position': 'ft'},\n",
       " 'QC_SUMMARY': {'QC_SHORTNAMES': {'1': 'sl_range_check'},\n",
       "  'QC_CHECKS_APPLIED': ['sl_range_check'],\n",
       "  'PERCENT_OF_TOTAL_OBSERVATIONS_FLAGGED': 0.0,\n",
       "  'QC_SOURCENAMES': {'1': 'SynopticLabs'},\n",
       "  'TOTAL_OBSERVATIONS_FLAGGED': 0.0,\n",
       "  'QC_NAMES': {'1': 'SynopticLabs Range Check'}},\n",
       " 'STATION': [{'STATUS': 'ACTIVE',\n",
       "   'MNET_ID': '153',\n",
       "   'PERIOD_OF_RECORD': {'start': '1997-01-01T00:00:00Z',\n",
       "    'end': '2023-07-08T13:35:00Z'},\n",
       "   'ELEVATION': '4806',\n",
       "   'NAME': 'U of U William Browning Building',\n",
       "   'STID': 'WBB',\n",
       "   'SENSOR_VARIABLES': {'air_flow_temperature': {'air_flow_temperature_value_1': {'period_of_record': {'start': '',\n",
       "       'end': ''}}},\n",
       "    'wind_direction': {'wind_direction_value_1': {'period_of_record': {'start': '',\n",
       "       'end': ''}}},\n",
       "    'volt': {'volt_value_2': {'period_of_record': {'start': '', 'end': ''}},\n",
       "     'volt_value_1': {'period_of_record': {'start': '', 'end': ''}}},\n",
       "    'precip_accum_five_minute': {'precip_accum_five_minute_value_1': {'period_of_record': {'start': '',\n",
       "       'end': ''}}},\n",
       "    'ozone_concentration': {'ozone_concentration_value_1': {'period_of_record': {'start': '',\n",
       "       'end': ''}}},\n",
       "    'wind_chill': {'wind_chill_value_1d': {'derived_from': ['air_temp_value_1',\n",
       "       'wind_speed_value_1']}},\n",
       "    'qc': {'qc_value_1': {'period_of_record': {'start': '', 'end': ''}}},\n",
       "    'wind_cardinal_direction': {'wind_cardinal_direction_value_1d': {'derived_from': ['wind_direction_value_1']}},\n",
       "    'sea_level_pressure': {'sea_level_pressure_value_1d': {'derived_from': ['pressure_value_1',\n",
       "       'air_temp_value_1',\n",
       "       'relative_humidity_value_1']}},\n",
       "    'heat_index': {'heat_index_value_1d': {'derived_from': ['air_temp_value_1',\n",
       "       'relative_humidity_value_1']}},\n",
       "    'precip_accum_one_minute': {'precip_accum_one_minute_value_1': {'period_of_record': {'start': '',\n",
       "       'end': ''}}},\n",
       "    'PM_25_concentration': {'PM_25_concentration_value_1': {'period_of_record': {'start': '',\n",
       "       'end': ''}}},\n",
       "    'dew_point_temperature': {'dew_point_temperature_value_1d': {'derived_from': ['air_temp_value_1',\n",
       "       'relative_humidity_value_1']}},\n",
       "    'solar_radiation': {'solar_radiation_value_1': {'period_of_record': {'start': '',\n",
       "       'end': ''}}},\n",
       "    'pressure': {'pressure_value_1': {'period_of_record': {'start': '',\n",
       "       'end': ''}}},\n",
       "    'flow_rate': {'flow_rate_value_1': {'period_of_record': {'start': '',\n",
       "       'end': ''}}},\n",
       "    'altimeter': {'altimeter_value_1d': {'derived_from': ['pressure_value_1']}},\n",
       "    'wind_speed': {'wind_speed_value_1': {'period_of_record': {'start': '',\n",
       "       'end': ''}}},\n",
       "    'air_temp': {'air_temp_value_1': {'period_of_record': {'start': '',\n",
       "       'end': ''}}},\n",
       "    'wind_gust': {'wind_gust_value_1': {'period_of_record': {'start': '',\n",
       "       'end': ''}}},\n",
       "    'relative_humidity': {'relative_humidity_value_1': {'period_of_record': {'start': '',\n",
       "       'end': ''}}},\n",
       "    'sensor_error_code': {'sensor_error_code_value_1': {'period_of_record': {'start': '',\n",
       "       'end': ''}}},\n",
       "    'internal_relative_humidity': {'internal_relative_humidity_value_1': {'period_of_record': {'start': '',\n",
       "       'end': ''}}},\n",
       "    'precip_accum': {'precip_accum_value_1': {'period_of_record': {'start': '',\n",
       "       'end': ''}}}},\n",
       "   'ELEV_DEM': '4727.7',\n",
       "   'LONGITUDE': '-111.84755',\n",
       "   'UNITS': {'position': 'ft', 'elevation': 'ft'},\n",
       "   'STATE': 'UT',\n",
       "   'OBSERVATIONS': {'solar_radiation_value_1': {'date_time': '2023-07-08T07:40:00-0600',\n",
       "     'value': 207.2},\n",
       "    'wind_gust_value_1': {'date_time': '2023-07-08T07:40:00-0600',\n",
       "     'value': 16.19},\n",
       "    'volt_value_2': {'date_time': '2023-07-08T07:35:00-0600', 'value': 13.21},\n",
       "    'wind_cardinal_direction_value_1d': {'date_time': '2023-07-08T07:40:00-0600',\n",
       "     'value': 'ENE'},\n",
       "    'wind_direction_value_1': {'date_time': '2023-07-08T07:40:00-0600',\n",
       "     'value': 73.3},\n",
       "    'internal_relative_humidity_value_1': {'date_time': '2022-05-15T10:35:00-0600',\n",
       "     'value': 16.0},\n",
       "    'sensor_error_code_value_1': {'date_time': '2022-05-15T10:35:00-0600',\n",
       "     'value': 40.0},\n",
       "    'volt_value_1': {'date_time': '2023-07-08T07:40:00-0600', 'value': 13.17},\n",
       "    'wind_speed_value_1': {'date_time': '2023-07-08T07:40:00-0600',\n",
       "     'value': 11.57},\n",
       "    'precip_accum_five_minute_value_1': {'date_time': '2017-08-20T14:35:00-0600',\n",
       "     'value': 0.0},\n",
       "    'air_temp_value_1': {'date_time': '2023-07-08T07:40:00-0600',\n",
       "     'value': 71.85},\n",
       "    'qc_value_1': {'date_time': '2014-10-06T17:40:00-0600', 'value': 2.0},\n",
       "    'air_flow_temperature_value_1': {'date_time': '2022-05-15T10:35:00-0600',\n",
       "     'value': 66.72},\n",
       "    'ozone_concentration_value_1': {'date_time': '2023-07-08T07:35:00-0600',\n",
       "     'value': 42.62},\n",
       "    'pressure_value_1': {'date_time': '2023-07-08T07:40:00-0600',\n",
       "     'value': 850.35},\n",
       "    'PM_25_concentration_value_1': {'date_time': '2022-05-15T10:35:00-0600',\n",
       "     'value': 2.31},\n",
       "    'relative_humidity_value_1': {'date_time': '2023-07-08T07:40:00-0600',\n",
       "     'value': 32.16},\n",
       "    'dew_point_temperature_value_1d': {'date_time': '2023-07-08T07:40:00-0600',\n",
       "     'value': 40.46},\n",
       "    'precip_accum_one_minute_value_1': {'date_time': '2023-07-08T07:40:00-0600',\n",
       "     'value': 0.0},\n",
       "    'precip_accum_value_1': {'date_time': '2010-11-21T12:35:00-0700',\n",
       "     'value': 0.0},\n",
       "    'sea_level_pressure_value_1d': {'date_time': '2023-07-08T07:40:00-0600',\n",
       "     'value': 1004.68},\n",
       "    'flow_rate_value_1': {'date_time': '2022-05-15T10:35:00-0600',\n",
       "     'value': 0.3}},\n",
       "   'RESTRICTED': False,\n",
       "   'QC_FLAGGED': False,\n",
       "   'LATITUDE': '40.76623',\n",
       "   'TIMEZONE': 'America/Denver',\n",
       "   'ID': '1'},\n",
       "  {'STATUS': 'ACTIVE',\n",
       "   'MNET_ID': '65',\n",
       "   'PERIOD_OF_RECORD': {'start': '2013-03-13T00:00:00Z',\n",
       "    'end': '2023-07-08T13:30:00Z'},\n",
       "   'ELEVATION': '4734',\n",
       "   'NAME': 'EW2355 Spanish Fork',\n",
       "   'STID': 'UKBKB',\n",
       "   'SENSOR_VARIABLES': {'wind_speed': {'wind_speed_value_1': {'period_of_record': {'start': '',\n",
       "       'end': ''}}},\n",
       "    'air_temp': {'air_temp_value_1': {'period_of_record': {'start': '',\n",
       "       'end': ''}}},\n",
       "    'solar_radiation': {'solar_radiation_value_1': {'period_of_record': {'start': '',\n",
       "       'end': ''}}},\n",
       "    'wind_gust': {'wind_gust_value_1': {'period_of_record': {'start': '',\n",
       "       'end': ''}}},\n",
       "    'pressure': {'pressure_value_1d': {'derived_from': ['altimeter_value_1']}},\n",
       "    'wind_direction': {'wind_direction_value_1': {'period_of_record': {'start': '',\n",
       "       'end': ''}}},\n",
       "    'wind_chill': {'wind_chill_value_1d': {'derived_from': ['air_temp_value_1',\n",
       "       'wind_speed_value_1']}},\n",
       "    'sea_level_pressure': {'sea_level_pressure_value_1d': {'derived_from': ['pressure_value_1d',\n",
       "       'air_temp_value_1',\n",
       "       'relative_humidity_value_1']}},\n",
       "    'wind_cardinal_direction': {'wind_cardinal_direction_value_1d': {'derived_from': ['wind_direction_value_1']}},\n",
       "    'relative_humidity': {'relative_humidity_value_1': {'period_of_record': {'start': '',\n",
       "       'end': ''}}},\n",
       "    'qc': {'qc_value_1': {'period_of_record': {'start': '', 'end': ''}}},\n",
       "    'precip_accum': {'precip_accum_value_1': {'period_of_record': {'start': '',\n",
       "       'end': ''}}},\n",
       "    'dew_point_temperature': {'dew_point_temperature_value_1d': {'derived_from': ['air_temp_value_1',\n",
       "       'relative_humidity_value_1']}},\n",
       "    'precip_accum_24_hour': {'precip_accum_24_hour_value_1': {'period_of_record': {'start': '',\n",
       "       'end': ''}}},\n",
       "    'precip_accum_since_local_midnight': {'precip_accum_since_local_midnight_value_1': {'period_of_record': {'start': '',\n",
       "       'end': ''}}},\n",
       "    'altimeter': {'altimeter_value_1': {'period_of_record': {'start': '',\n",
       "       'end': ''}}},\n",
       "    'heat_index': {'heat_index_value_1d': {'derived_from': ['air_temp_value_1',\n",
       "       'relative_humidity_value_1']}}},\n",
       "   'ELEV_DEM': '4740.8',\n",
       "   'LONGITUDE': '-111.62767',\n",
       "   'UNITS': {'position': 'ft', 'elevation': 'ft'},\n",
       "   'STATE': 'UT',\n",
       "   'OBSERVATIONS': {'precip_accum_24_hour_value_1': {'date_time': '2023-07-08T07:30:00-0600',\n",
       "     'value': 0.0},\n",
       "    'solar_radiation_value_1': {'date_time': '2015-08-26T11:35:00-0600',\n",
       "     'value': 1000.0},\n",
       "    'wind_gust_value_1': {'date_time': '2023-07-08T07:30:00-0600',\n",
       "     'value': 8.69},\n",
       "    'dew_point_temperature_value_1d': {'date_time': '2023-07-08T07:30:00-0600',\n",
       "     'value': 40.03},\n",
       "    'wind_cardinal_direction_value_1d': {'date_time': '2023-07-08T07:30:00-0600',\n",
       "     'value': 'NE'},\n",
       "    'pressure_value_1d': {'date_time': '2023-07-08T07:30:00-0600',\n",
       "     'value': 839.43},\n",
       "    'precip_accum_value_1': {'date_time': '2015-10-10T08:58:00-0600',\n",
       "     'value': 0.0},\n",
       "    'wind_direction_value_1': {'date_time': '2023-07-08T07:30:00-0600',\n",
       "     'value': 53.0},\n",
       "    'sea_level_pressure_value_1d': {'date_time': '2023-07-08T07:30:00-0600',\n",
       "     'value': 992.05},\n",
       "    'precip_accum_since_local_midnight_value_1': {'date_time': '2023-07-08T07:30:00-0600',\n",
       "     'value': 0.0},\n",
       "    'altimeter_value_1': {'date_time': '2023-07-08T07:30:00-0600',\n",
       "     'value': 29.5},\n",
       "    'air_temp_value_1': {'date_time': '2023-07-08T07:30:00-0600',\n",
       "     'value': 63.0},\n",
       "    'qc_value_1': {'date_time': '2014-10-06T17:14:00-0600', 'value': 2.0},\n",
       "    'wind_speed_value_1': {'date_time': '2023-07-08T07:30:00-0600',\n",
       "     'value': 2.61},\n",
       "    'relative_humidity_value_1': {'date_time': '2023-07-08T07:30:00-0600',\n",
       "     'value': 43.0}},\n",
       "   'RESTRICTED': False,\n",
       "   'QC_FLAGGED': False,\n",
       "   'LATITUDE': '40.09867',\n",
       "   'TIMEZONE': 'America/Denver',\n",
       "   'ID': '37032'}],\n",
       " 'SUMMARY': {'DATA_QUERY_TIME': '18.462896347 ms',\n",
       "  'RESPONSE_CODE': 1,\n",
       "  'RESPONSE_MESSAGE': 'OK',\n",
       "  'METADATA_RESPONSE_TIME': '14.9421691895 ms',\n",
       "  'DATA_PARSING_TIME': '1.79100036621 ms',\n",
       "  'VERSION': 'v2.21.0',\n",
       "  'TOTAL_DATA_TIME': '20.2569961548 ms',\n",
       "  'NUMBER_OF_OBJECTS': 2}}"
      ]
     },
     "execution_count": 6,
     "metadata": {},
     "output_type": "execute_result"
    }
   ],
   "source": [
    "data = json.loads(requests.get(url).text)\n",
    "data"
   ]
  },
  {
   "cell_type": "code",
   "execution_count": 11,
   "metadata": {},
   "outputs": [
    {
     "data": {
      "text/plain": [
       "dict_keys(['STATUS', 'MNET_ID', 'PERIOD_OF_RECORD', 'ELEVATION', 'NAME', 'STID', 'SENSOR_VARIABLES', 'ELEV_DEM', 'LONGITUDE', 'UNITS', 'STATE', 'OBSERVATIONS', 'RESTRICTED', 'QC_FLAGGED', 'LATITUDE', 'TIMEZONE', 'ID'])"
      ]
     },
     "execution_count": 11,
     "metadata": {},
     "output_type": "execute_result"
    }
   ],
   "source": [
    "data[\"STATION\"][0].keys()"
   ]
  },
  {
   "cell_type": "code",
   "execution_count": 42,
   "metadata": {},
   "outputs": [],
   "source": [
    "data = json.loads(requests.get(url).text)\n",
    "\n",
    "Z = {}\n",
    "for stn in data[\"STATION\"]:\n",
    "    obs = stn.pop(\"OBSERVATIONS\")\n",
    "    senvars = stn.pop(\"SENSOR_VARIABLES\")\n",
    "\n",
    "    metadata_table = pd.DataFrame(stn).T.sort_index()\n",
    "\n",
    "    value_table = pd.DataFrame(obs).T.sort_index()\n",
    "    value_table[\"unit\"] = [\n",
    "        data[\"UNITS\"][\"_\".join(i.split(\"_\")[:-2])] for i in value_table.index\n",
    "    ]\n",
    "    value_table = value_table[[\"value\", \"unit\", \"date_time\"]]\n",
    "    value_table[\"date_time\"] = pd.to_datetime(value_table[\"date_time\"])\n",
    "    value_table\n",
    "\n",
    "    Z[stn[\"STID\"]] = (metadata_table, value_table)"
   ]
  },
  {
   "cell_type": "code",
   "execution_count": 38,
   "metadata": {},
   "outputs": [
    {
     "data": {
      "text/plain": [
       "'U of U William Browning Building'"
      ]
     },
     "execution_count": 38,
     "metadata": {},
     "output_type": "execute_result"
    }
   ],
   "source": [
    "Z[\"WBB\"][0][\"start\"][\"NAME\"]"
   ]
  },
  {
   "cell_type": "code",
   "execution_count": 18,
   "metadata": {},
   "outputs": [
    {
     "data": {
      "text/plain": [
       "{'air_flow_temperature': 'Fahrenheit',\n",
       " 'wind_direction': 'Degrees',\n",
       " 'volt': 'volts',\n",
       " 'precip_accum_five_minute': 'Inches',\n",
       " 'ozone_concentration': 'ppb',\n",
       " 'wind_cardinal_direction': 'code',\n",
       " 'wind_chill': 'Fahrenheit',\n",
       " 'sensor_error_code': 'code',\n",
       " 'elevation': 'ft',\n",
       " 'sea_level_pressure': 'Millibars',\n",
       " 'heat_index': 'Fahrenheit',\n",
       " 'precip_accum_one_minute': 'Inches',\n",
       " 'PM_25_concentration': 'ug/m3',\n",
       " 'dew_point_temperature': 'Fahrenheit',\n",
       " 'solar_radiation': 'W/m**2',\n",
       " 'pressure': 'Millibars',\n",
       " 'flow_rate': 'liters/min',\n",
       " 'altimeter': 'INHG',\n",
       " 'wind_speed': 'knots',\n",
       " 'air_temp': 'Fahrenheit',\n",
       " 'wind_gust': 'knots',\n",
       " 'relative_humidity': '%',\n",
       " 'qc': 'code',\n",
       " 'internal_relative_humidity': '%',\n",
       " 'precip_accum': 'Inches',\n",
       " 'precip_accum_24_hour': 'Inches',\n",
       " 'precip_accum_since_local_midnight': 'Inches',\n",
       " 'position': 'ft'}"
      ]
     },
     "execution_count": 18,
     "metadata": {},
     "output_type": "execute_result"
    }
   ],
   "source": [
    "data[\"UNITS\"]\n"
   ]
  },
  {
   "cell_type": "code",
   "execution_count": 27,
   "metadata": {},
   "outputs": [
    {
     "data": {
      "text/plain": [
       "dict_keys(['STATUS', 'MNET_ID', 'PERIOD_OF_RECORD', 'ELEVATION', 'NAME', 'STID', 'SENSOR_VARIABLES', 'ELEV_DEM', 'LONGITUDE', 'UNITS', 'STATE', 'OBSERVATIONS', 'RESTRICTED', 'QC_FLAGGED', 'LATITUDE', 'TIMEZONE', 'ID'])"
      ]
     },
     "execution_count": 27,
     "metadata": {},
     "output_type": "execute_result"
    }
   ],
   "source": [
    "data[\"STATION\"][0].keys()\n"
   ]
  },
  {
   "cell_type": "code",
   "execution_count": 57,
   "metadata": {},
   "outputs": [
    {
     "data": {
      "text/html": [
       "<div>\n",
       "<style scoped>\n",
       "    .dataframe tbody tr th:only-of-type {\n",
       "        vertical-align: middle;\n",
       "    }\n",
       "\n",
       "    .dataframe tbody tr th {\n",
       "        vertical-align: top;\n",
       "    }\n",
       "\n",
       "    .dataframe thead th {\n",
       "        text-align: right;\n",
       "    }\n",
       "</style>\n",
       "<table border=\"1\" class=\"dataframe\">\n",
       "  <thead>\n",
       "    <tr style=\"text-align: right;\">\n",
       "      <th></th>\n",
       "      <th>value</th>\n",
       "      <th>unit</th>\n",
       "      <th>date_time</th>\n",
       "      <th>time_ago</th>\n",
       "    </tr>\n",
       "  </thead>\n",
       "  <tbody>\n",
       "    <tr>\n",
       "      <th>air_temp_value_1</th>\n",
       "      <td>64.0</td>\n",
       "      <td>Fahrenheit</td>\n",
       "      <td>2023-07-08 08:00:00-06:00</td>\n",
       "      <td>36 minutes ago</td>\n",
       "    </tr>\n",
       "    <tr>\n",
       "      <th>altimeter_value_1</th>\n",
       "      <td>29.49</td>\n",
       "      <td>INHG</td>\n",
       "      <td>2023-07-08 08:00:00-06:00</td>\n",
       "      <td>36 minutes ago</td>\n",
       "    </tr>\n",
       "    <tr>\n",
       "      <th>dew_point_temperature_value_1d</th>\n",
       "      <td>40.93</td>\n",
       "      <td>Fahrenheit</td>\n",
       "      <td>2023-07-08 08:00:00-06:00</td>\n",
       "      <td>36 minutes ago</td>\n",
       "    </tr>\n",
       "    <tr>\n",
       "      <th>precip_accum_24_hour_value_1</th>\n",
       "      <td>0.0</td>\n",
       "      <td>Inches</td>\n",
       "      <td>2023-07-08 08:00:00-06:00</td>\n",
       "      <td>36 minutes ago</td>\n",
       "    </tr>\n",
       "    <tr>\n",
       "      <th>precip_accum_since_local_midnight_value_1</th>\n",
       "      <td>0.0</td>\n",
       "      <td>Inches</td>\n",
       "      <td>2023-07-08 08:00:00-06:00</td>\n",
       "      <td>36 minutes ago</td>\n",
       "    </tr>\n",
       "    <tr>\n",
       "      <th>pressure_value_1d</th>\n",
       "      <td>839.14</td>\n",
       "      <td>Millibars</td>\n",
       "      <td>2023-07-08 08:00:00-06:00</td>\n",
       "      <td>36 minutes ago</td>\n",
       "    </tr>\n",
       "    <tr>\n",
       "      <th>relative_humidity_value_1</th>\n",
       "      <td>43.0</td>\n",
       "      <td>%</td>\n",
       "      <td>2023-07-08 08:00:00-06:00</td>\n",
       "      <td>36 minutes ago</td>\n",
       "    </tr>\n",
       "    <tr>\n",
       "      <th>sea_level_pressure_value_1d</th>\n",
       "      <td>991.41</td>\n",
       "      <td>Millibars</td>\n",
       "      <td>2023-07-08 08:00:00-06:00</td>\n",
       "      <td>36 minutes ago</td>\n",
       "    </tr>\n",
       "    <tr>\n",
       "      <th>wind_cardinal_direction_value_1d</th>\n",
       "      <td>E</td>\n",
       "      <td>code</td>\n",
       "      <td>2023-07-08 08:00:00-06:00</td>\n",
       "      <td>36 minutes ago</td>\n",
       "    </tr>\n",
       "    <tr>\n",
       "      <th>wind_direction_value_1</th>\n",
       "      <td>89.0</td>\n",
       "      <td>Degrees</td>\n",
       "      <td>2023-07-08 08:00:00-06:00</td>\n",
       "      <td>36 minutes ago</td>\n",
       "    </tr>\n",
       "    <tr>\n",
       "      <th>wind_gust_value_1</th>\n",
       "      <td>8.69</td>\n",
       "      <td>knots</td>\n",
       "      <td>2023-07-08 08:00:00-06:00</td>\n",
       "      <td>36 minutes ago</td>\n",
       "    </tr>\n",
       "    <tr>\n",
       "      <th>wind_speed_value_1</th>\n",
       "      <td>3.48</td>\n",
       "      <td>knots</td>\n",
       "      <td>2023-07-08 08:00:00-06:00</td>\n",
       "      <td>36 minutes ago</td>\n",
       "    </tr>\n",
       "  </tbody>\n",
       "</table>\n",
       "</div>"
      ],
      "text/plain": [
       "                                            value        unit  \\\n",
       "air_temp_value_1                             64.0  Fahrenheit   \n",
       "altimeter_value_1                           29.49        INHG   \n",
       "dew_point_temperature_value_1d              40.93  Fahrenheit   \n",
       "precip_accum_24_hour_value_1                  0.0      Inches   \n",
       "precip_accum_since_local_midnight_value_1     0.0      Inches   \n",
       "pressure_value_1d                          839.14   Millibars   \n",
       "relative_humidity_value_1                    43.0           %   \n",
       "sea_level_pressure_value_1d                991.41   Millibars   \n",
       "wind_cardinal_direction_value_1d                E        code   \n",
       "wind_direction_value_1                       89.0     Degrees   \n",
       "wind_gust_value_1                            8.69       knots   \n",
       "wind_speed_value_1                           3.48       knots   \n",
       "\n",
       "                                                          date_time  \\\n",
       "air_temp_value_1                          2023-07-08 08:00:00-06:00   \n",
       "altimeter_value_1                         2023-07-08 08:00:00-06:00   \n",
       "dew_point_temperature_value_1d            2023-07-08 08:00:00-06:00   \n",
       "precip_accum_24_hour_value_1              2023-07-08 08:00:00-06:00   \n",
       "precip_accum_since_local_midnight_value_1 2023-07-08 08:00:00-06:00   \n",
       "pressure_value_1d                         2023-07-08 08:00:00-06:00   \n",
       "relative_humidity_value_1                 2023-07-08 08:00:00-06:00   \n",
       "sea_level_pressure_value_1d               2023-07-08 08:00:00-06:00   \n",
       "wind_cardinal_direction_value_1d          2023-07-08 08:00:00-06:00   \n",
       "wind_direction_value_1                    2023-07-08 08:00:00-06:00   \n",
       "wind_gust_value_1                         2023-07-08 08:00:00-06:00   \n",
       "wind_speed_value_1                        2023-07-08 08:00:00-06:00   \n",
       "\n",
       "                                                 time_ago  \n",
       "air_temp_value_1                           36 minutes ago  \n",
       "altimeter_value_1                          36 minutes ago  \n",
       "dew_point_temperature_value_1d             36 minutes ago  \n",
       "precip_accum_24_hour_value_1               36 minutes ago  \n",
       "precip_accum_since_local_midnight_value_1  36 minutes ago  \n",
       "pressure_value_1d                          36 minutes ago  \n",
       "relative_humidity_value_1                  36 minutes ago  \n",
       "sea_level_pressure_value_1d                36 minutes ago  \n",
       "wind_cardinal_direction_value_1d           36 minutes ago  \n",
       "wind_direction_value_1                     36 minutes ago  \n",
       "wind_gust_value_1                          36 minutes ago  \n",
       "wind_speed_value_1                         36 minutes ago  "
      ]
     },
     "execution_count": 57,
     "metadata": {},
     "output_type": "execute_result"
    }
   ],
   "source": [
    "# Function to convert timedelta to human-readable format\n",
    "def format_timedelta(td):\n",
    "    minutes = td.total_seconds() // 60\n",
    "    if minutes < 60:\n",
    "        return f\"{int(minutes)} minutes ago\"\n",
    "    hours = minutes // 60\n",
    "    if hours < 24:\n",
    "        return f\"{int(hours)} hours ago\"\n",
    "    days = hours // 24\n",
    "    return f\"{int(days)} days ago\"\n",
    "\n",
    "\n",
    "value_table[\"time_ago\"] = (pd.Timestamp.utcnow() - value_table[\"date_time\"]).apply(\n",
    "    format_timedelta\n",
    ")\n",
    "value_table.loc[~value_table.time_ago.str.contains(\"days\")]\n"
   ]
  },
  {
   "cell_type": "code",
   "execution_count": 49,
   "metadata": {},
   "outputs": [
    {
     "data": {
      "text/plain": [
       "Timestamp('2023-07-08 14:20:52.089399+0000', tz='UTC')"
      ]
     },
     "execution_count": 49,
     "metadata": {},
     "output_type": "execute_result"
    }
   ],
   "source": [
    "pd.Timestamp.utcnow()"
   ]
  },
  {
   "cell_type": "code",
   "execution_count": 48,
   "metadata": {},
   "outputs": [
    {
     "ename": "TypeError",
     "evalue": "Cannot localize tz-aware Timestamp, use tz_convert for conversions",
     "output_type": "error",
     "traceback": [
      "\u001b[0;31m---------------------------------------------------------------------------\u001b[0m",
      "\u001b[0;31mTypeError\u001b[0m                                 Traceback (most recent call last)",
      "Cell \u001b[0;32mIn[48], line 1\u001b[0m\n\u001b[0;32m----> 1\u001b[0m value_table[\u001b[39m\"\u001b[39;49m\u001b[39mdate_time\u001b[39;49m\u001b[39m\"\u001b[39;49m]\u001b[39m.\u001b[39;49miloc[\u001b[39m0\u001b[39;49m]\u001b[39m.\u001b[39;49mtz_localize(\u001b[39m\"\u001b[39;49m\u001b[39mUTC\u001b[39;49m\u001b[39m\"\u001b[39;49m)\n",
      "File \u001b[0;32m~/miniconda3/envs/herbie-dev/lib/python3.11/site-packages/pandas/_libs/tslibs/timestamps.pyx:2146\u001b[0m, in \u001b[0;36mpandas._libs.tslibs.timestamps.Timestamp.tz_localize\u001b[0;34m()\u001b[0m\n",
      "\u001b[0;31mTypeError\u001b[0m: Cannot localize tz-aware Timestamp, use tz_convert for conversions"
     ]
    }
   ],
   "source": [
    "value_table[\"date_time\"].iloc[0].tz_localize(\"UTC\")\n"
   ]
  },
  {
   "cell_type": "code",
   "execution_count": 60,
   "metadata": {},
   "outputs": [
    {
     "data": {
      "text/plain": [
       "{'UT'}"
      ]
     },
     "execution_count": 60,
     "metadata": {},
     "output_type": "execute_result"
    }
   ],
   "source": [
    "Z[\"WBB\"][0]\n",
    "states = {df[\"start\"].get(\"STATE\") for _, (df, _) in Z.items()}\n",
    "states"
   ]
  },
  {
   "cell_type": "code",
   "execution_count": null,
   "metadata": {},
   "outputs": [],
   "source": []
  }
 ],
 "metadata": {
  "kernelspec": {
   "display_name": "herbie-dev",
   "language": "python",
   "name": "python3"
  },
  "language_info": {
   "codemirror_mode": {
    "name": "ipython",
    "version": 3
   },
   "file_extension": ".py",
   "mimetype": "text/x-python",
   "name": "python",
   "nbconvert_exporter": "python",
   "pygments_lexer": "ipython3",
   "version": "3.11.0"
  },
  "orig_nbformat": 4
 },
 "nbformat": 4,
 "nbformat_minor": 2
}
